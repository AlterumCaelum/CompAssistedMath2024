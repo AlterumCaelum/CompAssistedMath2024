{
 "cells": [
  {
   "cell_type": "markdown",
   "metadata": {
    "collapsed": false,
    "editable": true,
    "jupyter": {
     "outputs_hidden": false
    },
    "slideshow": {
     "slide_type": ""
    },
    "tags": []
   },
   "source": [
    "<div style='display:flex;flex-direction:row;justify-content:space-between;'>\n",
    "    <span>Flörian Döring, Lukas Wrana &nbsp;</span>\n",
    "    <span style='color:lightgrey;'>Computer assisted mathematics, 2024 <b>[Seminar]</b></span>\n",
    "</div>\n",
    "\n",
    "# **Cramer's Rule**\n",
    "\n",
    "---\n",
    "\n",
    "## **Outline**\n",
    "\n",
    "1. Introduction\n",
    "2. Geometric Interpretation\n",
    "3. Simple proof\n",
    "4. Sage Implementation\n",
    "5. Examples\n",
    "\n",
    "---\n",
    "\n",
    "## **1. Introduction**\n",
    "\n",
    "**Cramer's Rule** provides an explicit formula for the solution of a system of linear equations with as many equations as unknowns, valid whenever the system has a unique solution.\n",
    "\n",
    "&nbsp;\n",
    "\n",
    "<div style=\"background-color: rgb(240, 240, 240); padding: 1rem 3rem; margin: 0 3rem; border-radius: .1rem;\">\n",
    "    \n",
    "### **Definiton**\n",
    "\n",
    "Suppose a system of linear quations \n",
    "\n",
    "$$A\\mathbf x = \\mathbf b$$ \n",
    "\n",
    "where $A\\in\\mathbb K^{n\\times n}$ and $\\mathbf b\\in\\mathbb K^n$ for $n\\in \\mathbb N$.\n",
    "\n",
    "If $\\det(A)\\neq 0$, the individiual values of the solution $\\mathbf x = (x_1,...,x_n)^{\\text T}$ are given by:\n",
    "\n",
    "$$x_i=\\frac {\\det(A_i)} {\\det(A)}\\qquad i=1,...,n $$\n",
    "\n",
    "where $A_i$ is the matrix formed by replacing the $i$\\-th column of $A$ with $\\mathbf b$.\n",
    "</div>\n",
    "\n",
    "&nbsp;\n",
    "\n",
    "### **History**\n",
    "\n",
    "The rule was named after _Gabriel Cramer_ \\(1704\\-1752\\) for an arbitrary number of unknowns in 1750. However _Gottfried Wilhelm Leibniz_ wrote down Cramer's rule in a manuscript as early as 1678. The proof of Cramer's rule was first provided by _Augustin Louis Cauchy_ in 1815, when he also introduced the notation of Cramer's rule used today.\n",
    "\n",
    "---\n",
    "\n",
    "## **2. Geometric interpretation**\n",
    "\n",
    "Calculating solutions with Cramer's Rule is very inefficient compared to other methods, like Gaussian-Elimination. However, Cramer's Rule gives valuable inside in the nature of systems of linear equations.\n",
    "\n",
    "&nbsp;\n",
    "\n",
    "<div style=\"background-color: rgb(240, 240, 240); padding: 1rem 3rem; margin: 0 3rem; border-radius: .1rem;\">\n",
    "\n",
    "### **Determinants**\n",
    "Geometrically, the Determinant is given by the signed $n$-dimensional volume of a $n$-dimensional parallelepiped, created by the column vectors of a $n\\times n$-matrix.\n",
    "\n",
    "</div>\n",
    "\n",
    "&nbsp;\n",
    "\n",
    "This might sound complicated at first, but let's look at this in $2$ dimensions. Let\n",
    "\n",
    "$$A\\mathbf x=\\mathbf b$$\n",
    "\n",
    "where $A\\in\\mathbb K^{2\\times 2}$ and $\\mathbf b\\in\\mathbb K^n$. In our $2$-dimensional example, the $2$-dimensional volume of the $2$-dimensional parallelepiped is the signed Area of the parallelogram, formed by the two column vectros of $A$."
   ]
  },
  {
   "cell_type": "code",
   "execution_count": 1,
   "metadata": {
    "editable": true,
    "jupyter": {
     "source_hidden": true
    },
    "slideshow": {
     "slide_type": ""
    },
    "tags": [
     "remove-input"
    ]
   },
   "outputs": [
    {
     "data": {
      "application/vnd.jupyter.widget-view+json": {
       "model_id": "8b396b163a4e4f66b934d4ede7822eca",
       "version_major": 2,
       "version_minor": 0
      },
      "text/plain": [
       "Interactive function <function _ at 0x11f9a3100> with 2 widgets\n",
       "  A: TransformText(value='[[1, 1],[-1, 3]]', description='A', layout=Layout(max_width='81em'))\n",
       "  b: TransformText(value='[2, 1]', description='b', layout=Layout(max_width='81em'))"
      ]
     },
     "metadata": {},
     "output_type": "display_data"
    }
   ],
   "source": [
    "@interact\n",
    "def _(A=input_box('[[1, 1],[-1, 3]]', 'A', str), b=input_box('[2, 1]', 'b', str)):\n",
    "    try:\n",
    "        A = matrix(ZZ, eval(A))\n",
    "        b = vector(eval(b))\n",
    "    except:\n",
    "        print('Invalid input.')\n",
    "        return\n",
    "    \n",
    "    if not (A.nrows() == A.ncols() == len(b)):\n",
    "        print('Invalid dimensions.')\n",
    "        return\n",
    "    \n",
    "    a1 = A.column(0)\n",
    "    a2 = A.column(1)\n",
    "    \n",
    "    arr1 = arrow2d([0, 0], b)\n",
    "    arr2 = arrow2d([0, 0], a1, color='red')\n",
    "    arr3 = arrow2d([0, 0], a2, color='red')\n",
    "    poly1 = polygon([[0, 0], a1, a1 + a2, a2], color='#fabab9')\n",
    "    \n",
    "    x = A.solve_right(b)\n",
    "    \n",
    "    if x != None:\n",
    "        xa1 = x[0] * a1\n",
    "        xa2 = x[1] * a2\n",
    "        \n",
    "        arr4 = arrow2d([0, 0], xa1, color='purple')\n",
    "        arr5 = arrow2d([0, 0], xa2, color='purple')\n",
    "        poly2 = polygon([[0, 0], xa1, xa1 + xa2, xa2], fill=False, linestyle='dashed', color='purple')\n",
    "        \n",
    "        p = poly1 + poly2 + arr1 + arr2 + arr3 + arr4 + arr5\n",
    "    else:\n",
    "        p = poly1 + arr1 + arr2 + arr3\n",
    "    \n",
    "    show(plot(p))\n",
    "    "
   ]
  },
  {
   "cell_type": "markdown",
   "metadata": {},
   "source": [
    "..."
   ]
  },
  {
   "cell_type": "markdown",
   "metadata": {
    "editable": true,
    "slideshow": {
     "slide_type": ""
    },
    "tags": []
   },
   "source": [
    "\n",
    "---\n",
    "\n",
    "## **3. Proof**\n",
    "\n",
    "Let $\\mathbf X_i\\in\\mathbb K^{n\\times n}$ be the matrix formed by replacing the $i$-th column of the Identity Matrix, with $\\mathbf x=(x_1,…,x_n)^{\\text T}\\in\\mathbb K^n$.\n",
    "\n",
    "$$\\mathbf X_i=\\begin{bmatrix}\n",
    "1&&x_1\\\\\n",
    "&\\ddots&\\vdots\\\\\n",
    "&&x_i\\\\\n",
    "&&\\vdots&\\ddots\\\\\n",
    "&&x_n&&1\n",
    "\\end{bmatrix}$$\n",
    "\n",
    "By using Laplace expansion on the the $i$-th column, we get:\n",
    "\n",
    "$$\\begin{align}\n",
    "\\det(\\mathbf X_i) &= \\sum_{j=1}^n (-1)^{i+j} x_j \\det(\\mathbf S_{j,i})\\\\\n",
    "&= (-1)^{2i}x_i \\det\\begin{bmatrix}1\\\\&\\ddots\\\\&&1\\end{bmatrix} + \\sum_{j=1, j≠i}^n (-1)^{i+j} x_j \\det(\\mathbf S_{j,i})\\\\\n",
    "&= x_i\\qquad\\forall i=1,…,n\n",
    "\\end{align}$$\n",
    "\n",
    "where $\\mathbf S_{j,i}$ is the submatrix obtained by removing the $j$-th row and the $i$-th column of $X_i$. All $S_{j,i}$ are triangular matrices. For those with $i≠j$, we can also observe that they contain a row where all values are 0. Since the determinant of any triangular matrix can be given by the product of the diagonal entries, $\\det(\\mathbf S_{j,i}) = 0$ for $j≠i$.\n",
    "\n",
    "Let $A\\in\\mathbb K^{n\\times n}$, then: \n",
    "\n",
    "$$\\begin{align}\n",
    "A\\mathbf X_i&=\n",
    "\\begin{bmatrix}\n",
    "a_{11}&a_{12}&\\dots&a_{1n-1}&a_{1n}\\\\\n",
    "a_{21}&a_{22}&\\dots&a_{2n-1}&a_{2n}\\\\\n",
    "\\vdots&\\vdots&\\ddots&\\vdots&\\vdots\\\\\n",
    "a_{n-11}&a_{n-12}&\\dots&a_{n-1n-1}&a_{n-1n}\\\\\n",
    "a_{n1}&a_{n2}&\\dots&a_{nn-1}&a_{nn}\\\\\n",
    "\\end{bmatrix}\n",
    "\\begin{bmatrix}1&&x_1\\\\&\\ddots&\\vdots\\\\&&x_i\\\\&&\\vdots&\\ddots\\\\&&x_n&&1\\end{bmatrix}\\\\\n",
    "&=\\begin{bmatrix}\n",
    "a_{11}&\\dots&a_{1i-1}&a_{11}x_1+…+a_{1n}x_n&a_{1i+1}&\\dots&a_{1n}\\\\\n",
    "a_{21}&\\dots&a_{2i-1}&a_{21}x_1+…+a_{2n}x_n&a_{2i+1}&\\dots&a_{2n}\\\\\n",
    "\\vdots&\\ddots&\\vdots&\\vdots&\\vdots&\\ddots&\\vdots\\\\\n",
    "a_{n-11}&\\dots&a_{n-1i-1}&a_{n-11}x_1+…+a_{n-1n}x_n&a_{n-1i+1}&\\dots&a_{n-1n}\\\\\n",
    "a_{n1}&\\dots&a_{ni-1}&a_{n1}x_1+…+a_{nn}x_n&a_{ni+1}&\\dots&a_{nn}\\\\\n",
    "\\end{bmatrix}\\\\\n",
    "&=\\begin{bmatrix}\n",
    "a_{11}&\\dots&a_{1i-1}&b_1&a_{1i+1}&\\dots&a_{1n}\\\\\n",
    "a_{21}&\\dots&a_{2i-1}&b_2&a_{2i+1}&\\dots&a_{2n}\\\\\n",
    "\\vdots&\\ddots&\\vdots&\\vdots&\\vdots&\\ddots&\\vdots\\\\\n",
    "a_{n-11}&\\dots&a_{n-1i-1}&b_{n-1}&a_{n-1i+1}&\\dots&a_{n-1n}\\\\\n",
    "a_{n1}&\\dots&a_{ni-1}&b_n&a_{ni+1}&\\dots&a_{nn}\\\\\n",
    "\\end{bmatrix}=A_i\n",
    "\\end{align}$$\n",
    "\n",
    "By the product rule for determinants follows:\n",
    "\n",
    "$$\\begin{alignat}{4}\n",
    "&& \\det(A) &\\,\\cdot&\\, \\det(\\mathbf X_i) &= \\det(A_i) \\\\\n",
    "\\Leftrightarrow \\qquad&& \\det(A) &\\,\\cdot & x_i &= \\det(A_i) \\\\\n",
    "\\Leftrightarrow \\qquad&& &&x_i&=\\dfrac{\\det(A_i)}{\\det(A)}\\qquad i=1,…,n\n",
    "\\end{alignat}$$\n",
    "\n",
    "$\\square$\n",
    "\n",
    "---\n",
    "\n",
    "## **4. Sage Implementation**\n",
    "\n",
    "### **4.1 Code**"
   ]
  },
  {
   "cell_type": "code",
   "execution_count": 2,
   "metadata": {
    "collapsed": false,
    "editable": true,
    "jupyter": {
     "outputs_hidden": false
    },
    "slideshow": {
     "slide_type": ""
    },
    "tags": []
   },
   "outputs": [],
   "source": [
    "def cramer(A, b):\n",
    "    # A: n x n - Matrix\n",
    "    # b: Vector of length n\n",
    "    if not (A.nrows() == A.ncols() == len(b)):\n",
    "        return\n",
    "    \n",
    "    n = A.nrows()\n",
    "    x = zero_vector(SR, n)\n",
    "    detA = A.det()\n",
    "    \n",
    "    # if det(A) = 0, the system of linear equations doesn't\n",
    "    # have a explicit solution.\n",
    "    if detA == 0:\n",
    "        return\n",
    "    \n",
    "    for i in range(n):\n",
    "        Ai = copy(A)  # a copy of A\n",
    "        Ai[:,i] = b   # replace the i'th column with b\n",
    "        x[i] = Ai.det() / detA\n",
    "    return x"
   ]
  },
  {
   "cell_type": "markdown",
   "metadata": {},
   "source": [
    "&nbsp;\n",
    "\n",
    "### **4.2 Testing**\n",
    "\n",
    "To show that this function does indeed deliver the correct result, we conducted some testing. For a given $n\\in\\mathbb N$ we compare the result of our cramer implementation to the result of sages built in algorithm (with tolerance), over multiple iterations of random generated systems of linear equations."
   ]
  },
  {
   "cell_type": "code",
   "execution_count": 27,
   "metadata": {},
   "outputs": [
    {
     "name": "stdout",
     "output_type": "stream",
     "text": [
      "Test successfull.\n",
      "Test successfull.\n",
      "Test successfull.\n",
      "Test successfull.\n"
     ]
    }
   ],
   "source": [
    "def random_vector(size):\n",
    "    return vector([random() for t in range(size)])\n",
    "\n",
    "# we have to compare the vectors with a given tolerance to\n",
    "# account for small numeric deviations\n",
    "def equal(u, v, tol = 1e-8):\n",
    "    return all(abs(a - b) < tol for a, b in zip(u, v))\n",
    "\n",
    "def validation(iterations, n):\n",
    "    for i in range(iterations):\n",
    "        M = random_matrix(RR, n, n)\n",
    "        v = random_vector(n)\n",
    "\n",
    "        # if det(A) = 0, the result of our function cannot be compared\n",
    "        if not equal(cramer(M, v), M.solve_right(v)) and M.det() != 0:\n",
    "            print('Test failed.')\n",
    "            return\n",
    "\n",
    "    print('Test successfull.')\n",
    "\n",
    "validation(100, 2)\n",
    "validation(100, 4)\n",
    "validation(100, 8)\n",
    "validation(100, 16)"
   ]
  },
  {
   "cell_type": "markdown",
   "metadata": {},
   "source": [
    "&nbsp;\n",
    "\n",
    "### **4.3 Perfomance**\n",
    "\n",
    "We've noted before that in general, Cramer's rule isn't used for calculating solutions due to it's (bad) runtime complexity. To visualize this, we can plot the execution time of both algorithms used above side by side for $n=1,...,12$.\n"
   ]
  },
  {
   "cell_type": "code",
   "execution_count": 30,
   "metadata": {
    "editable": true,
    "jupyter": {
     "source_hidden": true
    },
    "slideshow": {
     "slide_type": ""
    },
    "tags": [
     "remove-input"
    ]
   },
   "outputs": [
    {
     "data": {
      "image/png": "[encoded data removed]",
      "text/plain": [
       "Graphics object consisting of 2 graphics primitives"
      ]
     },
     "metadata": {},
     "output_type": "display_data"
    }
   ],
   "source": [
    "import time\n",
    "\n",
    "t_cramer = []\n",
    "t_standart = []\n",
    "\n",
    "avg = 16\n",
    "\n",
    "for i in range(12):\n",
    "    M = random_matrix(RR, i, i)\n",
    "    b = random_vector(i)\n",
    "\n",
    "    t = 0\n",
    "\n",
    "    for j in range(avg):\n",
    "        start = time.time()\n",
    "        cramer(M, b)\n",
    "        end = time.time()\n",
    "        t += end - start\n",
    "\n",
    "    t_cramer.append(t / avg)\n",
    "    t = 0\n",
    "\n",
    "    for j in range(avg):\n",
    "        start = time.time()\n",
    "        M.solve_right(b)\n",
    "        end = time.time()\n",
    "        t += end - start\n",
    "\n",
    "    t_standart.append(t / avg)\n",
    "\n",
    "show(list_plot(t_cramer, plotjoined=True, color=\"red\") + list_plot(t_standart, plotjoined=True))"
   ]
  },
  {
   "cell_type": "code",
   "execution_count": null,
   "metadata": {},
   "outputs": [],
   "source": []
  },
  {
   "cell_type": "markdown",
   "metadata": {
    "collapsed": false,
    "editable": true,
    "jupyter": {
     "outputs_hidden": false
    },
    "slideshow": {
     "slide_type": ""
    },
    "tags": []
   },
   "source": [
    "\n",
    "---\n",
    "\n",
    "## **5. Examples**\n",
    "\n",
    "### **5.1  1 – Dimension**\n",
    "\n",
    "Let's start with a trivial example. We want to find $\\mathbf x\\in\\mathbb K$ with\n",
    "\n",
    "$$a\\mathbf x = b$$\n",
    "\n",
    "for $a, b\\in\\mathbb K$. Cramer's rule implies the same operation we'd do to solve for $\\mathbf x$:\n",
    "\n",
    "$$\\Rightarrow \\mathbf x = \\dfrac b a$$\n",
    "\n",
    "### **5.2  2 – Dimensions**\n",
    "\n",
    "Let $A\\mathbf x=b$ with\n",
    "\n",
    "$$\n",
    "A := \\begin{bmatrix}1&2\\\\3&4\\end{bmatrix}\\in\\mathbb Q^{2\\times 2},\\qquad \\mathbf x:=\\begin{bmatrix}x_1\\\\x_2\\end{bmatrix},\\qquad b:=\\begin{bmatrix}1\\\\2\\end{bmatrix}\\in\\mathbb Q^2\n",
    "$$\n",
    "\n",
    "The determinant of a $2\\times 2$-matrix is given by:\n",
    "\n",
    "$$\\begin{align}\n",
    "\\det\\begin{bmatrix}a&c\\\\b&d\\end{bmatrix}&=ad - bc\\\\\n",
    "\\Rightarrow\\det(A)&= 1\\cdot 4 - 2\\cdot 3 =-2\n",
    "\\end{align}$$\n",
    "\n",
    "We can use this to calculate $\\mathbf x$:\n",
    "\n",
    "$$\\begin{align}\n",
    "x_1 &= \\dfrac {\\det\\begin{bmatrix}\\mathbf 1&2\\\\\\mathbf 2&4\\end{bmatrix}} {\\det(A)} = \\dfrac 0 {-2}=0\\\\\n",
    "x_2 &= \\dfrac {\\det\\begin{bmatrix}1&\\mathbf 1\\\\3&\\mathbf 2\\end{bmatrix}} {\\det(A)} = \\dfrac {-1}{-2}= \\dfrac 1 2\n",
    "\\end{align}$$\n",
    "\n",
    "As a result $\\mathbf x=\\begin{pmatrix}0,&\\dfrac 1 2\\end{pmatrix}$."
   ]
  },
  {
   "cell_type": "code",
   "execution_count": 34,
   "metadata": {},
   "outputs": [
    {
     "data": {
      "text/html": [
       "<html>\\(\\displaystyle \\left(0,\\,\\frac{1}{2}\\right)\\)</html>"
      ],
      "text/latex": [
       "$\\displaystyle \\left(0,\\,\\frac{1}{2}\\right)$"
      ],
      "text/plain": [
       "(0, 1/2)"
      ]
     },
     "metadata": {},
     "output_type": "display_data"
    }
   ],
   "source": [
    "A = matrix(QQ, [[1, 2],[3, 4]])\n",
    "b = vector([1, 2])\n",
    "\n",
    "show(cramer(A, b))"
   ]
  },
  {
   "cell_type": "markdown",
   "metadata": {},
   "source": [
    "### **5.3  3 – Dimensions**\n",
    "\n",
    "Let $A\\mathbf x=b$ with\n",
    "\n",
    "$$\n",
    "A := \\begin{bmatrix}9&8&7\\\\6&0&4\\\\3&2&1\\end{bmatrix}\\in\\mathbb Q^{3\\times 3},\\qquad \\mathbf x:=\\begin{bmatrix}x_1\\\\x_2\\\\x_3\\end{bmatrix},\\qquad b:=\\begin{bmatrix}1\\\\2\\\\3\\end{bmatrix}\\in\\mathbb Q^3\n",
    "$$\n",
    "\n",
    "The determinant of a $3\\times 3$-matrix is given by the rule of Sarrus:\n",
    "\n",
    "$$\\begin{align}\n",
    "\\det\\begin{bmatrix}a&b&c\\\\d&e&f\\\\g&h&i\\end{bmatrix}&=aei+bfg+cdh-ceg-bdi-afh\\\\\n",
    "\\Rightarrow\\det(A)&= 9\\cdot 0\\cdot 1 + 8\\cdot 4\\cdot 3+7\\cdot 6\\cdot 2 -7\\cdot 0\\cdot 3 -8\\cdot6\\cdot 1-9\\cdot 4\\cdot 2 = 60\n",
    "\\end{align}$$\n",
    "\n",
    "We can use this to calculate $\\mathbf x$:\n",
    "\n",
    "$$\\begin{align}\n",
    "x_1 &= \\dfrac {\\det\\begin{bmatrix}\\mathbf 1&8&7\\\\\\mathbf 2&0&4\\\\\\mathbf 3&2&1\\end{bmatrix}} {\\det(A)} = \\dfrac {100} {60}=\\dfrac 5 3\\\\\n",
    "x_2 &= \\dfrac {\\det\\begin{bmatrix}9&\\mathbf 1&7\\\\6&\\mathbf 2&4\\\\3&\\mathbf 3&1\\end{bmatrix}} {\\det(A)} = \\dfrac 0 {60}= 0\\\\\n",
    "x_3 &= \\dfrac {\\det\\begin{bmatrix}9&8&\\mathbf 1\\\\6&0&\\mathbf 2\\\\3&2&\\mathbf 3\\end{bmatrix}} {\\det(A)} = \\dfrac {-120} {60}=-2\n",
    "\\end{align}$$\n",
    "\n",
    "As a result $\\mathbf x=\\begin{pmatrix}\\dfrac 5 3,&0,&-2\\end{pmatrix}$."
   ]
  },
  {
   "cell_type": "code",
   "execution_count": 40,
   "metadata": {
    "collapsed": false,
    "editable": true,
    "jupyter": {
     "outputs_hidden": false
    },
    "slideshow": {
     "slide_type": "subslide"
    },
    "tags": []
   },
   "outputs": [
    {
     "data": {
      "text/html": [
       "<html>\\(\\displaystyle \\left(\\frac{5}{3},\\,0,\\,-2\\right)\\)</html>"
      ],
      "text/latex": [
       "$\\displaystyle \\left(\\frac{5}{3},\\,0,\\,-2\\right)$"
      ],
      "text/plain": [
       "(5/3, 0, -2)"
      ]
     },
     "metadata": {},
     "output_type": "display_data"
    }
   ],
   "source": [
    "A = matrix(QQ, [[9, 8, 7],[6, 0, 4],[3, 2, 1]])\n",
    "b = vector([1, 2, 3])\n",
    "\n",
    "show(cramer(A, b))"
   ]
  }
 ],
 "metadata": {
  "kernelspec": {
   "display_name": "SageMath 10.3",
   "language": "sage",
   "name": "sagemath-10.3"
  },
  "language_info": {
   "codemirror_mode": {
    "name": "ipython",
    "version": 3
   },
   "file_extension": ".py",
   "mimetype": "text/x-python",
   "name": "python",
   "nbconvert_exporter": "python",
   "pygments_lexer": "ipython3",
   "version": "3.11.8"
  }
 },
 "nbformat": 4,
 "nbformat_minor": 4
}
