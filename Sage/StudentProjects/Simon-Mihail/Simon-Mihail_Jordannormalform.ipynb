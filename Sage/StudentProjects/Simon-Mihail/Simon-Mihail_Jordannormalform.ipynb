{
 "cells": [
  {
   "cell_type": "code",
   "execution_count": 5,
   "metadata": {
    "collapsed": false
   },
   "outputs": [
   ],
   "source": [
    "\n",
    "\"\"\"\n",
    "input for matrix, for which we want to calculate the Jordan nomal form \n",
    "\"\"\"\n",
    "\n",
    "#A = Matrix(QQ,[[2, 1, 2],[1,2, 2], [1, 1, 3]])\n",
    "#A = Matrix(QQ,[[4, 0, 0],[0,4, -1], [0, 1, 2]])\n",
    "#A = Matrix(QQ,[[2, 1, -1, 8, -3],[0, 2 , 0, 7, 5], [0, 0, 2,7,5 ],[0, 0, 0, 2, 0], [0, 0, 0, 0, 2]])\n",
    "#A = Matrix(QQ,[[1, 1, 1, -1, 0],[0, 1, 0, 0, 1],[0, 0 , 0, 1, 0], [0, 0, -1,2,1 ],[0, 0, 0, 0, 1]])\n",
    "A = Matrix(QQ, [[1, 1, 6, -2],[0, 1, -3, 2],[0, 0, 1, 0],[0, 0, -2, 2]])\n",
    "\n",
    "\"\"\"\n",
    "The transformation matrix we will be calculating later\n",
    "\"\"\"\n",
    "X = []"
   ]
  },
  {
   "cell_type": "code",
   "execution_count": 6,
   "metadata": {
    "collapsed": false
   },
   "outputs": [
    {
     "name": "stdout",
     "output_type": "stream",
     "text": [
      "True\n"
     ]
    }
   ],
   "source": [
    "\"\"\"\n",
    "Check if we can determine the Jordan normal form of a given matrix.\n",
    "\n",
    "A: matrix we want to check\n",
    "\"\"\"\n",
    "def matrix_is_valid (A):\n",
    "    return A.ncols() == A.nrows()\n",
    "\n",
    "print(matrix_is_valid(A))"
   ]
  },
  {
   "cell_type": "code",
   "execution_count": 7,
   "metadata": {
    "collapsed": false
   },
   "outputs": [
    {
     "name": "stdout",
     "output_type": "stream",
     "text": [
      "[(1, 3), (2, 1)]\n"
     ]
    }
   ],
   "source": [
    "\n",
    "\n",
    "\"\"\"\n",
    "Get array of eigenvalues and the quantities in which they arise.\n",
    "\n",
    "A: matrix we want to get the eigenvalues of\n",
    "\"\"\"\n",
    "def get_eigenvalues(A)->[float]:\n",
    "    #create the characteristic polynomial and return its roots \n",
    "    #sort the array, by the eigenvalues\n",
    "    poly = A.charpoly() \n",
    "    return sorted(poly.roots(ring=QQ, multiplicities=True))\n",
    "\n",
    "val = get_eigenvalues(A)\n",
    "print(val)"
   ]
  },
  {
   "cell_type": "code",
   "execution_count": 8,
   "metadata": {
    "collapsed": false
   },
   "outputs": [
    {
     "name": "stdout",
     "output_type": "stream",
     "text": [
      "[1 0 0 0]\n",
      "[0 1 0 0]\n",
      "[0 0 1 0]\n",
      "[0 0 0 2]\n"
     ]
    }
   ],
   "source": [
    "\"\"\"\n",
    "insert the eigenvalues allong the diagonal of a identity matrix \n",
    "\n",
    "arr: array with the eigenvalues\n",
    "\"\"\"\n",
    "def construct_matrix_with_eigenvalues(arr):\n",
    "    #calculate the size of the matrix\n",
    "    matrix_size = 0\n",
    "    for i in range(len(arr)):       \n",
    "        matrix_size = matrix_size + arr[i][1]\n",
    "    \n",
    "    #create the matrix\n",
    "    M = identity_matrix(matrix_size)\n",
    "    \n",
    "    #insert values\n",
    "    n = 0\n",
    "    for i in range(len(arr)): \n",
    "        for j in range(arr[i][1]):\n",
    "            M[n,n] = arr[i][0]\n",
    "            n = n+1\n",
    "    return M\n",
    "\n",
    "M = construct_matrix_with_eigenvalues(val)\n",
    "print(M)"
   ]
  },
  {
   "cell_type": "code",
   "execution_count": 9,
   "metadata": {
    "collapsed": false
   },
   "outputs": [
    {
     "name": "stdout",
     "output_type": "stream",
     "text": [
      "[(0, 1, 0), (0, 0, 1)]\n",
      "[(0, 1, 0), (0, 0, 1), (1, 0, 0)]\n"
     ]
    }
   ],
   "source": [
    "\n",
    "\"\"\"\n",
    "Check if a new vector is linearly dependent on a set of vectors.\n",
    "\n",
    "v: the new vector\n",
    "S: array of already existing vectors\n",
    "\"\"\"\n",
    "\n",
    "def check_if_vektor_is_lineary_dependant_and_add(v,S): \n",
    "    rank_prior = Matrix(S).rank()\n",
    "    S.append(v)\n",
    "    rank_new = Matrix(S).rank()\n",
    "    if rank_prior == rank_new:\n",
    "        S = S[:-1]   \n",
    "    return S\n",
    "\n",
    "S = [(0, 1, 0), (0, 0, 1)]\n",
    "v1 = (0, 1, 0)\n",
    "print(check_if_vektor_is_lineary_dependant_and_add(v1, S))\n",
    "\n",
    "S = [(0, 1, 0), (0, 0, 1)]\n",
    "v2 = (1, 0, 0)\n",
    "print(check_if_vektor_is_lineary_dependant_and_add(v2, S))"
   ]
  },
  {
   "cell_type": "code",
   "execution_count": 10,
   "metadata": {
    "collapsed": false
   },
   "outputs": [
    {
     "name": "stdout",
     "output_type": "stream",
     "text": [
      "(0, 1, 0, 0, 0)\n"
     ]
    }
   ],
   "source": [
    "\"\"\"\n",
    "One of the basis vectors has to be linearly independent of all existing vectors.\n",
    "Check all basis vectors until a linearly independent vector is found and return it.\n",
    "\n",
    "unfiltered_existing_vectors: linearly independent vectors (array also contains 0 vectors, these are to be ignored in calculations)\n",
    "\n",
    "span: the vector space in which all the vectors are\n",
    "\n",
    "\n",
    "\"\"\"\n",
    "\n",
    "span = [(0, 1, 0 , 0, 0),(0, 0, 0 , 1, 0)]\n",
    "existing = [(0, 0, 0 , 1, 0),(0, 0 , 0 , 0, 0), (0, 0 , 0 , 0, 0)]\n",
    "def lin_independant_vect(unfiltered_existing_vectors,span):\n",
    "    #filter existing vectors (stored in unfiltered_existing_vectors)\n",
    "    filtered_temp_arr = [element for element in unfiltered_existing_vectors if element != zero_vector(QQ, len(span[0]))]\n",
    "    \n",
    "    existing_vectors = Matrix(filtered_temp_arr)\n",
    "    \n",
    "    #get next lineary indipendant vector in vectorspace\n",
    "    existing_matrix = Matrix(filtered_temp_arr)\n",
    "\n",
    "    for x in span:\n",
    "        rank_old = existing_matrix.rank()\n",
    "        new_matrix = existing_matrix.stack(Matrix([x]))\n",
    "        rank_new = new_matrix.rank()\n",
    "        if rank_old != rank_new:\n",
    "            return x\n",
    "    \n",
    "print(lin_independant_vect(existing, span))"
   ]
  },
  {
   "cell_type": "code",
   "execution_count": 11,
   "metadata": {
    "collapsed": false
   },
   "outputs": [
   ],
   "source": [
    "\"\"\"\n",
    "Calculate the top vector of column i in the matrix Z (here called temp_array).\n",
    "\n",
    "i: index of column\n",
    "span_nr: rank of newly calculated eigenvector\n",
    "kernel_span: array with all eigenspaces of all powers\n",
    "temp_arr: array that holds information on all already calculated vectors\n",
    "\"\"\"\n",
    "def calc_generalized_eigenvector(i,span_nr, kernel_span, temp_arr):\n",
    "    if i == 0:\n",
    "        #get the first vector of the span, since no vector have been calculated yet, we can take any vector\n",
    "        return kernel_span[span_nr][-1]\n",
    "    else: \n",
    "        #get the vectors that make up the span in which the new vector must be \n",
    "        span_end = len(kernel_span[span_nr])\n",
    "        if span_nr-1 >= 0:\n",
    "            span_start = len(kernel_span[span_nr-1])\n",
    "        else:\n",
    "            span_start = 0\n",
    "        span = kernel_span[span_nr][span_start:span_end]\n",
    "        \n",
    "        #calculate the new vector using gramm schmidt\n",
    "        return lin_independant_vect(temp_arr[span_nr], span)"
   ]
  },
  {
   "cell_type": "code",
   "execution_count": 12,
   "metadata": {
    "collapsed": false
   },
   "outputs": [
   ],
   "source": [
    "\"\"\"\n",
    "Calculate the transformation matrix such that A = X * M * X^-1 (this function is iterated over for each eigenvalue).\n",
    "\n",
    "kernel_span: all spans of eigenspaces of all powers for the given eigenvalue\n",
    "Z: matrix used to determine the number of Jordan blocks for the given eigenvalue\n",
    "M = A - aI, where a is the eigenvalue\n",
    "\"\"\"\n",
    "def caclulate_tranformation_Matrix(kernel_span, Z, M):\n",
    "    temp_arr =[[zero_vector(QQ, M.ncols()) for _ in range(Z.ncols())] for _ in range(Z.ncols())]\n",
    "    for i in range(Z.ncols()):\n",
    "        #array to store the calculated vectors of a clomn of Z\n",
    "        x_temp_array = []\n",
    "        #get the power of the Eigenvectorspace we are in\n",
    "        span_nr = Z.column(i).list().count(1)-1\n",
    "        if span_nr < 0: break\n",
    "        #calculate the vector of the Eigenvectorspace with the highest power for defined column in Z\n",
    "        a = calc_generalized_eigenvector(i, span_nr, kernel_span, temp_arr)\n",
    "        \n",
    "        #save the vector\n",
    "        x_temp_array.append(a)\n",
    "        temp_arr[span_nr][i] = a\n",
    "        \n",
    "        #calculate vectors withhin eigenvectorspaces of lesser power\n",
    "        for j in range(span_nr):\n",
    "            a = M*a\n",
    "            temp_arr[span_nr-j-1][i] = a\n",
    "            x_temp_array.append(a)\n",
    "        \n",
    "        \n",
    "        #revesre the order of the vectors and add them to the transformationmatrix\n",
    "        X.extend(reversed(x_temp_array))\n",
    "    "
   ]
  },
  {
   "cell_type": "code",
   "execution_count": 13,
   "metadata": {
    "collapsed": false
   },
   "outputs": [
    {
     "name": "stdout",
     "output_type": "stream",
     "text": [
      "[1 1 1]\n",
      "[1 1 0]\n",
      "[0 0 0]\n"
     ]
    }
   ],
   "source": [
    "\"\"\"\n",
    "Construct Z to help determine the size of Jordan blocks.\n",
    "\n",
    "dim_diff_array: array with the differences between the dimensions of the eigenspaces\n",
    "\"\"\"\n",
    "dim_diff = [3, 2]\n",
    "def construct_Z(dim_diff_array):\n",
    "    size = max(dim_diff_array[0], len(dim_diff_array))\n",
    "    Z = zero_matrix(QQ, size)\n",
    "    for j in range(len(dim_diff_array)):\n",
    "        for k in range(dim_diff_array[j]):  \n",
    "            Z[j, k] = 1\n",
    "    return Z\n",
    "print(construct_Z(dim_diff))"
   ]
  },
  {
   "cell_type": "code",
   "execution_count": 14,
   "metadata": {
    "collapsed": false
   },
   "outputs": [
    {
     "name": "stdout",
     "output_type": "stream",
     "text": [
      "\n",
      "\n",
      "[1, 1, 0]\n"
     ]
    }
   ],
   "source": [
    "\"\"\"\n",
    "Calculate the sequence along the upper diagonal and create the corresponding vectors of the transformation matrix.\n",
    "\n",
    "arr: array with eigenvalues\n",
    "A: the matrix we want to calculate it for\n",
    "\n",
    "\"\"\"        \n",
    "\n",
    "def calc_sequence(arr,A):\n",
    "    sequence = []\n",
    "    for i in range(len(arr)):\n",
    "        #array with spans of all eigenvectorspaces of all powers\n",
    "        kernel_span = []\n",
    "        #array with the span of the current eigenvectorspace \n",
    "        S = []\n",
    "        #array used to construct Z \n",
    "        dim_diff_array = []\n",
    "        \n",
    "        M = A- arr[i][0]*identity_matrix(A.rank())\n",
    "        dim_old = 0\n",
    "        B = A- arr[i][0]*identity_matrix(A.rank())\n",
    "        \n",
    "        #get the span of all eigenvector spaces of all powers and saves them\n",
    "        #calculates dim_diff to find out the size of the jordanblocks\n",
    "        while True:\n",
    "            C = B.transpose().kernel()\n",
    "        \n",
    "            dim_diff = C.dimension()-dim_old\n",
    "            if dim_diff == 0: break\n",
    "            dim_diff_array.append(C.dimension()-dim_old)\n",
    "            for x in C.basis():\n",
    "                S= check_if_vektor_is_lineary_dependant_and_add(x, S)\n",
    "            kernel_span.append(S.copy())\n",
    "            dim_old = B.kernel().dimension()\n",
    "            B = B*M\n",
    "        \n",
    "        #create Z to find out size of jordan blocks\n",
    "        \n",
    "        Z = construct_Z(dim_diff_array)\n",
    "        \n",
    "        #calculate sequence for this eigenvalue\n",
    "        for x in Z.columns():\n",
    "            for j in range(list(x).count(1) - 1):\n",
    "                sequence.append(1)\n",
    "            sequence.append(0)\n",
    "        sequence = sequence[:-1]        \n",
    "        \n",
    "        caclulate_tranformation_Matrix(kernel_span, Z, M)\n",
    "        \n",
    "    #cuts off the last element, becuase sequence has to fit into upper diagonal\n",
    "    if len(sequence) == rank(A):sequence = sequence[:-1]\n",
    "    return sequence\n",
    "seq = calc_sequence(val,A)\n",
    "\n",
    "print(seq)"
   ]
  },
  {
   "cell_type": "code",
   "execution_count": 15,
   "metadata": {
    "collapsed": false
   },
   "outputs": [
   ],
   "source": [
    "\"\"\"\n",
    "insert the sequence into the upper diagonal of the matrix\n",
    "\n",
    "M: matrix with the eigenvalues on the diagoal\n",
    "seq: the sequence\n",
    "\"\"\"\n",
    "def insert_sequence(M, seq):\n",
    "    for i in range(len(seq)):\n",
    "        M[i, i+1] = seq[i]\n",
    "    return M\n"
   ]
  },
  {
   "cell_type": "code",
   "execution_count": 16,
   "metadata": {
    "collapsed": false
   },
   "outputs": [
    {
     "name": "stdout",
     "output_type": "stream",
     "text": [
      "\n",
      "\n",
      "the Jordan-Normal-Form of A ist:\n",
      "[1 1 0 0]\n",
      "[0 1 1 0]\n",
      "[0 0 1 0]\n",
      "[0 0 0 2]\n",
      "\n",
      "X\n",
      "[  1   2   0   0]\n",
      "[  0   1   0   1]\n",
      "[  0   0   1   0]\n",
      "[  0   0   2 1/2]\n",
      "X^-1\n",
      "[ 1 -2 -8  4]\n",
      "[ 0  1  4 -2]\n",
      "[ 0  0  1  0]\n",
      "[ 0  0 -4  2]\n",
      "X_1 * J * X_2A\n",
      "[ 1  1  6 -2]\n",
      "[ 0  1 -3  2]\n",
      "[ 0  0  1  0]\n",
      "[ 0  0 -2  2]\n",
      "J is the jordan nomalform:  True\n"
     ]
    }
   ],
   "source": [
    "X = []\n",
    "def calc_jordan_normal_form(A):\n",
    "    if matrix_is_valid(A): \n",
    "        eigenvalues = get_eigenvalues(A)\n",
    "        M = construct_matrix_with_eigenvalues(eigenvalues)\n",
    "        seq = calc_sequence(eigenvalues, A)\n",
    "        M = insert_sequence(M, seq)\n",
    "        return M\n",
    "\n",
    "J = calc_jordan_normal_form(A)\n",
    "\"\"\"\n",
    "print out the results\n",
    "\"\"\"\n",
    "X_1 = Matrix(X).transpose()\n",
    "print(\"the Jordan-Normal-Form of A ist:\")\n",
    "print(J)\n",
    "print()\n",
    "\n",
    "print(\"X\")\n",
    "print(X_1)\n",
    "\n",
    "X_2 = Matrix(X).transpose().inverse()\n",
    "print(\"X^-1\")\n",
    "print(X_2)\n",
    "print(\"X_1 * J * X_2A\")\n",
    "print(X_1 * J * X_2)\n",
    "print(\"J is the jordan nomalform: \",X_1 * J * X_2 == A)\n",
    "\n",
    "        "
   ]
  },
  {
   "cell_type": "code",
   "execution_count": 0,
   "metadata": {
    "collapsed": false,
    "scrolled": true
   },
   "outputs": [
   ],
   "source": [
    "\n",
    "\n"
   ]
  },
  {
   "cell_type": "code",
   "execution_count": 17,
   "metadata": {
    "collapsed": false
   },
   "outputs": [
    {
     "data": {
      "text/plain": [
       "'\\n        B = A- arr[i][0]*identity_matrix(A.rank())\\n        C = B.transpose().kernel()\\n        dim_diff_array.append(C.dimension())\\n        for x in C.basis():\\n            S.append(x)\\n        kernel_span.append(S.copy())\\n'"
      ]
     },
     "execution_count": 17,
     "metadata": {
     },
     "output_type": "execute_result"
    }
   ],
   "source": [
   ]
  },
  {
   "cell_type": "code",
   "execution_count": 0,
   "metadata": {
    "collapsed": false
   },
   "outputs": [
   ],
   "source": [
   ]
  }
 ],
 "metadata": {
  "kernelspec": {
   "argv": [
    "sage-10.3",
    "--python",
    "-m",
    "sage.repl.ipython_kernel",
    "--matplotlib=inline",
    "-f",
    "{connection_file}"
   ],
   "display_name": "SageMath 10.3",
   "env": {
   },
   "language": "sagemath",
   "metadata": {
    "cocalc": {
     "description": "Open-source mathematical software system",
     "priority": 10,
     "url": "https://www.sagemath.org/"
    }
   },
   "name": "sage-10.3",
   "resource_dir": "/ext/jupyter/kernels/sage-10.3"
  }
 },
 "nbformat": 4,
 "nbformat_minor": 4
}