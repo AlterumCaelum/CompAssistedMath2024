{
 "cells": [
  {
   "cell_type": "markdown",
   "metadata": {
    "collapsed": false
   },
   "source": [
    "**Authors:** Elias Köhnlein and Petr Samodelkin, Uni-Heidelberg, Summer Semester 2024\n",
    "\n"
   ]
  },
  {
   "cell_type": "markdown",
   "metadata": {
    "collapsed": false
   },
   "source": [
    "# Re-implementation of the Gaussian elimination algorithm and its applications in *Sage*  \n",
    "\n"
   ]
  },
  {
   "cell_type": "markdown",
   "metadata": {
    "collapsed": false
   },
   "source": [
    "*SageMath* is a powerful tool: it has _a lot_ already built in, and allows you to program on top of that. We are going to showcase both by partly re\\-implementing a few linear algebra applications.\n",
    "\n"
   ]
  },
  {
   "cell_type": "markdown",
   "metadata": {
    "collapsed": false
   },
   "source": [
    "## The Gaussian elimination algorithm\n",
    "\n"
   ]
  },
  {
   "cell_type": "markdown",
   "metadata": {
    "collapsed": false
   },
   "source": [
    "The Gaussian elimination algorithm transforms a given matrix to a special form. But first, a linear equation system interlude:\n",
    "We start with a field $K$ and elements which we'll call numbers in it. We can add, subtract, multiply and divide.\n",
    "A system of linear equations means we have to substitute numbers from $K$ to satisfy every equation of the form:\n",
    "\n",
    "\\begin{align}\n",
    "a_{11}x_{1}+a_{12}x_{2}\\dots+ a_{1n}x_{n}& =b_{1} \\\\\n",
    "a_{21}x_{1}+a_{22}x_{2}\\dots+a_{2n}x_{n}  & = b_{2} \\\\\n",
    "\\dots\n",
    "\\end{align}\n",
    "\n",
    "To solve it, we first make a few observations:\n",
    "\n",
    "Observation 1: dropping plus signs and variables preserves information, if we order the variables in every equation first.\n",
    "\n",
    "Observation 2: if we do one of the elementary operations, namely\n",
    "\n",
    "a\\) swap the rows\n",
    "\n",
    "b\\) add one row to the other\n",
    "\n",
    "c\\) multiply one row by a factor\n",
    "\n",
    "then the solutions remain the same, which is easy to check. \\(Obviously, solutions of the initial system are solutions of the changed one. But inverses of elementary operations are also elementary, so solutions of the changed one are the solutions of the initial one\\).\n",
    "\n",
    "That leads to the Gaussian elimination: an algorithm, that uses elementary operations to bring a matrix to a desirable \\(echelon\\) form, namely:\n",
    "\n",
    "We're going to reduce the matrix to the echelon form, like a staircase.\n",
    "We take the first non-0 column in the matrix, and swap the rows to make sure the top entry in that column isn't 0. Here's basic running through columns.\n",
    "Then eliminate everything in the column below and above by adding our row, factored first. Repeat for every row. You can see here, why adding rows doesn't mess up the structure: by construction, 0's are to the left.\n",
    "We're done! You can substitute anything for non-pivot variables, and you'll have exactly one easily obtainable solution per substituted set, it's as easy as moving the free variable entries to the right and adding up. \n",
    "\n"
   ]
  },
  {
   "cell_type": "markdown",
   "metadata": {
    "collapsed": false
   },
   "source": [
    "### Source code\n"
   ]
  },
  {
   "cell_type": "code",
   "execution_count": 2,
   "metadata": {
    "collapsed": false
   },
   "outputs": [
    {
     "name": "stdout",
     "output_type": "stream",
     "text": [
      "Original Matrix:\n"
     ]
    },
    {
     "data": {
      "text/html": [
       "<html>\\(\\displaystyle \\left(\\begin{array}{rrr}\n",
       "1 & 2 & 3 \\\\\n",
       "1 & 2 & 4 \\\\\n",
       "4 & 5 & 6\n",
       "\\end{array}\\right)\\)</html>"
      ],
      "text/latex": [
       "$\\displaystyle \\left(\\begin{array}{rrr}\n",
       "1 & 2 & 3 \\\\\n",
       "1 & 2 & 4 \\\\\n",
       "4 & 5 & 6\n",
       "\\end{array}\\right)$"
      ],
      "text/plain": [
       "[1 2 3]\n",
       "[1 2 4]\n",
       "[4 5 6]"
      ]
     },
     "execution_count": 2,
     "metadata": {
     },
     "output_type": "execute_result"
    },
    {
     "name": "stdout",
     "output_type": "stream",
     "text": [
      "Reduced Row Echelon Form:\n"
     ]
    },
    {
     "data": {
      "text/html": [
       "<html>\\(\\displaystyle \\left(\\begin{array}{rrr}\n",
       "1 & 0 & 0 \\\\\n",
       "0 & 1 & 0 \\\\\n",
       "0 & 0 & 1\n",
       "\\end{array}\\right)\\)</html>"
      ],
      "text/latex": [
       "$\\displaystyle \\left(\\begin{array}{rrr}\n",
       "1 & 0 & 0 \\\\\n",
       "0 & 1 & 0 \\\\\n",
       "0 & 0 & 1\n",
       "\\end{array}\\right)$"
      ],
      "text/plain": [
       "[1 0 0]\n",
       "[0 1 0]\n",
       "[0 0 1]"
      ]
     },
     "execution_count": 2,
     "metadata": {
     },
     "output_type": "execute_result"
    },
    {
     "name": "stdout",
     "output_type": "stream",
     "text": [
      "Sage-implemented Reduced Row Echelon Form:\n"
     ]
    },
    {
     "data": {
      "text/html": [
       "<html>\\(\\displaystyle \\left(\\begin{array}{rrr}\n",
       "1 & 0 & 0 \\\\\n",
       "0 & 1 & 0 \\\\\n",
       "0 & 0 & 1\n",
       "\\end{array}\\right)\\)</html>"
      ],
      "text/latex": [
       "$\\displaystyle \\left(\\begin{array}{rrr}\n",
       "1 & 0 & 0 \\\\\n",
       "0 & 1 & 0 \\\\\n",
       "0 & 0 & 1\n",
       "\\end{array}\\right)$"
      ],
      "text/plain": [
       "[1 0 0]\n",
       "[0 1 0]\n",
       "[0 0 1]"
      ]
     },
     "execution_count": 2,
     "metadata": {
     },
     "output_type": "execute_result"
    },
    {
     "name": "stdout",
     "output_type": "stream",
     "text": [
      "Upper Triangular Form:\n"
     ]
    },
    {
     "data": {
      "text/html": [
       "<html>\\(\\displaystyle \\left(\\begin{array}{rrr}\n",
       "1 & 2 & 3 \\\\\n",
       "0 & -3 & -6 \\\\\n",
       "0 & 0 & 1\n",
       "\\end{array}\\right)\\)</html>"
      ],
      "text/latex": [
       "$\\displaystyle \\left(\\begin{array}{rrr}\n",
       "1 & 2 & 3 \\\\\n",
       "0 & -3 & -6 \\\\\n",
       "0 & 0 & 1\n",
       "\\end{array}\\right)$"
      ],
      "text/plain": [
       "[ 1  2  3]\n",
       "[ 0 -3 -6]\n",
       "[ 0  0  1]"
      ]
     },
     "execution_count": 2,
     "metadata": {
     },
     "output_type": "execute_result"
    }
   ],
   "source": [
    "def gaussian_elimination_sage(A):\n",
    "    M = Matrix(A)  # Convert list of lists A into a Sage matrix if not already a matrix\n",
    "    num_rows, num_cols = M.nrows(), M.ncols()\n",
    "\n",
    "    for row in range(num_rows):\n",
    "        pivot_col = -1\n",
    "\n",
    "        for col in range(num_cols):\n",
    "            for i in range(row, num_rows):\n",
    "                if M[i, col] != 0:\n",
    "                    pivot_col = col\n",
    "                    M.swap_rows(row, i)  # Swap to move pivot to the current row\n",
    "                    break\n",
    "            if pivot_col >= 0:\n",
    "                break  \n",
    "\n",
    "        if pivot_col == -1:\n",
    "            return M\n",
    "\n",
    "        pivot = M[row, pivot_col]\n",
    "        for i in range(row + 1, num_rows):\n",
    "            if M[i, pivot_col] != 0:\n",
    "                factor = M[i, pivot_col] / pivot \n",
    "                M.add_multiple_of_row(i, row, -factor)\n",
    "\n",
    "    return M\n",
    "\n",
    "def full_gaussian_elimination_sage(A):\n",
    "    M = Matrix(A) \n",
    "    num_rows, num_cols = M.nrows(), M.ncols()\n",
    "\n",
    "    for row in range(min(num_rows, num_cols)):\n",
    "        pivot_col = -1\n",
    "\n",
    "        for col in range(num_cols):\n",
    "            for i in range(row, num_rows):\n",
    "                if M[i, col] != 0:\n",
    "                    pivot_col = col\n",
    "                    M.swap_rows(row, i)  \n",
    "                    break\n",
    "            if pivot_col >= 0:\n",
    "                break  \n",
    "\n",
    "        if pivot_col == -1:\n",
    "            return M\n",
    "        # show(M)\n",
    "        \n",
    "        pivot = M[row, pivot_col]\n",
    "        M.rescale_row(row, 1 / pivot)\n",
    "\n",
    "        # Eliminate all entries above and below the pivot\n",
    "        for i in range(num_rows):\n",
    "            if i != row and M[i, pivot_col] != 0:\n",
    "                factor = M[i, pivot_col]\n",
    "                M.add_multiple_of_row(i, row, -factor)\n",
    "\n",
    "    return M\n",
    "\n",
    "\n",
    "# Example usage\n",
    "B = Matrix(QQ, [\n",
    "    [1,2,3],\n",
    "    [1,2,4],\n",
    "    [4,5,6]\n",
    "])\n",
    "\n",
    "print(\"Original Matrix:\")\n",
    "show(B)\n",
    "\n",
    "# Perform full Gaussian Elimination\n",
    "rref_matrix = full_gaussian_elimination_sage(B)\n",
    "\n",
    "print(\"Reduced Row Echelon Form:\")\n",
    "show(rref_matrix)\n",
    "print(\"Sage-implemented Reduced Row Echelon Form:\")\n",
    "show(B.echelon_form())\n",
    "\n",
    "\n",
    "# Perform Gaussian Elimination\n",
    "upper_triangular = gaussian_elimination_sage(B)\n",
    "\n",
    "print(\"Upper Triangular Form:\")\n",
    "show(upper_triangular)\n"
   ]
  },
  {
   "cell_type": "markdown",
   "metadata": {
    "collapsed": false
   },
   "source": [
    "## The Gaussian elimination: user input cell \n",
    "\n"
   ]
  },
  {
   "cell_type": "code",
   "execution_count": 7,
   "metadata": {
    "cocalc": {
     "outputs": {
      "1": {
       "name": "input",
       "opts": {
        "password": false,
        "prompt": "Enter the number of rows: "
       },
       "output_type": "stream",
       "value": "2"
      },
      "2": {
       "name": "input",
       "opts": {
        "password": false,
        "prompt": "Enter the number of columns: "
       },
       "output_type": "stream",
       "value": "2"
      },
      "3": {
       "name": "input",
       "opts": {
        "password": false,
        "prompt": ""
       },
       "output_type": "stream"
      },
      "4": {
       "name": "input",
       "opts": {
        "password": false,
        "prompt": ""
       },
       "output_type": "stream",
       "value": "1 2"
      },
      "5": {
       "name": "input",
       "opts": {
        "password": false,
        "prompt": ""
       },
       "output_type": "stream",
       "value": "1 4"
      },
      "6": {
       "name": "input",
       "opts": {
        "password": false,
        "prompt": ""
       },
       "output_type": "stream",
       "value": "0 9"
      }
     }
    },
    "collapsed": false
   },
   "outputs": [
    {
     "name": "stdout",
     "output_type": "stream",
     "text": [
      "Enter the elements of the matrix separated by spaces (row-wise):\n"
     ]
    },
    {
     "name": "stdout",
     "output_type": "stream",
     "text": "Enter the number of rows:  2"
    },
    {
     "name": "stdout",
     "output_type": "stream",
     "text": "Enter the number of columns:  2"
    },
    {
     "name": "stdout",
     "output_type": "stream",
     "text": " "
    },
    {
     "name": "stdout",
     "output_type": "stream",
     "text": [
      "Enter the elements seperated by a space:\n"
     ],
     "value": "1.4 12.3"
    },
    {
     "name": "stdout",
     "output_type": "stream",
     "text": " 1 4"
    },
    {
     "name": "stdout",
     "output_type": "stream",
     "text": [
      "Original Matrix:\n"
     ]
    },
    {
     "data": {
      "text/html": [
       "<html>\\(\\displaystyle \\left(\\begin{array}{rr}\n",
       "\\frac{7}{5} & \\frac{123}{10} \\\\\n",
       "1 & 4\n",
       "\\end{array}\\right)\\)</html>"
      ],
      "text/latex": [
       "$\\displaystyle \\left(\\begin{array}{rr}\n",
       "\\frac{7}{5} & \\frac{123}{10} \\\\\n",
       "1 & 4\n",
       "\\end{array}\\right)$"
      ],
      "text/plain": [
       "[   7/5 123/10]\n",
       "[     1      4]"
      ]
     },
     "execution_count": 7,
     "metadata": {
     },
     "output_type": "execute_result"
    },
    {
     "name": "stdout",
     "output_type": "stream",
     "text": [
      "Reduced Row Echelon Form:\n"
     ]
    },
    {
     "data": {
      "text/html": [
       "<html>\\(\\displaystyle \\left(\\begin{array}{rr}\n",
       "1 & 0 \\\\\n",
       "0 & 1\n",
       "\\end{array}\\right)\\)</html>"
      ],
      "text/latex": [
       "$\\displaystyle \\left(\\begin{array}{rr}\n",
       "1 & 0 \\\\\n",
       "0 & 1\n",
       "\\end{array}\\right)$"
      ],
      "text/plain": [
       "[1 0]\n",
       "[0 1]"
      ]
     },
     "execution_count": 7,
     "metadata": {
     },
     "output_type": "execute_result"
    },
    {
     "name": "stdout",
     "output_type": "stream",
     "text": [
      "Sage-implemented\n"
     ]
    },
    {
     "data": {
      "text/html": [
       "<html>\\(\\displaystyle \\left(\\begin{array}{rr}\n",
       "1 & 0 \\\\\n",
       "0 & 1\n",
       "\\end{array}\\right)\\)</html>"
      ],
      "text/latex": [
       "$\\displaystyle \\left(\\begin{array}{rr}\n",
       "1 & 0 \\\\\n",
       "0 & 1\n",
       "\\end{array}\\right)$"
      ],
      "text/plain": [
       "[1 0]\n",
       "[0 1]"
      ]
     },
     "execution_count": 7,
     "metadata": {
     },
     "output_type": "execute_result"
    },
    {
     "name": "stdout",
     "output_type": "stream",
     "text": [
      "Upper Triangular Form:\n"
     ]
    },
    {
     "data": {
      "text/html": [
       "<html>\\(\\displaystyle \\left(\\begin{array}{rr}\n",
       "\\frac{7}{5} & \\frac{123}{10} \\\\\n",
       "0 & -\\frac{67}{14}\n",
       "\\end{array}\\right)\\)</html>"
      ],
      "text/latex": [
       "$\\displaystyle \\left(\\begin{array}{rr}\n",
       "\\frac{7}{5} & \\frac{123}{10} \\\\\n",
       "0 & -\\frac{67}{14}\n",
       "\\end{array}\\right)$"
      ],
      "text/plain": [
       "[   7/5 123/10]\n",
       "[     0 -67/14]"
      ]
     },
     "execution_count": 7,
     "metadata": {
     },
     "output_type": "execute_result"
    }
   ],
   "source": [
    "#function version test \n",
    "\n",
    "# Input matrix from the user\n",
    "print(\"Enter the elements of the matrix separated by spaces (row-wise):\")\n",
    "rows = int(input(\"Enter the number of rows: \"))\n",
    "cols = int(input(\"Enter the number of columns: \"))\n",
    "print(\"Enter the elements seperated by a space:\")\n",
    "A = []\n",
    "for i in range(rows):\n",
    "    row = list(map(float, input().split()))\n",
    "    if len(row) != cols:\n",
    "        print(\"Number of elements in each row should be equal to the number of columns.\")\n",
    "        exit()  # Terminates the program if the input is invalid\n",
    "    A.append(row)\n",
    "\n",
    "# Convert the list of lists to a Sage matrix\n",
    "B = Matrix(QQ, A)\n",
    "\n",
    "print(\"Original Matrix:\")\n",
    "show(B)\n",
    "\n",
    "# Perform full Gaussian Elimination\n",
    "rref_matrix = full_gaussian_elimination_sage(B)\n",
    "\n",
    "print(\"Reduced Row Echelon Form:\")\n",
    "show(rref_matrix)\n",
    "print(\"Sage-implemented\")\n",
    "show(B.echelon_form())\n",
    "\n",
    "\n",
    "# Perform Gaussian Elimination\n",
    "upper_triangular = gaussian_elimination_sage(B)\n",
    "\n",
    "print(\"Upper Triangular Form:\")\n",
    "show(upper_triangular)\n"
   ]
  },
  {
   "cell_type": "markdown",
   "metadata": {
    "collapsed": false
   },
   "source": [
    "### This code enables the user to test the speed of our implementation of the Gauss algorithm. It generates a \"random\" nxn matrix with entries ranging from \\-100 to 100.1 2 \n",
    "\n"
   ]
  },
  {
   "cell_type": "code",
   "execution_count": 8,
   "metadata": {
    "cocalc": {
     "outputs": {
      "1": {
       "name": "input",
       "opts": {
        "password": false,
        "prompt": "Enter a natural number defaults to 30 if above 30: "
       },
       "output_type": "stream",
       "value": "30"
      }
     }
    },
    "collapsed": false
   },
   "outputs": [
    {
     "name": "stdout",
     "output_type": "stream",
     "text": [
      "Enter the size (n) of the quadratic matrix n x n:\n"
     ]
    },
    {
     "name": "stdout",
     "output_type": "stream",
     "text": "Enter a natural number defaults to 30 if above 30:  30"
    },
    {
     "name": "stdout",
     "output_type": "stream",
     "text": [
      "Original Matrix:\n"
     ]
    },
    {
     "data": {
      "text/html": [
       "<html>\\(\\displaystyle \\left(\\begin{array}{rrrrrrrrrrrrrrrrrrrrrrrrrrrrrr}\n",
       "5 & 53 & 81 & -48 & -42 & -13 & 4 & 7 & 2 & -9 & 97 & 17 & 42 & 41 & 71 & -17 & 10 & 26 & -9 & 10 & 72 & -59 & 12 & -26 & -71 & -67 & 10 & -46 & -16 & -98 \\\\\n",
       "35 & -42 & 87 & 7 & 94 & 1 & 69 & -16 & -3 & -54 & -72 & 72 & -35 & 8 & 4 & 22 & 86 & -76 & 1 & 83 & -55 & -28 & -42 & 33 & 69 & -86 & -47 & -90 & -1 & 14 \\\\\n",
       "-28 & 34 & -19 & 9 & 47 & 84 & -71 & -13 & -40 & 77 & -85 & 90 & 68 & 55 & 10 & 43 & 95 & -61 & 66 & -82 & 70 & -50 & -26 & -8 & 27 & -56 & 91 & 77 & -100 & 45 \\\\\n",
       "-16 & -14 & -93 & -86 & -28 & 17 & 59 & 10 & 90 & 70 & 15 & 58 & -6 & 47 & 19 & 47 & 67 & -87 & 90 & 55 & 21 & 4 & 67 & 82 & 99 & -37 & 55 & -24 & 89 & -82 \\\\\n",
       "-55 & -78 & 40 & -40 & -32 & 47 & -69 & -99 & 49 & -17 & 79 & 62 & 84 & -90 & -11 & 20 & -38 & -16 & -21 & 12 & 23 & 56 & -35 & -51 & -68 & 8 & -68 & -79 & -19 & -75 \\\\\n",
       "-98 & -48 & 49 & -79 & -98 & 12 & -38 & 78 & -91 & -1 & 6 & 83 & -64 & -63 & -48 & -39 & 32 & 88 & 59 & -81 & -48 & 43 & 3 & 78 & 15 & 97 & -63 & -9 & 0 & 17 \\\\\n",
       "-93 & -80 & 67 & -55 & 0 & 48 & -50 & -50 & 34 & -7 & -1 & -45 & 27 & -49 & -37 & -1 & -47 & -17 & -7 & 27 & -96 & 64 & 55 & -52 & 23 & -30 & 3 & -86 & -93 & -8 \\\\\n",
       "33 & -20 & -40 & 88 & 83 & -92 & 46 & 14 & 90 & 13 & 75 & -100 & -93 & 28 & 27 & -25 & 69 & -38 & -99 & -33 & 53 & -78 & 58 & 62 & -73 & -97 & 27 & 58 & 38 & -43 \\\\\n",
       "-64 & 17 & 60 & 19 & 7 & -10 & 11 & -93 & -34 & 95 & -72 & 58 & 32 & -84 & 16 & -35 & 71 & 88 & -25 & -41 & 98 & -60 & 57 & -71 & -67 & -32 & -40 & 84 & 7 & 91 \\\\\n",
       "15 & -57 & 28 & 83 & -11 & -72 & -72 & -67 & -39 & 71 & -87 & 59 & 97 & 36 & -59 & 93 & 15 & 84 & 81 & 46 & -8 & -60 & 51 & -86 & -21 & 95 & 88 & 38 & -84 & -42 \\\\\n",
       "97 & -36 & -46 & 11 & 47 & 60 & 61 & -6 & -9 & 53 & -27 & 62 & -28 & -63 & 22 & 45 & -10 & 25 & -8 & -27 & 12 & -79 & 67 & -38 & 36 & 33 & 52 & -70 & 30 & -5 \\\\\n",
       "-76 & -72 & 71 & 17 & 45 & -23 & -81 & 7 & -36 & -96 & 20 & 0 & 23 & 99 & -5 & 8 & -64 & -96 & -57 & -100 & 92 & -90 & 69 & -90 & -93 & 21 & -35 & 85 & -11 & -46 \\\\\n",
       "47 & 8 & 48 & -41 & -49 & 6 & -55 & 100 & 3 & -42 & -85 & 14 & 82 & -98 & 64 & 34 & 52 & -74 & -72 & -44 & 13 & -18 & -63 & 11 & -29 & -5 & -38 & -14 & -20 & -68 \\\\\n",
       "87 & 1 & -84 & -76 & -89 & -89 & 84 & 57 & -54 & 75 & -58 & 7 & -15 & 80 & 8 & 47 & -87 & -92 & -87 & 12 & 50 & -64 & -48 & -78 & -59 & 93 & -83 & 57 & -98 & -62 \\\\\n",
       "35 & 55 & -76 & 12 & -98 & -39 & -51 & -90 & -65 & 81 & -73 & -28 & -62 & -99 & 62 & -97 & -48 & 60 & 95 & 44 & -87 & -30 & -32 & 67 & -41 & -52 & 26 & 93 & 63 & 16 \\\\\n",
       "79 & 45 & 30 & -24 & 23 & -82 & -55 & -73 & -89 & -5 & -66 & 88 & 26 & -7 & -19 & -22 & 82 & -25 & 21 & 45 & 45 & 53 & 11 & -91 & -28 & -25 & 25 & 65 & 23 & -100 \\\\\n",
       "64 & -52 & -29 & -16 & -61 & 84 & 52 & 93 & 66 & 3 & -57 & -53 & -36 & 20 & 93 & -87 & 20 & 86 & -36 & -91 & -84 & -88 & 45 & 79 & -59 & 46 & -22 & -89 & -35 & -18 \\\\\n",
       "-67 & 2 & 92 & -62 & -51 & -93 & 22 & -9 & 10 & -51 & 68 & -88 & 89 & 30 & 94 & 75 & 48 & 82 & -40 & -83 & 21 & -41 & -96 & 4 & 82 & -64 & -85 & -88 & -79 & 72 \\\\\n",
       "-37 & 77 & 35 & -57 & -9 & 26 & -32 & 57 & -88 & 0 & -47 & 8 & 58 & 27 & -72 & -63 & 94 & 7 & -53 & -90 & -24 & -23 & -89 & -37 & -46 & -88 & -55 & -45 & -90 & -51 \\\\\n",
       "-20 & -12 & 45 & 81 & -93 & 3 & 24 & -99 & -93 & -80 & -70 & 91 & -69 & -78 & -15 & -87 & -96 & 91 & 92 & 84 & -25 & -75 & -98 & -23 & -63 & 42 & 98 & -7 & -15 & -71 \\\\\n",
       "-99 & 34 & 77 & -82 & 33 & 1 & -16 & -20 & -43 & -74 & -36 & 57 & -2 & 59 & 92 & 73 & -2 & -79 & 53 & -93 & 85 & -19 & -89 & -62 & 33 & 48 & -8 & 82 & 77 & 76 \\\\\n",
       "-59 & -64 & -38 & -5 & -5 & -79 & -60 & -38 & -74 & -79 & 24 & 27 & -81 & -16 & -70 & -26 & 72 & 0 & 28 & -92 & 41 & -20 & 15 & 72 & -100 & -77 & 24 & 20 & 0 & 97 \\\\\n",
       "9 & -76 & -58 & 64 & 98 & -50 & 93 & 5 & 3 & -34 & 86 & -14 & 64 & -38 & -19 & -54 & 81 & 25 & 18 & 10 & 100 & -43 & 9 & 39 & 92 & 53 & -12 & -53 & 95 & 7 \\\\\n",
       "-63 & 17 & 74 & -71 & 85 & -37 & -24 & -100 & 69 & -65 & 83 & 32 & -29 & 0 & 7 & 41 & -53 & -11 & -69 & -90 & 39 & 100 & 12 & -64 & 77 & 42 & -64 & 71 & -65 & 72 \\\\\n",
       "29 & -2 & 90 & 76 & 63 & 6 & -57 & 4 & -53 & -82 & 85 & 19 & 65 & 65 & -72 & -14 & -4 & -96 & 86 & -5 & 44 & -25 & -47 & -34 & -51 & 87 & 23 & -86 & 12 & -47 \\\\\n",
       "-68 & -67 & 92 & -26 & 99 & 48 & 64 & 44 & -95 & 62 & -100 & -24 & 21 & 67 & -88 & -22 & -67 & -65 & 9 & 10 & 93 & -89 & -67 & 39 & 67 & 48 & -43 & -45 & 93 & -82 \\\\\n",
       "11 & -75 & 41 & 34 & 12 & 18 & 38 & 50 & -97 & 70 & 7 & -27 & -17 & -31 & 30 & 50 & 47 & 89 & -10 & -33 & 12 & 41 & -97 & 87 & 57 & 20 & 42 & -30 & 84 & -46 \\\\\n",
       "-18 & -12 & 61 & -47 & -54 & 73 & 33 & 47 & -79 & -43 & -43 & 39 & 91 & 62 & -13 & 25 & -75 & 40 & -3 & 45 & -89 & 93 & -43 & -73 & -8 & 72 & -92 & 18 & -94 & 40 \\\\\n",
       "-86 & -85 & -3 & 82 & -97 & 59 & 99 & 78 & 43 & 89 & 80 & 40 & 56 & -30 & -37 & 59 & 32 & -14 & -53 & -43 & -64 & -67 & -45 & 65 & 30 & 74 & 79 & -24 & 39 & 78 \\\\\n",
       "42 & -6 & 26 & -23 & -38 & 13 & -27 & 0 & -18 & 60 & 6 & 42 & 5 & 92 & -86 & -67 & 4 & 42 & -89 & 84 & -74 & 54 & 49 & -6 & -90 & -55 & -70 & -31 & 21 & -43\n",
       "\\end{array}\\right)\\)</html>"
      ],
      "text/latex": [
       "$\\displaystyle \\left(\\begin{array}{rrrrrrrrrrrrrrrrrrrrrrrrrrrrrr}\n",
       "5 & 53 & 81 & -48 & -42 & -13 & 4 & 7 & 2 & -9 & 97 & 17 & 42 & 41 & 71 & -17 & 10 & 26 & -9 & 10 & 72 & -59 & 12 & -26 & -71 & -67 & 10 & -46 & -16 & -98 \\\\\n",
       "35 & -42 & 87 & 7 & 94 & 1 & 69 & -16 & -3 & -54 & -72 & 72 & -35 & 8 & 4 & 22 & 86 & -76 & 1 & 83 & -55 & -28 & -42 & 33 & 69 & -86 & -47 & -90 & -1 & 14 \\\\\n",
       "-28 & 34 & -19 & 9 & 47 & 84 & -71 & -13 & -40 & 77 & -85 & 90 & 68 & 55 & 10 & 43 & 95 & -61 & 66 & -82 & 70 & -50 & -26 & -8 & 27 & -56 & 91 & 77 & -100 & 45 \\\\\n",
       "-16 & -14 & -93 & -86 & -28 & 17 & 59 & 10 & 90 & 70 & 15 & 58 & -6 & 47 & 19 & 47 & 67 & -87 & 90 & 55 & 21 & 4 & 67 & 82 & 99 & -37 & 55 & -24 & 89 & -82 \\\\\n",
       "-55 & -78 & 40 & -40 & -32 & 47 & -69 & -99 & 49 & -17 & 79 & 62 & 84 & -90 & -11 & 20 & -38 & -16 & -21 & 12 & 23 & 56 & -35 & -51 & -68 & 8 & -68 & -79 & -19 & -75 \\\\\n",
       "-98 & -48 & 49 & -79 & -98 & 12 & -38 & 78 & -91 & -1 & 6 & 83 & -64 & -63 & -48 & -39 & 32 & 88 & 59 & -81 & -48 & 43 & 3 & 78 & 15 & 97 & -63 & -9 & 0 & 17 \\\\\n",
       "-93 & -80 & 67 & -55 & 0 & 48 & -50 & -50 & 34 & -7 & -1 & -45 & 27 & -49 & -37 & -1 & -47 & -17 & -7 & 27 & -96 & 64 & 55 & -52 & 23 & -30 & 3 & -86 & -93 & -8 \\\\\n",
       "33 & -20 & -40 & 88 & 83 & -92 & 46 & 14 & 90 & 13 & 75 & -100 & -93 & 28 & 27 & -25 & 69 & -38 & -99 & -33 & 53 & -78 & 58 & 62 & -73 & -97 & 27 & 58 & 38 & -43 \\\\\n",
       "-64 & 17 & 60 & 19 & 7 & -10 & 11 & -93 & -34 & 95 & -72 & 58 & 32 & -84 & 16 & -35 & 71 & 88 & -25 & -41 & 98 & -60 & 57 & -71 & -67 & -32 & -40 & 84 & 7 & 91 \\\\\n",
       "15 & -57 & 28 & 83 & -11 & -72 & -72 & -67 & -39 & 71 & -87 & 59 & 97 & 36 & -59 & 93 & 15 & 84 & 81 & 46 & -8 & -60 & 51 & -86 & -21 & 95 & 88 & 38 & -84 & -42 \\\\\n",
       "97 & -36 & -46 & 11 & 47 & 60 & 61 & -6 & -9 & 53 & -27 & 62 & -28 & -63 & 22 & 45 & -10 & 25 & -8 & -27 & 12 & -79 & 67 & -38 & 36 & 33 & 52 & -70 & 30 & -5 \\\\\n",
       "-76 & -72 & 71 & 17 & 45 & -23 & -81 & 7 & -36 & -96 & 20 & 0 & 23 & 99 & -5 & 8 & -64 & -96 & -57 & -100 & 92 & -90 & 69 & -90 & -93 & 21 & -35 & 85 & -11 & -46 \\\\\n",
       "47 & 8 & 48 & -41 & -49 & 6 & -55 & 100 & 3 & -42 & -85 & 14 & 82 & -98 & 64 & 34 & 52 & -74 & -72 & -44 & 13 & -18 & -63 & 11 & -29 & -5 & -38 & -14 & -20 & -68 \\\\\n",
       "87 & 1 & -84 & -76 & -89 & -89 & 84 & 57 & -54 & 75 & -58 & 7 & -15 & 80 & 8 & 47 & -87 & -92 & -87 & 12 & 50 & -64 & -48 & -78 & -59 & 93 & -83 & 57 & -98 & -62 \\\\\n",
       "35 & 55 & -76 & 12 & -98 & -39 & -51 & -90 & -65 & 81 & -73 & -28 & -62 & -99 & 62 & -97 & -48 & 60 & 95 & 44 & -87 & -30 & -32 & 67 & -41 & -52 & 26 & 93 & 63 & 16 \\\\\n",
       "79 & 45 & 30 & -24 & 23 & -82 & -55 & -73 & -89 & -5 & -66 & 88 & 26 & -7 & -19 & -22 & 82 & -25 & 21 & 45 & 45 & 53 & 11 & -91 & -28 & -25 & 25 & 65 & 23 & -100 \\\\\n",
       "64 & -52 & -29 & -16 & -61 & 84 & 52 & 93 & 66 & 3 & -57 & -53 & -36 & 20 & 93 & -87 & 20 & 86 & -36 & -91 & -84 & -88 & 45 & 79 & -59 & 46 & -22 & -89 & -35 & -18 \\\\\n",
       "-67 & 2 & 92 & -62 & -51 & -93 & 22 & -9 & 10 & -51 & 68 & -88 & 89 & 30 & 94 & 75 & 48 & 82 & -40 & -83 & 21 & -41 & -96 & 4 & 82 & -64 & -85 & -88 & -79 & 72 \\\\\n",
       "-37 & 77 & 35 & -57 & -9 & 26 & -32 & 57 & -88 & 0 & -47 & 8 & 58 & 27 & -72 & -63 & 94 & 7 & -53 & -90 & -24 & -23 & -89 & -37 & -46 & -88 & -55 & -45 & -90 & -51 \\\\\n",
       "-20 & -12 & 45 & 81 & -93 & 3 & 24 & -99 & -93 & -80 & -70 & 91 & -69 & -78 & -15 & -87 & -96 & 91 & 92 & 84 & -25 & -75 & -98 & -23 & -63 & 42 & 98 & -7 & -15 & -71 \\\\\n",
       "-99 & 34 & 77 & -82 & 33 & 1 & -16 & -20 & -43 & -74 & -36 & 57 & -2 & 59 & 92 & 73 & -2 & -79 & 53 & -93 & 85 & -19 & -89 & -62 & 33 & 48 & -8 & 82 & 77 & 76 \\\\\n",
       "-59 & -64 & -38 & -5 & -5 & -79 & -60 & -38 & -74 & -79 & 24 & 27 & -81 & -16 & -70 & -26 & 72 & 0 & 28 & -92 & 41 & -20 & 15 & 72 & -100 & -77 & 24 & 20 & 0 & 97 \\\\\n",
       "9 & -76 & -58 & 64 & 98 & -50 & 93 & 5 & 3 & -34 & 86 & -14 & 64 & -38 & -19 & -54 & 81 & 25 & 18 & 10 & 100 & -43 & 9 & 39 & 92 & 53 & -12 & -53 & 95 & 7 \\\\\n",
       "-63 & 17 & 74 & -71 & 85 & -37 & -24 & -100 & 69 & -65 & 83 & 32 & -29 & 0 & 7 & 41 & -53 & -11 & -69 & -90 & 39 & 100 & 12 & -64 & 77 & 42 & -64 & 71 & -65 & 72 \\\\\n",
       "29 & -2 & 90 & 76 & 63 & 6 & -57 & 4 & -53 & -82 & 85 & 19 & 65 & 65 & -72 & -14 & -4 & -96 & 86 & -5 & 44 & -25 & -47 & -34 & -51 & 87 & 23 & -86 & 12 & -47 \\\\\n",
       "-68 & -67 & 92 & -26 & 99 & 48 & 64 & 44 & -95 & 62 & -100 & -24 & 21 & 67 & -88 & -22 & -67 & -65 & 9 & 10 & 93 & -89 & -67 & 39 & 67 & 48 & -43 & -45 & 93 & -82 \\\\\n",
       "11 & -75 & 41 & 34 & 12 & 18 & 38 & 50 & -97 & 70 & 7 & -27 & -17 & -31 & 30 & 50 & 47 & 89 & -10 & -33 & 12 & 41 & -97 & 87 & 57 & 20 & 42 & -30 & 84 & -46 \\\\\n",
       "-18 & -12 & 61 & -47 & -54 & 73 & 33 & 47 & -79 & -43 & -43 & 39 & 91 & 62 & -13 & 25 & -75 & 40 & -3 & 45 & -89 & 93 & -43 & -73 & -8 & 72 & -92 & 18 & -94 & 40 \\\\\n",
       "-86 & -85 & -3 & 82 & -97 & 59 & 99 & 78 & 43 & 89 & 80 & 40 & 56 & -30 & -37 & 59 & 32 & -14 & -53 & -43 & -64 & -67 & -45 & 65 & 30 & 74 & 79 & -24 & 39 & 78 \\\\\n",
       "42 & -6 & 26 & -23 & -38 & 13 & -27 & 0 & -18 & 60 & 6 & 42 & 5 & 92 & -86 & -67 & 4 & 42 & -89 & 84 & -74 & 54 & 49 & -6 & -90 & -55 & -70 & -31 & 21 & -43\n",
       "\\end{array}\\right)$"
      ],
      "text/plain": [
       "30 x 30 dense matrix over Rational Field (use the '.str()' method to see the entries)"
      ]
     },
     "execution_count": 8,
     "metadata": {
     },
     "output_type": "execute_result"
    },
    {
     "name": "stdout",
     "output_type": "stream",
     "text": [
      "Reduced Row Echelon Form:\n"
     ]
    },
    {
     "data": {
      "text/html": [
       "<html>\\(\\displaystyle \\left(\\begin{array}{rrrrrrrrrrrrrrrrrrrrrrrrrrrrrr}\n",
       "1 & 0 & 0 & 0 & 0 & 0 & 0 & 0 & 0 & 0 & 0 & 0 & 0 & 0 & 0 & 0 & 0 & 0 & 0 & 0 & 0 & 0 & 0 & 0 & 0 & 0 & 0 & 0 & 0 & 0 \\\\\n",
       "0 & 1 & 0 & 0 & 0 & 0 & 0 & 0 & 0 & 0 & 0 & 0 & 0 & 0 & 0 & 0 & 0 & 0 & 0 & 0 & 0 & 0 & 0 & 0 & 0 & 0 & 0 & 0 & 0 & 0 \\\\\n",
       "0 & 0 & 1 & 0 & 0 & 0 & 0 & 0 & 0 & 0 & 0 & 0 & 0 & 0 & 0 & 0 & 0 & 0 & 0 & 0 & 0 & 0 & 0 & 0 & 0 & 0 & 0 & 0 & 0 & 0 \\\\\n",
       "0 & 0 & 0 & 1 & 0 & 0 & 0 & 0 & 0 & 0 & 0 & 0 & 0 & 0 & 0 & 0 & 0 & 0 & 0 & 0 & 0 & 0 & 0 & 0 & 0 & 0 & 0 & 0 & 0 & 0 \\\\\n",
       "0 & 0 & 0 & 0 & 1 & 0 & 0 & 0 & 0 & 0 & 0 & 0 & 0 & 0 & 0 & 0 & 0 & 0 & 0 & 0 & 0 & 0 & 0 & 0 & 0 & 0 & 0 & 0 & 0 & 0 \\\\\n",
       "0 & 0 & 0 & 0 & 0 & 1 & 0 & 0 & 0 & 0 & 0 & 0 & 0 & 0 & 0 & 0 & 0 & 0 & 0 & 0 & 0 & 0 & 0 & 0 & 0 & 0 & 0 & 0 & 0 & 0 \\\\\n",
       "0 & 0 & 0 & 0 & 0 & 0 & 1 & 0 & 0 & 0 & 0 & 0 & 0 & 0 & 0 & 0 & 0 & 0 & 0 & 0 & 0 & 0 & 0 & 0 & 0 & 0 & 0 & 0 & 0 & 0 \\\\\n",
       "0 & 0 & 0 & 0 & 0 & 0 & 0 & 1 & 0 & 0 & 0 & 0 & 0 & 0 & 0 & 0 & 0 & 0 & 0 & 0 & 0 & 0 & 0 & 0 & 0 & 0 & 0 & 0 & 0 & 0 \\\\\n",
       "0 & 0 & 0 & 0 & 0 & 0 & 0 & 0 & 1 & 0 & 0 & 0 & 0 & 0 & 0 & 0 & 0 & 0 & 0 & 0 & 0 & 0 & 0 & 0 & 0 & 0 & 0 & 0 & 0 & 0 \\\\\n",
       "0 & 0 & 0 & 0 & 0 & 0 & 0 & 0 & 0 & 1 & 0 & 0 & 0 & 0 & 0 & 0 & 0 & 0 & 0 & 0 & 0 & 0 & 0 & 0 & 0 & 0 & 0 & 0 & 0 & 0 \\\\\n",
       "0 & 0 & 0 & 0 & 0 & 0 & 0 & 0 & 0 & 0 & 1 & 0 & 0 & 0 & 0 & 0 & 0 & 0 & 0 & 0 & 0 & 0 & 0 & 0 & 0 & 0 & 0 & 0 & 0 & 0 \\\\\n",
       "0 & 0 & 0 & 0 & 0 & 0 & 0 & 0 & 0 & 0 & 0 & 1 & 0 & 0 & 0 & 0 & 0 & 0 & 0 & 0 & 0 & 0 & 0 & 0 & 0 & 0 & 0 & 0 & 0 & 0 \\\\\n",
       "0 & 0 & 0 & 0 & 0 & 0 & 0 & 0 & 0 & 0 & 0 & 0 & 1 & 0 & 0 & 0 & 0 & 0 & 0 & 0 & 0 & 0 & 0 & 0 & 0 & 0 & 0 & 0 & 0 & 0 \\\\\n",
       "0 & 0 & 0 & 0 & 0 & 0 & 0 & 0 & 0 & 0 & 0 & 0 & 0 & 1 & 0 & 0 & 0 & 0 & 0 & 0 & 0 & 0 & 0 & 0 & 0 & 0 & 0 & 0 & 0 & 0 \\\\\n",
       "0 & 0 & 0 & 0 & 0 & 0 & 0 & 0 & 0 & 0 & 0 & 0 & 0 & 0 & 1 & 0 & 0 & 0 & 0 & 0 & 0 & 0 & 0 & 0 & 0 & 0 & 0 & 0 & 0 & 0 \\\\\n",
       "0 & 0 & 0 & 0 & 0 & 0 & 0 & 0 & 0 & 0 & 0 & 0 & 0 & 0 & 0 & 1 & 0 & 0 & 0 & 0 & 0 & 0 & 0 & 0 & 0 & 0 & 0 & 0 & 0 & 0 \\\\\n",
       "0 & 0 & 0 & 0 & 0 & 0 & 0 & 0 & 0 & 0 & 0 & 0 & 0 & 0 & 0 & 0 & 1 & 0 & 0 & 0 & 0 & 0 & 0 & 0 & 0 & 0 & 0 & 0 & 0 & 0 \\\\\n",
       "0 & 0 & 0 & 0 & 0 & 0 & 0 & 0 & 0 & 0 & 0 & 0 & 0 & 0 & 0 & 0 & 0 & 1 & 0 & 0 & 0 & 0 & 0 & 0 & 0 & 0 & 0 & 0 & 0 & 0 \\\\\n",
       "0 & 0 & 0 & 0 & 0 & 0 & 0 & 0 & 0 & 0 & 0 & 0 & 0 & 0 & 0 & 0 & 0 & 0 & 1 & 0 & 0 & 0 & 0 & 0 & 0 & 0 & 0 & 0 & 0 & 0 \\\\\n",
       "0 & 0 & 0 & 0 & 0 & 0 & 0 & 0 & 0 & 0 & 0 & 0 & 0 & 0 & 0 & 0 & 0 & 0 & 0 & 1 & 0 & 0 & 0 & 0 & 0 & 0 & 0 & 0 & 0 & 0 \\\\\n",
       "0 & 0 & 0 & 0 & 0 & 0 & 0 & 0 & 0 & 0 & 0 & 0 & 0 & 0 & 0 & 0 & 0 & 0 & 0 & 0 & 1 & 0 & 0 & 0 & 0 & 0 & 0 & 0 & 0 & 0 \\\\\n",
       "0 & 0 & 0 & 0 & 0 & 0 & 0 & 0 & 0 & 0 & 0 & 0 & 0 & 0 & 0 & 0 & 0 & 0 & 0 & 0 & 0 & 1 & 0 & 0 & 0 & 0 & 0 & 0 & 0 & 0 \\\\\n",
       "0 & 0 & 0 & 0 & 0 & 0 & 0 & 0 & 0 & 0 & 0 & 0 & 0 & 0 & 0 & 0 & 0 & 0 & 0 & 0 & 0 & 0 & 1 & 0 & 0 & 0 & 0 & 0 & 0 & 0 \\\\\n",
       "0 & 0 & 0 & 0 & 0 & 0 & 0 & 0 & 0 & 0 & 0 & 0 & 0 & 0 & 0 & 0 & 0 & 0 & 0 & 0 & 0 & 0 & 0 & 1 & 0 & 0 & 0 & 0 & 0 & 0 \\\\\n",
       "0 & 0 & 0 & 0 & 0 & 0 & 0 & 0 & 0 & 0 & 0 & 0 & 0 & 0 & 0 & 0 & 0 & 0 & 0 & 0 & 0 & 0 & 0 & 0 & 1 & 0 & 0 & 0 & 0 & 0 \\\\\n",
       "0 & 0 & 0 & 0 & 0 & 0 & 0 & 0 & 0 & 0 & 0 & 0 & 0 & 0 & 0 & 0 & 0 & 0 & 0 & 0 & 0 & 0 & 0 & 0 & 0 & 1 & 0 & 0 & 0 & 0 \\\\\n",
       "0 & 0 & 0 & 0 & 0 & 0 & 0 & 0 & 0 & 0 & 0 & 0 & 0 & 0 & 0 & 0 & 0 & 0 & 0 & 0 & 0 & 0 & 0 & 0 & 0 & 0 & 1 & 0 & 0 & 0 \\\\\n",
       "0 & 0 & 0 & 0 & 0 & 0 & 0 & 0 & 0 & 0 & 0 & 0 & 0 & 0 & 0 & 0 & 0 & 0 & 0 & 0 & 0 & 0 & 0 & 0 & 0 & 0 & 0 & 1 & 0 & 0 \\\\\n",
       "0 & 0 & 0 & 0 & 0 & 0 & 0 & 0 & 0 & 0 & 0 & 0 & 0 & 0 & 0 & 0 & 0 & 0 & 0 & 0 & 0 & 0 & 0 & 0 & 0 & 0 & 0 & 0 & 1 & 0 \\\\\n",
       "0 & 0 & 0 & 0 & 0 & 0 & 0 & 0 & 0 & 0 & 0 & 0 & 0 & 0 & 0 & 0 & 0 & 0 & 0 & 0 & 0 & 0 & 0 & 0 & 0 & 0 & 0 & 0 & 0 & 1\n",
       "\\end{array}\\right)\\)</html>"
      ],
      "text/latex": [
       "$\\displaystyle \\left(\\begin{array}{rrrrrrrrrrrrrrrrrrrrrrrrrrrrrr}\n",
       "1 & 0 & 0 & 0 & 0 & 0 & 0 & 0 & 0 & 0 & 0 & 0 & 0 & 0 & 0 & 0 & 0 & 0 & 0 & 0 & 0 & 0 & 0 & 0 & 0 & 0 & 0 & 0 & 0 & 0 \\\\\n",
       "0 & 1 & 0 & 0 & 0 & 0 & 0 & 0 & 0 & 0 & 0 & 0 & 0 & 0 & 0 & 0 & 0 & 0 & 0 & 0 & 0 & 0 & 0 & 0 & 0 & 0 & 0 & 0 & 0 & 0 \\\\\n",
       "0 & 0 & 1 & 0 & 0 & 0 & 0 & 0 & 0 & 0 & 0 & 0 & 0 & 0 & 0 & 0 & 0 & 0 & 0 & 0 & 0 & 0 & 0 & 0 & 0 & 0 & 0 & 0 & 0 & 0 \\\\\n",
       "0 & 0 & 0 & 1 & 0 & 0 & 0 & 0 & 0 & 0 & 0 & 0 & 0 & 0 & 0 & 0 & 0 & 0 & 0 & 0 & 0 & 0 & 0 & 0 & 0 & 0 & 0 & 0 & 0 & 0 \\\\\n",
       "0 & 0 & 0 & 0 & 1 & 0 & 0 & 0 & 0 & 0 & 0 & 0 & 0 & 0 & 0 & 0 & 0 & 0 & 0 & 0 & 0 & 0 & 0 & 0 & 0 & 0 & 0 & 0 & 0 & 0 \\\\\n",
       "0 & 0 & 0 & 0 & 0 & 1 & 0 & 0 & 0 & 0 & 0 & 0 & 0 & 0 & 0 & 0 & 0 & 0 & 0 & 0 & 0 & 0 & 0 & 0 & 0 & 0 & 0 & 0 & 0 & 0 \\\\\n",
       "0 & 0 & 0 & 0 & 0 & 0 & 1 & 0 & 0 & 0 & 0 & 0 & 0 & 0 & 0 & 0 & 0 & 0 & 0 & 0 & 0 & 0 & 0 & 0 & 0 & 0 & 0 & 0 & 0 & 0 \\\\\n",
       "0 & 0 & 0 & 0 & 0 & 0 & 0 & 1 & 0 & 0 & 0 & 0 & 0 & 0 & 0 & 0 & 0 & 0 & 0 & 0 & 0 & 0 & 0 & 0 & 0 & 0 & 0 & 0 & 0 & 0 \\\\\n",
       "0 & 0 & 0 & 0 & 0 & 0 & 0 & 0 & 1 & 0 & 0 & 0 & 0 & 0 & 0 & 0 & 0 & 0 & 0 & 0 & 0 & 0 & 0 & 0 & 0 & 0 & 0 & 0 & 0 & 0 \\\\\n",
       "0 & 0 & 0 & 0 & 0 & 0 & 0 & 0 & 0 & 1 & 0 & 0 & 0 & 0 & 0 & 0 & 0 & 0 & 0 & 0 & 0 & 0 & 0 & 0 & 0 & 0 & 0 & 0 & 0 & 0 \\\\\n",
       "0 & 0 & 0 & 0 & 0 & 0 & 0 & 0 & 0 & 0 & 1 & 0 & 0 & 0 & 0 & 0 & 0 & 0 & 0 & 0 & 0 & 0 & 0 & 0 & 0 & 0 & 0 & 0 & 0 & 0 \\\\\n",
       "0 & 0 & 0 & 0 & 0 & 0 & 0 & 0 & 0 & 0 & 0 & 1 & 0 & 0 & 0 & 0 & 0 & 0 & 0 & 0 & 0 & 0 & 0 & 0 & 0 & 0 & 0 & 0 & 0 & 0 \\\\\n",
       "0 & 0 & 0 & 0 & 0 & 0 & 0 & 0 & 0 & 0 & 0 & 0 & 1 & 0 & 0 & 0 & 0 & 0 & 0 & 0 & 0 & 0 & 0 & 0 & 0 & 0 & 0 & 0 & 0 & 0 \\\\\n",
       "0 & 0 & 0 & 0 & 0 & 0 & 0 & 0 & 0 & 0 & 0 & 0 & 0 & 1 & 0 & 0 & 0 & 0 & 0 & 0 & 0 & 0 & 0 & 0 & 0 & 0 & 0 & 0 & 0 & 0 \\\\\n",
       "0 & 0 & 0 & 0 & 0 & 0 & 0 & 0 & 0 & 0 & 0 & 0 & 0 & 0 & 1 & 0 & 0 & 0 & 0 & 0 & 0 & 0 & 0 & 0 & 0 & 0 & 0 & 0 & 0 & 0 \\\\\n",
       "0 & 0 & 0 & 0 & 0 & 0 & 0 & 0 & 0 & 0 & 0 & 0 & 0 & 0 & 0 & 1 & 0 & 0 & 0 & 0 & 0 & 0 & 0 & 0 & 0 & 0 & 0 & 0 & 0 & 0 \\\\\n",
       "0 & 0 & 0 & 0 & 0 & 0 & 0 & 0 & 0 & 0 & 0 & 0 & 0 & 0 & 0 & 0 & 1 & 0 & 0 & 0 & 0 & 0 & 0 & 0 & 0 & 0 & 0 & 0 & 0 & 0 \\\\\n",
       "0 & 0 & 0 & 0 & 0 & 0 & 0 & 0 & 0 & 0 & 0 & 0 & 0 & 0 & 0 & 0 & 0 & 1 & 0 & 0 & 0 & 0 & 0 & 0 & 0 & 0 & 0 & 0 & 0 & 0 \\\\\n",
       "0 & 0 & 0 & 0 & 0 & 0 & 0 & 0 & 0 & 0 & 0 & 0 & 0 & 0 & 0 & 0 & 0 & 0 & 1 & 0 & 0 & 0 & 0 & 0 & 0 & 0 & 0 & 0 & 0 & 0 \\\\\n",
       "0 & 0 & 0 & 0 & 0 & 0 & 0 & 0 & 0 & 0 & 0 & 0 & 0 & 0 & 0 & 0 & 0 & 0 & 0 & 1 & 0 & 0 & 0 & 0 & 0 & 0 & 0 & 0 & 0 & 0 \\\\\n",
       "0 & 0 & 0 & 0 & 0 & 0 & 0 & 0 & 0 & 0 & 0 & 0 & 0 & 0 & 0 & 0 & 0 & 0 & 0 & 0 & 1 & 0 & 0 & 0 & 0 & 0 & 0 & 0 & 0 & 0 \\\\\n",
       "0 & 0 & 0 & 0 & 0 & 0 & 0 & 0 & 0 & 0 & 0 & 0 & 0 & 0 & 0 & 0 & 0 & 0 & 0 & 0 & 0 & 1 & 0 & 0 & 0 & 0 & 0 & 0 & 0 & 0 \\\\\n",
       "0 & 0 & 0 & 0 & 0 & 0 & 0 & 0 & 0 & 0 & 0 & 0 & 0 & 0 & 0 & 0 & 0 & 0 & 0 & 0 & 0 & 0 & 1 & 0 & 0 & 0 & 0 & 0 & 0 & 0 \\\\\n",
       "0 & 0 & 0 & 0 & 0 & 0 & 0 & 0 & 0 & 0 & 0 & 0 & 0 & 0 & 0 & 0 & 0 & 0 & 0 & 0 & 0 & 0 & 0 & 1 & 0 & 0 & 0 & 0 & 0 & 0 \\\\\n",
       "0 & 0 & 0 & 0 & 0 & 0 & 0 & 0 & 0 & 0 & 0 & 0 & 0 & 0 & 0 & 0 & 0 & 0 & 0 & 0 & 0 & 0 & 0 & 0 & 1 & 0 & 0 & 0 & 0 & 0 \\\\\n",
       "0 & 0 & 0 & 0 & 0 & 0 & 0 & 0 & 0 & 0 & 0 & 0 & 0 & 0 & 0 & 0 & 0 & 0 & 0 & 0 & 0 & 0 & 0 & 0 & 0 & 1 & 0 & 0 & 0 & 0 \\\\\n",
       "0 & 0 & 0 & 0 & 0 & 0 & 0 & 0 & 0 & 0 & 0 & 0 & 0 & 0 & 0 & 0 & 0 & 0 & 0 & 0 & 0 & 0 & 0 & 0 & 0 & 0 & 1 & 0 & 0 & 0 \\\\\n",
       "0 & 0 & 0 & 0 & 0 & 0 & 0 & 0 & 0 & 0 & 0 & 0 & 0 & 0 & 0 & 0 & 0 & 0 & 0 & 0 & 0 & 0 & 0 & 0 & 0 & 0 & 0 & 1 & 0 & 0 \\\\\n",
       "0 & 0 & 0 & 0 & 0 & 0 & 0 & 0 & 0 & 0 & 0 & 0 & 0 & 0 & 0 & 0 & 0 & 0 & 0 & 0 & 0 & 0 & 0 & 0 & 0 & 0 & 0 & 0 & 1 & 0 \\\\\n",
       "0 & 0 & 0 & 0 & 0 & 0 & 0 & 0 & 0 & 0 & 0 & 0 & 0 & 0 & 0 & 0 & 0 & 0 & 0 & 0 & 0 & 0 & 0 & 0 & 0 & 0 & 0 & 0 & 0 & 1\n",
       "\\end{array}\\right)$"
      ],
      "text/plain": [
       "30 x 30 dense matrix over Rational Field (use the '.str()' method to see the entries)"
      ]
     },
     "execution_count": 8,
     "metadata": {
     },
     "output_type": "execute_result"
    },
    {
     "name": "stdout",
     "output_type": "stream",
     "text": [
      "Sage-implemented Reduced Row Echelon Form:\n"
     ]
    },
    {
     "data": {
      "text/html": [
       "<html>\\(\\displaystyle \\left(\\begin{array}{rrrrrrrrrrrrrrrrrrrrrrrrrrrrrr}\n",
       "1 & 0 & 0 & 0 & 0 & 0 & 0 & 0 & 0 & 0 & 0 & 0 & 0 & 0 & 0 & 0 & 0 & 0 & 0 & 0 & 0 & 0 & 0 & 0 & 0 & 0 & 0 & 0 & 0 & 0 \\\\\n",
       "0 & 1 & 0 & 0 & 0 & 0 & 0 & 0 & 0 & 0 & 0 & 0 & 0 & 0 & 0 & 0 & 0 & 0 & 0 & 0 & 0 & 0 & 0 & 0 & 0 & 0 & 0 & 0 & 0 & 0 \\\\\n",
       "0 & 0 & 1 & 0 & 0 & 0 & 0 & 0 & 0 & 0 & 0 & 0 & 0 & 0 & 0 & 0 & 0 & 0 & 0 & 0 & 0 & 0 & 0 & 0 & 0 & 0 & 0 & 0 & 0 & 0 \\\\\n",
       "0 & 0 & 0 & 1 & 0 & 0 & 0 & 0 & 0 & 0 & 0 & 0 & 0 & 0 & 0 & 0 & 0 & 0 & 0 & 0 & 0 & 0 & 0 & 0 & 0 & 0 & 0 & 0 & 0 & 0 \\\\\n",
       "0 & 0 & 0 & 0 & 1 & 0 & 0 & 0 & 0 & 0 & 0 & 0 & 0 & 0 & 0 & 0 & 0 & 0 & 0 & 0 & 0 & 0 & 0 & 0 & 0 & 0 & 0 & 0 & 0 & 0 \\\\\n",
       "0 & 0 & 0 & 0 & 0 & 1 & 0 & 0 & 0 & 0 & 0 & 0 & 0 & 0 & 0 & 0 & 0 & 0 & 0 & 0 & 0 & 0 & 0 & 0 & 0 & 0 & 0 & 0 & 0 & 0 \\\\\n",
       "0 & 0 & 0 & 0 & 0 & 0 & 1 & 0 & 0 & 0 & 0 & 0 & 0 & 0 & 0 & 0 & 0 & 0 & 0 & 0 & 0 & 0 & 0 & 0 & 0 & 0 & 0 & 0 & 0 & 0 \\\\\n",
       "0 & 0 & 0 & 0 & 0 & 0 & 0 & 1 & 0 & 0 & 0 & 0 & 0 & 0 & 0 & 0 & 0 & 0 & 0 & 0 & 0 & 0 & 0 & 0 & 0 & 0 & 0 & 0 & 0 & 0 \\\\\n",
       "0 & 0 & 0 & 0 & 0 & 0 & 0 & 0 & 1 & 0 & 0 & 0 & 0 & 0 & 0 & 0 & 0 & 0 & 0 & 0 & 0 & 0 & 0 & 0 & 0 & 0 & 0 & 0 & 0 & 0 \\\\\n",
       "0 & 0 & 0 & 0 & 0 & 0 & 0 & 0 & 0 & 1 & 0 & 0 & 0 & 0 & 0 & 0 & 0 & 0 & 0 & 0 & 0 & 0 & 0 & 0 & 0 & 0 & 0 & 0 & 0 & 0 \\\\\n",
       "0 & 0 & 0 & 0 & 0 & 0 & 0 & 0 & 0 & 0 & 1 & 0 & 0 & 0 & 0 & 0 & 0 & 0 & 0 & 0 & 0 & 0 & 0 & 0 & 0 & 0 & 0 & 0 & 0 & 0 \\\\\n",
       "0 & 0 & 0 & 0 & 0 & 0 & 0 & 0 & 0 & 0 & 0 & 1 & 0 & 0 & 0 & 0 & 0 & 0 & 0 & 0 & 0 & 0 & 0 & 0 & 0 & 0 & 0 & 0 & 0 & 0 \\\\\n",
       "0 & 0 & 0 & 0 & 0 & 0 & 0 & 0 & 0 & 0 & 0 & 0 & 1 & 0 & 0 & 0 & 0 & 0 & 0 & 0 & 0 & 0 & 0 & 0 & 0 & 0 & 0 & 0 & 0 & 0 \\\\\n",
       "0 & 0 & 0 & 0 & 0 & 0 & 0 & 0 & 0 & 0 & 0 & 0 & 0 & 1 & 0 & 0 & 0 & 0 & 0 & 0 & 0 & 0 & 0 & 0 & 0 & 0 & 0 & 0 & 0 & 0 \\\\\n",
       "0 & 0 & 0 & 0 & 0 & 0 & 0 & 0 & 0 & 0 & 0 & 0 & 0 & 0 & 1 & 0 & 0 & 0 & 0 & 0 & 0 & 0 & 0 & 0 & 0 & 0 & 0 & 0 & 0 & 0 \\\\\n",
       "0 & 0 & 0 & 0 & 0 & 0 & 0 & 0 & 0 & 0 & 0 & 0 & 0 & 0 & 0 & 1 & 0 & 0 & 0 & 0 & 0 & 0 & 0 & 0 & 0 & 0 & 0 & 0 & 0 & 0 \\\\\n",
       "0 & 0 & 0 & 0 & 0 & 0 & 0 & 0 & 0 & 0 & 0 & 0 & 0 & 0 & 0 & 0 & 1 & 0 & 0 & 0 & 0 & 0 & 0 & 0 & 0 & 0 & 0 & 0 & 0 & 0 \\\\\n",
       "0 & 0 & 0 & 0 & 0 & 0 & 0 & 0 & 0 & 0 & 0 & 0 & 0 & 0 & 0 & 0 & 0 & 1 & 0 & 0 & 0 & 0 & 0 & 0 & 0 & 0 & 0 & 0 & 0 & 0 \\\\\n",
       "0 & 0 & 0 & 0 & 0 & 0 & 0 & 0 & 0 & 0 & 0 & 0 & 0 & 0 & 0 & 0 & 0 & 0 & 1 & 0 & 0 & 0 & 0 & 0 & 0 & 0 & 0 & 0 & 0 & 0 \\\\\n",
       "0 & 0 & 0 & 0 & 0 & 0 & 0 & 0 & 0 & 0 & 0 & 0 & 0 & 0 & 0 & 0 & 0 & 0 & 0 & 1 & 0 & 0 & 0 & 0 & 0 & 0 & 0 & 0 & 0 & 0 \\\\\n",
       "0 & 0 & 0 & 0 & 0 & 0 & 0 & 0 & 0 & 0 & 0 & 0 & 0 & 0 & 0 & 0 & 0 & 0 & 0 & 0 & 1 & 0 & 0 & 0 & 0 & 0 & 0 & 0 & 0 & 0 \\\\\n",
       "0 & 0 & 0 & 0 & 0 & 0 & 0 & 0 & 0 & 0 & 0 & 0 & 0 & 0 & 0 & 0 & 0 & 0 & 0 & 0 & 0 & 1 & 0 & 0 & 0 & 0 & 0 & 0 & 0 & 0 \\\\\n",
       "0 & 0 & 0 & 0 & 0 & 0 & 0 & 0 & 0 & 0 & 0 & 0 & 0 & 0 & 0 & 0 & 0 & 0 & 0 & 0 & 0 & 0 & 1 & 0 & 0 & 0 & 0 & 0 & 0 & 0 \\\\\n",
       "0 & 0 & 0 & 0 & 0 & 0 & 0 & 0 & 0 & 0 & 0 & 0 & 0 & 0 & 0 & 0 & 0 & 0 & 0 & 0 & 0 & 0 & 0 & 1 & 0 & 0 & 0 & 0 & 0 & 0 \\\\\n",
       "0 & 0 & 0 & 0 & 0 & 0 & 0 & 0 & 0 & 0 & 0 & 0 & 0 & 0 & 0 & 0 & 0 & 0 & 0 & 0 & 0 & 0 & 0 & 0 & 1 & 0 & 0 & 0 & 0 & 0 \\\\\n",
       "0 & 0 & 0 & 0 & 0 & 0 & 0 & 0 & 0 & 0 & 0 & 0 & 0 & 0 & 0 & 0 & 0 & 0 & 0 & 0 & 0 & 0 & 0 & 0 & 0 & 1 & 0 & 0 & 0 & 0 \\\\\n",
       "0 & 0 & 0 & 0 & 0 & 0 & 0 & 0 & 0 & 0 & 0 & 0 & 0 & 0 & 0 & 0 & 0 & 0 & 0 & 0 & 0 & 0 & 0 & 0 & 0 & 0 & 1 & 0 & 0 & 0 \\\\\n",
       "0 & 0 & 0 & 0 & 0 & 0 & 0 & 0 & 0 & 0 & 0 & 0 & 0 & 0 & 0 & 0 & 0 & 0 & 0 & 0 & 0 & 0 & 0 & 0 & 0 & 0 & 0 & 1 & 0 & 0 \\\\\n",
       "0 & 0 & 0 & 0 & 0 & 0 & 0 & 0 & 0 & 0 & 0 & 0 & 0 & 0 & 0 & 0 & 0 & 0 & 0 & 0 & 0 & 0 & 0 & 0 & 0 & 0 & 0 & 0 & 1 & 0 \\\\\n",
       "0 & 0 & 0 & 0 & 0 & 0 & 0 & 0 & 0 & 0 & 0 & 0 & 0 & 0 & 0 & 0 & 0 & 0 & 0 & 0 & 0 & 0 & 0 & 0 & 0 & 0 & 0 & 0 & 0 & 1\n",
       "\\end{array}\\right)\\)</html>"
      ],
      "text/latex": [
       "$\\displaystyle \\left(\\begin{array}{rrrrrrrrrrrrrrrrrrrrrrrrrrrrrr}\n",
       "1 & 0 & 0 & 0 & 0 & 0 & 0 & 0 & 0 & 0 & 0 & 0 & 0 & 0 & 0 & 0 & 0 & 0 & 0 & 0 & 0 & 0 & 0 & 0 & 0 & 0 & 0 & 0 & 0 & 0 \\\\\n",
       "0 & 1 & 0 & 0 & 0 & 0 & 0 & 0 & 0 & 0 & 0 & 0 & 0 & 0 & 0 & 0 & 0 & 0 & 0 & 0 & 0 & 0 & 0 & 0 & 0 & 0 & 0 & 0 & 0 & 0 \\\\\n",
       "0 & 0 & 1 & 0 & 0 & 0 & 0 & 0 & 0 & 0 & 0 & 0 & 0 & 0 & 0 & 0 & 0 & 0 & 0 & 0 & 0 & 0 & 0 & 0 & 0 & 0 & 0 & 0 & 0 & 0 \\\\\n",
       "0 & 0 & 0 & 1 & 0 & 0 & 0 & 0 & 0 & 0 & 0 & 0 & 0 & 0 & 0 & 0 & 0 & 0 & 0 & 0 & 0 & 0 & 0 & 0 & 0 & 0 & 0 & 0 & 0 & 0 \\\\\n",
       "0 & 0 & 0 & 0 & 1 & 0 & 0 & 0 & 0 & 0 & 0 & 0 & 0 & 0 & 0 & 0 & 0 & 0 & 0 & 0 & 0 & 0 & 0 & 0 & 0 & 0 & 0 & 0 & 0 & 0 \\\\\n",
       "0 & 0 & 0 & 0 & 0 & 1 & 0 & 0 & 0 & 0 & 0 & 0 & 0 & 0 & 0 & 0 & 0 & 0 & 0 & 0 & 0 & 0 & 0 & 0 & 0 & 0 & 0 & 0 & 0 & 0 \\\\\n",
       "0 & 0 & 0 & 0 & 0 & 0 & 1 & 0 & 0 & 0 & 0 & 0 & 0 & 0 & 0 & 0 & 0 & 0 & 0 & 0 & 0 & 0 & 0 & 0 & 0 & 0 & 0 & 0 & 0 & 0 \\\\\n",
       "0 & 0 & 0 & 0 & 0 & 0 & 0 & 1 & 0 & 0 & 0 & 0 & 0 & 0 & 0 & 0 & 0 & 0 & 0 & 0 & 0 & 0 & 0 & 0 & 0 & 0 & 0 & 0 & 0 & 0 \\\\\n",
       "0 & 0 & 0 & 0 & 0 & 0 & 0 & 0 & 1 & 0 & 0 & 0 & 0 & 0 & 0 & 0 & 0 & 0 & 0 & 0 & 0 & 0 & 0 & 0 & 0 & 0 & 0 & 0 & 0 & 0 \\\\\n",
       "0 & 0 & 0 & 0 & 0 & 0 & 0 & 0 & 0 & 1 & 0 & 0 & 0 & 0 & 0 & 0 & 0 & 0 & 0 & 0 & 0 & 0 & 0 & 0 & 0 & 0 & 0 & 0 & 0 & 0 \\\\\n",
       "0 & 0 & 0 & 0 & 0 & 0 & 0 & 0 & 0 & 0 & 1 & 0 & 0 & 0 & 0 & 0 & 0 & 0 & 0 & 0 & 0 & 0 & 0 & 0 & 0 & 0 & 0 & 0 & 0 & 0 \\\\\n",
       "0 & 0 & 0 & 0 & 0 & 0 & 0 & 0 & 0 & 0 & 0 & 1 & 0 & 0 & 0 & 0 & 0 & 0 & 0 & 0 & 0 & 0 & 0 & 0 & 0 & 0 & 0 & 0 & 0 & 0 \\\\\n",
       "0 & 0 & 0 & 0 & 0 & 0 & 0 & 0 & 0 & 0 & 0 & 0 & 1 & 0 & 0 & 0 & 0 & 0 & 0 & 0 & 0 & 0 & 0 & 0 & 0 & 0 & 0 & 0 & 0 & 0 \\\\\n",
       "0 & 0 & 0 & 0 & 0 & 0 & 0 & 0 & 0 & 0 & 0 & 0 & 0 & 1 & 0 & 0 & 0 & 0 & 0 & 0 & 0 & 0 & 0 & 0 & 0 & 0 & 0 & 0 & 0 & 0 \\\\\n",
       "0 & 0 & 0 & 0 & 0 & 0 & 0 & 0 & 0 & 0 & 0 & 0 & 0 & 0 & 1 & 0 & 0 & 0 & 0 & 0 & 0 & 0 & 0 & 0 & 0 & 0 & 0 & 0 & 0 & 0 \\\\\n",
       "0 & 0 & 0 & 0 & 0 & 0 & 0 & 0 & 0 & 0 & 0 & 0 & 0 & 0 & 0 & 1 & 0 & 0 & 0 & 0 & 0 & 0 & 0 & 0 & 0 & 0 & 0 & 0 & 0 & 0 \\\\\n",
       "0 & 0 & 0 & 0 & 0 & 0 & 0 & 0 & 0 & 0 & 0 & 0 & 0 & 0 & 0 & 0 & 1 & 0 & 0 & 0 & 0 & 0 & 0 & 0 & 0 & 0 & 0 & 0 & 0 & 0 \\\\\n",
       "0 & 0 & 0 & 0 & 0 & 0 & 0 & 0 & 0 & 0 & 0 & 0 & 0 & 0 & 0 & 0 & 0 & 1 & 0 & 0 & 0 & 0 & 0 & 0 & 0 & 0 & 0 & 0 & 0 & 0 \\\\\n",
       "0 & 0 & 0 & 0 & 0 & 0 & 0 & 0 & 0 & 0 & 0 & 0 & 0 & 0 & 0 & 0 & 0 & 0 & 1 & 0 & 0 & 0 & 0 & 0 & 0 & 0 & 0 & 0 & 0 & 0 \\\\\n",
       "0 & 0 & 0 & 0 & 0 & 0 & 0 & 0 & 0 & 0 & 0 & 0 & 0 & 0 & 0 & 0 & 0 & 0 & 0 & 1 & 0 & 0 & 0 & 0 & 0 & 0 & 0 & 0 & 0 & 0 \\\\\n",
       "0 & 0 & 0 & 0 & 0 & 0 & 0 & 0 & 0 & 0 & 0 & 0 & 0 & 0 & 0 & 0 & 0 & 0 & 0 & 0 & 1 & 0 & 0 & 0 & 0 & 0 & 0 & 0 & 0 & 0 \\\\\n",
       "0 & 0 & 0 & 0 & 0 & 0 & 0 & 0 & 0 & 0 & 0 & 0 & 0 & 0 & 0 & 0 & 0 & 0 & 0 & 0 & 0 & 1 & 0 & 0 & 0 & 0 & 0 & 0 & 0 & 0 \\\\\n",
       "0 & 0 & 0 & 0 & 0 & 0 & 0 & 0 & 0 & 0 & 0 & 0 & 0 & 0 & 0 & 0 & 0 & 0 & 0 & 0 & 0 & 0 & 1 & 0 & 0 & 0 & 0 & 0 & 0 & 0 \\\\\n",
       "0 & 0 & 0 & 0 & 0 & 0 & 0 & 0 & 0 & 0 & 0 & 0 & 0 & 0 & 0 & 0 & 0 & 0 & 0 & 0 & 0 & 0 & 0 & 1 & 0 & 0 & 0 & 0 & 0 & 0 \\\\\n",
       "0 & 0 & 0 & 0 & 0 & 0 & 0 & 0 & 0 & 0 & 0 & 0 & 0 & 0 & 0 & 0 & 0 & 0 & 0 & 0 & 0 & 0 & 0 & 0 & 1 & 0 & 0 & 0 & 0 & 0 \\\\\n",
       "0 & 0 & 0 & 0 & 0 & 0 & 0 & 0 & 0 & 0 & 0 & 0 & 0 & 0 & 0 & 0 & 0 & 0 & 0 & 0 & 0 & 0 & 0 & 0 & 0 & 1 & 0 & 0 & 0 & 0 \\\\\n",
       "0 & 0 & 0 & 0 & 0 & 0 & 0 & 0 & 0 & 0 & 0 & 0 & 0 & 0 & 0 & 0 & 0 & 0 & 0 & 0 & 0 & 0 & 0 & 0 & 0 & 0 & 1 & 0 & 0 & 0 \\\\\n",
       "0 & 0 & 0 & 0 & 0 & 0 & 0 & 0 & 0 & 0 & 0 & 0 & 0 & 0 & 0 & 0 & 0 & 0 & 0 & 0 & 0 & 0 & 0 & 0 & 0 & 0 & 0 & 1 & 0 & 0 \\\\\n",
       "0 & 0 & 0 & 0 & 0 & 0 & 0 & 0 & 0 & 0 & 0 & 0 & 0 & 0 & 0 & 0 & 0 & 0 & 0 & 0 & 0 & 0 & 0 & 0 & 0 & 0 & 0 & 0 & 1 & 0 \\\\\n",
       "0 & 0 & 0 & 0 & 0 & 0 & 0 & 0 & 0 & 0 & 0 & 0 & 0 & 0 & 0 & 0 & 0 & 0 & 0 & 0 & 0 & 0 & 0 & 0 & 0 & 0 & 0 & 0 & 0 & 1\n",
       "\\end{array}\\right)$"
      ],
      "text/plain": [
       "30 x 30 dense matrix over Rational Field (use the '.str()' method to see the entries)"
      ]
     },
     "execution_count": 8,
     "metadata": {
     },
     "output_type": "execute_result"
    },
    {
     "name": "stdout",
     "output_type": "stream",
     "text": [
      "Upper Triangular Form:\n"
     ]
    },
    {
     "data": {
      "text/html": [
       "<html>\\(\\displaystyle \\left(\\begin{array}{rrrrrrrrrrrrrrrrrrrrrrrrrrrrrr}\n",
       "5 & 53 & 81 & -48 & -42 & -13 & 4 & 7 & 2 & -9 & 97 & 17 & 42 & 41 & 71 & -17 & 10 & 26 & -9 & 10 & 72 & -59 & 12 & -26 & -71 & -67 & 10 & -46 & -16 & -98 \\\\\n",
       "0 & -413 & -480 & 343 & 388 & 92 & 41 & -65 & -17 & 9 & -751 & -47 & -329 & -279 & -493 & 141 & 16 & -258 & 64 & 13 & -559 & 385 & -126 & 215 & 566 & 383 & -117 & 232 & 111 & 700 \\\\\n",
       "0 & 0 & \\frac{103529}{2065} & \\frac{881}{59} & \\frac{253119}{2065} & \\frac{175296}{2065} & -\\frac{6509}{413} & -\\frac{53407}{2065} & -\\frac{17518}{413} & \\frac{13963}{413} & -\\frac{295971}{2065} & \\frac{60940}{413} & \\frac{11706}{295} & \\frac{126233}{2065} & \\frac{26272}{2065} & \\frac{125421}{2065} & \\frac{338279}{2065} & -\\frac{252033}{2065} & \\frac{27614}{413} & -\\frac{32188}{2065} & \\frac{52572}{2065} & -\\frac{21248}{295} & -\\frac{17618}{295} & \\frac{38426}{2065} & \\frac{34175}{413} & -\\frac{256946}{2065} & \\frac{110037}{2065} & \\frac{10789}{2065} & -\\frac{41586}{413} & \\frac{16779}{295} \\\\\n",
       "0 & 0 & 0 & -\\frac{10975289}{103529} & \\frac{2027199}{103529} & \\frac{3608449}{103529} & \\frac{8556048}{103529} & \\frac{36989}{103529} & \\frac{8034562}{103529} & \\frac{5638715}{103529} & \\frac{61706}{103529} & \\frac{14265024}{103529} & \\frac{1660286}{103529} & \\frac{9414822}{103529} & \\frac{6644009}{103529} & \\frac{6570098}{103529} & \\frac{15826742}{103529} & -\\frac{14147152}{103529} & \\frac{10854008}{103529} & \\frac{9042773}{103529} & \\frac{4993123}{103529} & -\\frac{6293074}{103529} & \\frac{4191497}{103529} & \\frac{8824522}{103529} & \\frac{11306534}{103529} & -\\frac{14850593}{103529} & \\frac{6054654}{103529} & -\\frac{8516999}{103529} & \\frac{5198325}{103529} & -\\frac{11932673}{103529} \\\\\n",
       "0 & 0 & 0 & 0 & -\\frac{9956516217}{10975289} & -\\frac{547619354}{844253} & -\\frac{685231409}{10975289} & \\frac{825020572}{10975289} & \\frac{1728779568}{10975289} & -\\frac{5114648774}{10975289} & \\frac{13279494252}{10975289} & -\\frac{12593687566}{10975289} & -\\frac{1828488481}{10975289} & -\\frac{6750416865}{10975289} & -\\frac{791584029}{10975289} & -\\frac{6165057633}{10975289} & -\\frac{15307775937}{10975289} & \\frac{12246041959}{10975289} & -\\frac{8219526314}{10975289} & \\frac{417146857}{10975289} & -\\frac{1728252706}{10975289} & \\frac{5663720376}{10975289} & \\frac{2819734223}{10975289} & -\\frac{4430560080}{10975289} & -\\frac{10793809648}{10975289} & \\frac{10239863934}{10975289} & -\\frac{6643059906}{10975289} & -\\frac{1562226982}{10975289} & \\frac{5628753240}{10975289} & -\\frac{4548656486}{10975289} \\\\\n",
       "0 & 0 & 0 & 0 & 0 & -\\frac{691780149214}{9956516217} & \\frac{1099109612528}{9956516217} & \\frac{2047486778825}{9956516217} & -\\frac{488936826937}{3318838739} & -\\frac{215551513798}{9956516217} & -\\frac{539950293527}{3318838739} & -\\frac{2552354663}{9956516217} & -\\frac{2370073381355}{9956516217} & \\frac{90440863773}{3318838739} & -\\frac{233486183235}{3318838739} & -\\frac{194240800587}{3318838739} & \\frac{314033181020}{3318838739} & \\frac{748717178324}{9956516217} & \\frac{744382585409}{9956516217} & -\\frac{360600648730}{9956516217} & -\\frac{1636479139262}{9956516217} & -\\frac{7156305815}{3318838739} & \\frac{322211323000}{9956516217} & \\frac{601254760266}{3318838739} & \\frac{1717924760728}{9956516217} & \\frac{311323447737}{3318838739} & -\\frac{81853579410}{3318838739} & \\frac{545858047936}{9956516217} & \\frac{214216799654}{3318838739} & \\frac{1619073747782}{9956516217} \\\\\n",
       "0 & 0 & 0 & 0 & 0 & 0 & -\\frac{13395136629557}{345890074607} & -\\frac{99245632294833}{691780149214} & \\frac{119044287761253}{691780149214} & -\\frac{3051959858306}{345890074607} & \\frac{99628676641675}{691780149214} & -\\frac{149337852821371}{691780149214} & \\frac{94188282821159}{691780149214} & -\\frac{4472620994253}{691780149214} & \\frac{29086718789019}{691780149214} & \\frac{4052557252631}{691780149214} & -\\frac{67556521206255}{345890074607} & -\\frac{9838174482195}{345890074607} & -\\frac{80816262418425}{691780149214} & \\frac{5152729013251}{49412867801} & \\frac{250744571298}{31444552237} & \\frac{28604060224249}{691780149214} & \\frac{4488734335139}{49412867801} & -\\frac{65510246120120}{345890074607} & -\\frac{3344185511466}{31444552237} & -\\frac{58556422641191}{691780149214} & \\frac{21054437724379}{345890074607} & -\\frac{27958924528456}{345890074607} & -\\frac{1907543211101}{31444552237} & -\\frac{40909841081537}{345890074607} \\\\\n",
       "0 & 0 & 0 & 0 & 0 & 0 & 0 & \\frac{3697640209571109}{26790273259114} & -\\frac{4153905821286947}{26790273259114} & \\frac{1078026234078315}{13395136629557} & \\frac{391625556252685}{26790273259114} & \\frac{13958568416070495}{26790273259114} & -\\frac{2935819921120921}{26790273259114} & \\frac{669076016740155}{26790273259114} & \\frac{1523200521380063}{26790273259114} & \\frac{734274229293525}{26790273259114} & \\frac{6404942892458160}{13395136629557} & -\\frac{503766183119845}{13395136629557} & \\frac{3759921203752931}{26790273259114} & -\\frac{3509666457358183}{13395136629557} & \\frac{4163483370037387}{13395136629557} & -\\frac{5546569688408911}{26790273259114} & -\\frac{2620398132537394}{13395136629557} & \\frac{4520959622164620}{13395136629557} & -\\frac{825419385202821}{13395136629557} & -\\frac{591204209734669}{26790273259114} & -\\frac{1342258587678598}{13395136629557} & \\frac{2051497820580309}{13395136629557} & \\frac{1772049126463964}{13395136629557} & -\\frac{760537642020035}{13395136629557} \\\\\n",
       "0 & 0 & 0 & 0 & 0 & 0 & 0 & 0 & -\\frac{155273847223234870}{1232546736523703} & \\frac{369272191105185173}{1232546736523703} & \\frac{292097786168690043}{1232546736523703} & \\frac{1618446548854578849}{1232546736523703} & -\\frac{7140647212022467}{1232546736523703} & -\\frac{51782143953779351}{1232546736523703} & \\frac{333555378462786495}{1232546736523703} & \\frac{139109512662560273}{1232546736523703} & \\frac{1396284541841193567}{1232546736523703} & -\\frac{171845659283344259}{1232546736523703} & \\frac{262226092754703072}{1232546736523703} & -\\frac{648752373139231841}{1232546736523703} & \\frac{1310083688379568634}{1232546736523703} & -\\frac{697266947445568456}{1232546736523703} & -\\frac{521673877782722821}{1232546736523703} & \\frac{744527209755009914}{1232546736523703} & -\\frac{492974646962785500}{1232546736523703} & -\\frac{273043404689446331}{1232546736523703} & -\\frac{354495801068425254}{1232546736523703} & \\frac{411472700564430695}{1232546736523703} & \\frac{509272601728212159}{1232546736523703} & -\\frac{422197317512434615}{1232546736523703} \\\\\n",
       "0 & 0 & 0 & 0 & 0 & 0 & 0 & 0 & 0 & -\\frac{1573153779722583761}{11944142094094990} & -\\frac{82924184584202885373}{155273847223234870} & -\\frac{166269910940233532829}{155273847223234870} & \\frac{1038632681148112899}{11944142094094990} & \\frac{26158765086469190991}{155273847223234870} & -\\frac{10109402760047389403}{31054769444646974} & \\frac{4981052452804327137}{155273847223234870} & -\\frac{147063602971478141577}{155273847223234870} & \\frac{25558469105371110379}{155273847223234870} & \\frac{4763252580746838459}{77636923611617435} & \\frac{91585766289161620101}{155273847223234870} & -\\frac{83954710615066132622}{77636923611617435} & \\frac{35818775029674752848}{77636923611617435} & \\frac{449899851629933249}{918780161084230} & -\\frac{46442801694337405982}{77636923611617435} & \\frac{9280587103450731969}{15527384722323487} & \\frac{45062394282934806781}{155273847223234870} & \\frac{35057118604591186242}{77636923611617435} & -\\frac{8050671850997722949}{31054769444646974} & -\\frac{74049668641456596479}{155273847223234870} & \\frac{12280305876383163725}{31054769444646974} \\\\\n",
       "0 & 0 & 0 & 0 & 0 & 0 & 0 & 0 & 0 & 0 & -\\frac{17365079100176793271669}{20450999136393588893} & -\\frac{35411159856038832254261}{20450999136393588893} & \\frac{239577254365126682523}{1573153779722583761} & \\frac{5986049204187838790668}{20450999136393588893} & -\\frac{9523383749651361736325}{20450999136393588893} & \\frac{1703645961664989782066}{20450999136393588893} & -\\frac{29958896144876198620855}{20450999136393588893} & \\frac{7970627412741079661262}{20450999136393588893} & \\frac{2478476771195543654509}{20450999136393588893} & \\frac{17234705221751510548271}{20450999136393588893} & -\\frac{33535082938003055291930}{20450999136393588893} & \\frac{10888066498888519056949}{20450999136393588893} & \\frac{1676425220091844172890}{1573153779722583761} & -\\frac{21594898521093121158761}{20450999136393588893} & \\frac{18647109036085052871144}{20450999136393588893} & \\frac{8615807329029517988409}{20450999136393588893} & \\frac{19605232410409311813440}{20450999136393588893} & -\\frac{7889533388302619099775}{20450999136393588893} & -\\frac{17558327351541527650467}{20450999136393588893} & \\frac{11437378663789105051818}{20450999136393588893} \\\\\n",
       "0 & 0 & 0 & 0 & 0 & 0 & 0 & 0 & 0 & 0 & 0 & -\\frac{21546483041084616064897943}{52095237300530379815007} & \\frac{1403822708345074523501872}{52095237300530379815007} & \\frac{2667814586322895830550373}{52095237300530379815007} & \\frac{756318413734865117488445}{52095237300530379815007} & -\\frac{1825645966929579316103369}{52095237300530379815007} & -\\frac{23444172970826475399538681}{52095237300530379815007} & \\frac{2087872768314315849357223}{17365079100176793271669} & -\\frac{2691109159602345041353679}{17365079100176793271669} & -\\frac{2070827493896518329907118}{52095237300530379815007} & -\\frac{3843492651800873409013892}{52095237300530379815007} & -\\frac{4995094750042409551908080}{52095237300530379815007} & \\frac{7541146934682575369403424}{17365079100176793271669} & -\\frac{20682256210411974945469216}{52095237300530379815007} & -\\frac{769112142796625158445589}{17365079100176793271669} & \\frac{5829562772831608272526087}{52095237300530379815007} & \\frac{3385028392584388925428375}{17365079100176793271669} & \\frac{428761900492304874606505}{52095237300530379815007} & -\\frac{4075472308451341214658862}{52095237300530379815007} & \\frac{1215866716586642109047108}{52095237300530379815007} \\\\\n",
       "0 & 0 & 0 & 0 & 0 & 0 & 0 & 0 & 0 & 0 & 0 & 0 & \\frac{1621421269114576152281313558}{21546483041084616064897943} & -\\frac{4049811198286725457308193352}{21546483041084616064897943} & \\frac{3962516357440340573563209670}{21546483041084616064897943} & -\\frac{1082140569637680977649758948}{21546483041084616064897943} & -\\frac{2211311783650426352268313890}{21546483041084616064897943} & -\\frac{999988985825264843695961060}{21546483041084616064897943} & -\\frac{7117571674995292167672292067}{21546483041084616064897943} & -\\frac{7001870034955353846389463961}{21546483041084616064897943} & \\frac{9332527653460385177911840967}{21546483041084616064897943} & -\\frac{5930450243176315659685756594}{21546483041084616064897943} & \\frac{4753820169909447170331996661}{21546483041084616064897943} & -\\frac{5444190150430457405050555208}{21546483041084616064897943} & -\\frac{6814970399146193797708537619}{21546483041084616064897943} & \\frac{1075908463310554087194734344}{21546483041084616064897943} & -\\frac{3327599928695711434247490064}{21546483041084616064897943} & \\frac{5060051491539833933689704562}{21546483041084616064897943} & \\frac{5137297595120840145007813366}{21546483041084616064897943} & -\\frac{546644111933869970235797654}{21546483041084616064897943} \\\\\n",
       "0 & 0 & 0 & 0 & 0 & 0 & 0 & 0 & 0 & 0 & 0 & 0 & 0 & -\\frac{16927513836979886367085154519}{27955539122665106073815751} & \\frac{227268419406410079962525105648}{810710634557288076140656779} & -\\frac{176402387192759235238709979061}{810710634557288076140656779} & \\frac{17995310755779157327445252}{4580286070945130373676027} & -\\frac{158744333969130856457177805991}{810710634557288076140656779} & -\\frac{23583545754915308438890523936}{27955539122665106073815751} & -\\frac{510789679549227438283937901995}{810710634557288076140656779} & \\frac{544023431131920856235689901935}{810710634557288076140656779} & -\\frac{196817290690235585121866511089}{810710634557288076140656779} & -\\frac{122239260020268684843325368898}{810710634557288076140656779} & -\\frac{177420837562325231162937154264}{810710634557288076140656779} & -\\frac{568279711285603389410963057884}{810710634557288076140656779} & -\\frac{50439331423703950438769522302}{810710634557288076140656779} & -\\frac{521814536292476752924829431559}{810710634557288076140656779} & \\frac{325250460874237622095099934975}{810710634557288076140656779} & \\frac{4737945512244814299856252159}{27955539122665106073815751} & \\frac{96733251131944627437170744132}{810710634557288076140656779} \\\\\n",
       "0 & 0 & 0 & 0 & 0 & 0 & 0 & 0 & 0 & 0 & 0 & 0 & 0 & 0 & \\frac{148869961677017898976470827318543}{490897901272416704645469481051} & -\\frac{21991979415578686741069634267097}{490897901272416704645469481051} & -\\frac{78705048783175280962742003204861}{490897901272416704645469481051} & \\frac{59077295049366320923085781003128}{490897901272416704645469481051} & \\frac{4461878374836918488943158603699}{33855027673959772734170309038} & -\\frac{200170858417925864562256023664121}{981795802544833409290938962102} & \\frac{321111986767532637212423744014863}{981795802544833409290938962102} & -\\frac{274555124951089263958079935387133}{490897901272416704645469481051} & \\frac{816888509834819337340815552266623}{981795802544833409290938962102} & -\\frac{94872332470569716232255593145917}{490897901272416704645469481051} & -\\frac{54681701360340419491486619352215}{981795802544833409290938962102} & \\frac{4057519883860601646649656021776}{490897901272416704645469481051} & \\frac{164527656596570599337067227736008}{490897901272416704645469481051} & \\frac{94332750136204213036505116319446}{490897901272416704645469481051} & \\frac{11478191101308044579440054563793}{16927513836979886367085154519} & -\\frac{106628220993366411493310544672071}{490897901272416704645469481051} \\\\\n",
       "0 & 0 & 0 & 0 & 0 & 0 & 0 & 0 & 0 & 0 & 0 & 0 & 0 & 0 & 0 & \\frac{2796300713363019387767328735660714}{148869961677017898976470827318543} & -\\frac{10952873364315795775358708034332522}{148869961677017898976470827318543} & \\frac{71840778593966400826451044220542610}{148869961677017898976470827318543} & \\frac{72730716484064378880282803777098098}{148869961677017898976470827318543} & \\frac{11652345250872228322075446821313175}{148869961677017898976470827318543} & -\\frac{6897599776978321111760291068088317}{148869961677017898976470827318543} & -\\frac{17891822685444283365762619757551079}{148869961677017898976470827318543} & \\frac{148023091790971425316510905542255234}{148869961677017898976470827318543} & -\\frac{22183913021698265199395548392341356}{148869961677017898976470827318543} & \\frac{54224055867266564302876934168485673}{148869961677017898976470827318543} & \\frac{36147809690464653610996448183854278}{148869961677017898976470827318543} & \\frac{92423383473123747919089570736162299}{148869961677017898976470827318543} & -\\frac{8602147214216168157352465276193810}{148869961677017898976470827318543} & \\frac{107312484946142709427040027557316502}{148869961677017898976470827318543} & -\\frac{27183177281160466112690187411542285}{148869961677017898976470827318543} \\\\\n",
       "0 & 0 & 0 & 0 & 0 & 0 & 0 & 0 & 0 & 0 & 0 & 0 & 0 & 0 & 0 & 0 & -\\frac{746856005096209128695833608514296373}{1398150356681509693883664367830357} & \\frac{6014366495051657527173280659531080650}{1398150356681509693883664367830357} & \\frac{3771578468139771769268060930836022239}{932100237787673129255776245220238} & \\frac{1285088841106115518031193030586485649}{2796300713363019387767328735660714} & -\\frac{660780892351046667619203030700903483}{2796300713363019387767328735660714} & -\\frac{1401188484189549874798413684741871402}{1398150356681509693883664367830357} & \\frac{24250143450926221758144160703457870491}{2796300713363019387767328735660714} & -\\frac{1940467366775076982728614709715129352}{1398150356681509693883664367830357} & \\frac{8193224759916082799225454386929458767}{2796300713363019387767328735660714} & \\frac{1024639991203359887428397395890744050}{466050118893836564627888122610119} & \\frac{2442381299300467982224671977331075254}{466050118893836564627888122610119} & -\\frac{540027669474344241372957752272604740}{1398150356681509693883664367830357} & \\frac{2902155706297756709065047819264955607}{466050118893836564627888122610119} & -\\frac{2189472699578382937040085888332627128}{1398150356681509693883664367830357} \\\\\n",
       "0 & 0 & 0 & 0 & 0 & 0 & 0 & 0 & 0 & 0 & 0 & 0 & 0 & 0 & 0 & 0 & 0 & \\frac{1907350324504887471147351068182769262418}{746856005096209128695833608514296373} & \\frac{1701301085240961334625452389233270644145}{746856005096209128695833608514296373} & \\frac{94416567473810474698150238165350012538}{746856005096209128695833608514296373} & -\\frac{198637526317403739657992318767087643531}{746856005096209128695833608514296373} & -\\frac{300898034725382620784494755507592825228}{746856005096209128695833608514296373} & \\frac{3343488539176737075651116681685818638613}{746856005096209128695833608514296373} & -\\frac{410812873710183603800018202624528096224}{746856005096209128695833608514296373} & \\frac{1320393458954940555484341524327516997816}{746856005096209128695833608514296373} & \\frac{866496361009852236197740459774814615407}{746856005096209128695833608514296373} & \\frac{2102229702084767012318351563791499108007}{746856005096209128695833608514296373} & -\\frac{262381367263209238968729694415172094053}{746856005096209128695833608514296373} & \\frac{2407629562527727797506920574613514293717}{746856005096209128695833608514296373} & -\\frac{510588412801718043991319160407450333606}{746856005096209128695833608514296373} \\\\\n",
       "0 & 0 & 0 & 0 & 0 & 0 & 0 & 0 & 0 & 0 & 0 & 0 & 0 & 0 & 0 & 0 & 0 & 0 & \\frac{224718917480964721070279917225460391645555}{1907350324504887471147351068182769262418} & \\frac{133520185600234174085027713983976016123685}{1907350324504887471147351068182769262418} & -\\frac{106458917841545922646661521946480485670686}{953675162252443735573675534091384631209} & -\\frac{368968560682364996878522605346930942463277}{1907350324504887471147351068182769262418} & \\frac{214923907118637716744066891693242778595625}{1907350324504887471147351068182769262418} & \\frac{49413772407525329345236254520172654019906}{953675162252443735573675534091384631209} & \\frac{93226435443955974704913176569408083507893}{1907350324504887471147351068182769262418} & -\\frac{282480852084590806136724740003753683823265}{1907350324504887471147351068182769262418} & \\frac{106278765615729421916441757162366796845837}{953675162252443735573675534091384631209} & -\\frac{244752833009747411517085935029028030686043}{1907350324504887471147351068182769262418} & \\frac{322107020693866238815963420782018437879501}{1907350324504887471147351068182769262418} & -\\frac{342121473136223087461600871394543187873047}{1907350324504887471147351068182769262418} \\\\\n",
       "0 & 0 & 0 & 0 & 0 & 0 & 0 & 0 & 0 & 0 & 0 & 0 & 0 & 0 & 0 & 0 & 0 & 0 & 0 & -\\frac{1832974303576434996226468036534625797384169}{29962522330795296142703988963394718886074} & \\frac{20104064963645299156499758065329959128436833}{149812611653976480713519944816973594430370} & -\\frac{22108586791988971166425807349566025804755897}{149812611653976480713519944816973594430370} & \\frac{3414533922650249528187639318087971748035186}{14981261165397648071351994481697359443037} & -\\frac{13173789246588715758815015575669403994780389}{74906305826988240356759972408486797215185} & -\\frac{4521243251126900566364320775506772907012787}{149812611653976480713519944816973594430370} & -\\frac{653564188535021662036673379013471315131669}{14981261165397648071351994481697359443037} & \\frac{54156459217170827761504704602739456484127229}{149812611653976480713519944816973594430370} & -\\frac{207843285634850497479069064541980603912829}{74906305826988240356759972408486797215185} & -\\frac{3405827391526382360605616762471394178085072}{74906305826988240356759972408486797215185} & -\\frac{42663362316064376974965289243655870366517147}{149812611653976480713519944816973594430370} \\\\\n",
       "0 & 0 & 0 & 0 & 0 & 0 & 0 & 0 & 0 & 0 & 0 & 0 & 0 & 0 & 0 & 0 & 0 & 0 & 0 & 0 & -\\frac{2057510629518586731337689484778535428113590244}{9164871517882174981132340182673128986920845} & -\\frac{1332456431663642783244178245074941650962788394}{9164871517882174981132340182673128986920845} & -\\frac{551869181011926703058658984315977182269942296}{1832974303576434996226468036534625797384169} & \\frac{1277869103117577894388402096654447094332101169}{9164871517882174981132340182673128986920845} & -\\frac{1208485268582060032375245483923638167914517594}{9164871517882174981132340182673128986920845} & -\\frac{92220751595398553832265554291489402595520656}{1832974303576434996226468036534625797384169} & -\\frac{2820894394864426997177958863069903217982427127}{9164871517882174981132340182673128986920845} & -\\frac{1400451349960895098629707201025198895649245746}{9164871517882174981132340182673128986920845} & \\frac{1380191271879417271991302012536910407270253177}{9164871517882174981132340182673128986920845} & \\frac{42091272557189381035417952956413127947347306}{9164871517882174981132340182673128986920845} \\\\\n",
       "0 & 0 & 0 & 0 & 0 & 0 & 0 & 0 & 0 & 0 & 0 & 0 & 0 & 0 & 0 & 0 & 0 & 0 & 0 & 0 & 0 & -\\frac{1212720771951816561511275701936393039496069333}{6881306453239420506146118678189081699376556} & \\frac{1002514534654108163940461905205862484056804249}{22364245973028116644974885704114515522973807} & \\frac{5162249121976259227099527640987499822176289211}{178913967784224933159799085632916124183790456} & -\\frac{18114432708486399735728000413730855269592449691}{89456983892112466579899542816458062091895228} & -\\frac{390639760035845262082715313699959063334750587}{3440653226619710253073059339094540849688278} & -\\frac{656940730358744558941010491002369033021516709}{178913967784224933159799085632916124183790456} & -\\frac{6796497309762846568474999794249404681753788989}{89456983892112466579899542816458062091895228} & \\frac{9745941785030373024897422232990320880701060687}{178913967784224933159799085632916124183790456} & \\frac{5763099765566920491237727500001810227296194041}{89456983892112466579899542816458062091895228} \\\\\n",
       "0 & 0 & 0 & 0 & 0 & 0 & 0 & 0 & 0 & 0 & 0 & 0 & 0 & 0 & 0 & 0 & 0 & 0 & 0 & 0 & 0 & 0 & -\\frac{182771640262516966191760606011347954696671619309093}{362603510813593151891871434878981518809324730567} & -\\frac{14732436791253515774064637481945028552296861245414}{362603510813593151891871434878981518809324730567} & -\\frac{540850149201742299098782695214499010140247992999426}{1087810532440779455675614304636944556427974191701} & \\frac{20134639229362235586005236024338871580844256960877}{83677733264675342744278023433611119725228783977} & \\frac{37204552460160049590007151547409380914679445328302}{1087810532440779455675614304636944556427974191701} & -\\frac{23730689531173829512726070298085085693572841346137}{362603510813593151891871434878981518809324730567} & -\\frac{316611151243996884881129440268924478595663617735947}{1087810532440779455675614304636944556427974191701} & \\frac{18598276891713746913684306732210937550059446039053}{120867836937864383963957144959660506269774910189} \\\\\n",
       "0 & 0 & 0 & 0 & 0 & 0 & 0 & 0 & 0 & 0 & 0 & 0 & 0 & 0 & 0 & 0 & 0 & 0 & 0 & 0 & 0 & 0 & 0 & \\frac{32553509138441682438849527196430469348828830584475891}{182771640262516966191760606011347954696671619309093} & \\frac{15649182710490913871791007867098910082036501268166946}{182771640262516966191760606011347954696671619309093} & -\\frac{24974306679813770280488921025198431325431726161788244}{182771640262516966191760606011347954696671619309093} & \\frac{1357391313563038920232499330417169261858084695413225}{182771640262516966191760606011347954696671619309093} & \\frac{1512021101315106467734523029743416314693041456945566}{182771640262516966191760606011347954696671619309093} & -\\frac{70951471272757544690274946281336624090666279181499792}{182771640262516966191760606011347954696671619309093} & \\frac{67022138372912982064007286517184488306888728072709550}{182771640262516966191760606011347954696671619309093} \\\\\n",
       "0 & 0 & 0 & 0 & 0 & 0 & 0 & 0 & 0 & 0 & 0 & 0 & 0 & 0 & 0 & 0 & 0 & 0 & 0 & 0 & 0 & 0 & 0 & 0 & -\\frac{22397598241340487476672878894998567428940012491328999357}{32553509138441682438849527196430469348828830584475891} & \\frac{9274231396794720192438371821116490255515454638878890435}{32553509138441682438849527196430469348828830584475891} & -\\frac{27993826601391292855102917163039696950818262275815048604}{32553509138441682438849527196430469348828830584475891} & -\\frac{910483668185032067450522293713568765385902374145235233}{32553509138441682438849527196430469348828830584475891} & \\frac{41118080972250824157281911648532983803117015798349904870}{32553509138441682438849527196430469348828830584475891} & \\frac{12262669587551611261843921286543823274078692629546927555}{32553509138441682438849527196430469348828830584475891} \\\\\n",
       "0 & 0 & 0 & 0 & 0 & 0 & 0 & 0 & 0 & 0 & 0 & 0 & 0 & 0 & 0 & 0 & 0 & 0 & 0 & 0 & 0 & 0 & 0 & 0 & 0 & \\frac{8576262828959666080834871714084604552540589547273282303528}{67192794724021462430018636684995702286820037473986998071} & -\\frac{41239338811940370536670292761238702516986933075238423901314}{67192794724021462430018636684995702286820037473986998071} & -\\frac{1910602895408706280614459520558935734350268407101431463743}{67192794724021462430018636684995702286820037473986998071} & \\frac{223167188803647171761243009823005721976880915648952235264907}{134385589448042924860037273369991404573640074947973996142} & -\\frac{1618264800518639581825323909256531340921432769098487984236}{2167509507226498788065117312419216202800646370128612841} \\\\\n",
       "0 & 0 & 0 & 0 & 0 & 0 & 0 & 0 & 0 & 0 & 0 & 0 & 0 & 0 & 0 & 0 & 0 & 0 & 0 & 0 & 0 & 0 & 0 & 0 & 0 & 0 & \\frac{69185375254644429101573239420345847104785568452043355459706}{1072032853619958260104358964260575569067573693409160287941} & \\frac{33910169742681127954547967839332619454051628535198753955627}{2144065707239916520208717928521151138135147386818320575882} & \\frac{1862552384999389971275804587021872592696390455303475562467139}{4288131414479833040417435857042302276270294773636641151764} & -\\frac{456541864905218894307399005478304879641889607115165419251215}{1072032853619958260104358964260575569067573693409160287941} \\\\\n",
       "0 & 0 & 0 & 0 & 0 & 0 & 0 & 0 & 0 & 0 & 0 & 0 & 0 & 0 & 0 & 0 & 0 & 0 & 0 & 0 & 0 & 0 & 0 & 0 & 0 & 0 & 0 & \\frac{20090245865502834811837477060207312050130558224759803780555347}{184494334012385144270861971787588925612761515872115614559216} & \\frac{2311490517057455412554318882960611043819046263811065757997159333}{1106966004074310865625171830725533553676569095232693687355296} & -\\frac{169403012879354055959459409979328142425523402224756166460388069}{92247167006192572135430985893794462806380757936057807279608} \\\\\n",
       "0 & 0 & 0 & 0 & 0 & 0 & 0 & 0 & 0 & 0 & 0 & 0 & 0 & 0 & 0 & 0 & 0 & 0 & 0 & 0 & 0 & 0 & 0 & 0 & 0 & 0 & 0 & 0 & -\\frac{246915330324133813346806789209425132234656207699880613056753735555}{120541475193017008871024862361243872300783349348558822683332082} & \\frac{41037308098501280696473877588334338251482523100199016117084758156}{20090245865502834811837477060207312050130558224759803780555347} \\\\\n",
       "0 & 0 & 0 & 0 & 0 & 0 & 0 & 0 & 0 & 0 & 0 & 0 & 0 & 0 & 0 & 0 & 0 & 0 & 0 & 0 & 0 & 0 & 0 & 0 & 0 & 0 & 0 & 0 & 0 & \\frac{11061257900815997375516923188249043428746148840607061417987307500501}{246915330324133813346806789209425132234656207699880613056753735555}\n",
       "\\end{array}\\right)\\)</html>"
      ],
      "text/latex": [
       "$\\displaystyle \\left(\\begin{array}{rrrrrrrrrrrrrrrrrrrrrrrrrrrrrr}\n",
       "5 & 53 & 81 & -48 & -42 & -13 & 4 & 7 & 2 & -9 & 97 & 17 & 42 & 41 & 71 & -17 & 10 & 26 & -9 & 10 & 72 & -59 & 12 & -26 & -71 & -67 & 10 & -46 & -16 & -98 \\\\\n",
       "0 & -413 & -480 & 343 & 388 & 92 & 41 & -65 & -17 & 9 & -751 & -47 & -329 & -279 & -493 & 141 & 16 & -258 & 64 & 13 & -559 & 385 & -126 & 215 & 566 & 383 & -117 & 232 & 111 & 700 \\\\\n",
       "0 & 0 & \\frac{103529}{2065} & \\frac{881}{59} & \\frac{253119}{2065} & \\frac{175296}{2065} & -\\frac{6509}{413} & -\\frac{53407}{2065} & -\\frac{17518}{413} & \\frac{13963}{413} & -\\frac{295971}{2065} & \\frac{60940}{413} & \\frac{11706}{295} & \\frac{126233}{2065} & \\frac{26272}{2065} & \\frac{125421}{2065} & \\frac{338279}{2065} & -\\frac{252033}{2065} & \\frac{27614}{413} & -\\frac{32188}{2065} & \\frac{52572}{2065} & -\\frac{21248}{295} & -\\frac{17618}{295} & \\frac{38426}{2065} & \\frac{34175}{413} & -\\frac{256946}{2065} & \\frac{110037}{2065} & \\frac{10789}{2065} & -\\frac{41586}{413} & \\frac{16779}{295} \\\\\n",
       "0 & 0 & 0 & -\\frac{10975289}{103529} & \\frac{2027199}{103529} & \\frac{3608449}{103529} & \\frac{8556048}{103529} & \\frac{36989}{103529} & \\frac{8034562}{103529} & \\frac{5638715}{103529} & \\frac{61706}{103529} & \\frac{14265024}{103529} & \\frac{1660286}{103529} & \\frac{9414822}{103529} & \\frac{6644009}{103529} & \\frac{6570098}{103529} & \\frac{15826742}{103529} & -\\frac{14147152}{103529} & \\frac{10854008}{103529} & \\frac{9042773}{103529} & \\frac{4993123}{103529} & -\\frac{6293074}{103529} & \\frac{4191497}{103529} & \\frac{8824522}{103529} & \\frac{11306534}{103529} & -\\frac{14850593}{103529} & \\frac{6054654}{103529} & -\\frac{8516999}{103529} & \\frac{5198325}{103529} & -\\frac{11932673}{103529} \\\\\n",
       "0 & 0 & 0 & 0 & -\\frac{9956516217}{10975289} & -\\frac{547619354}{844253} & -\\frac{685231409}{10975289} & \\frac{825020572}{10975289} & \\frac{1728779568}{10975289} & -\\frac{5114648774}{10975289} & \\frac{13279494252}{10975289} & -\\frac{12593687566}{10975289} & -\\frac{1828488481}{10975289} & -\\frac{6750416865}{10975289} & -\\frac{791584029}{10975289} & -\\frac{6165057633}{10975289} & -\\frac{15307775937}{10975289} & \\frac{12246041959}{10975289} & -\\frac{8219526314}{10975289} & \\frac{417146857}{10975289} & -\\frac{1728252706}{10975289} & \\frac{5663720376}{10975289} & \\frac{2819734223}{10975289} & -\\frac{4430560080}{10975289} & -\\frac{10793809648}{10975289} & \\frac{10239863934}{10975289} & -\\frac{6643059906}{10975289} & -\\frac{1562226982}{10975289} & \\frac{5628753240}{10975289} & -\\frac{4548656486}{10975289} \\\\\n",
       "0 & 0 & 0 & 0 & 0 & -\\frac{691780149214}{9956516217} & \\frac{1099109612528}{9956516217} & \\frac{2047486778825}{9956516217} & -\\frac{488936826937}{3318838739} & -\\frac{215551513798}{9956516217} & -\\frac{539950293527}{3318838739} & -\\frac{2552354663}{9956516217} & -\\frac{2370073381355}{9956516217} & \\frac{90440863773}{3318838739} & -\\frac{233486183235}{3318838739} & -\\frac{194240800587}{3318838739} & \\frac{314033181020}{3318838739} & \\frac{748717178324}{9956516217} & \\frac{744382585409}{9956516217} & -\\frac{360600648730}{9956516217} & -\\frac{1636479139262}{9956516217} & -\\frac{7156305815}{3318838739} & \\frac{322211323000}{9956516217} & \\frac{601254760266}{3318838739} & \\frac{1717924760728}{9956516217} & \\frac{311323447737}{3318838739} & -\\frac{81853579410}{3318838739} & \\frac{545858047936}{9956516217} & \\frac{214216799654}{3318838739} & \\frac{1619073747782}{9956516217} \\\\\n",
       "0 & 0 & 0 & 0 & 0 & 0 & -\\frac{13395136629557}{345890074607} & -\\frac{99245632294833}{691780149214} & \\frac{119044287761253}{691780149214} & -\\frac{3051959858306}{345890074607} & \\frac{99628676641675}{691780149214} & -\\frac{149337852821371}{691780149214} & \\frac{94188282821159}{691780149214} & -\\frac{4472620994253}{691780149214} & \\frac{29086718789019}{691780149214} & \\frac{4052557252631}{691780149214} & -\\frac{67556521206255}{345890074607} & -\\frac{9838174482195}{345890074607} & -\\frac{80816262418425}{691780149214} & \\frac{5152729013251}{49412867801} & \\frac{250744571298}{31444552237} & \\frac{28604060224249}{691780149214} & \\frac{4488734335139}{49412867801} & -\\frac{65510246120120}{345890074607} & -\\frac{3344185511466}{31444552237} & -\\frac{58556422641191}{691780149214} & \\frac{21054437724379}{345890074607} & -\\frac{27958924528456}{345890074607} & -\\frac{1907543211101}{31444552237} & -\\frac{40909841081537}{345890074607} \\\\\n",
       "0 & 0 & 0 & 0 & 0 & 0 & 0 & \\frac{3697640209571109}{26790273259114} & -\\frac{4153905821286947}{26790273259114} & \\frac{1078026234078315}{13395136629557} & \\frac{391625556252685}{26790273259114} & \\frac{13958568416070495}{26790273259114} & -\\frac{2935819921120921}{26790273259114} & \\frac{669076016740155}{26790273259114} & \\frac{1523200521380063}{26790273259114} & \\frac{734274229293525}{26790273259114} & \\frac{6404942892458160}{13395136629557} & -\\frac{503766183119845}{13395136629557} & \\frac{3759921203752931}{26790273259114} & -\\frac{3509666457358183}{13395136629557} & \\frac{4163483370037387}{13395136629557} & -\\frac{5546569688408911}{26790273259114} & -\\frac{2620398132537394}{13395136629557} & \\frac{4520959622164620}{13395136629557} & -\\frac{825419385202821}{13395136629557} & -\\frac{591204209734669}{26790273259114} & -\\frac{1342258587678598}{13395136629557} & \\frac{2051497820580309}{13395136629557} & \\frac{1772049126463964}{13395136629557} & -\\frac{760537642020035}{13395136629557} \\\\\n",
       "0 & 0 & 0 & 0 & 0 & 0 & 0 & 0 & -\\frac{155273847223234870}{1232546736523703} & \\frac{369272191105185173}{1232546736523703} & \\frac{292097786168690043}{1232546736523703} & \\frac{1618446548854578849}{1232546736523703} & -\\frac{7140647212022467}{1232546736523703} & -\\frac{51782143953779351}{1232546736523703} & \\frac{333555378462786495}{1232546736523703} & \\frac{139109512662560273}{1232546736523703} & \\frac{1396284541841193567}{1232546736523703} & -\\frac{171845659283344259}{1232546736523703} & \\frac{262226092754703072}{1232546736523703} & -\\frac{648752373139231841}{1232546736523703} & \\frac{1310083688379568634}{1232546736523703} & -\\frac{697266947445568456}{1232546736523703} & -\\frac{521673877782722821}{1232546736523703} & \\frac{744527209755009914}{1232546736523703} & -\\frac{492974646962785500}{1232546736523703} & -\\frac{273043404689446331}{1232546736523703} & -\\frac{354495801068425254}{1232546736523703} & \\frac{411472700564430695}{1232546736523703} & \\frac{509272601728212159}{1232546736523703} & -\\frac{422197317512434615}{1232546736523703} \\\\\n",
       "0 & 0 & 0 & 0 & 0 & 0 & 0 & 0 & 0 & -\\frac{1573153779722583761}{11944142094094990} & -\\frac{82924184584202885373}{155273847223234870} & -\\frac{166269910940233532829}{155273847223234870} & \\frac{1038632681148112899}{11944142094094990} & \\frac{26158765086469190991}{155273847223234870} & -\\frac{10109402760047389403}{31054769444646974} & \\frac{4981052452804327137}{155273847223234870} & -\\frac{147063602971478141577}{155273847223234870} & \\frac{25558469105371110379}{155273847223234870} & \\frac{4763252580746838459}{77636923611617435} & \\frac{91585766289161620101}{155273847223234870} & -\\frac{83954710615066132622}{77636923611617435} & \\frac{35818775029674752848}{77636923611617435} & \\frac{449899851629933249}{918780161084230} & -\\frac{46442801694337405982}{77636923611617435} & \\frac{9280587103450731969}{15527384722323487} & \\frac{45062394282934806781}{155273847223234870} & \\frac{35057118604591186242}{77636923611617435} & -\\frac{8050671850997722949}{31054769444646974} & -\\frac{74049668641456596479}{155273847223234870} & \\frac{12280305876383163725}{31054769444646974} \\\\\n",
       "0 & 0 & 0 & 0 & 0 & 0 & 0 & 0 & 0 & 0 & -\\frac{17365079100176793271669}{20450999136393588893} & -\\frac{35411159856038832254261}{20450999136393588893} & \\frac{239577254365126682523}{1573153779722583761} & \\frac{5986049204187838790668}{20450999136393588893} & -\\frac{9523383749651361736325}{20450999136393588893} & \\frac{1703645961664989782066}{20450999136393588893} & -\\frac{29958896144876198620855}{20450999136393588893} & \\frac{7970627412741079661262}{20450999136393588893} & \\frac{2478476771195543654509}{20450999136393588893} & \\frac{17234705221751510548271}{20450999136393588893} & -\\frac{33535082938003055291930}{20450999136393588893} & \\frac{10888066498888519056949}{20450999136393588893} & \\frac{1676425220091844172890}{1573153779722583761} & -\\frac{21594898521093121158761}{20450999136393588893} & \\frac{18647109036085052871144}{20450999136393588893} & \\frac{8615807329029517988409}{20450999136393588893} & \\frac{19605232410409311813440}{20450999136393588893} & -\\frac{7889533388302619099775}{20450999136393588893} & -\\frac{17558327351541527650467}{20450999136393588893} & \\frac{11437378663789105051818}{20450999136393588893} \\\\\n",
       "0 & 0 & 0 & 0 & 0 & 0 & 0 & 0 & 0 & 0 & 0 & -\\frac{21546483041084616064897943}{52095237300530379815007} & \\frac{1403822708345074523501872}{52095237300530379815007} & \\frac{2667814586322895830550373}{52095237300530379815007} & \\frac{756318413734865117488445}{52095237300530379815007} & -\\frac{1825645966929579316103369}{52095237300530379815007} & -\\frac{23444172970826475399538681}{52095237300530379815007} & \\frac{2087872768314315849357223}{17365079100176793271669} & -\\frac{2691109159602345041353679}{17365079100176793271669} & -\\frac{2070827493896518329907118}{52095237300530379815007} & -\\frac{3843492651800873409013892}{52095237300530379815007} & -\\frac{4995094750042409551908080}{52095237300530379815007} & \\frac{7541146934682575369403424}{17365079100176793271669} & -\\frac{20682256210411974945469216}{52095237300530379815007} & -\\frac{769112142796625158445589}{17365079100176793271669} & \\frac{5829562772831608272526087}{52095237300530379815007} & \\frac{3385028392584388925428375}{17365079100176793271669} & \\frac{428761900492304874606505}{52095237300530379815007} & -\\frac{4075472308451341214658862}{52095237300530379815007} & \\frac{1215866716586642109047108}{52095237300530379815007} \\\\\n",
       "0 & 0 & 0 & 0 & 0 & 0 & 0 & 0 & 0 & 0 & 0 & 0 & \\frac{1621421269114576152281313558}{21546483041084616064897943} & -\\frac{4049811198286725457308193352}{21546483041084616064897943} & \\frac{3962516357440340573563209670}{21546483041084616064897943} & -\\frac{1082140569637680977649758948}{21546483041084616064897943} & -\\frac{2211311783650426352268313890}{21546483041084616064897943} & -\\frac{999988985825264843695961060}{21546483041084616064897943} & -\\frac{7117571674995292167672292067}{21546483041084616064897943} & -\\frac{7001870034955353846389463961}{21546483041084616064897943} & \\frac{9332527653460385177911840967}{21546483041084616064897943} & -\\frac{5930450243176315659685756594}{21546483041084616064897943} & \\frac{4753820169909447170331996661}{21546483041084616064897943} & -\\frac{5444190150430457405050555208}{21546483041084616064897943} & -\\frac{6814970399146193797708537619}{21546483041084616064897943} & \\frac{1075908463310554087194734344}{21546483041084616064897943} & -\\frac{3327599928695711434247490064}{21546483041084616064897943} & \\frac{5060051491539833933689704562}{21546483041084616064897943} & \\frac{5137297595120840145007813366}{21546483041084616064897943} & -\\frac{546644111933869970235797654}{21546483041084616064897943} \\\\\n",
       "0 & 0 & 0 & 0 & 0 & 0 & 0 & 0 & 0 & 0 & 0 & 0 & 0 & -\\frac{16927513836979886367085154519}{27955539122665106073815751} & \\frac{227268419406410079962525105648}{810710634557288076140656779} & -\\frac{176402387192759235238709979061}{810710634557288076140656779} & \\frac{17995310755779157327445252}{4580286070945130373676027} & -\\frac{158744333969130856457177805991}{810710634557288076140656779} & -\\frac{23583545754915308438890523936}{27955539122665106073815751} & -\\frac{510789679549227438283937901995}{810710634557288076140656779} & \\frac{544023431131920856235689901935}{810710634557288076140656779} & -\\frac{196817290690235585121866511089}{810710634557288076140656779} & -\\frac{122239260020268684843325368898}{810710634557288076140656779} & -\\frac{177420837562325231162937154264}{810710634557288076140656779} & -\\frac{568279711285603389410963057884}{810710634557288076140656779} & -\\frac{50439331423703950438769522302}{810710634557288076140656779} & -\\frac{521814536292476752924829431559}{810710634557288076140656779} & \\frac{325250460874237622095099934975}{810710634557288076140656779} & \\frac{4737945512244814299856252159}{27955539122665106073815751} & \\frac{96733251131944627437170744132}{810710634557288076140656779} \\\\\n",
       "0 & 0 & 0 & 0 & 0 & 0 & 0 & 0 & 0 & 0 & 0 & 0 & 0 & 0 & \\frac{148869961677017898976470827318543}{490897901272416704645469481051} & -\\frac{21991979415578686741069634267097}{490897901272416704645469481051} & -\\frac{78705048783175280962742003204861}{490897901272416704645469481051} & \\frac{59077295049366320923085781003128}{490897901272416704645469481051} & \\frac{4461878374836918488943158603699}{33855027673959772734170309038} & -\\frac{200170858417925864562256023664121}{981795802544833409290938962102} & \\frac{321111986767532637212423744014863}{981795802544833409290938962102} & -\\frac{274555124951089263958079935387133}{490897901272416704645469481051} & \\frac{816888509834819337340815552266623}{981795802544833409290938962102} & -\\frac{94872332470569716232255593145917}{490897901272416704645469481051} & -\\frac{54681701360340419491486619352215}{981795802544833409290938962102} & \\frac{4057519883860601646649656021776}{490897901272416704645469481051} & \\frac{164527656596570599337067227736008}{490897901272416704645469481051} & \\frac{94332750136204213036505116319446}{490897901272416704645469481051} & \\frac{11478191101308044579440054563793}{16927513836979886367085154519} & -\\frac{106628220993366411493310544672071}{490897901272416704645469481051} \\\\\n",
       "0 & 0 & 0 & 0 & 0 & 0 & 0 & 0 & 0 & 0 & 0 & 0 & 0 & 0 & 0 & \\frac{2796300713363019387767328735660714}{148869961677017898976470827318543} & -\\frac{10952873364315795775358708034332522}{148869961677017898976470827318543} & \\frac{71840778593966400826451044220542610}{148869961677017898976470827318543} & \\frac{72730716484064378880282803777098098}{148869961677017898976470827318543} & \\frac{11652345250872228322075446821313175}{148869961677017898976470827318543} & -\\frac{6897599776978321111760291068088317}{148869961677017898976470827318543} & -\\frac{17891822685444283365762619757551079}{148869961677017898976470827318543} & \\frac{148023091790971425316510905542255234}{148869961677017898976470827318543} & -\\frac{22183913021698265199395548392341356}{148869961677017898976470827318543} & \\frac{54224055867266564302876934168485673}{148869961677017898976470827318543} & \\frac{36147809690464653610996448183854278}{148869961677017898976470827318543} & \\frac{92423383473123747919089570736162299}{148869961677017898976470827318543} & -\\frac{8602147214216168157352465276193810}{148869961677017898976470827318543} & \\frac{107312484946142709427040027557316502}{148869961677017898976470827318543} & -\\frac{27183177281160466112690187411542285}{148869961677017898976470827318543} \\\\\n",
       "0 & 0 & 0 & 0 & 0 & 0 & 0 & 0 & 0 & 0 & 0 & 0 & 0 & 0 & 0 & 0 & -\\frac{746856005096209128695833608514296373}{1398150356681509693883664367830357} & \\frac{6014366495051657527173280659531080650}{1398150356681509693883664367830357} & \\frac{3771578468139771769268060930836022239}{932100237787673129255776245220238} & \\frac{1285088841106115518031193030586485649}{2796300713363019387767328735660714} & -\\frac{660780892351046667619203030700903483}{2796300713363019387767328735660714} & -\\frac{1401188484189549874798413684741871402}{1398150356681509693883664367830357} & \\frac{24250143450926221758144160703457870491}{2796300713363019387767328735660714} & -\\frac{1940467366775076982728614709715129352}{1398150356681509693883664367830357} & \\frac{8193224759916082799225454386929458767}{2796300713363019387767328735660714} & \\frac{1024639991203359887428397395890744050}{466050118893836564627888122610119} & \\frac{2442381299300467982224671977331075254}{466050118893836564627888122610119} & -\\frac{540027669474344241372957752272604740}{1398150356681509693883664367830357} & \\frac{2902155706297756709065047819264955607}{466050118893836564627888122610119} & -\\frac{2189472699578382937040085888332627128}{1398150356681509693883664367830357} \\\\\n",
       "0 & 0 & 0 & 0 & 0 & 0 & 0 & 0 & 0 & 0 & 0 & 0 & 0 & 0 & 0 & 0 & 0 & \\frac{1907350324504887471147351068182769262418}{746856005096209128695833608514296373} & \\frac{1701301085240961334625452389233270644145}{746856005096209128695833608514296373} & \\frac{94416567473810474698150238165350012538}{746856005096209128695833608514296373} & -\\frac{198637526317403739657992318767087643531}{746856005096209128695833608514296373} & -\\frac{300898034725382620784494755507592825228}{746856005096209128695833608514296373} & \\frac{3343488539176737075651116681685818638613}{746856005096209128695833608514296373} & -\\frac{410812873710183603800018202624528096224}{746856005096209128695833608514296373} & \\frac{1320393458954940555484341524327516997816}{746856005096209128695833608514296373} & \\frac{866496361009852236197740459774814615407}{746856005096209128695833608514296373} & \\frac{2102229702084767012318351563791499108007}{746856005096209128695833608514296373} & -\\frac{262381367263209238968729694415172094053}{746856005096209128695833608514296373} & \\frac{2407629562527727797506920574613514293717}{746856005096209128695833608514296373} & -\\frac{510588412801718043991319160407450333606}{746856005096209128695833608514296373} \\\\\n",
       "0 & 0 & 0 & 0 & 0 & 0 & 0 & 0 & 0 & 0 & 0 & 0 & 0 & 0 & 0 & 0 & 0 & 0 & \\frac{224718917480964721070279917225460391645555}{1907350324504887471147351068182769262418} & \\frac{133520185600234174085027713983976016123685}{1907350324504887471147351068182769262418} & -\\frac{106458917841545922646661521946480485670686}{953675162252443735573675534091384631209} & -\\frac{368968560682364996878522605346930942463277}{1907350324504887471147351068182769262418} & \\frac{214923907118637716744066891693242778595625}{1907350324504887471147351068182769262418} & \\frac{49413772407525329345236254520172654019906}{953675162252443735573675534091384631209} & \\frac{93226435443955974704913176569408083507893}{1907350324504887471147351068182769262418} & -\\frac{282480852084590806136724740003753683823265}{1907350324504887471147351068182769262418} & \\frac{106278765615729421916441757162366796845837}{953675162252443735573675534091384631209} & -\\frac{244752833009747411517085935029028030686043}{1907350324504887471147351068182769262418} & \\frac{322107020693866238815963420782018437879501}{1907350324504887471147351068182769262418} & -\\frac{342121473136223087461600871394543187873047}{1907350324504887471147351068182769262418} \\\\\n",
       "0 & 0 & 0 & 0 & 0 & 0 & 0 & 0 & 0 & 0 & 0 & 0 & 0 & 0 & 0 & 0 & 0 & 0 & 0 & -\\frac{1832974303576434996226468036534625797384169}{29962522330795296142703988963394718886074} & \\frac{20104064963645299156499758065329959128436833}{149812611653976480713519944816973594430370} & -\\frac{22108586791988971166425807349566025804755897}{149812611653976480713519944816973594430370} & \\frac{3414533922650249528187639318087971748035186}{14981261165397648071351994481697359443037} & -\\frac{13173789246588715758815015575669403994780389}{74906305826988240356759972408486797215185} & -\\frac{4521243251126900566364320775506772907012787}{149812611653976480713519944816973594430370} & -\\frac{653564188535021662036673379013471315131669}{14981261165397648071351994481697359443037} & \\frac{54156459217170827761504704602739456484127229}{149812611653976480713519944816973594430370} & -\\frac{207843285634850497479069064541980603912829}{74906305826988240356759972408486797215185} & -\\frac{3405827391526382360605616762471394178085072}{74906305826988240356759972408486797215185} & -\\frac{42663362316064376974965289243655870366517147}{149812611653976480713519944816973594430370} \\\\\n",
       "0 & 0 & 0 & 0 & 0 & 0 & 0 & 0 & 0 & 0 & 0 & 0 & 0 & 0 & 0 & 0 & 0 & 0 & 0 & 0 & -\\frac{2057510629518586731337689484778535428113590244}{9164871517882174981132340182673128986920845} & -\\frac{1332456431663642783244178245074941650962788394}{9164871517882174981132340182673128986920845} & -\\frac{551869181011926703058658984315977182269942296}{1832974303576434996226468036534625797384169} & \\frac{1277869103117577894388402096654447094332101169}{9164871517882174981132340182673128986920845} & -\\frac{1208485268582060032375245483923638167914517594}{9164871517882174981132340182673128986920845} & -\\frac{92220751595398553832265554291489402595520656}{1832974303576434996226468036534625797384169} & -\\frac{2820894394864426997177958863069903217982427127}{9164871517882174981132340182673128986920845} & -\\frac{1400451349960895098629707201025198895649245746}{9164871517882174981132340182673128986920845} & \\frac{1380191271879417271991302012536910407270253177}{9164871517882174981132340182673128986920845} & \\frac{42091272557189381035417952956413127947347306}{9164871517882174981132340182673128986920845} \\\\\n",
       "0 & 0 & 0 & 0 & 0 & 0 & 0 & 0 & 0 & 0 & 0 & 0 & 0 & 0 & 0 & 0 & 0 & 0 & 0 & 0 & 0 & -\\frac{1212720771951816561511275701936393039496069333}{6881306453239420506146118678189081699376556} & \\frac{1002514534654108163940461905205862484056804249}{22364245973028116644974885704114515522973807} & \\frac{5162249121976259227099527640987499822176289211}{178913967784224933159799085632916124183790456} & -\\frac{18114432708486399735728000413730855269592449691}{89456983892112466579899542816458062091895228} & -\\frac{390639760035845262082715313699959063334750587}{3440653226619710253073059339094540849688278} & -\\frac{656940730358744558941010491002369033021516709}{178913967784224933159799085632916124183790456} & -\\frac{6796497309762846568474999794249404681753788989}{89456983892112466579899542816458062091895228} & \\frac{9745941785030373024897422232990320880701060687}{178913967784224933159799085632916124183790456} & \\frac{5763099765566920491237727500001810227296194041}{89456983892112466579899542816458062091895228} \\\\\n",
       "0 & 0 & 0 & 0 & 0 & 0 & 0 & 0 & 0 & 0 & 0 & 0 & 0 & 0 & 0 & 0 & 0 & 0 & 0 & 0 & 0 & 0 & -\\frac{182771640262516966191760606011347954696671619309093}{362603510813593151891871434878981518809324730567} & -\\frac{14732436791253515774064637481945028552296861245414}{362603510813593151891871434878981518809324730567} & -\\frac{540850149201742299098782695214499010140247992999426}{1087810532440779455675614304636944556427974191701} & \\frac{20134639229362235586005236024338871580844256960877}{83677733264675342744278023433611119725228783977} & \\frac{37204552460160049590007151547409380914679445328302}{1087810532440779455675614304636944556427974191701} & -\\frac{23730689531173829512726070298085085693572841346137}{362603510813593151891871434878981518809324730567} & -\\frac{316611151243996884881129440268924478595663617735947}{1087810532440779455675614304636944556427974191701} & \\frac{18598276891713746913684306732210937550059446039053}{120867836937864383963957144959660506269774910189} \\\\\n",
       "0 & 0 & 0 & 0 & 0 & 0 & 0 & 0 & 0 & 0 & 0 & 0 & 0 & 0 & 0 & 0 & 0 & 0 & 0 & 0 & 0 & 0 & 0 & \\frac{32553509138441682438849527196430469348828830584475891}{182771640262516966191760606011347954696671619309093} & \\frac{15649182710490913871791007867098910082036501268166946}{182771640262516966191760606011347954696671619309093} & -\\frac{24974306679813770280488921025198431325431726161788244}{182771640262516966191760606011347954696671619309093} & \\frac{1357391313563038920232499330417169261858084695413225}{182771640262516966191760606011347954696671619309093} & \\frac{1512021101315106467734523029743416314693041456945566}{182771640262516966191760606011347954696671619309093} & -\\frac{70951471272757544690274946281336624090666279181499792}{182771640262516966191760606011347954696671619309093} & \\frac{67022138372912982064007286517184488306888728072709550}{182771640262516966191760606011347954696671619309093} \\\\\n",
       "0 & 0 & 0 & 0 & 0 & 0 & 0 & 0 & 0 & 0 & 0 & 0 & 0 & 0 & 0 & 0 & 0 & 0 & 0 & 0 & 0 & 0 & 0 & 0 & -\\frac{22397598241340487476672878894998567428940012491328999357}{32553509138441682438849527196430469348828830584475891} & \\frac{9274231396794720192438371821116490255515454638878890435}{32553509138441682438849527196430469348828830584475891} & -\\frac{27993826601391292855102917163039696950818262275815048604}{32553509138441682438849527196430469348828830584475891} & -\\frac{910483668185032067450522293713568765385902374145235233}{32553509138441682438849527196430469348828830584475891} & \\frac{41118080972250824157281911648532983803117015798349904870}{32553509138441682438849527196430469348828830584475891} & \\frac{12262669587551611261843921286543823274078692629546927555}{32553509138441682438849527196430469348828830584475891} \\\\\n",
       "0 & 0 & 0 & 0 & 0 & 0 & 0 & 0 & 0 & 0 & 0 & 0 & 0 & 0 & 0 & 0 & 0 & 0 & 0 & 0 & 0 & 0 & 0 & 0 & 0 & \\frac{8576262828959666080834871714084604552540589547273282303528}{67192794724021462430018636684995702286820037473986998071} & -\\frac{41239338811940370536670292761238702516986933075238423901314}{67192794724021462430018636684995702286820037473986998071} & -\\frac{1910602895408706280614459520558935734350268407101431463743}{67192794724021462430018636684995702286820037473986998071} & \\frac{223167188803647171761243009823005721976880915648952235264907}{134385589448042924860037273369991404573640074947973996142} & -\\frac{1618264800518639581825323909256531340921432769098487984236}{2167509507226498788065117312419216202800646370128612841} \\\\\n",
       "0 & 0 & 0 & 0 & 0 & 0 & 0 & 0 & 0 & 0 & 0 & 0 & 0 & 0 & 0 & 0 & 0 & 0 & 0 & 0 & 0 & 0 & 0 & 0 & 0 & 0 & \\frac{69185375254644429101573239420345847104785568452043355459706}{1072032853619958260104358964260575569067573693409160287941} & \\frac{33910169742681127954547967839332619454051628535198753955627}{2144065707239916520208717928521151138135147386818320575882} & \\frac{1862552384999389971275804587021872592696390455303475562467139}{4288131414479833040417435857042302276270294773636641151764} & -\\frac{456541864905218894307399005478304879641889607115165419251215}{1072032853619958260104358964260575569067573693409160287941} \\\\\n",
       "0 & 0 & 0 & 0 & 0 & 0 & 0 & 0 & 0 & 0 & 0 & 0 & 0 & 0 & 0 & 0 & 0 & 0 & 0 & 0 & 0 & 0 & 0 & 0 & 0 & 0 & 0 & \\frac{20090245865502834811837477060207312050130558224759803780555347}{184494334012385144270861971787588925612761515872115614559216} & \\frac{2311490517057455412554318882960611043819046263811065757997159333}{1106966004074310865625171830725533553676569095232693687355296} & -\\frac{169403012879354055959459409979328142425523402224756166460388069}{92247167006192572135430985893794462806380757936057807279608} \\\\\n",
       "0 & 0 & 0 & 0 & 0 & 0 & 0 & 0 & 0 & 0 & 0 & 0 & 0 & 0 & 0 & 0 & 0 & 0 & 0 & 0 & 0 & 0 & 0 & 0 & 0 & 0 & 0 & 0 & -\\frac{246915330324133813346806789209425132234656207699880613056753735555}{120541475193017008871024862361243872300783349348558822683332082} & \\frac{41037308098501280696473877588334338251482523100199016117084758156}{20090245865502834811837477060207312050130558224759803780555347} \\\\\n",
       "0 & 0 & 0 & 0 & 0 & 0 & 0 & 0 & 0 & 0 & 0 & 0 & 0 & 0 & 0 & 0 & 0 & 0 & 0 & 0 & 0 & 0 & 0 & 0 & 0 & 0 & 0 & 0 & 0 & \\frac{11061257900815997375516923188249043428746148840607061417987307500501}{246915330324133813346806789209425132234656207699880613056753735555}\n",
       "\\end{array}\\right)$"
      ],
      "text/plain": [
       "30 x 30 dense matrix over Rational Field (use the '.str()' method to see the entries)"
      ]
     },
     "execution_count": 8,
     "metadata": {
     },
     "output_type": "execute_result"
    }
   ],
   "source": [
    "import random\n",
    "\n",
    "# Function to generate a random row of given size\n",
    "def generate_random_row(size):\n",
    "    return [random.randint(-100, 100) for _ in range(size)]\n",
    "\n",
    "print(\"Enter the size (n) of the quadratic matrix n x n:\")\n",
    "size = min(30, int(input(\"Enter a natural number defaults to 30 if above 30: \")))\n",
    "\n",
    "# Generate the 20x20 matrix with random entries\n",
    "B = Matrix(QQ, [generate_random_row(size) for _ in range(size)])\n",
    "\n",
    "\n",
    "print(\"Original Matrix:\")\n",
    "show(B)\n",
    "\n",
    "# Perform full Gaussian Elimination\n",
    "rref_matrix = full_gaussian_elimination_sage(B)\n",
    "\n",
    "print(\"Reduced Row Echelon Form:\")\n",
    "show(rref_matrix)\n",
    "print(\"Sage-implemented Reduced Row Echelon Form:\")\n",
    "show(B.echelon_form())\n",
    "\n",
    "\n",
    "# Perform Gaussian Elimination\n",
    "upper_triangular = gaussian_elimination_sage(B)\n",
    "\n",
    "print(\"Upper Triangular Form:\")\n",
    "\n",
    "show(upper_triangular)\n"
   ]
  },
  {
   "cell_type": "markdown",
   "metadata": {
    "collapsed": false
   },
   "source": [
   ]
  },
  {
   "cell_type": "markdown",
   "metadata": {
    "collapsed": false
   },
   "source": [
    "## Finding the inverse of a matrix\n",
    "\n"
   ]
  },
  {
   "cell_type": "markdown",
   "metadata": {
    "collapsed": false
   },
   "source": [
    "Yet another fun observation: if we insert another column on the right to our system,  $(a_{1\\ n+1}, a_{2\\ n+1} \\dots)^{T}$, the algorithm will treat it exactly as the previous column: after reducing the matrix to the echelon form, the column will have the solutions of the equation system with the same coefficients, but with different values, namely $(a_{1\\ n+1}, a_{2\\ n+1} \\dots)^{T}$, to the right of the \"=\".  Which means, we can solve any number of linear equation systems with the same coefficients at once. \n",
    "Since with one vector to the right, system solves $Ax=b$, then with many vectors to the right, we'll be able to solve to $AX=B$, where $B$ has several columns. If we realise only $A^{-1}$ solves $AX=I$, there's our algorithm to find the inserve! A pretty magic one.\n",
    "$$\n",
    "\\left(\n",
    "\\begin{array}{cccc|ccc}\n",
    "a_{11} & a_{12} & \\dots  & a_{1n}  &  &   \\\\\n",
    " &  & \\dots &  &    &  \\Huge{I} \\\\\n",
    "a_{m1} & a_{m2} & \\dots  & a_{mn} & &  &   \\\\\n",
    "\\end{array}\n",
    "\\right) \\underbrace{ \\rightarrow }_{ \\text{Gaussian elimination} }\n",
    "\\left(\n",
    "\\begin{array}{ccc|ccc}\n",
    "  & \\\\\n",
    " &  \\Huge{I} &  &  & \\Huge{A^{-1}}  &  \\\\\n",
    " &  &  &  & \n",
    "\\end{array}\n",
    "\\right)\n",
    "$$\n",
    "\n"
   ]
  },
  {
   "cell_type": "code",
   "execution_count": 9,
   "metadata": {
    "collapsed": false
   },
   "outputs": [
    {
     "name": "stdout",
     "output_type": "stream",
     "text": [
      "This is the Matrix we want to calculate the inverse for: \n"
     ]
    },
    {
     "data": {
      "text/html": [
       "<html>\\(\\displaystyle \\left(\\begin{array}{rrr}\n",
       "5 & 5 & 4 \\\\\n",
       "1 & 10 & -1 \\\\\n",
       "0 & 2 & 0\n",
       "\\end{array}\\right)\\)</html>"
      ],
      "text/latex": [
       "$\\displaystyle \\left(\\begin{array}{rrr}\n",
       "5 & 5 & 4 \\\\\n",
       "1 & 10 & -1 \\\\\n",
       "0 & 2 & 0\n",
       "\\end{array}\\right)$"
      ],
      "text/plain": [
       "[ 5  5  4]\n",
       "[ 1 10 -1]\n",
       "[ 0  2  0]"
      ]
     },
     "execution_count": 9,
     "metadata": {
     },
     "output_type": "execute_result"
    },
    {
     "name": "stdout",
     "output_type": "stream",
     "text": [
      "So Let's add I on the right side of our Matrix\n"
     ]
    },
    {
     "data": {
      "text/html": [
       "<html>\\(\\displaystyle \\left(\\begin{array}{rrr|rrr}\n",
       "5 & 5 & 4 & 1 & 0 & 0 \\\\\n",
       "1 & 10 & -1 & 0 & 1 & 0 \\\\\n",
       "0 & 2 & 0 & 0 & 0 & 1\n",
       "\\end{array}\\right)\\)</html>"
      ],
      "text/latex": [
       "$\\displaystyle \\left(\\begin{array}{rrr|rrr}\n",
       "5 & 5 & 4 & 1 & 0 & 0 \\\\\n",
       "1 & 10 & -1 & 0 & 1 & 0 \\\\\n",
       "0 & 2 & 0 & 0 & 0 & 1\n",
       "\\end{array}\\right)$"
      ],
      "text/plain": [
       "[ 5  5  4| 1  0  0]\n",
       "[ 1 10 -1| 0  1  0]\n",
       "[ 0  2  0| 0  0  1]"
      ]
     },
     "execution_count": 9,
     "metadata": {
     },
     "output_type": "execute_result"
    },
    {
     "name": "stdout",
     "output_type": "stream",
     "text": [
      "Now look what's on the right side of our Matrix in echelon form!\n"
     ]
    },
    {
     "data": {
      "text/html": [
       "<html>\\(\\displaystyle \\left(\\begin{array}{rrr|rrr}\n",
       "1 & 0 & 0 & \\frac{1}{9} & \\frac{4}{9} & -\\frac{5}{2} \\\\\n",
       "0 & 1 & 0 & 0 & 0 & \\frac{1}{2} \\\\\n",
       "0 & 0 & 1 & \\frac{1}{9} & -\\frac{5}{9} & \\frac{5}{2}\n",
       "\\end{array}\\right)\\)</html>"
      ],
      "text/latex": [
       "$\\displaystyle \\left(\\begin{array}{rrr|rrr}\n",
       "1 & 0 & 0 & \\frac{1}{9} & \\frac{4}{9} & -\\frac{5}{2} \\\\\n",
       "0 & 1 & 0 & 0 & 0 & \\frac{1}{2} \\\\\n",
       "0 & 0 & 1 & \\frac{1}{9} & -\\frac{5}{9} & \\frac{5}{2}\n",
       "\\end{array}\\right)$"
      ],
      "text/plain": [
       "[   1    0    0| 1/9  4/9 -5/2]\n",
       "[   0    1    0|   0    0  1/2]\n",
       "[   0    0    1| 1/9 -5/9  5/2]"
      ]
     },
     "execution_count": 9,
     "metadata": {
     },
     "output_type": "execute_result"
    },
    {
     "name": "stdout",
     "output_type": "stream",
     "text": [
      "The default method agrees:\n"
     ]
    },
    {
     "data": {
      "text/html": [
       "<html>\\(\\displaystyle \\left(\\begin{array}{rrr}\n",
       "\\frac{1}{9} & \\frac{4}{9} & -\\frac{5}{2} \\\\\n",
       "0 & 0 & \\frac{1}{2} \\\\\n",
       "\\frac{1}{9} & -\\frac{5}{9} & \\frac{5}{2}\n",
       "\\end{array}\\right)\\)</html>"
      ],
      "text/latex": [
       "$\\displaystyle \\left(\\begin{array}{rrr}\n",
       "\\frac{1}{9} & \\frac{4}{9} & -\\frac{5}{2} \\\\\n",
       "0 & 0 & \\frac{1}{2} \\\\\n",
       "\\frac{1}{9} & -\\frac{5}{9} & \\frac{5}{2}\n",
       "\\end{array}\\right)$"
      ],
      "text/plain": [
       "[ 1/9  4/9 -5/2]\n",
       "[   0    0  1/2]\n",
       "[ 1/9 -5/9  5/2]"
      ]
     },
     "execution_count": 9,
     "metadata": {
     },
     "output_type": "execute_result"
    },
    {
     "name": "stdout",
     "output_type": "stream",
     "text": [
      "So now we know that: \n"
     ]
    },
    {
     "data": {
      "text/html": [
       "<html>\\(\\displaystyle \\left(\\begin{array}{rrr}\n",
       "5 & 5 & 4 \\\\\n",
       "1 & 10 & -1 \\\\\n",
       "0 & 2 & 0\n",
       "\\end{array}\\right) \\verb|*| \\left(\\begin{array}{rrr}\n",
       "\\frac{1}{9} & \\frac{4}{9} & -\\frac{5}{2} \\\\\n",
       "0 & 0 & \\frac{1}{2} \\\\\n",
       "\\frac{1}{9} & -\\frac{5}{9} & \\frac{5}{2}\n",
       "\\end{array}\\right) \\verb|=| \\left(\\begin{array}{rrr}\n",
       "1 & 0 & 0 \\\\\n",
       "0 & 1 & 0 \\\\\n",
       "0 & 0 & 1\n",
       "\\end{array}\\right)\\)</html>"
      ],
      "text/latex": [
       "$\\displaystyle \\left(\\begin{array}{rrr}\n",
       "5 & 5 & 4 \\\\\n",
       "1 & 10 & -1 \\\\\n",
       "0 & 2 & 0\n",
       "\\end{array}\\right) \\verb|*| \\left(\\begin{array}{rrr}\n",
       "\\frac{1}{9} & \\frac{4}{9} & -\\frac{5}{2} \\\\\n",
       "0 & 0 & \\frac{1}{2} \\\\\n",
       "\\frac{1}{9} & -\\frac{5}{9} & \\frac{5}{2}\n",
       "\\end{array}\\right) \\verb|=| \\left(\\begin{array}{rrr}\n",
       "1 & 0 & 0 \\\\\n",
       "0 & 1 & 0 \\\\\n",
       "0 & 0 & 1\n",
       "\\end{array}\\right)$"
      ],
      "text/plain": [
       "[ 5  5  4]\n",
       "[ 1 10 -1]\n",
       "[ 0  2  0] '*' [ 1/9  4/9 -5/2]\n",
       "[   0    0  1/2]\n",
       "[ 1/9 -5/9  5/2] '=' [1 0 0]\n",
       "[0 1 0]\n",
       "[0 0 1]"
      ]
     },
     "execution_count": 9,
     "metadata": {
     },
     "output_type": "execute_result"
    }
   ],
   "source": [
    "B = matrix(QQ, [\n",
    "    [5, 5,4],\n",
    "    [1, 10, -1],\n",
    "    [0, 2, 0]\n",
    "])\n",
    "def inverse(B):\n",
    "    M=matrix(B)\n",
    "    print(\"This is the Matrix we want to calculate the inverse for: \")\n",
    "    show(B)\n",
    "    M = M.augment(matrix.identity(M.nrows()), subdivide = \"True\")\n",
    "    print(\"So Let's add I on the right side of our Matrix\")\n",
    "    show(M)\n",
    "    M = full_gaussian_elimination_sage(M)\n",
    "    print(\"Now look what's on the right side of our Matrix in echelon form!\")\n",
    "    show(M)\n",
    "    return M[:, M.nrows():]\n",
    "\n",
    "def inverse_without_print(B):\n",
    "    M=matrix(B)\n",
    "    M = M.augment(matrix.identity(M.nrows()))\n",
    "    M = full_gaussian_elimination_sage(M)\n",
    "    return M[:, M.nrows():]\n",
    "\n",
    "\n",
    "inverse(B)\n",
    "print(\"The default method agrees:\")\n",
    "show(B^(-1))\n",
    "\n",
    "print(\"So now we know that: \")\n",
    "show(B,\"*\",inverse_without_print(B),\"=\",B*inverse_without_print(B))"
   ]
  },
  {
   "cell_type": "markdown",
   "metadata": {
    "collapsed": false
   },
   "source": [
    "# Finding the row span of a matrix"
   ]
  },
  {
   "cell_type": "markdown",
   "metadata": {
    "collapsed": false
   },
   "source": [
    "If we continue our wonderful streak of observations, we can make another one: elementary column operations don't change the linear dependence. It's easy to see how non\\-zero rows in echelon form are linearly independent, which means, you can take the pivot rows of the echelon form, which form a basis of it's space! \n",
    "\n"
   ]
  },
  {
   "cell_type": "code",
   "execution_count": 18,
   "metadata": {
    "collapsed": false
   },
   "outputs": [
    {
     "name": "stdout",
     "output_type": "stream",
     "text": [
      "Original matrix:\n"
     ]
    },
    {
     "data": {
      "text/html": [
       "<html>\\(\\displaystyle \\left(\\begin{array}{rr}\n",
       "1 & 2 \\\\\n",
       "2 & 3 \\\\\n",
       "1 & 1\n",
       "\\end{array}\\right)\\)</html>"
      ],
      "text/latex": [
       "$\\displaystyle \\left(\\begin{array}{rr}\n",
       "1 & 2 \\\\\n",
       "2 & 3 \\\\\n",
       "1 & 1\n",
       "\\end{array}\\right)$"
      ],
      "text/plain": [
       "[1 2]\n",
       "[2 3]\n",
       "[1 1]"
      ]
     },
     "execution_count": 18,
     "metadata": {
     },
     "output_type": "execute_result"
    },
    {
     "name": "stdout",
     "output_type": "stream",
     "text": [
      "\n",
      "Matrix after Gaussian elimination:\n"
     ]
    },
    {
     "data": {
      "text/html": [
       "<html>\\(\\displaystyle \\left(\\begin{array}{rr}\n",
       "1 & 0 \\\\\n",
       "0 & 1 \\\\\n",
       "0 & 0\n",
       "\\end{array}\\right)\\)</html>"
      ],
      "text/latex": [
       "$\\displaystyle \\left(\\begin{array}{rr}\n",
       "1 & 0 \\\\\n",
       "0 & 1 \\\\\n",
       "0 & 0\n",
       "\\end{array}\\right)$"
      ],
      "text/plain": [
       "[1 0]\n",
       "[0 1]\n",
       "[0 0]"
      ]
     },
     "execution_count": 18,
     "metadata": {
     },
     "output_type": "execute_result"
    },
    {
     "name": "stdout",
     "output_type": "stream",
     "text": [
      "\n",
      "Basis of the vector space:\n"
     ]
    },
    {
     "data": {
      "text/html": [
       "<html>\\(\\displaystyle \\left(1,\\,0\\right)\\)</html>"
      ],
      "text/latex": [
       "$\\displaystyle \\left(1,\\,0\\right)$"
      ],
      "text/plain": [
       "(1, 0)"
      ]
     },
     "execution_count": 18,
     "metadata": {
     },
     "output_type": "execute_result"
    },
    {
     "data": {
      "text/html": [
       "<html>\\(\\displaystyle \\left(0,\\,1\\right)\\)</html>"
      ],
      "text/latex": [
       "$\\displaystyle \\left(0,\\,1\\right)$"
      ],
      "text/plain": [
       "(0, 1)"
      ]
     },
     "execution_count": 18,
     "metadata": {
     },
     "output_type": "execute_result"
    },
    {
     "data": {
      "image/png": "[encoded data removed]",
      "text/plain": [
       "<Figure size 700x700 with 1 Axes>"
      ]
     },
     "execution_count": 18,
     "metadata": {
     },
     "output_type": "execute_result"
    },
    {
     "name": "stdout",
     "output_type": "stream",
     "text": [
      "Vector space of dimension 2 over Rational Field\n"
     ]
    },
    {
     "data": {
      "text/html": [
       "<html>\\(\\displaystyle \\left(\\begin{array}{rr}\n",
       "1 & 0 \\\\\n",
       "0 & 1\n",
       "\\end{array}\\right)\\)</html>"
      ],
      "text/latex": [
       "$\\displaystyle \\left(\\begin{array}{rr}\n",
       "1 & 0 \\\\\n",
       "0 & 1\n",
       "\\end{array}\\right)$"
      ],
      "text/plain": [
       "[1 0]\n",
       "[0 1]"
      ]
     },
     "execution_count": 18,
     "metadata": {
     },
     "output_type": "execute_result"
    }
   ],
   "source": [
    "import matplotlib.pyplot as plt\n",
    "from sage.modules.free_module_element import vector\n",
    "from sage.plot.arrow import arrow2d\n",
    "\n",
    "# Define the vectors\n",
    "v1 = vector([1, 2])\n",
    "v2 = vector([2, 3])\n",
    "v3 = vector([1, 1])\n",
    "\n",
    "# Create a matrix from the vectors\n",
    "A = matrix([v1, v2, v3])\n",
    "\n",
    "# Print the original matrix\n",
    "print(\"Original matrix:\")\n",
    "show(A)\n",
    "\n",
    "# Perform Gaussian elimination\n",
    "A_rref = full_gaussian_elimination_sage(A)\n",
    "\n",
    "# Print the matrix after Gaussian elimination\n",
    "print(\"\\nMatrix after Gaussian elimination:\")\n",
    "show(A_rref)\n",
    "\n",
    "# Extract the basis vectors from the row echelon form\n",
    "basis_vectors = [A_rref.row(i) for i in range(A_rref.nrows()) if A_rref.row(i).norm() != 0]\n",
    "\n",
    "# Print the basis vectors\n",
    "print(\"\\nBasis of the vector space:\")\n",
    "for vec in basis_vectors:\n",
    "    show(vec)\n",
    "\n",
    "# Plot the original vectors and the basis vectors\n",
    "\n",
    "# Create a figure\n",
    "plt.figure(figsize=(7, 7))\n",
    "\n",
    "# Plot original vectors\n",
    "plt.quiver(0, 0, v1[0], v1[1], angles='xy', scale_units='xy', scale=1, color='r', label='Original Vector 1')\n",
    "plt.quiver(0, 0, v2[0], v2[1], angles='xy', scale_units='xy', scale=1, color='g', label='(redudant) original vector 2')\n",
    "plt.quiver(0, 0, v3[0], v3[1], angles='xy', scale_units='xy', scale=1, color='y', label='Original Vector 3')\n",
    "plt.quiver(v1[0], v1[1], v3[0], v3[1], angles='xy', scale_units='xy', scale=1, color='y', alpha=0.5)\n",
    "\n",
    "# Plot basis vectors\n",
    "for v in basis_vectors:\n",
    "    plt.quiver(0, 0, v[0], v[1], angles='xy', scale_units='xy', scale=1, color='b', label='normal basis vector')\n",
    "    \n",
    "# Set plot limits and labels\n",
    "plt.xlim([-1, 3])\n",
    "plt.ylim([-1, 4])\n",
    "plt.xlabel('X')\n",
    "plt.ylabel('Y')\n",
    "plt.gca().set_aspect('equal', adjustable='box')\n",
    "plt.legend()\n",
    "plt.grid(True)\n",
    "plt.title(\"Original and Basis Vectors\")\n",
    "\n",
    "# Show the plot\n",
    "plt.show()\n",
    "\n",
    "#Sage implemented \n",
    "# Create a vector space from the rows of the original matrix\n",
    "V = VectorSpace(QQ, A.ncols())\n",
    "print(V)\n",
    "show(Matrix(V.basis()))\n"
   ]
  },
  {
   "cell_type": "markdown",
   "metadata": {
    "collapsed": false
   },
   "source": [
    "# Calculating the determinant\n",
    "\n"
   ]
  },
  {
   "cell_type": "markdown",
   "metadata": {
    "collapsed": false
   },
   "source": [
    "Another intersting application for the Gauß algorithm is to find the determinant of an matrix.\n",
    "\n",
    "The steps are:\n",
    "\n",
    "1. Start with a square matrix.\n",
    "\n",
    "2. Use Gaussian elimination to transform the matrix into upper triangular form, while keeping track of any row swaps.\n",
    "\n",
    "3. Multiply the diagonal elements of the upper triangular matrix.\n",
    "\n",
    "4. If you swapped rows during Gaussian elimination, multiply the result by \\-1 for each swap.\n",
    "\n",
    "5. The final result is the determinant of the original matrix.\n",
    "\n",
    "Important to note: If we multiply a certain row or column of a matrix 𝐴 by some scalar 𝜆 \\-&gt; then determinant of 𝐴 changes to 𝜆|𝐴|.\n"
   ]
  },
  {
   "cell_type": "code",
   "execution_count": 5,
   "metadata": {
    "collapsed": false
   },
   "outputs": [
    {
     "name": "stdout",
     "output_type": "stream",
     "text": [
      "Original Matrix:\n"
     ]
    },
    {
     "data": {
      "text/html": [
       "<html>\\(\\displaystyle \\left(\\begin{array}{rrr}\n",
       "0 & 1 & 1 \\\\\n",
       "1 & 1 & 0 \\\\\n",
       "1 & 0 & 1\n",
       "\\end{array}\\right)\\)</html>"
      ],
      "text/latex": [
       "$\\displaystyle \\left(\\begin{array}{rrr}\n",
       "0 & 1 & 1 \\\\\n",
       "1 & 1 & 0 \\\\\n",
       "1 & 0 & 1\n",
       "\\end{array}\\right)$"
      ],
      "text/plain": [
       "[0 1 1]\n",
       "[1 1 0]\n",
       "[1 0 1]"
      ]
     },
     "execution_count": 5,
     "metadata": {
     },
     "output_type": "execute_result"
    },
    {
     "name": "stdout",
     "output_type": "stream",
     "text": [
      "Upper Triangular Form:\n"
     ]
    },
    {
     "data": {
      "text/html": [
       "<html>\\(\\displaystyle \\left(\\begin{array}{rrr}\n",
       "1 & 1 & 0 \\\\\n",
       "0 & 1 & 1 \\\\\n",
       "0 & 0 & 2\n",
       "\\end{array}\\right)\\)</html>"
      ],
      "text/latex": [
       "$\\displaystyle \\left(\\begin{array}{rrr}\n",
       "1 & 1 & 0 \\\\\n",
       "0 & 1 & 1 \\\\\n",
       "0 & 0 & 2\n",
       "\\end{array}\\right)$"
      ],
      "text/plain": [
       "[1 1 0]\n",
       "[0 1 1]\n",
       "[0 0 2]"
      ]
     },
     "execution_count": 5,
     "metadata": {
     },
     "output_type": "execute_result"
    },
    {
     "name": "stdout",
     "output_type": "stream",
     "text": [
      "Determinant by our Algorithm: -2\n",
      "Determinant by Sage: -2\n"
     ]
    }
   ],
   "source": [
    "from sage.rings.integer_ring import ZZ\n",
    "\n",
    "def gaussian_elimination_sage(A):\n",
    "    M = Matrix(A)  # Convert list of lists A into a Sage matrix if not already a matrix\n",
    "    num_rows, num_cols = M.nrows(), M.ncols()\n",
    "    \n",
    "    num_row_swaps = 0\n",
    "    \n",
    "    for row in range(num_rows):\n",
    "        pivot_col = -1\n",
    "\n",
    "        for col in range(num_cols):\n",
    "            for i in range(row, num_rows):\n",
    "                if M[i, col] != 0:\n",
    "                    pivot_col = col\n",
    "                    M.swap_rows(row, i)\n",
    "                    num_row_swaps += 1  # Not in the implementation of the beginning\n",
    "                    break\n",
    "            if pivot_col >= 0:\n",
    "                break  \n",
    "\n",
    "        if pivot_col == -1:\n",
    "            return M\n",
    "\n",
    "        pivot = M[row, pivot_col]\n",
    "        for i in range(row + 1, num_rows):\n",
    "            if M[i, pivot_col] != 0:\n",
    "                factor = M[i, pivot_col] / pivot \n",
    "                M.add_multiple_of_row(i, row, -factor)\n",
    "\n",
    "    # Step 2: Multiply the diagonal elements of the upper triangular matrix\n",
    "    det = ZZ(1) \n",
    "    for i in range(num_rows):\n",
    "        det *= M[i, i]\n",
    "\n",
    "    # Step 3: Adjust for the number of row swaps\n",
    "    if num_row_swaps % 2 == 1:\n",
    "        det *= ZZ(-1)\n",
    "\n",
    "    return M, det\n",
    "\n",
    "\n",
    "C = Matrix(QQ, [\n",
    "    [0, 1, 1],\n",
    "    [1, 1, 0],\n",
    "    [1, 0, 1],\n",
    "])\n",
    "\n",
    "print(\"Original Matrix:\")\n",
    "show(Matrix(C))\n",
    "\n",
    "# Perform Gaussian Elimination\n",
    "upper_triangular, det = gaussian_elimination_sage(C)\n",
    "\n",
    "print(\"Upper Triangular Form:\")\n",
    "show(upper_triangular)\n",
    "\n",
    "print(\"Determinant by our Algorithm:\", det)\n",
    "print(\"Determinant by Sage:\", C.det())"
   ]
  },
  {
   "cell_type": "markdown",
   "metadata": {
    "collapsed": false
   },
   "source": [
    "## Fascinating History of Gaussian Elimination:\n",
    "\n",
    "https://www.ams.org/notices/201106/rtx110600782p.pdf \n",
    "\n"
   ]
  },
  {
   "cell_type": "markdown",
   "metadata": {
    "collapsed": false
   },
   "source": [
    "Sources: \n",
    "\n",
    "- https://scoop.iwr.uni-heidelberg.de/teaching/2024ss/lecture-lineare-algebra/\n",
    "- Э. Б. Вимберг \"Курс алгебры\"\n",
    "\n"
   ]
  }
 ],
 "metadata": {
  "kernelspec": {
   "argv": [
    "sage-10.3",
    "--python",
    "-m",
    "sage.repl.ipython_kernel",
    "--matplotlib=inline",
    "-f",
    "{connection_file}"
   ],
   "display_name": "SageMath 10.3",
   "env": {
   },
   "language": "sagemath",
   "metadata": {
    "cocalc": {
     "description": "Open-source mathematical software system",
     "priority": 10,
     "url": "https://www.sagemath.org/"
    }
   },
   "name": "sage-10.3",
   "resource_dir": "/ext/jupyter/kernels/sage-10.3"
  },
  "language_info": {
   "codemirror_mode": {
    "name": "ipython",
    "version": 3
   },
   "file_extension": ".py",
   "mimetype": "text/x-python",
   "name": "python",
   "nbconvert_exporter": "python",
   "pygments_lexer": "ipython3",
   "version": "3.11.1"
  }
 },
 "nbformat": 4,
 "nbformat_minor": 4
}