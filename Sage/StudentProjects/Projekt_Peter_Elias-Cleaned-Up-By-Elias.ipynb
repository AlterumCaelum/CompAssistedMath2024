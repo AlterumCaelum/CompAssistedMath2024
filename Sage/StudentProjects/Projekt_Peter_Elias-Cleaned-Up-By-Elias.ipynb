{
 "cells": [
  {
   "cell_type": "markdown",
   "metadata": {
    "collapsed": false
   },
   "source": [
    "**Authors:** Elias Köhnlein and Petr Samodelkin, Uni-Heidelberg, Summer Semester 2024\n",
    "\n"
   ]
  },
  {
   "cell_type": "markdown",
   "metadata": {
    "collapsed": false
   },
   "source": [
    "# Re-implementation of the Gaussian elimination algorithm and its applications in *Sage*  \n",
    "\n"
   ]
  },
  {
   "cell_type": "markdown",
   "metadata": {
    "collapsed": false
   },
   "source": [
    "*SageMath* is a powerful tool: it has _a lot_ already built in, and allows you to program on top of that. We are going to showcase both by partly re\\-implementing a few linear algebra applications.\n",
    "\n"
   ]
  },
  {
   "cell_type": "markdown",
   "metadata": {
    "collapsed": false
   },
   "source": [
    "## The Gaussian elimination algorithm\n",
    "\n"
   ]
  },
  {
   "cell_type": "markdown",
   "metadata": {
    "collapsed": false
   },
   "source": [
    "The Gaussian elimination algorithm transforms a given matrix to a special form. But first, a linear equation system interlude:\n",
    "We start with a field $K$ and elements which we'll call numbers in it. We can add, subtract, multiply and divide.\n",
    "A system of linear equations means we have to substitute numbers from $K$ to satisfy every equation of the form:\n",
    "\n",
    "\\begin{align}\n",
    "a_{11}x_{1}+a_{12}x_{2}\\dots+ a_{1n}x_{n}& =b_{1} \\\\\n",
    "a_{21}x_{1}+a_{22}x_{2}\\dots+a_{2n}x_{n}  & = b_{2} \\\\\n",
    "\\dots\n",
    "\\end{align}\n",
    "\n",
    "To solve it, we first make a few observations:\n",
    "\n",
    "Observation 1: dropping plus signs and variables preserves information, if we order the variables in every equation first.\n",
    "\n",
    "Observation 2: if we do one of the elementary operations, namely\n",
    "\n",
    "a\\) swap the rows\n",
    "\n",
    "b\\) add one row to the other\n",
    "\n",
    "c\\) multiply one row by a factor\n",
    "\n",
    "then the solutions remain the same, which is easy to check. \\(Obviously, solutions of the initial system are solutions of the changed one. But inverses of elementary operations are also elementary, so solutions of the changed one are the solutions of the initial one\\).\n",
    "\n",
    "That leads to the Gaussian elimination: an algorithm, that uses elementary operations to bring a matrix to a desirable \\(echelon\\) form, namely:\n",
    "\n",
    "We're going to reduce the matrix to the echelon form, like a staircase.\n",
    "We take the first non-0 column in the matrix, and swap the rows to make sure the top entry in that column isn't 0. Here's basic running through columns.\n",
    "Then eliminate everything in the column below and above by adding our row, factored first. Repeat for every row. You can see here, why adding rows doesn't mess up the structure: by construction, 0's are to the left.\n",
    "We're done! You can substitute anything for non-pivot variables, and you'll have exactly one easily obtainable solution per substituted set, it's as easy as moving the free variable entries to the right and adding up. \n",
    "\n"
   ]
  },
  {
   "cell_type": "markdown",
   "metadata": {
    "collapsed": false
   },
   "source": [
    "### Source code\n"
   ]
  },
  {
   "cell_type": "code",
   "execution_count": 3,
   "metadata": {
    "collapsed": false
   },
   "outputs": [
    {
     "name": "stdout",
     "output_type": "stream",
     "text": [
      "Original Matrix:\n"
     ]
    },
    {
     "data": {
      "text/html": [
       "<html>\\(\\displaystyle \\left(\\begin{array}{rrr}\n",
       "1 & 2 & 3 \\\\\n",
       "1 & 2 & 4 \\\\\n",
       "4 & 5 & 6\n",
       "\\end{array}\\right)\\)</html>"
      ],
      "text/latex": [
       "$\\displaystyle \\left(\\begin{array}{rrr}\n",
       "1 & 2 & 3 \\\\\n",
       "1 & 2 & 4 \\\\\n",
       "4 & 5 & 6\n",
       "\\end{array}\\right)$"
      ],
      "text/plain": [
       "[1 2 3]\n",
       "[1 2 4]\n",
       "[4 5 6]"
      ]
     },
     "execution_count": 3,
     "metadata": {
     },
     "output_type": "execute_result"
    },
    {
     "name": "stdout",
     "output_type": "stream",
     "text": [
      "Reduced Row Echelon Form:\n"
     ]
    },
    {
     "data": {
      "text/html": [
       "<html>\\(\\displaystyle \\left(\\begin{array}{rrr}\n",
       "1 & 0 & 0 \\\\\n",
       "0 & 1 & 0 \\\\\n",
       "0 & 0 & 1\n",
       "\\end{array}\\right)\\)</html>"
      ],
      "text/latex": [
       "$\\displaystyle \\left(\\begin{array}{rrr}\n",
       "1 & 0 & 0 \\\\\n",
       "0 & 1 & 0 \\\\\n",
       "0 & 0 & 1\n",
       "\\end{array}\\right)$"
      ],
      "text/plain": [
       "[1 0 0]\n",
       "[0 1 0]\n",
       "[0 0 1]"
      ]
     },
     "execution_count": 3,
     "metadata": {
     },
     "output_type": "execute_result"
    },
    {
     "name": "stdout",
     "output_type": "stream",
     "text": [
      "Sage-implemented\n"
     ]
    },
    {
     "data": {
      "text/html": [
       "<html>\\(\\displaystyle \\left(\\begin{array}{rrr}\n",
       "1 & 0 & 0 \\\\\n",
       "0 & 1 & 0 \\\\\n",
       "0 & 0 & 1\n",
       "\\end{array}\\right)\\)</html>"
      ],
      "text/latex": [
       "$\\displaystyle \\left(\\begin{array}{rrr}\n",
       "1 & 0 & 0 \\\\\n",
       "0 & 1 & 0 \\\\\n",
       "0 & 0 & 1\n",
       "\\end{array}\\right)$"
      ],
      "text/plain": [
       "[1 0 0]\n",
       "[0 1 0]\n",
       "[0 0 1]"
      ]
     },
     "execution_count": 3,
     "metadata": {
     },
     "output_type": "execute_result"
    },
    {
     "name": "stdout",
     "output_type": "stream",
     "text": [
      "Upper Triangular Form:\n"
     ]
    },
    {
     "data": {
      "text/html": [
       "<html>\\(\\displaystyle \\left(\\begin{array}{rrr}\n",
       "1 & 2 & 3 \\\\\n",
       "0 & -3 & -6 \\\\\n",
       "0 & 0 & 1\n",
       "\\end{array}\\right)\\)</html>"
      ],
      "text/latex": [
       "$\\displaystyle \\left(\\begin{array}{rrr}\n",
       "1 & 2 & 3 \\\\\n",
       "0 & -3 & -6 \\\\\n",
       "0 & 0 & 1\n",
       "\\end{array}\\right)$"
      ],
      "text/plain": [
       "[ 1  2  3]\n",
       "[ 0 -3 -6]\n",
       "[ 0  0  1]"
      ]
     },
     "execution_count": 3,
     "metadata": {
     },
     "output_type": "execute_result"
    }
   ],
   "source": [
    "def gaussian_elimination_sage(A):\n",
    "    M = Matrix(A)  # Convert list of lists A into a Sage matrix if not already a matrix\n",
    "    num_rows, num_cols = M.nrows(), M.ncols()\n",
    "\n",
    "    for row in range(num_rows):\n",
    "        pivot_col = -1\n",
    "\n",
    "        for col in range(num_cols):\n",
    "            for i in range(row, num_rows):\n",
    "                if M[i, col] != 0:\n",
    "                    pivot_col = col\n",
    "                    M.swap_rows(row, i)  # Swap to move pivot to the current row\n",
    "                    break\n",
    "            if pivot_col >= 0:\n",
    "                break  \n",
    "\n",
    "        if pivot_col == -1:\n",
    "            return M\n",
    "\n",
    "        pivot = M[row, pivot_col]\n",
    "        for i in range(row + 1, num_rows):\n",
    "            if M[i, pivot_col] != 0:\n",
    "                factor = M[i, pivot_col] / pivot \n",
    "                M.add_multiple_of_row(i, row, -factor)\n",
    "\n",
    "    return M\n",
    "\n",
    "def full_gaussian_elimination_sage(A):\n",
    "    M = Matrix(A) \n",
    "    num_rows, num_cols = M.nrows(), M.ncols()\n",
    "\n",
    "    for row in range(min(num_rows, num_cols)):\n",
    "        pivot_col = -1\n",
    "\n",
    "        for col in range(num_cols):\n",
    "            for i in range(row, num_rows):\n",
    "                if M[i, col] != 0:\n",
    "                    pivot_col = col\n",
    "                    M.swap_rows(row, i)  \n",
    "                    break\n",
    "            if pivot_col >= 0:\n",
    "                break  \n",
    "\n",
    "        if pivot_col == -1:\n",
    "            return M\n",
    "        # show(M)\n",
    "        \n",
    "        pivot = M[row, pivot_col]\n",
    "        M.rescale_row(row, 1 / pivot)\n",
    "\n",
    "        # Eliminate all entries above and below the pivot\n",
    "        for i in range(num_rows):\n",
    "            if i != row and M[i, pivot_col] != 0:\n",
    "                factor = M[i, pivot_col]\n",
    "                M.add_multiple_of_row(i, row, -factor)\n",
    "\n",
    "    return M\n",
    "\n",
    "\n",
    "# Example usage\n",
    "B = Matrix(QQ, [\n",
    "    [1,2,3],\n",
    "    [1,2,4],\n",
    "    [4,5,6]\n",
    "])\n",
    "\n",
    "print(\"Original Matrix:\")\n",
    "show(B)\n",
    "\n",
    "# Perform full Gaussian Elimination\n",
    "rref_matrix = full_gaussian_elimination_sage(B)\n",
    "\n",
    "print(\"Reduced Row Echelon Form:\")\n",
    "show(rref_matrix)\n",
    "print(\"Sage-implemented Reduced Row Echelon Form:\")\n",
    "show(B.echelon_form())\n",
    "\n",
    "\n",
    "# Perform Gaussian Elimination\n",
    "upper_triangular = gaussian_elimination_sage(B)\n",
    "\n",
    "print(\"Upper Triangular Form:\")\n",
    "show(upper_triangular)\n"
   ]
  },
  {
   "cell_type": "markdown",
   "metadata": {
    "collapsed": false
   },
   "source": [
    "## The Gaussian elimination: user input cell \n",
    "\n"
   ]
  },
  {
   "cell_type": "code",
   "execution_count": 0,
   "metadata": {
    "cocalc": {
     "outputs": {
      "1": {
       "name": "input",
       "opts": {
        "password": false,
        "prompt": "Enter the number of rows: "
       },
       "output_type": "stream",
       "value": "2"
      },
      "2": {
       "name": "input",
       "opts": {
        "password": false,
        "prompt": "Enter the number of columns: "
       },
       "output_type": "stream",
       "value": "2"
      },
      "4": {
       "name": "input",
       "opts": {
        "password": false,
        "prompt": ""
       },
       "output_type": "stream",
       "value": "1 2"
      },
      "5": {
       "name": "input",
       "opts": {
        "password": false,
        "prompt": ""
       },
       "output_type": "stream",
       "value": "4 6"
      }
     }
    },
    "collapsed": false
   },
   "outputs": [
   ],
   "source": [
    "#function version test \n",
    "\n",
    "# Input matrix from the user\n",
    "print(\"Enter the elements of the matrix separated by spaces (row-wise):\")\n",
    "rows = int(input(\"Enter the number of rows: \"))\n",
    "cols = int(input(\"Enter the number of columns: \"))\n",
    "print(\"Enter the elements:\")\n",
    "A = []\n",
    "for i in range(rows):\n",
    "    row = list(map(int, input().split()))\n",
    "    if len(row) != cols:\n",
    "        print(\"Number of elements in each row should be equal to the number of columns.\")\n",
    "        exit()  # Terminates the program if the input is invalid\n",
    "    A.append(row)\n",
    "\n",
    "# Convert the list of lists to a Sage matrix\n",
    "B = Matrix(QQ, A)\n",
    "\n",
    "print(\"Original Matrix:\")\n",
    "print(B)\n",
    "\n",
    "# Perform full Gaussian Elimination\n",
    "rref_matrix = full_gaussian_elimination_sage(B)\n",
    "\n",
    "print(\"Reduced Row Echelon Form:\")\n",
    "print(rref_matrix)\n",
    "print(\"Sage-implemented\")\n",
    "show(B.echelon_form())\n",
    "\n",
    "\n",
    "# Perform Gaussian Elimination\n",
    "upper_triangular = gaussian_elimination_sage(B)\n",
    "\n",
    "print(\"Upper Triangular Form:\")\n",
    "print(upper_triangular)\n"
   ]
  },
  {
   "cell_type": "markdown",
   "metadata": {
    "collapsed": false
   },
   "source": [
   ]
  },
  {
   "cell_type": "markdown",
   "metadata": {
    "collapsed": false
   },
   "source": [
    "## Finding the inverse of a matrix\n",
    "\n"
   ]
  },
  {
   "cell_type": "markdown",
   "metadata": {
    "collapsed": false
   },
   "source": [
    "Yet another fun observation: if we insert another column on the right to our system,  $(a_{1\\ n+1}, a_{2\\ n+1} \\dots)^{T}$, the algorithm will treat it exactly as the previous column: after reducing the matrix to the echelon form, the column will have the solutions of the equation system with the same coefficients, but with different values, namely $(a_{1\\ n+1}, a_{2\\ n+1} \\dots)^{T}$, to the right of the \"=\".  Which means, we can solve any number of linear equation systems with the same coefficients at once. \n",
    "Since with one vector to the right, system solves $Ax=b$, then with many vectors to the right, we'll be able to solve to $AX=B$, where $B$ has several columns. If we realise only $A^{-1}$ solves $AX=I$, there's our algorithm to find the inserve! A pretty magic one.\n",
    "$$\n",
    "\\left(\n",
    "\\begin{array}{cccc|ccc}\n",
    "a_{11} & a_{12} & \\dots  & a_{1n}  &  &   \\\\\n",
    " &  & \\dots &  &    &  \\Huge{I} \\\\\n",
    "a_{m1} & a_{m2} & \\dots  & a_{mn} & &  &   \\\\\n",
    "\\end{array}\n",
    "\\right) \\underbrace{ \\rightarrow }_{ \\text{Gaussian elimination} }\n",
    "\\left(\n",
    "\\begin{array}{ccc|ccc}\n",
    "  & \\\\\n",
    " &  \\Huge{I} &  &  & \\Huge{A^{-1}}  &  \\\\\n",
    " &  &  &  & \n",
    "\\end{array}\n",
    "\\right)\n",
    "$$\n",
    "\n"
   ]
  },
  {
   "cell_type": "code",
   "execution_count": 0,
   "metadata": {
    "collapsed": false
   },
   "outputs": [
   ],
   "source": [
    "B = matrix(QQ, [\n",
    "    [1, 2,3],\n",
    "    [1, 0, -1],\n",
    "    [0, 2, 0]\n",
    "])\n",
    "def bad_inverse(B):\n",
    "    M=matrix(B)\n",
    "    M = M.augment(matrix.identity(M.nrows()))\n",
    "    print(\"Adding I to the right\")\n",
    "    show(M)\n",
    "    M = full_gaussian_elimination_sage(M)\n",
    "    print(\"Look what's on the right in echelon form!\")\n",
    "    show(M)\n",
    "    return M[:, M.nrows():]\n",
    "\n",
    "def inverse(B):\n",
    "    M=matrix(B)\n",
    "    M = M.augment(matrix.identity(M.nrows()))\n",
    "    M = full_gaussian_elimination_sage(M)\n",
    "    return M[:, M.nrows():]\n",
    "\n",
    "\n",
    "bad_inverse(B)\n",
    "print(\"The default method agrees:\")\n",
    "show(B^(-1))\n"
   ]
  },
  {
   "cell_type": "markdown",
   "metadata": {
    "collapsed": false
   },
   "source": [
    "# Finding the column span of the matrix"
   ]
  },
  {
   "cell_type": "markdown",
   "metadata": {
    "collapsed": false
   },
   "source": [
    "If we continue our wonderful streak of observations, we can make another one: elementary operations don't change the linear independence of vectors, because every linear combination of them corresponds to one solution of the linear equation, which don't change as we've shown. It's easy to see how non-zero rows in echelon form are linearly interdependent, which means, you can take column vectors of the pivot elements in the initial matrix, they form a basis of it's space! \n",
    "$$\n",
    "\\alpha_{1}\\begin{pmatrix}\n",
    "a_{12} \\\\\n",
    "a_{21} \\\\\n",
    "\\dots\n",
    "\\end{pmatrix} + \\alpha_{2}\\begin{pmatrix}\n",
    "a_{21} \\\\\n",
    "a_{22} \\\\\n",
    "\\dots\n",
    "\\end{pmatrix} \\dots  =\\begin{pmatrix}\n",
    "0 \\\\\n",
    "0 \\\\\n",
    "\\dots\n",
    "\\end{pmatrix} \\qquad \\leftrightarrow \\qquad\n",
    "A\\cdot \\begin{pmatrix}\n",
    "\\alpha_{1} \\\\\n",
    "\\alpha_{2}  \\\\\n",
    "\\dots \n",
    "\\end{pmatrix} = 0\n",
    "$$\n",
    "\n"
   ]
  },
  {
   "cell_type": "code",
   "execution_count": 0,
   "metadata": {
    "collapsed": false
   },
   "outputs": [
   ],
   "source": [
   ]
  },
  {
   "cell_type": "code",
   "execution_count": 15,
   "metadata": {
    "collapsed": false
   },
   "outputs": [
    {
     "data": {
      "text/html": [
       "<html>\\(\\displaystyle \\left(\\begin{array}{rrr}\n",
       "1 & 1 & 1 \\\\\n",
       "0 & 0 & 3 \\\\\n",
       "1 & 1 & 2\n",
       "\\end{array}\\right)\\)</html>"
      ],
      "text/latex": [
       "$\\displaystyle \\left(\\begin{array}{rrr}\n",
       "1 & 1 & 1 \\\\\n",
       "0 & 0 & 3 \\\\\n",
       "1 & 1 & 2\n",
       "\\end{array}\\right)$"
      ],
      "text/plain": [
       "[1 1 1]\n",
       "[0 0 3]\n",
       "[1 1 2]"
      ]
     },
     "execution_count": 15,
     "metadata": {
     },
     "output_type": "execute_result"
    },
    {
     "data": {
      "text/html": [
       "<html>\\(\\displaystyle \\left(\\begin{array}{rrr}\n",
       "1 & 1 & 0 \\\\\n",
       "0 & 0 & 1 \\\\\n",
       "0 & 0 & 0\n",
       "\\end{array}\\right)\\)</html>"
      ],
      "text/latex": [
       "$\\displaystyle \\left(\\begin{array}{rrr}\n",
       "1 & 1 & 0 \\\\\n",
       "0 & 0 & 1 \\\\\n",
       "0 & 0 & 0\n",
       "\\end{array}\\right)$"
      ],
      "text/plain": [
       "[1 1 0]\n",
       "[0 0 1]\n",
       "[0 0 0]"
      ]
     },
     "execution_count": 15,
     "metadata": {
     },
     "output_type": "execute_result"
    },
    {
     "data": {
      "text/html": [
       "<html>\\(\\displaystyle \\left(\\begin{array}{rr}\n",
       "1 & 1 \\\\\n",
       "0 & 3 \\\\\n",
       "1 & 2\n",
       "\\end{array}\\right)\\)</html>"
      ],
      "text/latex": [
       "$\\displaystyle \\left(\\begin{array}{rr}\n",
       "1 & 1 \\\\\n",
       "0 & 3 \\\\\n",
       "1 & 2\n",
       "\\end{array}\\right)$"
      ],
      "text/plain": [
       "[1 1]\n",
       "[0 3]\n",
       "[1 2]"
      ]
     },
     "execution_count": 15,
     "metadata": {
     },
     "output_type": "execute_result"
    },
    {
     "name": "stdout",
     "output_type": "stream",
     "text": [
      "Vector space of degree 3 and dimension 2 over Rational Field\n",
      "Basis matrix:\n",
      "[  1   0   1]\n",
      "[  0   1 1/3]\n"
     ]
    }
   ],
   "source": [
    "def column_basis(B):\n",
    "    M = Matrix(B)\n",
    "    echelon = full_gaussian_elimination_sage(Matrix(B))\n",
    "    independent_columns = []\n",
    "    show(echelon)\n",
    "    # Find first non-zero element in each row\n",
    "    for row in range(echelon.nrows()):\n",
    "        for col in range(echelon.ncols()):\n",
    "            if echelon[row, col] != 0:\n",
    "                independent_columns.append(M.column(col))\n",
    "                break\n",
    "    return matrix(M.base_ring(), independent_columns).transpose()\n",
    "\n",
    "# Example usage:\n",
    "B = Matrix(QQ, [\n",
    "    [1, 1, 1],\n",
    "    [0, 0, 3],\n",
    "    [1, 1, 2]\n",
    "])\n",
    "show(B)\n",
    "independent_columns_matrix = column_basis(B)\n",
    "show(independent_columns_matrix)\n",
    "\n",
    "# one command in Sage?\n",
    "show(B.column_space())\n",
    "\n",
    "B.column_space()"
   ]
  },
  {
   "cell_type": "markdown",
   "metadata": {
    "collapsed": false
   },
   "source": [
    "# Calculating the determinant\n",
    "\n"
   ]
  },
  {
   "cell_type": "markdown",
   "metadata": {
    "collapsed": false
   },
   "source": [
    "Another intersting application for the Gauß algorithm is to find the determinant of an matrix.\n",
    "\n",
    "The steps are:\n",
    "\n",
    "1. Start with a square matrix.\n",
    "\n",
    "2. Use Gaussian elimination to transform the matrix into upper triangular form, while keeping track of any row swaps.\n",
    "\n",
    "3. Multiply the diagonal elements of the upper triangular matrix.\n",
    "\n",
    "4. If you swapped rows during Gaussian elimination, multiply the result by \\-1 for each swap.\n",
    "\n",
    "5. The final result is the determinant of the original matrix.\n",
    "\n",
    "Important to note: If we multiply a certain row or column of a matrix 𝐴 by some scalar 𝜆 \\-&gt; then determinant of 𝐴 changes to 𝜆|𝐴|.\n"
   ]
  },
  {
   "cell_type": "code",
   "execution_count": 0,
   "metadata": {
    "collapsed": false
   },
   "outputs": [
   ],
   "source": [
    "def determinant_with_gaussian_elimination(A):\n",
    "    M = Matrix(A)  # Convert list of lists A into a Sage matrix if not already a matrix\n",
    "    num_rows, num_cols = M.nrows(), M.ncols()\n",
    "    \n",
    "    # Check if the matrix is square\n",
    "    if num_rows != num_cols:\n",
    "        raise ValueError(\"Oh dear, it appears you've given me a non-square matrix. How disappointing! I thought you knew better than that. Don't you realize the basic requirement for calculating determinants? Let's try again with a square matrix, shall we?\")\n",
    "        \n",
    "    det = 1\n",
    "\n",
    "    for row in range(num_rows):\n",
    "        pivot_col = -1\n",
    "\n",
    "        for col in range(num_cols):\n",
    "            for i in range(row, num_rows):\n",
    "                if M[i, col] != 0:\n",
    "                    pivot_col = col\n",
    "                    M.swap_rows(row, i)  # Swap to move pivot to the current row\n",
    "                    break\n",
    "            if pivot_col >= 0:\n",
    "                break\n",
    "\n",
    "        if pivot_col == -1:\n",
    "            return 0  # If the matrix is singular, determinant is zero\n",
    "\n",
    "        pivot = M[row, pivot_col]\n",
    "        det *= pivot  # Multiply by pivot element\n",
    "\n",
    "        for i in range(row + 1, num_rows):\n",
    "            if M[i, pivot_col] != 0:\n",
    "                factor = M[i, pivot_col] / pivot\n",
    "                M.add_multiple_of_row(i, row, -factor)\n",
    "\n",
    "    return det\n",
    "\n",
    "\n",
    "# Example usage:\n",
    "B = Matrix(QQ, [\n",
    "    [2, 3, 1],\n",
    "    [0, 2, 4],\n",
    "    [2, 6, 10],\n",
    "])\n",
    "\n",
    "\n",
    "print(\"Original Matrix:\")\n",
    "show(Matrix(B))\n",
    "\n",
    "# Perform Gaussian Elimination\n",
    "upper_triangular = gaussian_elimination_sage(B)\n",
    "\n",
    "print(\"Upper Triangular Form:\")\n",
    "show(upper_triangular)\n",
    "\n",
    "\n",
    "# Calculate determinant using Gaussian elimination\n",
    "det = determinant_with_gaussian_elimination(B)\n",
    "print(\"Determinant by our Algorithm:\", det)\n",
    "\n",
    "\n",
    "print(\"Determinant by Sage:\", B.det())"
   ]
  },
  {
   "cell_type": "markdown",
   "metadata": {
    "collapsed": false
   },
   "source": [
    "<span style='font-family:Arial'><span style='font-size:medium'>CODE TO FIND THE BASIS OF A VECTROSPACE FROM GIVEN VECTORS IN 2D</span></span>\n",
    "\n",
    "<span style='font-size:medium'><span style='font-family:Arial'>In this code snippet, we delve into the concept of vector spaces and showcase the application of Gaussian elimination to find the basis vectors of a given vector space.</span></span>\n",
    "\n",
    "<span style='font-size:medium'><span style='font-family:Arial'>Objective:</span></span>\n",
    "\n",
    "<span style='font-size:medium'><span style='font-family:Arial'>\\-Gain insight into vector spaces and their basis vectors.</span></span>\n",
    "\n",
    "<span style='font-size:medium'><span style='font-family:Arial'>\\-Utilize Gaussian elimination to simplify matrices and identify basis vectors.</span></span>\n",
    "\n",
    "<span style='font-size:medium'><span style='font-family:Arial'>\\-Visualize the original vectors and their basis vectors in a 2D space.</span></span>\n",
    "\n",
    "<span style='font-size:medium'><span style='font-family:Arial'>Key Steps:</span></span>\n",
    "\n",
    "<span style='font-size:medium'><span style='font-family:Arial'>Define the original vectors v1, v2, and v3.</span></span>\n",
    "\n",
    "<span style='font-size:medium'><span style='font-family:Arial'>Construct a matrix A using these vectors.</span></span>\n",
    "\n",
    "<span style='font-size:medium'><span style='font-family:Arial'>Perform Gaussian elimination on matrix A to obtain its row echelon form.</span></span>\n",
    "\n",
    "<span style='font-size:medium'><span style='font-family:Arial'>Extract the basis vectors from the row echelon form.</span></span>\n",
    "\n",
    "<span style='font-size:medium'><span style='font-family:Arial'>Plot the original vectors and their basis vectors on a 2D graph using matplotlib.</span></span>\n",
    "\n"
   ]
  },
  {
   "cell_type": "code",
   "execution_count": 1,
   "metadata": {
    "collapsed": false
   },
   "outputs": [
    {
     "name": "stdout",
     "output_type": "stream",
     "text": [
      "Original matrix:\n"
     ]
    },
    {
     "data": {
      "text/html": [
       "<html>\\(\\displaystyle \\left(\\begin{array}{rr}\n",
       "1 & 2 \\\\\n",
       "2 & 3 \\\\\n",
       "1 & 1\n",
       "\\end{array}\\right)\\)</html>"
      ],
      "text/latex": [
       "$\\displaystyle \\left(\\begin{array}{rr}\n",
       "1 & 2 \\\\\n",
       "2 & 3 \\\\\n",
       "1 & 1\n",
       "\\end{array}\\right)$"
      ],
      "text/plain": [
       "[1 2]\n",
       "[2 3]\n",
       "[1 1]"
      ]
     },
     "execution_count": 1,
     "metadata": {
     },
     "output_type": "execute_result"
    },
    {
     "name": "stdout",
     "output_type": "stream",
     "text": [
      "\n",
      "Matrix after Gaussian elimination:\n"
     ]
    },
    {
     "data": {
      "text/html": [
       "<html>\\(\\displaystyle \\left(\\begin{array}{rr}\n",
       "1 & 0 \\\\\n",
       "0 & 1 \\\\\n",
       "0 & 0\n",
       "\\end{array}\\right)\\)</html>"
      ],
      "text/latex": [
       "$\\displaystyle \\left(\\begin{array}{rr}\n",
       "1 & 0 \\\\\n",
       "0 & 1 \\\\\n",
       "0 & 0\n",
       "\\end{array}\\right)$"
      ],
      "text/plain": [
       "[1 0]\n",
       "[0 1]\n",
       "[0 0]"
      ]
     },
     "execution_count": 1,
     "metadata": {
     },
     "output_type": "execute_result"
    },
    {
     "name": "stdout",
     "output_type": "stream",
     "text": [
      "\n",
      "Basis of the vector space:\n"
     ]
    },
    {
     "data": {
      "text/html": [
       "<html>\\(\\displaystyle \\left(1,\\,0\\right)\\)</html>"
      ],
      "text/latex": [
       "$\\displaystyle \\left(1,\\,0\\right)$"
      ],
      "text/plain": [
       "(1, 0)"
      ]
     },
     "execution_count": 1,
     "metadata": {
     },
     "output_type": "execute_result"
    },
    {
     "data": {
      "text/html": [
       "<html>\\(\\displaystyle \\left(0,\\,1\\right)\\)</html>"
      ],
      "text/latex": [
       "$\\displaystyle \\left(0,\\,1\\right)$"
      ],
      "text/plain": [
       "(0, 1)"
      ]
     },
     "execution_count": 1,
     "metadata": {
     },
     "output_type": "execute_result"
    },
    {
     "data": {
      "image/png": "[encoded data removed]",
      "text/plain": [
       "<Figure size 800x800 with 1 Axes>"
      ]
     },
     "execution_count": 1,
     "metadata": {
     },
     "output_type": "execute_result"
    }
   ],
   "source": [
    "import matplotlib.pyplot as plt\n",
    "from sage.modules.free_module_element import vector\n",
    "from sage.plot.arrow import arrow2d\n",
    "\n",
    "# Define the vectors\n",
    "v1 = vector([1, 2])\n",
    "v2 = vector([2, 3])\n",
    "v3 = vector([1, 1])\n",
    "\n",
    "# Create a matrix from the vectors\n",
    "A = matrix([v1, v2, v3])\n",
    "\n",
    "# Print the original matrix\n",
    "print(\"Original matrix:\")\n",
    "show(A)\n",
    "\n",
    "# Perform Gaussian elimination\n",
    "A_rref = A.echelon_form()\n",
    "\n",
    "# Print the matrix after Gaussian elimination\n",
    "print(\"\\nMatrix after Gaussian elimination:\")\n",
    "show(A_rref)\n",
    "\n",
    "# Extract the basis vectors from the row echelon form\n",
    "basis_vectors = [A_rref.row(i) for i in range(A_rref.nrows()) if A_rref.row(i).norm() != 0]\n",
    "\n",
    "# Print the basis vectors\n",
    "print(\"\\nBasis of the vector space:\")\n",
    "for vec in basis_vectors:\n",
    "    show(vec)\n",
    "\n",
    "# Plot the original vectors and the basis vectors\n",
    "\n",
    "# Create a figure\n",
    "plt.figure(figsize=(8, 8))\n",
    "\n",
    "# Plot original vectors\n",
    "plt.quiver(0, 0, v1[0], v1[1], angles='xy', scale_units='xy', scale=1, color='r', label='Original Vector 1')\n",
    "plt.quiver(0, 0, v2[0], v2[1], angles='xy', scale_units='xy', scale=1, color='g', label='redudant original vector 2')\n",
    "plt.quiver(0, 0, v3[0], v3[1], angles='xy', scale_units='xy', scale=1, color='y', label='Original Vector 3')\n",
    "plt.quiver(v1[0], v1[1], v3[0], v3[1], angles='xy', scale_units='xy', scale=1, color='y', alpha=0.5)\n",
    "\n",
    "# Plot basis vectors\n",
    "for v in basis_vectors:\n",
    "    plt.quiver(0, 0, v[0], v[1], angles='xy', scale_units='xy', scale=1, color='b', label='normal basis vector')\n",
    "    \n",
    "# Set plot limits and labels\n",
    "plt.xlim([-1, 3])\n",
    "plt.ylim([-1, 4])\n",
    "plt.xlabel('X')\n",
    "plt.ylabel('Y')\n",
    "plt.gca().set_aspect('equal', adjustable='box')\n",
    "plt.legend()\n",
    "plt.grid(True)\n",
    "plt.title(\"Original and Basis Vectors\")\n",
    "\n",
    "# Show the plot\n",
    "plt.show()\n"
   ]
  },
  {
   "cell_type": "markdown",
   "metadata": {
    "collapsed": false
   },
   "source": [
    "TEST AREA\n",
    "--------"
   ]
  },
  {
   "cell_type": "code",
   "execution_count": 0,
   "metadata": {
    "collapsed": false
   },
   "outputs": [
   ],
   "source": [
    "import numpy as np\n",
    "\n",
    "# Define the coefficients matrix (left-hand side of the equations)\n",
    "coefficients = np.array([[3, 2, 9],\n",
    "                         [1, 2, 0],\n",
    "                         [0, 2, 20]], dtype=float)\n",
    "\n",
    "# Define the constants vector (right-hand side of the equations)\n",
    "constants = np.array([13, 4, 6], dtype=float)\n",
    "\n",
    "# Solve the system of equations using Gauss elimination method\n",
    "def gauss_elimination(coefficients, constants):\n",
    "    n = len(constants)\n",
    "    \n",
    "    # Forward elimination\n",
    "    for i in range(n):\n",
    "        pivot_row = coefficients[i]\n",
    "        pivot_elem = pivot_row[i]\n",
    "        \n",
    "        for j in range(i+1, n):\n",
    "            factor = coefficients[j][i] / pivot_elem\n",
    "            coefficients[j] -= factor * pivot_row\n",
    "            constants[j] -= factor * constants[i]\n",
    "    \n",
    "    # Back substitution\n",
    "    solution = np.zeros(n)\n",
    "    for i in range(n-1, -1, -1):\n",
    "        solution[i] = (constants[i] - np.dot(coefficients[i][i+1:], solution[i+1:])) / coefficients[i][i]\n",
    "    \n",
    "    return solution\n",
    "\n",
    "solution = gauss_elimination(coefficients, constants)\n",
    "print(\"Solution:\", solution)\n",
    "\n",
    "verification = np.allclose(np.dot(coefficients, solution), constants)\n",
    "print(\"Verification:\", verification)\n"
   ]
  },
  {
   "cell_type": "code",
   "execution_count": 0,
   "metadata": {
    "collapsed": false
   },
   "outputs": [
   ],
   "source": [
    "import numpy as np\n",
    "\n",
    "# Define the coefficients matrix (left-hand side of the equations)\n",
    "coefficients = np.array([[3, 2, 9],\n",
    "                         [1, 2, 0],\n",
    "                         [0, 2, 20]], dtype=float)\n",
    "\n",
    "# Define the constants vector (right-hand side of the equations)\n",
    "constants = np.array([13, 4, 6], dtype=float)\n",
    "\n",
    "# Define the variables names\n",
    "variables = ['apples', 'bananas', 'cherries']\n",
    "\n",
    "# Solve the system of equations using Gauss elimination method\n",
    "def gauss_elimination(coefficients, constants):\n",
    "    n = len(constants)\n",
    "    \n",
    "    # Forward elimination\n",
    "    for i in range(n):\n",
    "        pivot_row = coefficients[i]\n",
    "        pivot_elem = pivot_row[i]\n",
    "        \n",
    "        for j in range(i+1, n):\n",
    "            factor = coefficients[j][i] / pivot_elem\n",
    "            coefficients[j] -= factor * pivot_row\n",
    "            constants[j] -= factor * constants[i]\n",
    "    \n",
    "    # Back substitution\n",
    "    solution = np.zeros(n)\n",
    "    for i in range(n-1, -1, -1):\n",
    "        solution[i] = (constants[i] - np.dot(coefficients[i][i+1:], solution[i+1:])) / coefficients[i][i]\n",
    "    \n",
    "    return solution\n",
    "\n",
    "# Function to print out the matrices\n",
    "def show(coefficients, constants, variables):\n",
    "    print(\"Equations Matrix:\")\n",
    "    for i in range(len(coefficients)):\n",
    "        equation = \" + \".join([f\"{coefficients[i][j]}{variables[j]}\" for j in range(len(coefficients[i]))])\n",
    "        print(equation, \"=\", constants[i])\n",
    "\n",
    "# Print the example for the user\n",
    "print(\"Example Linear Equation System:\")\n",
    "print(\"3apples + 2bananas + 9cherries = 13\")\n",
    "print(\"1apple + 2bananas = 4\")\n",
    "print(\"2bananas + 20cherries = 6\\n\")\n",
    "\n",
    "# Show the equations in matrix form\n",
    "show(coefficients, constants, variables)\n",
    "print()\n",
    "\n",
    "# Solve the system\n",
    "solution = gauss_elimination(coefficients, constants)\n",
    "print(\"\\nSolution:\")\n",
    "for i in range(len(solution)):\n",
    "    print(f\"{variables[i]} = {solution[i]}\")\n",
    "\n",
    "# Verification\n",
    "verification = np.allclose(np.dot(coefficients, solution), constants)\n",
    "print(\"\\nVerification:\", verification)\n"
   ]
  },
  {
   "cell_type": "code",
   "execution_count": 0,
   "metadata": {
    "collapsed": false
   },
   "outputs": [
   ],
   "source": [
    "import numpy as np\n",
    "\n",
    "# Define the coefficients matrix (left-hand side of the equations)\n",
    "coefficients = np.array([[3, 2, 9],\n",
    "                         [1, 2, 0],\n",
    "                         [0, 2, 20]], dtype=float)\n",
    "\n",
    "# Define the constants vector (right-hand side of the equations)\n",
    "constants = np.array([13, 4, 6], dtype=float)\n",
    "\n",
    "# Define the variables names\n",
    "variables = ['apples', 'bananas', 'cherries']\n",
    "\n",
    "# Show function to display the matrices\n",
    "def show(coefficients, constants, variables):\n",
    "    print(\"Original Matrix:\")\n",
    "    for i in range(len(coefficients)):\n",
    "        equation = \" + \".join([f\"{coefficients[i][j]}{variables[j]}\" for j in range(len(coefficients[i]))])\n",
    "        equation += f\" = {constants[i]}\"\n",
    "        print(equation)\n",
    "\n",
    "# Print the example for the user\n",
    "print(\"Example Linear Equation System:\")\n",
    "print(\"3apples + 2bananas + 9cherries = 13\")\n",
    "print(\"1apple + 2bananas = 4\")\n",
    "print(\"2bananas + 20cherries = 6\\n\")\n",
    "\n",
    "# Show the equations in matrix form\n",
    "show(coefficients, constants, variables)\n",
    "print()\n",
    "\n",
    "# Solve the system of equations using Gauss elimination method\n",
    "n = len(constants)\n",
    "for i in range(n):\n",
    "    pivot_row = coefficients[i]\n",
    "    pivot_elem = pivot_row[i]\n",
    "    \n",
    "    for j in range(i+1, n):\n",
    "        factor = coefficients[j][i] / pivot_elem\n",
    "        coefficients[j] -= factor * pivot_row\n",
    "        constants[j] -= factor * constants[i]\n",
    "\n",
    "# Back substitution\n",
    "solution = np.zeros(n)\n",
    "for i in range(n-1, -1, -1):\n",
    "    solution[i] = (constants[i] - np.dot(coefficients[i][i+1:], solution[i+1:])) / coefficients[i][i]\n",
    "\n",
    "# Print the solution\n",
    "print(\"\\nSolution:\")\n",
    "for i in range(len(solution)):\n",
    "    print(f\"{variables[i]} = {solution[i]}\")\n",
    "\n",
    "# Verification\n",
    "verification = np.allclose(np.dot(coefficients, solution), constants)\n",
    "print(\"\\nVerification:\", verification)\n",
    "\n"
   ]
  },
  {
   "cell_type": "code",
   "execution_count": 8,
   "metadata": {
    "collapsed": false
   },
   "outputs": [
    {
     "name": "stdout",
     "output_type": "stream",
     "text": [
      "Example Linear Equation System:\n",
      "3apples + 2bananas + 9cherries = 13\n",
      "1apple + 2bananas = 4\n",
      "2bananas + 20cherries = 6\n",
      "\n",
      "The Equations are now looking like Matrix, don't they ?:\n",
      "3.0apples 2.0bananas 9.0cherries = 13.0\n",
      "1.0apples 2.0bananas 0.0cherries = 4.0\n",
      "0.0apples 2.0bananas 20.0cherries = 6.0\n",
      "\n",
      "\n"
     ]
    },
    {
     "ename": "ValueError",
     "evalue": "need more than 1 value to unpack",
     "output_type": "error",
     "traceback": [
      "\u001b[0;31m---------------------------------------------------------------------------\u001b[0m",
      "\u001b[0;31mValueError\u001b[0m                                Traceback (most recent call last)",
      "Cell \u001b[0;32mIn [8], line 31\u001b[0m\n\u001b[1;32m     28\u001b[0m \u001b[38;5;28mprint\u001b[39m(\u001b[38;5;124m\"\u001b[39m\u001b[38;5;130;01m\\n\u001b[39;00m\u001b[38;5;124m\"\u001b[39m)\n\u001b[1;32m     30\u001b[0m coe \u001b[38;5;241m=\u001b[39m Matrix(coefficients)\n\u001b[0;32m---> 31\u001b[0m con \u001b[38;5;241m=\u001b[39m \u001b[43mMatrix\u001b[49m\u001b[43m(\u001b[49m\u001b[43mconstants\u001b[49m\u001b[43m)\u001b[49m\n\u001b[1;32m     32\u001b[0m Q \u001b[38;5;241m=\u001b[39m coe\u001b[38;5;241m.\u001b[39maugment(con, subdivide \u001b[38;5;241m=\u001b[39m \u001b[38;5;124m\"\u001b[39m\u001b[38;5;124mTrue\u001b[39m\u001b[38;5;124m\"\u001b[39m)\n\u001b[1;32m     33\u001b[0m show(Q) \u001b[38;5;66;03m#subdivdie here withe the constants\u001b[39;00m\n",
      "File \u001b[0;32m/ext/sage/9.8/src/sage/matrix/constructor.pyx:643\u001b[0m, in \u001b[0;36msage.matrix.constructor.matrix\u001b[0;34m()\u001b[0m\n\u001b[1;32m    641\u001b[0m \"\"\"\n\u001b[1;32m    642\u001b[0m immutable = kwds.pop('immutable', False)\n\u001b[0;32m--> 643\u001b[0m M = MatrixArgs(*args, **kwds).matrix()\n\u001b[1;32m    644\u001b[0m if immutable:\n\u001b[1;32m    645\u001b[0m     M.set_immutable()\n",
      "File \u001b[0;32m/ext/sage/9.8/src/sage/matrix/args.pyx:655\u001b[0m, in \u001b[0;36msage.matrix.args.MatrixArgs.matrix\u001b[0;34m()\u001b[0m\n\u001b[1;32m    653\u001b[0m     True\n\u001b[1;32m    654\u001b[0m \"\"\"\n\u001b[0;32m--> 655\u001b[0m self.finalize()\n\u001b[1;32m    656\u001b[0m \n\u001b[1;32m    657\u001b[0m cdef Matrix M\n",
      "File \u001b[0;32m/ext/sage/9.8/src/sage/matrix/args.pyx:883\u001b[0m, in \u001b[0;36msage.matrix.args.MatrixArgs.finalize\u001b[0;34m()\u001b[0m\n\u001b[1;32m    881\u001b[0m     self.process_method()\n\u001b[1;32m    882\u001b[0m elif self.typ == MA_ENTRIES_NDARRAY:\n\u001b[0;32m--> 883\u001b[0m     self.process_ndarray()\n\u001b[1;32m    884\u001b[0m else:\n\u001b[1;32m    885\u001b[0m     raise AssertionError(f\"unhandled MatrixArgs type {self.typ}\")\n",
      "File \u001b[0;32m/ext/sage/9.8/src/sage/matrix/args.pyx:1062\u001b[0m, in \u001b[0;36msage.matrix.args.MatrixArgs.process_ndarray\u001b[0;34m()\u001b[0m\n\u001b[1;32m   1060\u001b[0m e = self.entries\n\u001b[1;32m   1061\u001b[0m cdef long inrows, incols\n\u001b[0;32m-> 1062\u001b[0m (inrows, incols) = e.shape\n\u001b[1;32m   1063\u001b[0m self.set_nrows(inrows)\n\u001b[1;32m   1064\u001b[0m self.set_ncols(incols)\n",
      "\u001b[0;31mValueError\u001b[0m: need more than 1 value to unpack"
     ]
    }
   ],
   "source": [
    "import numpy as np\n",
    "\n",
    "# Define the coefficients matrix (left-hand side of the equations)\n",
    "coefficients = np.array([[3, 2, 9],\n",
    "                         [1, 2, 0],\n",
    "                         [0, 2, 20]], dtype=float)\n",
    "\n",
    "# Define the constants vector (right-hand side of the equations)\n",
    "constants = np.array([13, 4, 6], dtype=float)\n",
    "\n",
    "# Define the variables names\n",
    "variables = ['apples', 'bananas', 'cherries']\n",
    "\n",
    "\n",
    "# Print the example for the user\n",
    "print(\"Example Linear Equation System:\")\n",
    "print(\"3apples + 2bananas + 9cherries = 13\")\n",
    "print(\"1apple + 2bananas = 4\")\n",
    "print(\"2bananas + 20cherries = 6\\n\")\n",
    "\n",
    "\n",
    "print(\"The Equations are now looking like Matrix, don't they ?:\")\n",
    "\n",
    "for i in range(len(coefficients)):\n",
    "    equation = \" \".join([f\"{coefficients[i][j]}{variables[j]}\" for j in range(len(coefficients[i]))])\n",
    "    equation += f\" = {constants[i]}\"\n",
    "    print(equation)\n",
    "print(\"\\n\")\n",
    "#WHY THE FUCK IS THIS NOT WORKING; \n",
    "coe = Matrix(coefficients)\n",
    "con = Matrix(constants)\n",
    "Q = coe.augment(con, subdivide = \"True\")\n",
    "show(Q) #subdivdie here withe the constants\n",
    "\n",
    "\n",
    "\n",
    "\n",
    "# Solve the system of equations using Gauss elimination method\n",
    "n = len(constants)\n",
    "for i in range(n):\n",
    "    pivot_row = coefficients[i]\n",
    "    pivot_elem = pivot_row[i]\n",
    "    \n",
    "    for j in range(i+1, n):\n",
    "        factor = coefficients[j][i] / pivot_elem\n",
    "        coefficients[j] -= factor * pivot_row\n",
    "        constants[j] -= factor * constants[i]\n",
    "\n",
    "# Back substitution\n",
    "solution = np.zeros(n)\n",
    "for i in range(n-1, -1, -1):\n",
    "    solution[i] = (constants[i] - np.dot(coefficients[i][i+1:], solution[i+1:])) / coefficients[i][i]\n",
    "\n",
    "    \n",
    "    \n",
    "    \n",
    "# Print the solution\n",
    "print(\"\\nSolution:\")\n",
    "for i in range(len(solution)):\n",
    "    print(f\"{variables[i]} = {solution[i]}\")\n",
    "\n",
    "# Verification\n",
    "verification = np.allclose(np.dot(coefficients, solution), constants)\n",
    "print(\"\\nVerification:\", verification)\n"
   ]
  },
  {
   "cell_type": "code",
   "execution_count": 0,
   "metadata": {
    "collapsed": false
   },
   "outputs": [
   ],
   "source": [
   ]
  }
 ],
 "metadata": {
  "kernelspec": {
   "argv": [
    "sage-9.8",
    "--python",
    "-m",
    "sage.repl.ipython_kernel",
    "--matplotlib=inline",
    "-f",
    "{connection_file}"
   ],
   "display_name": "SageMath 9.8",
   "env": {
   },
   "language": "sagemath",
   "metadata": {
    "cocalc": {
     "description": "Open-source mathematical software system",
     "priority": 1,
     "url": "https://www.sagemath.org/"
    }
   },
   "name": "sage-9.8",
   "resource_dir": "/ext/jupyter/kernels/sage-9.8"
  },
  "language_info": {
   "codemirror_mode": {
    "name": "ipython",
    "version": 3
   },
   "file_extension": ".py",
   "mimetype": "text/x-python",
   "name": "python",
   "nbconvert_exporter": "python",
   "pygments_lexer": "ipython3",
   "version": "3.11.1"
  }
 },
 "nbformat": 4,
 "nbformat_minor": 4
}