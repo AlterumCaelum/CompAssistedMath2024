{
 "cells": [
  {
   "cell_type": "markdown",
   "id": "4bc34d59",
   "metadata": {},
   "source": [
    "# The Spectral Theorem\n",
    "#### By Clara & Roy"
   ]
  },
  {
   "cell_type": "markdown",
   "id": "2140c572",
   "metadata": {},
   "source": [
    "## Implementation in SageMath"
   ]
  },
  {
   "cell_type": "code",
   "execution_count": 11,
   "id": "a7bdf15e",
   "metadata": {},
   "outputs": [],
   "source": [
    "from IPython.display import display, Math\n",
    "\n",
    "def spectral_theorem(A, over_CC = True, polarform = False):\n",
    "    # The next line only exists to prevent user errors.\n",
    "    if A.apply_map(imag) != 0: over_CC = True\n",
    "    \n",
    "    # The next line checks if the matrix is normal, i.e. whether A*A = AA*\n",
    "    if not A.is_normal():\n",
    "        return \"Sorry, this matrix is not normal, so the Spectral Theorem is not applicable.\", \":(\"\n",
    "    \n",
    "    eigenvectors, eigenvalues = [], []\n",
    "    \n",
    "    # We save all eigenvectors and their corresponding eigenvalue:\n",
    "    for i in A.eigenvectors_right():\n",
    "        for j in i[1]:\n",
    "            eigenvectors.append(j)\n",
    "            eigenvalues.append(i[0])\n",
    "    \n",
    "    # If we operate on the complex field or if the matrix is symmetric, we can diagonalise it.\n",
    "    if over_CC or A.is_symmetric():\n",
    "        # To get an orthonormal basis of eigenvectors, we simply have to normalise our eigenvectors.\n",
    "        for i in range(len(eigenvectors)):\n",
    "            eigenvectors[i] /= eigenvectors[i].norm()\n",
    "        D = diagonal_matrix(eigenvalues)\n",
    "    else:\n",
    "        # In this case, A is either orthogonal or only normal over the real field.\n",
    "        # As such, we need to pick out the eigenvectors which have complex eigenvalues.\n",
    "        real_basis, complex_vectors = [], []\n",
    "        for i in range(len(eigenvalues)):\n",
    "            if eigenvalues[i].imag() == 0:\n",
    "                # Real eigenvalue, we only need to normalise the corresponding eigenvector.\n",
    "                real_basis.append(eigenvectors[i] / eigenvectors[i].norm())\n",
    "            else:\n",
    "                # Complex eigenvalue!\n",
    "                complex_vectors.append(eigenvectors[i])\n",
    "        # A basis is formed by taking the real part and the imaginary part as basis vectors.\n",
    "        # Since two eigenvalues are complex conjugated, we also check if our vectors is already in the list.\n",
    "        for i in range(len(complex_vectors)):\n",
    "            real_part, imag_part = complex_vectors[i].apply_map(real), complex_vectors[i].apply_map(imag)\n",
    "            real_part /= real_part.norm()\n",
    "            imag_part /= imag_part.norm()\n",
    "            if real_part not in real_basis:\n",
    "                real_basis.append(real_part)\n",
    "                real_basis.append(imag_part)\n",
    "        \n",
    "        eigenvectors = real_basis\n",
    "        # We will also reorder our list of eigenvalues, s.t. the real values are at the front.\n",
    "        # This is done to construct our D.\n",
    "        reorder, complex_entry = [], False\n",
    "        for i in eigenvalues:\n",
    "            if i.imag() == 0: reorder.append(i)\n",
    "        for i in eigenvalues:\n",
    "            if i not in reorder: reorder.append(i)\n",
    "            \n",
    "        D_list = [[0 for j in range(A.ncols())] for i in range(A.nrows())]\n",
    "        \n",
    "        # If the matrix is unitary, we can also use the polar form.\n",
    "        if polarform and A.is_unitary():\n",
    "            for i in range(len(reorder)):\n",
    "                if reorder[i].imag() == 0: D_list[i][i] = reorder[i]\n",
    "                else:\n",
    "                    arg = arctan2(reorder[i].imag(), reorder[i].real())\n",
    "                    if not complex_entry:\n",
    "                        D_list[i][i] = cos(arg)\n",
    "                        D_list[i][i+1] = sin(arg)\n",
    "                        complex_entry = True\n",
    "                    else:\n",
    "                        D_list[i][i] = cos(arg)\n",
    "                        D_list[i][i-1] = sin(arg)\n",
    "                        complex_entry = False\n",
    "            D = matrix(D_list)\n",
    "        # If we want to represent the entries as usual.\n",
    "        else:\n",
    "            for i in range(len(reorder)):\n",
    "                if reorder[i].imag() == 0: D_list[i][i] = reorder[i]\n",
    "                else:\n",
    "                    if not complex_entry:\n",
    "                        D_list[i][i] = reorder[i].real()\n",
    "                        D_list[i][i+1] = reorder[i].imag()\n",
    "                        complex_entry = True\n",
    "                    else:\n",
    "                        D_list[i][i] = reorder[i].real()\n",
    "                        D_list[i][i-1] = reorder[i].imag()\n",
    "                        complex_entry = False\n",
    "            D = matrix(D_list)\n",
    "\n",
    "    P = matrix(eigenvectors).transpose()\n",
    "    return P, D"
   ]
  },
  {
   "cell_type": "markdown",
   "id": "b878870b",
   "metadata": {},
   "source": [
    "## Lots of examples!"
   ]
  },
  {
   "cell_type": "code",
   "execution_count": 12,
   "id": "e25f37a2",
   "metadata": {},
   "outputs": [
    {
     "data": {
      "text/html": [
       "<html><script type=\"math/tex; mode=display\">\\newcommand{\\Bold}[1]{\\mathbf{#1}}\\verb|A|\\verb| |\\verb|=| \\left(\\begin{array}{rr}\n",
       "3 & -2 i + 1 \\\\\n",
       "2 i + 1 & -1\n",
       "\\end{array}\\right)</script></html>"
      ],
      "text/latex": [
       "$$\\newcommand{\\Bold}[1]{\\mathbf{#1}}\\verb|A|\\verb| |\\verb|=| \\left(\\begin{array}{rr}\n",
       "3 & -2 i + 1 \\\\\n",
       "2 i + 1 & -1\n",
       "\\end{array}\\right)$$"
      ],
      "text/plain": [
       "'A = ' [       3 -2*I + 1]\n",
       "[ 2*I + 1       -1]"
      ]
     },
     "metadata": {},
     "output_type": "display_data"
    },
    {
     "data": {
      "text/html": [
       "<html><script type=\"math/tex; mode=display\">\\newcommand{\\Bold}[1]{\\mathbf{#1}}\\verb|P|\\verb| |\\verb|=| \\left(\\begin{array}{rr}\n",
       "\\frac{1}{\\sqrt{6}} & \\frac{1}{\\sqrt{\\frac{6}{5}}} \\\\\n",
       "-\\frac{2 i + 1}{\\sqrt{6}} & \\frac{2 i + 1}{5 \\, \\sqrt{\\frac{6}{5}}}\n",
       "\\end{array}\\right)</script></html>"
      ],
      "text/latex": [
       "$$\\newcommand{\\Bold}[1]{\\mathbf{#1}}\\verb|P|\\verb| |\\verb|=| \\left(\\begin{array}{rr}\n",
       "\\frac{1}{\\sqrt{6}} & \\frac{1}{\\sqrt{\\frac{6}{5}}} \\\\\n",
       "-\\frac{2 i + 1}{\\sqrt{6}} & \\frac{2 i + 1}{5 \\, \\sqrt{\\frac{6}{5}}}\n",
       "\\end{array}\\right)$$"
      ],
      "text/plain": [
       "'P = ' [              1/sqrt(6)             1/sqrt(6/5)]\n",
       "[     -(2*I + 1)/sqrt(6) (2/5*I + 1/5)/sqrt(6/5)]"
      ]
     },
     "metadata": {},
     "output_type": "display_data"
    },
    {
     "data": {
      "text/html": [
       "<html><script type=\"math/tex; mode=display\">\\newcommand{\\Bold}[1]{\\mathbf{#1}}\\verb|D|\\verb| |\\verb|=| \\left(\\begin{array}{rr}\n",
       "-2 & 0 \\\\\n",
       "0 & 4\n",
       "\\end{array}\\right)</script></html>"
      ],
      "text/latex": [
       "$$\\newcommand{\\Bold}[1]{\\mathbf{#1}}\\verb|D|\\verb| |\\verb|=| \\left(\\begin{array}{rr}\n",
       "-2 & 0 \\\\\n",
       "0 & 4\n",
       "\\end{array}\\right)$$"
      ],
      "text/plain": [
       "'D = ' [-2  0]\n",
       "[ 0  4]"
      ]
     },
     "metadata": {},
     "output_type": "display_data"
    },
    {
     "data": {
      "text/latex": [
       "$\\displaystyle P \\cdot D \\cdot P^* =$"
      ],
      "text/plain": [
       "<IPython.core.display.Math object>"
      ]
     },
     "metadata": {},
     "output_type": "display_data"
    },
    {
     "data": {
      "text/html": [
       "<html><script type=\"math/tex; mode=display\">\\newcommand{\\Bold}[1]{\\mathbf{#1}}\\left(\\begin{array}{rr}\n",
       "3 & -2 i + 1 \\\\\n",
       "2 i + 1 & -1\n",
       "\\end{array}\\right)</script></html>"
      ],
      "text/latex": [
       "$$\\newcommand{\\Bold}[1]{\\mathbf{#1}}\\left(\\begin{array}{rr}\n",
       "3 & -2 i + 1 \\\\\n",
       "2 i + 1 & -1\n",
       "\\end{array}\\right)$$"
      ],
      "text/plain": [
       "[       3 -2*I + 1]\n",
       "[ 2*I + 1       -1]"
      ]
     },
     "metadata": {},
     "output_type": "display_data"
    },
    {
     "data": {
      "text/latex": [
       "$\\displaystyle P^* \\cdot A \\cdot P =$"
      ],
      "text/plain": [
       "<IPython.core.display.Math object>"
      ]
     },
     "metadata": {},
     "output_type": "display_data"
    },
    {
     "data": {
      "text/html": [
       "<html><script type=\"math/tex; mode=display\">\\newcommand{\\Bold}[1]{\\mathbf{#1}}\\left(\\begin{array}{rr}\n",
       "-2 & 0 \\\\\n",
       "0 & 4\n",
       "\\end{array}\\right)</script></html>"
      ],
      "text/latex": [
       "$$\\newcommand{\\Bold}[1]{\\mathbf{#1}}\\left(\\begin{array}{rr}\n",
       "-2 & 0 \\\\\n",
       "0 & 4\n",
       "\\end{array}\\right)$$"
      ],
      "text/plain": [
       "[-2  0]\n",
       "[ 0  4]"
      ]
     },
     "metadata": {},
     "output_type": "display_data"
    }
   ],
   "source": [
    "# Hermitian matrix.\n",
    "A = matrix(SR, [[3, 1 - 2*I], [1 + 2*I, -1]])\n",
    "show(\"A = \", A)\n",
    "\n",
    "P, D = spectral_theorem(A)\n",
    "show(\"P = \", P)\n",
    "show(\"D = \", D)\n",
    "display(Math(r\"P \\cdot D \\cdot P^* =\"))\n",
    "show(P * D * P.conjugate_transpose())\n",
    "display(Math(r\"P^* \\cdot A \\cdot P =\"))\n",
    "show(P.conjugate_transpose() * A * P)"
   ]
  },
  {
   "cell_type": "code",
   "execution_count": 31,
   "id": "73809cb3",
   "metadata": {},
   "outputs": [
    {
     "data": {
      "text/html": [
       "<html><script type=\"math/tex; mode=display\">\\newcommand{\\Bold}[1]{\\mathbf{#1}}\\verb|A|\\verb| |\\verb|=| \\left(\\begin{array}{rr}\n",
       "\\frac{1}{2} \\, \\sqrt{2} & \\frac{1}{2} \\, \\sqrt{2} \\\\\n",
       "\\frac{1}{2} i \\, \\sqrt{2} & -\\frac{1}{2} i \\, \\sqrt{2}\n",
       "\\end{array}\\right)</script></html>"
      ],
      "text/latex": [
       "$$\\newcommand{\\Bold}[1]{\\mathbf{#1}}\\verb|A|\\verb| |\\verb|=| \\left(\\begin{array}{rr}\n",
       "\\frac{1}{2} \\, \\sqrt{2} & \\frac{1}{2} \\, \\sqrt{2} \\\\\n",
       "\\frac{1}{2} i \\, \\sqrt{2} & -\\frac{1}{2} i \\, \\sqrt{2}\n",
       "\\end{array}\\right)$$"
      ],
      "text/plain": [
       "'A = ' [   1/2*sqrt(2)    1/2*sqrt(2)]\n",
       "[ 1/2*I*sqrt(2) -1/2*I*sqrt(2)]"
      ]
     },
     "metadata": {},
     "output_type": "display_data"
    },
    {
     "data": {
      "text/html": [
       "<html><script type=\"math/tex; mode=display\">\\newcommand{\\Bold}[1]{\\mathbf{#1}}\\verb|P|\\verb| |\\verb|=| \\left(\\begin{array}{rr}\n",
       "\\frac{1}{\\sqrt{\\sqrt{3} + 3}} & \\frac{1}{\\sqrt{-\\sqrt{3} + 3}} \\\\\n",
       "-\\frac{\\sqrt{2} \\sqrt{3 i} + i + 1}{2 \\, \\sqrt{\\sqrt{3} + 3}} & \\frac{\\sqrt{2} \\sqrt{3 i} - i - 1}{2 \\, \\sqrt{-\\sqrt{3} + 3}}\n",
       "\\end{array}\\right)</script></html>"
      ],
      "text/latex": [
       "$$\\newcommand{\\Bold}[1]{\\mathbf{#1}}\\verb|P|\\verb| |\\verb|=| \\left(\\begin{array}{rr}\n",
       "\\frac{1}{\\sqrt{\\sqrt{3} + 3}} & \\frac{1}{\\sqrt{-\\sqrt{3} + 3}} \\\\\n",
       "-\\frac{\\sqrt{2} \\sqrt{3 i} + i + 1}{2 \\, \\sqrt{\\sqrt{3} + 3}} & \\frac{\\sqrt{2} \\sqrt{3 i} - i - 1}{2 \\, \\sqrt{-\\sqrt{3} + 3}}\n",
       "\\end{array}\\right)$$"
      ],
      "text/plain": [
       "'P = ' [                               1/sqrt(sqrt(3) + 3)                               1/sqrt(-sqrt(3) + 3)]\n",
       "[-1/2*(sqrt(2)*sqrt(3*I) + I + 1)/sqrt(sqrt(3) + 3) 1/2*(sqrt(2)*sqrt(3*I) - I - 1)/sqrt(-sqrt(3) + 3)]"
      ]
     },
     "metadata": {},
     "output_type": "display_data"
    },
    {
     "data": {
      "text/html": [
       "<html><script type=\"math/tex; mode=display\">\\newcommand{\\Bold}[1]{\\mathbf{#1}}\\verb|D|\\verb| |\\verb|=| \\left(\\begin{array}{rr}\n",
       "-\\left(\\frac{1}{4} i - \\frac{1}{4}\\right) \\, \\sqrt{2} - \\frac{1}{2} \\, \\sqrt{3 i} & 0 \\\\\n",
       "0 & -\\left(\\frac{1}{4} i - \\frac{1}{4}\\right) \\, \\sqrt{2} + \\frac{1}{2} \\, \\sqrt{3 i}\n",
       "\\end{array}\\right)</script></html>"
      ],
      "text/latex": [
       "$$\\newcommand{\\Bold}[1]{\\mathbf{#1}}\\verb|D|\\verb| |\\verb|=| \\left(\\begin{array}{rr}\n",
       "-\\left(\\frac{1}{4} i - \\frac{1}{4}\\right) \\, \\sqrt{2} - \\frac{1}{2} \\, \\sqrt{3 i} & 0 \\\\\n",
       "0 & -\\left(\\frac{1}{4} i - \\frac{1}{4}\\right) \\, \\sqrt{2} + \\frac{1}{2} \\, \\sqrt{3 i}\n",
       "\\end{array}\\right)$$"
      ],
      "text/plain": [
       "'D = ' [-(1/4*I - 1/4)*sqrt(2) - 1/2*sqrt(3*I)                                      0]\n",
       "[                                     0 -(1/4*I - 1/4)*sqrt(2) + 1/2*sqrt(3*I)]"
      ]
     },
     "metadata": {},
     "output_type": "display_data"
    },
    {
     "data": {
      "text/latex": [
       "$\\displaystyle P \\cdot D \\cdot P^* =$"
      ],
      "text/plain": [
       "<IPython.core.display.Math object>"
      ]
     },
     "metadata": {},
     "output_type": "display_data"
    },
    {
     "data": {
      "text/html": [
       "<html><script type=\"math/tex; mode=display\">\\newcommand{\\Bold}[1]{\\mathbf{#1}}\\left(\\begin{array}{rr}\n",
       "\\frac{1}{12} \\, \\sqrt{3} {\\left(-\\left(i - 1\\right) \\, \\sqrt{3} \\sqrt{2} + 2 \\, \\sqrt{3 i}\\right)} & \\frac{1}{24} \\, \\sqrt{2} {\\left(-\\left(i - 1\\right) \\, \\sqrt{3} \\sqrt{2} \\sqrt{-3 i} + \\sqrt{3 i} {\\left(\\left(i - 1\\right) \\, \\sqrt{3} \\sqrt{2} + 6 \\, \\sqrt{-3 i}\\right)} + 6 i\\right)} \\\\\n",
       "\\frac{1}{12} \\, \\sqrt{3} {\\left(\\left(3 i - 1\\right) \\, \\sqrt{3} \\sqrt{2} - 2 i \\, \\sqrt{3 i}\\right)} & -\\frac{1}{12} \\, \\sqrt{3 i} {\\left(3 i \\, \\sqrt{2} \\sqrt{-3 i} - \\left(i + 1\\right) \\, \\sqrt{3}\\right)} + \\left(\\frac{1}{4} i - \\frac{1}{12}\\right) \\, \\sqrt{3} \\sqrt{-3 i} - \\left(\\frac{1}{2} i + \\frac{1}{4}\\right) \\, \\sqrt{2}\n",
       "\\end{array}\\right)</script></html>"
      ],
      "text/latex": [
       "$$\\newcommand{\\Bold}[1]{\\mathbf{#1}}\\left(\\begin{array}{rr}\n",
       "\\frac{1}{12} \\, \\sqrt{3} {\\left(-\\left(i - 1\\right) \\, \\sqrt{3} \\sqrt{2} + 2 \\, \\sqrt{3 i}\\right)} & \\frac{1}{24} \\, \\sqrt{2} {\\left(-\\left(i - 1\\right) \\, \\sqrt{3} \\sqrt{2} \\sqrt{-3 i} + \\sqrt{3 i} {\\left(\\left(i - 1\\right) \\, \\sqrt{3} \\sqrt{2} + 6 \\, \\sqrt{-3 i}\\right)} + 6 i\\right)} \\\\\n",
       "\\frac{1}{12} \\, \\sqrt{3} {\\left(\\left(3 i - 1\\right) \\, \\sqrt{3} \\sqrt{2} - 2 i \\, \\sqrt{3 i}\\right)} & -\\frac{1}{12} \\, \\sqrt{3 i} {\\left(3 i \\, \\sqrt{2} \\sqrt{-3 i} - \\left(i + 1\\right) \\, \\sqrt{3}\\right)} + \\left(\\frac{1}{4} i - \\frac{1}{12}\\right) \\, \\sqrt{3} \\sqrt{-3 i} - \\left(\\frac{1}{2} i + \\frac{1}{4}\\right) \\, \\sqrt{2}\n",
       "\\end{array}\\right)$$"
      ],
      "text/plain": [
       "[                                                                 1/12*sqrt(3)*(-(I - 1)*sqrt(3)*sqrt(2) + 2*sqrt(3*I))          1/24*sqrt(2)*(-(I - 1)*sqrt(3)*sqrt(2)*sqrt(-3*I) + sqrt(3*I)*((I - 1)*sqrt(3)*sqrt(2) + 6*sqrt(-3*I)) + 6*I)]\n",
       "[                                                              1/12*sqrt(3)*((3*I - 1)*sqrt(3)*sqrt(2) - 2*I*sqrt(3*I)) -1/12*sqrt(3*I)*(3*I*sqrt(2)*sqrt(-3*I) - (I + 1)*sqrt(3)) + (1/4*I - 1/12)*sqrt(3)*sqrt(-3*I) - (1/2*I + 1/4)*sqrt(2)]"
      ]
     },
     "metadata": {},
     "output_type": "display_data"
    },
    {
     "data": {
      "text/latex": [
       "$\\displaystyle P^* \\cdot A \\cdot P =$"
      ],
      "text/plain": [
       "<IPython.core.display.Math object>"
      ]
     },
     "metadata": {},
     "output_type": "display_data"
    },
    {
     "data": {
      "text/html": [
       "<html><script type=\"math/tex; mode=display\">\\newcommand{\\Bold}[1]{\\mathbf{#1}}\\left(\\begin{array}{rr}\n",
       "-\\frac{\\sqrt{3 i} {\\left(i \\, \\sqrt{-3 i} {\\left(\\sqrt{3} \\sqrt{2} + 3 \\, \\sqrt{2}\\right)} + \\left(i + 3\\right) \\, \\sqrt{3} + 3 i + 9\\right)} + \\sqrt{-3 i} {\\left(\\left(3 i - 1\\right) \\, \\sqrt{3} + 9 i - 3\\right)} + 3 i \\, \\sqrt{3} \\sqrt{2} + 9 i \\, \\sqrt{2}}{24 \\, {\\left(\\sqrt{3} + 2\\right)}} & \\frac{1}{24} \\, {\\left(\\sqrt{3 i} {\\left(i \\, \\sqrt{2} \\sqrt{-3 i} + i + 3\\right)} - 3 i \\, \\sqrt{2} - \\left(3 i - 1\\right) \\, \\sqrt{-3 i}\\right)} \\sqrt{\\sqrt{3} + 3} \\sqrt{-\\sqrt{3} + 3} \\\\\n",
       "\\frac{1}{24} \\, {\\left(\\sqrt{3 i} {\\left(i \\, \\sqrt{2} \\sqrt{-3 i} - i - 3\\right)} - 3 i \\, \\sqrt{2} + \\left(3 i - 1\\right) \\, \\sqrt{-3 i}\\right)} \\sqrt{\\sqrt{3} + 3} \\sqrt{-\\sqrt{3} + 3} & -\\frac{\\sqrt{3 i} {\\left(i \\, \\sqrt{-3 i} {\\left(\\sqrt{3} \\sqrt{2} - 3 \\, \\sqrt{2}\\right)} - \\left(i + 3\\right) \\, \\sqrt{3} + 3 i + 9\\right)} + \\sqrt{-3 i} {\\left(-\\left(3 i - 1\\right) \\, \\sqrt{3} + 9 i - 3\\right)} + 3 i \\, \\sqrt{3} \\sqrt{2} - 9 i \\, \\sqrt{2}}{24 \\, {\\left(\\sqrt{3} - 2\\right)}}\n",
       "\\end{array}\\right)</script></html>"
      ],
      "text/latex": [
       "$$\\newcommand{\\Bold}[1]{\\mathbf{#1}}\\left(\\begin{array}{rr}\n",
       "-\\frac{\\sqrt{3 i} {\\left(i \\, \\sqrt{-3 i} {\\left(\\sqrt{3} \\sqrt{2} + 3 \\, \\sqrt{2}\\right)} + \\left(i + 3\\right) \\, \\sqrt{3} + 3 i + 9\\right)} + \\sqrt{-3 i} {\\left(\\left(3 i - 1\\right) \\, \\sqrt{3} + 9 i - 3\\right)} + 3 i \\, \\sqrt{3} \\sqrt{2} + 9 i \\, \\sqrt{2}}{24 \\, {\\left(\\sqrt{3} + 2\\right)}} & \\frac{1}{24} \\, {\\left(\\sqrt{3 i} {\\left(i \\, \\sqrt{2} \\sqrt{-3 i} + i + 3\\right)} - 3 i \\, \\sqrt{2} - \\left(3 i - 1\\right) \\, \\sqrt{-3 i}\\right)} \\sqrt{\\sqrt{3} + 3} \\sqrt{-\\sqrt{3} + 3} \\\\\n",
       "\\frac{1}{24} \\, {\\left(\\sqrt{3 i} {\\left(i \\, \\sqrt{2} \\sqrt{-3 i} - i - 3\\right)} - 3 i \\, \\sqrt{2} + \\left(3 i - 1\\right) \\, \\sqrt{-3 i}\\right)} \\sqrt{\\sqrt{3} + 3} \\sqrt{-\\sqrt{3} + 3} & -\\frac{\\sqrt{3 i} {\\left(i \\, \\sqrt{-3 i} {\\left(\\sqrt{3} \\sqrt{2} - 3 \\, \\sqrt{2}\\right)} - \\left(i + 3\\right) \\, \\sqrt{3} + 3 i + 9\\right)} + \\sqrt{-3 i} {\\left(-\\left(3 i - 1\\right) \\, \\sqrt{3} + 9 i - 3\\right)} + 3 i \\, \\sqrt{3} \\sqrt{2} - 9 i \\, \\sqrt{2}}{24 \\, {\\left(\\sqrt{3} - 2\\right)}}\n",
       "\\end{array}\\right)$$"
      ],
      "text/plain": [
       "[ -1/24*(sqrt(3*I)*(I*sqrt(-3*I)*(sqrt(3)*sqrt(2) + 3*sqrt(2)) + (I + 3)*sqrt(3) + 3*I + 9) + sqrt(-3*I)*((3*I - 1)*sqrt(3) + 9*I - 3) + 3*I*sqrt(3)*sqrt(2) + 9*I*sqrt(2))/(sqrt(3) + 2)                                                                1/24*(sqrt(3*I)*(I*sqrt(2)*sqrt(-3*I) + I + 3) - 3*I*sqrt(2) - (3*I - 1)*sqrt(-3*I))*sqrt(sqrt(3) + 3)*sqrt(-sqrt(3) + 3)]\n",
       "[                                                               1/24*(sqrt(3*I)*(I*sqrt(2)*sqrt(-3*I) - I - 3) - 3*I*sqrt(2) + (3*I - 1)*sqrt(-3*I))*sqrt(sqrt(3) + 3)*sqrt(-sqrt(3) + 3) -1/24*(sqrt(3*I)*(I*sqrt(-3*I)*(sqrt(3)*sqrt(2) - 3*sqrt(2)) - (I + 3)*sqrt(3) + 3*I + 9) + sqrt(-3*I)*(-(3*I - 1)*sqrt(3) + 9*I - 3) + 3*I*sqrt(3)*sqrt(2) - 9*I*sqrt(2))/(sqrt(3) - 2)]"
      ]
     },
     "metadata": {},
     "output_type": "display_data"
    }
   ],
   "source": [
    "# Unitary matrix over the complex field.\n",
    "A = matrix(SR, [[1/sqrt(2), 1/sqrt(2)], [I/sqrt(2), -I/sqrt(2)]])\n",
    "show(\"A = \", A)\n",
    "\n",
    "P, D = spectral_theorem(A)\n",
    "P = P.simplify_full()\n",
    "show(\"P = \", P)\n",
    "show(\"D = \", D)\n",
    "display(Math(r\"P \\cdot D \\cdot P^* =\"))\n",
    "show((P * D * P.conjugate_transpose()).simplify_full())\n",
    "display(Math(r\"P^* \\cdot A \\cdot P =\"))\n",
    "show((P.conjugate_transpose() * A * P).simplify_full())"
   ]
  },
  {
   "cell_type": "code",
   "execution_count": 24,
   "id": "002ff27e",
   "metadata": {},
   "outputs": [
    {
     "data": {
      "text/html": [
       "<html><script type=\"math/tex; mode=display\">\\newcommand{\\Bold}[1]{\\mathbf{#1}}\\verb|A|\\verb| |\\verb|=| \\left(\\begin{array}{rrr}\n",
       "1 & 7 & 3 \\\\\n",
       "7 & 4 & 5 \\\\\n",
       "3 & 5 & 2\n",
       "\\end{array}\\right)</script></html>"
      ],
      "text/latex": [
       "$$\\newcommand{\\Bold}[1]{\\mathbf{#1}}\\verb|A|\\verb| |\\verb|=| \\left(\\begin{array}{rrr}\n",
       "1 & 7 & 3 \\\\\n",
       "7 & 4 & 5 \\\\\n",
       "3 & 5 & 2\n",
       "\\end{array}\\right)$$"
      ],
      "text/plain": [
       "'A = ' [1 7 3]\n",
       "[7 4 5]\n",
       "[3 5 2]"
      ]
     },
     "metadata": {},
     "output_type": "display_data"
    },
    {
     "data": {
      "text/html": [
       "<html><script type=\"math/tex; mode=display\">\\newcommand{\\Bold}[1]{\\mathbf{#1}}\\verb|P|\\verb| |\\verb|=| \\left(\\begin{array}{rrr}\n",
       "0.7190661678538667? & 0.4419300493194164? & 0.5363223636550065? \\\\\n",
       "-0.6720730235880483? & 0.2458718069651456? & 0.698473267566421? \\\\\n",
       "0.1768097769162479? & -0.8626962884168637? & 0.4738073624782483?\n",
       "\\end{array}\\right)</script></html>"
      ],
      "text/latex": [
       "$$\\newcommand{\\Bold}[1]{\\mathbf{#1}}\\verb|P|\\verb| |\\verb|=| \\left(\\begin{array}{rrr}\n",
       "0.7190661678538667? & 0.4419300493194164? & 0.5363223636550065? \\\\\n",
       "-0.6720730235880483? & 0.2458718069651456? & 0.698473267566421? \\\\\n",
       "0.1768097769162479? & -0.8626962884168637? & 0.4738073624782483?\n",
       "\\end{array}\\right)$$"
      ],
      "text/plain": [
       "'P = ' [ 0.7190661678538667?  0.4419300493194164?  0.5363223636550065?]\n",
       "[-0.6720730235880483?  0.2458718069651456?   0.698473267566421?]\n",
       "[ 0.1768097769162479? -0.8626962884168637?  0.4738073624782483?]"
      ]
     },
     "metadata": {},
     "output_type": "display_data"
    },
    {
     "data": {
      "text/html": [
       "<html><script type=\"math/tex; mode=display\">\\newcommand{\\Bold}[1]{\\mathbf{#1}}\\verb|D|\\verb| |\\verb|=| \\left(\\begin{array}{rrr}\n",
       "-4.804864727297083? & 0 & 0 \\\\\n",
       "0 & -0.9618177533520375? & 0 \\\\\n",
       "0 & 0 & 12.76668248064912?\n",
       "\\end{array}\\right)</script></html>"
      ],
      "text/latex": [
       "$$\\newcommand{\\Bold}[1]{\\mathbf{#1}}\\verb|D|\\verb| |\\verb|=| \\left(\\begin{array}{rrr}\n",
       "-4.804864727297083? & 0 & 0 \\\\\n",
       "0 & -0.9618177533520375? & 0 \\\\\n",
       "0 & 0 & 12.76668248064912?\n",
       "\\end{array}\\right)$$"
      ],
      "text/plain": [
       "'D = ' [ -4.804864727297083?                    0                    0]\n",
       "[                   0 -0.9618177533520375?                    0]\n",
       "[                   0                    0   12.76668248064912?]"
      ]
     },
     "metadata": {},
     "output_type": "display_data"
    },
    {
     "data": {
      "text/latex": [
       "$\\displaystyle P \\cdot D \\cdot P^t =$"
      ],
      "text/plain": [
       "<IPython.core.display.Math object>"
      ]
     },
     "metadata": {},
     "output_type": "display_data"
    },
    {
     "data": {
      "text/html": [
       "<html><script type=\"math/tex; mode=display\">\\newcommand{\\Bold}[1]{\\mathbf{#1}}\\left(\\begin{array}{rrr}\n",
       "1.000000000000000? & 7.000000000000000? & 3.000000000000000? \\\\\n",
       "7.000000000000000? & 4.000000000000000? & 5.000000000000000? \\\\\n",
       "3.000000000000000? & 5.000000000000000? & 2.000000000000000?\n",
       "\\end{array}\\right)</script></html>"
      ],
      "text/latex": [
       "$$\\newcommand{\\Bold}[1]{\\mathbf{#1}}\\left(\\begin{array}{rrr}\n",
       "1.000000000000000? & 7.000000000000000? & 3.000000000000000? \\\\\n",
       "7.000000000000000? & 4.000000000000000? & 5.000000000000000? \\\\\n",
       "3.000000000000000? & 5.000000000000000? & 2.000000000000000?\n",
       "\\end{array}\\right)$$"
      ],
      "text/plain": [
       "[1.000000000000000? 7.000000000000000? 3.000000000000000?]\n",
       "[7.000000000000000? 4.000000000000000? 5.000000000000000?]\n",
       "[3.000000000000000? 5.000000000000000? 2.000000000000000?]"
      ]
     },
     "metadata": {},
     "output_type": "display_data"
    },
    {
     "data": {
      "text/latex": [
       "$\\displaystyle P^t \\cdot A \\cdot P =$"
      ],
      "text/plain": [
       "<IPython.core.display.Math object>"
      ]
     },
     "metadata": {},
     "output_type": "display_data"
    },
    {
     "data": {
      "text/html": [
       "<html><script type=\"math/tex; mode=display\">\\newcommand{\\Bold}[1]{\\mathbf{#1}}\\left(\\begin{array}{rrr}\n",
       "-4.804864727297083? & 0.?e-16 & 0.?e-16 \\\\\n",
       "0.?e-17 & -0.9618177533520375? & 0.?e-17 \\\\\n",
       "0.?e-16 & 0.?e-16 & 12.76668248064912?\n",
       "\\end{array}\\right)</script></html>"
      ],
      "text/latex": [
       "$$\\newcommand{\\Bold}[1]{\\mathbf{#1}}\\left(\\begin{array}{rrr}\n",
       "-4.804864727297083? & 0.?e-16 & 0.?e-16 \\\\\n",
       "0.?e-17 & -0.9618177533520375? & 0.?e-17 \\\\\n",
       "0.?e-16 & 0.?e-16 & 12.76668248064912?\n",
       "\\end{array}\\right)$$"
      ],
      "text/plain": [
       "[ -4.804864727297083?              0.?e-16              0.?e-16]\n",
       "[             0.?e-17 -0.9618177533520375?              0.?e-17]\n",
       "[             0.?e-16              0.?e-16   12.76668248064912?]"
      ]
     },
     "metadata": {},
     "output_type": "display_data"
    }
   ],
   "source": [
    "# Symmetric matrix.\n",
    "A = matrix(QQ, [[1, 7, 3], [7, 4, 5], [3, 5, 2]])\n",
    "show(\"A = \", A)\n",
    "\n",
    "P, D = spectral_theorem(A, False)\n",
    "show(\"P = \", P)\n",
    "show(\"D = \", D)\n",
    "display(Math(r\"P \\cdot D \\cdot P^t =\"))\n",
    "show(P * D * P.conjugate_transpose())\n",
    "display(Math(r\"P^t \\cdot A \\cdot P =\"))\n",
    "show(P.conjugate_transpose() * A * P)"
   ]
  },
  {
   "cell_type": "code",
   "execution_count": 18,
   "id": "8e53a312",
   "metadata": {},
   "outputs": [
    {
     "data": {
      "text/html": [
       "<html><script type=\"math/tex; mode=display\">\\newcommand{\\Bold}[1]{\\mathbf{#1}}\\verb|A|\\verb| |\\verb|=| \\left(\\begin{array}{rrrr}\n",
       "2 & 0 & 3 & 1 \\\\\n",
       "0 & 2 & 1 & 3 \\\\\n",
       "-3 & -1 & 2 & 0 \\\\\n",
       "-1 & -3 & 0 & 2\n",
       "\\end{array}\\right)</script></html>"
      ],
      "text/latex": [
       "$$\\newcommand{\\Bold}[1]{\\mathbf{#1}}\\verb|A|\\verb| |\\verb|=| \\left(\\begin{array}{rrrr}\n",
       "2 & 0 & 3 & 1 \\\\\n",
       "0 & 2 & 1 & 3 \\\\\n",
       "-3 & -1 & 2 & 0 \\\\\n",
       "-1 & -3 & 0 & 2\n",
       "\\end{array}\\right)$$"
      ],
      "text/plain": [
       "'A = ' [ 2  0  3  1]\n",
       "[ 0  2  1  3]\n",
       "[-3 -1  2  0]\n",
       "[-1 -3  0  2]"
      ]
     },
     "metadata": {},
     "output_type": "display_data"
    },
    {
     "data": {
      "text/html": [
       "<html><script type=\"math/tex; mode=display\">\\newcommand{\\Bold}[1]{\\mathbf{#1}}\\verb|P|\\verb| |\\verb|=| \\left(\\begin{array}{rrrr}\n",
       "\\frac{1}{2} \\, \\sqrt{2} & 0 & \\frac{1}{2} \\, \\sqrt{2} & 0 \\\\\n",
       "\\frac{1}{2} \\, \\sqrt{2} & 0 & -\\frac{1}{2} \\, \\sqrt{2} & 0 \\\\\n",
       "0 & -\\frac{1}{2} \\, \\sqrt{2} & 0 & -\\frac{1}{2} \\, \\sqrt{2} \\\\\n",
       "0 & -\\frac{1}{2} \\, \\sqrt{2} & 0 & \\frac{1}{2} \\, \\sqrt{2}\n",
       "\\end{array}\\right)</script></html>"
      ],
      "text/latex": [
       "$$\\newcommand{\\Bold}[1]{\\mathbf{#1}}\\verb|P|\\verb| |\\verb|=| \\left(\\begin{array}{rrrr}\n",
       "\\frac{1}{2} \\, \\sqrt{2} & 0 & \\frac{1}{2} \\, \\sqrt{2} & 0 \\\\\n",
       "\\frac{1}{2} \\, \\sqrt{2} & 0 & -\\frac{1}{2} \\, \\sqrt{2} & 0 \\\\\n",
       "0 & -\\frac{1}{2} \\, \\sqrt{2} & 0 & -\\frac{1}{2} \\, \\sqrt{2} \\\\\n",
       "0 & -\\frac{1}{2} \\, \\sqrt{2} & 0 & \\frac{1}{2} \\, \\sqrt{2}\n",
       "\\end{array}\\right)$$"
      ],
      "text/plain": [
       "'P = ' [ 1/2*sqrt(2)            0  1/2*sqrt(2)            0]\n",
       "[ 1/2*sqrt(2)            0 -1/2*sqrt(2)            0]\n",
       "[           0 -1/2*sqrt(2)            0 -1/2*sqrt(2)]\n",
       "[           0 -1/2*sqrt(2)            0  1/2*sqrt(2)]"
      ]
     },
     "metadata": {},
     "output_type": "display_data"
    },
    {
     "data": {
      "text/html": [
       "<html><script type=\"math/tex; mode=display\">\\newcommand{\\Bold}[1]{\\mathbf{#1}}\\verb|D|\\verb| |\\verb|=| \\left(\\begin{array}{rrrr}\n",
       "2 & -4 & 0 & 0 \\\\\n",
       "4 & 2 & 0 & 0 \\\\\n",
       "0 & 0 & 2 & -2 \\\\\n",
       "0 & 0 & 2 & 2\n",
       "\\end{array}\\right)</script></html>"
      ],
      "text/latex": [
       "$$\\newcommand{\\Bold}[1]{\\mathbf{#1}}\\verb|D|\\verb| |\\verb|=| \\left(\\begin{array}{rrrr}\n",
       "2 & -4 & 0 & 0 \\\\\n",
       "4 & 2 & 0 & 0 \\\\\n",
       "0 & 0 & 2 & -2 \\\\\n",
       "0 & 0 & 2 & 2\n",
       "\\end{array}\\right)$$"
      ],
      "text/plain": [
       "'D = ' [ 2 -4  0  0]\n",
       "[ 4  2  0  0]\n",
       "[ 0  0  2 -2]\n",
       "[ 0  0  2  2]"
      ]
     },
     "metadata": {},
     "output_type": "display_data"
    },
    {
     "data": {
      "text/latex": [
       "$\\displaystyle P \\cdot D \\cdot P^t =$"
      ],
      "text/plain": [
       "<IPython.core.display.Math object>"
      ]
     },
     "metadata": {},
     "output_type": "display_data"
    },
    {
     "data": {
      "text/html": [
       "<html><script type=\"math/tex; mode=display\">\\newcommand{\\Bold}[1]{\\mathbf{#1}}\\left(\\begin{array}{rrrr}\n",
       "2 & 0 & 3 & 1 \\\\\n",
       "0 & 2 & 1 & 3 \\\\\n",
       "-3 & -1 & 2 & 0 \\\\\n",
       "-1 & -3 & 0 & 2\n",
       "\\end{array}\\right)</script></html>"
      ],
      "text/latex": [
       "$$\\newcommand{\\Bold}[1]{\\mathbf{#1}}\\left(\\begin{array}{rrrr}\n",
       "2 & 0 & 3 & 1 \\\\\n",
       "0 & 2 & 1 & 3 \\\\\n",
       "-3 & -1 & 2 & 0 \\\\\n",
       "-1 & -3 & 0 & 2\n",
       "\\end{array}\\right)$$"
      ],
      "text/plain": [
       "[ 2  0  3  1]\n",
       "[ 0  2  1  3]\n",
       "[-3 -1  2  0]\n",
       "[-1 -3  0  2]"
      ]
     },
     "metadata": {},
     "output_type": "display_data"
    },
    {
     "data": {
      "text/latex": [
       "$\\displaystyle P^t \\cdot A \\cdot P =$"
      ],
      "text/plain": [
       "<IPython.core.display.Math object>"
      ]
     },
     "metadata": {},
     "output_type": "display_data"
    },
    {
     "data": {
      "text/html": [
       "<html><script type=\"math/tex; mode=display\">\\newcommand{\\Bold}[1]{\\mathbf{#1}}\\left(\\begin{array}{rrrr}\n",
       "2 & -4 & 0 & 0 \\\\\n",
       "4 & 2 & 0 & 0 \\\\\n",
       "0 & 0 & 2 & -2 \\\\\n",
       "0 & 0 & 2 & 2\n",
       "\\end{array}\\right)</script></html>"
      ],
      "text/latex": [
       "$$\\newcommand{\\Bold}[1]{\\mathbf{#1}}\\left(\\begin{array}{rrrr}\n",
       "2 & -4 & 0 & 0 \\\\\n",
       "4 & 2 & 0 & 0 \\\\\n",
       "0 & 0 & 2 & -2 \\\\\n",
       "0 & 0 & 2 & 2\n",
       "\\end{array}\\right)$$"
      ],
      "text/plain": [
       "[ 2 -4  0  0]\n",
       "[ 4  2  0  0]\n",
       "[ 0  0  2 -2]\n",
       "[ 0  0  2  2]"
      ]
     },
     "metadata": {},
     "output_type": "display_data"
    }
   ],
   "source": [
    "# Normal matrix over the real field.\n",
    "A = matrix(SR, [[2, 0, 3, 1], [0, 2, 1, 3], [-3, -1, 2, 0], [-1, -3, 0, 2]])\n",
    "show(\"A = \", A)\n",
    "\n",
    "P, D = spectral_theorem(A, False)\n",
    "show(\"P = \", P)\n",
    "show(\"D = \", D)\n",
    "display(Math(r\"P \\cdot D \\cdot P^t =\"))\n",
    "show(P * D * P.conjugate_transpose())\n",
    "display(Math(r\"P^t \\cdot A \\cdot P =\"))\n",
    "show(P.conjugate_transpose() * A * P)"
   ]
  },
  {
   "cell_type": "code",
   "execution_count": 17,
   "id": "61d1b04c",
   "metadata": {},
   "outputs": [
    {
     "data": {
      "text/html": [
       "<html><script type=\"math/tex; mode=display\">\\newcommand{\\Bold}[1]{\\mathbf{#1}}\\verb|A|\\verb| |\\verb|=| \\left(\\begin{array}{rrrr}\n",
       "0 & 0 & 0 & 1 \\\\\n",
       "0 & 0 & 1 & 0 \\\\\n",
       "1 & 0 & 0 & 0 \\\\\n",
       "0 & 1 & 0 & 0\n",
       "\\end{array}\\right)</script></html>"
      ],
      "text/latex": [
       "$$\\newcommand{\\Bold}[1]{\\mathbf{#1}}\\verb|A|\\verb| |\\verb|=| \\left(\\begin{array}{rrrr}\n",
       "0 & 0 & 0 & 1 \\\\\n",
       "0 & 0 & 1 & 0 \\\\\n",
       "1 & 0 & 0 & 0 \\\\\n",
       "0 & 1 & 0 & 0\n",
       "\\end{array}\\right)$$"
      ],
      "text/plain": [
       "'A = ' [0 0 0 1]\n",
       "[0 0 1 0]\n",
       "[1 0 0 0]\n",
       "[0 1 0 0]"
      ]
     },
     "metadata": {},
     "output_type": "display_data"
    },
    {
     "data": {
      "text/html": [
       "<html><script type=\"math/tex; mode=display\">\\newcommand{\\Bold}[1]{\\mathbf{#1}}\\verb|P|\\verb| |\\verb|=| \\left(\\begin{array}{rrrr}\n",
       "\\frac{1}{2} & \\frac{1}{2} & \\frac{1}{2} \\, \\sqrt{2} & 0 \\\\\n",
       "\\frac{1}{2} & \\frac{1}{2} & -\\frac{1}{2} \\, \\sqrt{2} & 0 \\\\\n",
       "-\\frac{1}{2} & \\frac{1}{2} & 0 & -\\frac{1}{2} \\, \\sqrt{2} \\\\\n",
       "-\\frac{1}{2} & \\frac{1}{2} & 0 & \\frac{1}{2} \\, \\sqrt{2}\n",
       "\\end{array}\\right)</script></html>"
      ],
      "text/latex": [
       "$$\\newcommand{\\Bold}[1]{\\mathbf{#1}}\\verb|P|\\verb| |\\verb|=| \\left(\\begin{array}{rrrr}\n",
       "\\frac{1}{2} & \\frac{1}{2} & \\frac{1}{2} \\, \\sqrt{2} & 0 \\\\\n",
       "\\frac{1}{2} & \\frac{1}{2} & -\\frac{1}{2} \\, \\sqrt{2} & 0 \\\\\n",
       "-\\frac{1}{2} & \\frac{1}{2} & 0 & -\\frac{1}{2} \\, \\sqrt{2} \\\\\n",
       "-\\frac{1}{2} & \\frac{1}{2} & 0 & \\frac{1}{2} \\, \\sqrt{2}\n",
       "\\end{array}\\right)$$"
      ],
      "text/plain": [
       "'P = ' [         1/2          1/2  1/2*sqrt(2)            0]\n",
       "[         1/2          1/2 -1/2*sqrt(2)            0]\n",
       "[        -1/2          1/2            0 -1/2*sqrt(2)]\n",
       "[        -1/2          1/2            0  1/2*sqrt(2)]"
      ]
     },
     "metadata": {},
     "output_type": "display_data"
    },
    {
     "data": {
      "text/html": [
       "<html><script type=\"math/tex; mode=display\">\\newcommand{\\Bold}[1]{\\mathbf{#1}}\\verb|D|\\verb| |\\verb|=| \\left(\\begin{array}{rrrr}\n",
       "-1 & 0 & 0 & 0 \\\\\n",
       "0 & 1 & 0 & 0 \\\\\n",
       "0 & 0 & 0 & 1 \\\\\n",
       "0 & 0 & -1 & 0\n",
       "\\end{array}\\right)</script></html>"
      ],
      "text/latex": [
       "$$\\newcommand{\\Bold}[1]{\\mathbf{#1}}\\verb|D|\\verb| |\\verb|=| \\left(\\begin{array}{rrrr}\n",
       "-1 & 0 & 0 & 0 \\\\\n",
       "0 & 1 & 0 & 0 \\\\\n",
       "0 & 0 & 0 & 1 \\\\\n",
       "0 & 0 & -1 & 0\n",
       "\\end{array}\\right)$$"
      ],
      "text/plain": [
       "'D = ' [-1  0  0  0]\n",
       "[ 0  1  0  0]\n",
       "[ 0  0  0  1]\n",
       "[ 0  0 -1  0]"
      ]
     },
     "metadata": {},
     "output_type": "display_data"
    },
    {
     "data": {
      "text/latex": [
       "$\\displaystyle P \\cdot D \\cdot P^* =$"
      ],
      "text/plain": [
       "<IPython.core.display.Math object>"
      ]
     },
     "metadata": {},
     "output_type": "display_data"
    },
    {
     "data": {
      "text/html": [
       "<html><script type=\"math/tex; mode=display\">\\newcommand{\\Bold}[1]{\\mathbf{#1}}\\left(\\begin{array}{rrrr}\n",
       "0 & 0 & 0 & 1 \\\\\n",
       "0 & 0 & 1 & 0 \\\\\n",
       "1 & 0 & 0 & 0 \\\\\n",
       "0 & 1 & 0 & 0\n",
       "\\end{array}\\right)</script></html>"
      ],
      "text/latex": [
       "$$\\newcommand{\\Bold}[1]{\\mathbf{#1}}\\left(\\begin{array}{rrrr}\n",
       "0 & 0 & 0 & 1 \\\\\n",
       "0 & 0 & 1 & 0 \\\\\n",
       "1 & 0 & 0 & 0 \\\\\n",
       "0 & 1 & 0 & 0\n",
       "\\end{array}\\right)$$"
      ],
      "text/plain": [
       "[0 0 0 1]\n",
       "[0 0 1 0]\n",
       "[1 0 0 0]\n",
       "[0 1 0 0]"
      ]
     },
     "metadata": {},
     "output_type": "display_data"
    },
    {
     "data": {
      "text/latex": [
       "$\\displaystyle P^* \\cdot A \\cdot P =$"
      ],
      "text/plain": [
       "<IPython.core.display.Math object>"
      ]
     },
     "metadata": {},
     "output_type": "display_data"
    },
    {
     "data": {
      "text/html": [
       "<html><script type=\"math/tex; mode=display\">\\newcommand{\\Bold}[1]{\\mathbf{#1}}\\left(\\begin{array}{rrrr}\n",
       "-1 & 0 & 0 & 0 \\\\\n",
       "0 & 1 & 0 & 0 \\\\\n",
       "0 & 0 & 0 & 1 \\\\\n",
       "0 & 0 & -1 & 0\n",
       "\\end{array}\\right)</script></html>"
      ],
      "text/latex": [
       "$$\\newcommand{\\Bold}[1]{\\mathbf{#1}}\\left(\\begin{array}{rrrr}\n",
       "-1 & 0 & 0 & 0 \\\\\n",
       "0 & 1 & 0 & 0 \\\\\n",
       "0 & 0 & 0 & 1 \\\\\n",
       "0 & 0 & -1 & 0\n",
       "\\end{array}\\right)$$"
      ],
      "text/plain": [
       "[-1  0  0  0]\n",
       "[ 0  1  0  0]\n",
       "[ 0  0  0  1]\n",
       "[ 0  0 -1  0]"
      ]
     },
     "metadata": {},
     "output_type": "display_data"
    }
   ],
   "source": [
    "# Orthogonal matrix.\n",
    "A = matrix(SR, [[0, 0, 0, 1], [0, 0, 1, 0], [1, 0, 0, 0], [0, 1, 0, 0]])\n",
    "show(\"A = \", A)\n",
    "\n",
    "P, D = spectral_theorem(A, False)\n",
    "show(\"P = \", P)\n",
    "show(\"D = \", D)\n",
    "display(Math(r\"P \\cdot D \\cdot P^* =\"))\n",
    "show(P * D * P.conjugate_transpose())\n",
    "display(Math(r\"P^* \\cdot A \\cdot P =\"))\n",
    "show(P.conjugate_transpose() * A * P)"
   ]
  },
  {
   "cell_type": "code",
   "execution_count": 28,
   "id": "be837ae8",
   "metadata": {},
   "outputs": [
    {
     "data": {
      "text/html": [
       "<html><script type=\"math/tex; mode=display\">\\newcommand{\\Bold}[1]{\\mathbf{#1}}\\verb|A|\\verb| |\\verb|=| \\left(\\begin{array}{rrr}\n",
       "\\frac{1}{3} & -\\frac{2}{3} & \\frac{2}{3} \\\\\n",
       "\\frac{2}{3} & -\\frac{1}{3} & -\\frac{2}{3} \\\\\n",
       "\\frac{2}{3} & \\frac{2}{3} & \\frac{1}{3}\n",
       "\\end{array}\\right)</script></html>"
      ],
      "text/latex": [
       "$$\\newcommand{\\Bold}[1]{\\mathbf{#1}}\\verb|A|\\verb| |\\verb|=| \\left(\\begin{array}{rrr}\n",
       "\\frac{1}{3} & -\\frac{2}{3} & \\frac{2}{3} \\\\\n",
       "\\frac{2}{3} & -\\frac{1}{3} & -\\frac{2}{3} \\\\\n",
       "\\frac{2}{3} & \\frac{2}{3} & \\frac{1}{3}\n",
       "\\end{array}\\right)$$"
      ],
      "text/plain": [
       "'A = ' [ 1/3 -2/3  2/3]\n",
       "[ 2/3 -1/3 -2/3]\n",
       "[ 2/3  2/3  1/3]"
      ]
     },
     "metadata": {},
     "output_type": "display_data"
    },
    {
     "data": {
      "text/html": [
       "<html><script type=\"math/tex; mode=display\">\\newcommand{\\Bold}[1]{\\mathbf{#1}}\\verb|P|\\verb| |\\verb|=| \\left(\\begin{array}{rrr}\n",
       "\\frac{1}{2} \\, \\sqrt{2} & \\frac{1}{2} \\, \\sqrt{2} & 0 \\\\\n",
       "0 & 0 & 1 \\\\\n",
       "\\frac{1}{2} \\, \\sqrt{2} & -\\frac{1}{2} \\, \\sqrt{2} & 0\n",
       "\\end{array}\\right)</script></html>"
      ],
      "text/latex": [
       "$$\\newcommand{\\Bold}[1]{\\mathbf{#1}}\\verb|P|\\verb| |\\verb|=| \\left(\\begin{array}{rrr}\n",
       "\\frac{1}{2} \\, \\sqrt{2} & \\frac{1}{2} \\, \\sqrt{2} & 0 \\\\\n",
       "0 & 0 & 1 \\\\\n",
       "\\frac{1}{2} \\, \\sqrt{2} & -\\frac{1}{2} \\, \\sqrt{2} & 0\n",
       "\\end{array}\\right)$$"
      ],
      "text/plain": [
       "'P = ' [ 1/2*sqrt(2)  1/2*sqrt(2)            0]\n",
       "[           0            0            1]\n",
       "[ 1/2*sqrt(2) -1/2*sqrt(2)            0]"
      ]
     },
     "metadata": {},
     "output_type": "display_data"
    },
    {
     "data": {
      "text/html": [
       "<html><script type=\"math/tex; mode=display\">\\newcommand{\\Bold}[1]{\\mathbf{#1}}\\verb|D|\\verb| |\\verb|=| \\left(\\begin{array}{rrr}\n",
       "1 & 0 & 0 \\\\\n",
       "0 & -\\frac{1}{3} & -\\frac{2}{3} \\, \\sqrt{2} \\\\\n",
       "0 & \\frac{2}{3} \\, \\sqrt{2} & -\\frac{1}{3}\n",
       "\\end{array}\\right)</script></html>"
      ],
      "text/latex": [
       "$$\\newcommand{\\Bold}[1]{\\mathbf{#1}}\\verb|D|\\verb| |\\verb|=| \\left(\\begin{array}{rrr}\n",
       "1 & 0 & 0 \\\\\n",
       "0 & -\\frac{1}{3} & -\\frac{2}{3} \\, \\sqrt{2} \\\\\n",
       "0 & \\frac{2}{3} \\, \\sqrt{2} & -\\frac{1}{3}\n",
       "\\end{array}\\right)$$"
      ],
      "text/plain": [
       "'D = ' [           1            0            0]\n",
       "[           0         -1/3 -2/3*sqrt(2)]\n",
       "[           0  2/3*sqrt(2)         -1/3]"
      ]
     },
     "metadata": {},
     "output_type": "display_data"
    },
    {
     "data": {
      "text/latex": [
       "$\\displaystyle P \\cdot D \\cdot P^t =$"
      ],
      "text/plain": [
       "<IPython.core.display.Math object>"
      ]
     },
     "metadata": {},
     "output_type": "display_data"
    },
    {
     "data": {
      "text/html": [
       "<html><script type=\"math/tex; mode=display\">\\newcommand{\\Bold}[1]{\\mathbf{#1}}\\left(\\begin{array}{rrr}\n",
       "\\frac{1}{3} & -\\frac{2}{3} & \\frac{2}{3} \\\\\n",
       "\\frac{2}{3} & -\\frac{1}{3} & -\\frac{2}{3} \\\\\n",
       "\\frac{2}{3} & \\frac{2}{3} & \\frac{1}{3}\n",
       "\\end{array}\\right)</script></html>"
      ],
      "text/latex": [
       "$$\\newcommand{\\Bold}[1]{\\mathbf{#1}}\\left(\\begin{array}{rrr}\n",
       "\\frac{1}{3} & -\\frac{2}{3} & \\frac{2}{3} \\\\\n",
       "\\frac{2}{3} & -\\frac{1}{3} & -\\frac{2}{3} \\\\\n",
       "\\frac{2}{3} & \\frac{2}{3} & \\frac{1}{3}\n",
       "\\end{array}\\right)$$"
      ],
      "text/plain": [
       "[ 1/3 -2/3  2/3]\n",
       "[ 2/3 -1/3 -2/3]\n",
       "[ 2/3  2/3  1/3]"
      ]
     },
     "metadata": {},
     "output_type": "display_data"
    },
    {
     "data": {
      "text/latex": [
       "$\\displaystyle P^t \\cdot A \\cdot P =$"
      ],
      "text/plain": [
       "<IPython.core.display.Math object>"
      ]
     },
     "metadata": {},
     "output_type": "display_data"
    },
    {
     "data": {
      "text/html": [
       "<html><script type=\"math/tex; mode=display\">\\newcommand{\\Bold}[1]{\\mathbf{#1}}\\left(\\begin{array}{rrr}\n",
       "1 & 0 & 0 \\\\\n",
       "0 & -\\frac{1}{3} & -\\frac{2}{3} \\, \\sqrt{2} \\\\\n",
       "0 & \\frac{2}{3} \\, \\sqrt{2} & -\\frac{1}{3}\n",
       "\\end{array}\\right)</script></html>"
      ],
      "text/latex": [
       "$$\\newcommand{\\Bold}[1]{\\mathbf{#1}}\\left(\\begin{array}{rrr}\n",
       "1 & 0 & 0 \\\\\n",
       "0 & -\\frac{1}{3} & -\\frac{2}{3} \\, \\sqrt{2} \\\\\n",
       "0 & \\frac{2}{3} \\, \\sqrt{2} & -\\frac{1}{3}\n",
       "\\end{array}\\right)$$"
      ],
      "text/plain": [
       "[           1            0            0]\n",
       "[           0         -1/3 -2/3*sqrt(2)]\n",
       "[           0  2/3*sqrt(2)         -1/3]"
      ]
     },
     "metadata": {},
     "output_type": "display_data"
    }
   ],
   "source": [
    "# Orthogonal matrix over the real field (with polar form).\n",
    "A = matrix(SR, [[1/3, -2/3, 2/3], [2/3, -1/3, -2/3], [2/3, 2/3, 1/3]])\n",
    "show(\"A = \", A)\n",
    "\n",
    "P, D = spectral_theorem(A, False, True)\n",
    "show(\"P = \", P)\n",
    "show(\"D = \", D)\n",
    "display(Math(r\"P \\cdot D \\cdot P^t =\"))\n",
    "show(P * D * P.conjugate_transpose())\n",
    "display(Math(r\"P^t \\cdot A \\cdot P =\"))\n",
    "show(P.conjugate_transpose() * A * P)"
   ]
  },
  {
   "cell_type": "markdown",
   "id": "d46b098d",
   "metadata": {},
   "source": [
    " "
   ]
  }
 ],
 "metadata": {
  "kernelspec": {
   "display_name": "SageMath 9.5",
   "language": "sage",
   "name": "sagemath"
  },
  "language_info": {
   "codemirror_mode": {
    "name": "ipython",
    "version": 3
   },
   "file_extension": ".py",
   "mimetype": "text/x-python",
   "name": "python",
   "nbconvert_exporter": "python",
   "pygments_lexer": "ipython3",
   "version": "3.10.12"
  }
 },
 "nbformat": 4,
 "nbformat_minor": 5
}
