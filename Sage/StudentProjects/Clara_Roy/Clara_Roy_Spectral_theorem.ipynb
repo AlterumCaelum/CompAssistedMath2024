{
 "cells": [
  {
   "cell_type": "markdown",
   "id": "4bc34d59",
   "metadata": {},
   "source": [
    "# The Spectral Theorem\n",
    "#### By Clara & Roy"
   ]
  },
  {
   "cell_type": "markdown",
   "id": "2140c572",
   "metadata": {},
   "source": [
    "## Implementation in SageMath"
   ]
  },
  {
   "cell_type": "code",
   "execution_count": 1,
   "id": "a7bdf15e",
   "metadata": {},
   "outputs": [],
   "source": [
    "from IPython.display import display, Math\n",
    "\n",
    "def spectral_theorem(A, over_CC = True, polarform = False):\n",
    "    # The next line only exists to prevent user errors.\n",
    "    if A.apply_map(imag) != 0: over_CC = True\n",
    "    \n",
    "    # The next line checks if the matrix is normal, i.e. whether A*A = AA*\n",
    "    if not A.is_normal():\n",
    "        return \"Sorry, this matrix is not normal, so the Spectral Theorem is not applicable.\", \":(\"\n",
    "    \n",
    "    eigenvectors, eigenvalues = [], []\n",
    "    \n",
    "    # We save all eigenvectors and their corresponding eigenvalue:\n",
    "    for i in A.eigenvectors_right():\n",
    "        for j in i[1]:\n",
    "            eigenvectors.append(j)\n",
    "            eigenvalues.append(i[0])\n",
    "    \n",
    "    # If we operate on the complex field or if the matrix is symmetric, we can diagonalise it.\n",
    "    if over_CC or A.is_symmetric():\n",
    "        # To get an orthonormal basis of eigenvectors, we simply have to normalise our eigenvectors.\n",
    "        for i in range(len(eigenvectors)):\n",
    "            eigenvectors[i] /= eigenvectors[i].norm()\n",
    "        D = diagonal_matrix(eigenvalues)\n",
    "    else:\n",
    "        # In this case, A is either orthogonal or only normal over the real field.\n",
    "        # As such, we need to pick out the eigenvectors which have complex eigenvalues.\n",
    "        real_basis, complex_vectors = [], []\n",
    "        for i in range(len(eigenvalues)):\n",
    "            if eigenvalues[i].imag() == 0:\n",
    "                # Real eigenvalue, we only need to normalise the corresponding eigenvector.\n",
    "                real_basis.append(eigenvectors[i] / eigenvectors[i].norm())\n",
    "            else:\n",
    "                # Complex eigenvalue!\n",
    "                complex_vectors.append(eigenvectors[i])\n",
    "        # A basis is formed by taking the real part and the imaginary part as basis vectors.\n",
    "        # Since two eigenvalues are complex conjugated, we also check if our vectors is already in the list.\n",
    "        for i in range(len(complex_vectors)):\n",
    "            real_part, imag_part = complex_vectors[i].apply_map(real), complex_vectors[i].apply_map(imag)\n",
    "            real_part /= real_part.norm()\n",
    "            imag_part /= imag_part.norm()\n",
    "            if real_part not in real_basis:\n",
    "                real_basis.append(real_part)\n",
    "                real_basis.append(imag_part)\n",
    "        \n",
    "        eigenvectors = real_basis\n",
    "        # We will also reorder our list of eigenvalues, s.t. the real values are at the front.\n",
    "        # This is done to construct our D.\n",
    "        reorder, complex_entry = [], False\n",
    "        for i in eigenvalues:\n",
    "            if i.imag() == 0: reorder.append(i)\n",
    "        for i in eigenvalues:\n",
    "            if i not in reorder: reorder.append(i)\n",
    "            \n",
    "        D_list = [[0 for j in range(A.ncols())] for i in range(A.nrows())]\n",
    "        \n",
    "        # If the matrix is unitary, we can also use the polar form.\n",
    "        if polarform and A.is_unitary():\n",
    "            for i in range(len(reorder)):\n",
    "                if reorder[i].imag() == 0: D_list[i][i] = reorder[i]\n",
    "                else:\n",
    "                    arg = arctan2(reorder[i].imag(), reorder[i].real())\n",
    "                    if not complex_entry:\n",
    "                        D_list[i][i] = cos(arg)\n",
    "                        D_list[i][i+1] = sin(arg)\n",
    "                        complex_entry = True\n",
    "                    else:\n",
    "                        D_list[i][i] = cos(arg)\n",
    "                        D_list[i][i-1] = sin(arg)\n",
    "                        complex_entry = False\n",
    "            D = matrix(D_list)\n",
    "        # If we want to represent the entries as usual.\n",
    "        else:\n",
    "            for i in range(len(reorder)):\n",
    "                if reorder[i].imag() == 0: D_list[i][i] = reorder[i]\n",
    "                else:\n",
    "                    if not complex_entry:\n",
    "                        D_list[i][i] = reorder[i].real()\n",
    "                        D_list[i][i+1] = reorder[i].imag()\n",
    "                        complex_entry = True\n",
    "                    else:\n",
    "                        D_list[i][i] = reorder[i].real()\n",
    "                        D_list[i][i-1] = reorder[i].imag()\n",
    "                        complex_entry = False\n",
    "            D = matrix(D_list)\n",
    "\n",
    "    P = matrix(eigenvectors).transpose()\n",
    "    return P, D"
   ]
  },
  {
   "cell_type": "markdown",
   "id": "b878870b",
   "metadata": {},
   "source": [
    "## Lots of examples!"
   ]
  },
  {
   "cell_type": "code",
   "execution_count": 21,
   "id": "e25f37a2",
   "metadata": {},
   "outputs": [
    {
     "data": {
      "text/html": [
       "<html><script type=\"math/tex; mode=display\">\\newcommand{\\Bold}[1]{\\mathbf{#1}}\\verb|A|\\verb| |\\verb|=| \\left(\\begin{array}{rr}\n",
       "3 & -2 i + 1 \\\\\n",
       "2 i + 1 & -1\n",
       "\\end{array}\\right)</script></html>"
      ],
      "text/latex": [
       "$$\\newcommand{\\Bold}[1]{\\mathbf{#1}}\\verb|A|\\verb| |\\verb|=| \\left(\\begin{array}{rr}\n",
       "3 & -2 i + 1 \\\\\n",
       "2 i + 1 & -1\n",
       "\\end{array}\\right)$$"
      ],
      "text/plain": [
       "'A = ' [       3 -2*I + 1]\n",
       "[ 2*I + 1       -1]"
      ]
     },
     "metadata": {},
     "output_type": "display_data"
    },
    {
     "data": {
      "text/html": [
       "<html><script type=\"math/tex; mode=display\">\\newcommand{\\Bold}[1]{\\mathbf{#1}}\\verb|P|\\verb| |\\verb|=| \\left(\\begin{array}{rr}\n",
       "\\frac{1}{\\sqrt{6}} & \\frac{1}{\\sqrt{\\frac{6}{5}}} \\\\\n",
       "-\\frac{2 i + 1}{\\sqrt{6}} & \\frac{2 i + 1}{5 \\, \\sqrt{\\frac{6}{5}}}\n",
       "\\end{array}\\right)</script></html>"
      ],
      "text/latex": [
       "$$\\newcommand{\\Bold}[1]{\\mathbf{#1}}\\verb|P|\\verb| |\\verb|=| \\left(\\begin{array}{rr}\n",
       "\\frac{1}{\\sqrt{6}} & \\frac{1}{\\sqrt{\\frac{6}{5}}} \\\\\n",
       "-\\frac{2 i + 1}{\\sqrt{6}} & \\frac{2 i + 1}{5 \\, \\sqrt{\\frac{6}{5}}}\n",
       "\\end{array}\\right)$$"
      ],
      "text/plain": [
       "'P = ' [              1/sqrt(6)             1/sqrt(6/5)]\n",
       "[     -(2*I + 1)/sqrt(6) (2/5*I + 1/5)/sqrt(6/5)]"
      ]
     },
     "metadata": {},
     "output_type": "display_data"
    },
    {
     "data": {
      "text/html": [
       "<html><script type=\"math/tex; mode=display\">\\newcommand{\\Bold}[1]{\\mathbf{#1}}\\verb|D|\\verb| |\\verb|=| \\left(\\begin{array}{rr}\n",
       "-2 & 0 \\\\\n",
       "0 & 4\n",
       "\\end{array}\\right)</script></html>"
      ],
      "text/latex": [
       "$$\\newcommand{\\Bold}[1]{\\mathbf{#1}}\\verb|D|\\verb| |\\verb|=| \\left(\\begin{array}{rr}\n",
       "-2 & 0 \\\\\n",
       "0 & 4\n",
       "\\end{array}\\right)$$"
      ],
      "text/plain": [
       "'D = ' [-2  0]\n",
       "[ 0  4]"
      ]
     },
     "metadata": {},
     "output_type": "display_data"
    },
    {
     "data": {
      "text/latex": [
       "$\\displaystyle P \\cdot D \\cdot P^* =$"
      ],
      "text/plain": [
       "<IPython.core.display.Math object>"
      ]
     },
     "metadata": {},
     "output_type": "display_data"
    },
    {
     "data": {
      "text/html": [
       "<html><script type=\"math/tex; mode=display\">\\newcommand{\\Bold}[1]{\\mathbf{#1}}\\left(\\begin{array}{rr}\n",
       "3 & -2 i + 1 \\\\\n",
       "2 i + 1 & -1\n",
       "\\end{array}\\right)</script></html>"
      ],
      "text/latex": [
       "$$\\newcommand{\\Bold}[1]{\\mathbf{#1}}\\left(\\begin{array}{rr}\n",
       "3 & -2 i + 1 \\\\\n",
       "2 i + 1 & -1\n",
       "\\end{array}\\right)$$"
      ],
      "text/plain": [
       "[       3 -2*I + 1]\n",
       "[ 2*I + 1       -1]"
      ]
     },
     "metadata": {},
     "output_type": "display_data"
    },
    {
     "data": {
      "text/latex": [
       "$\\displaystyle P^* \\cdot A \\cdot P =$"
      ],
      "text/plain": [
       "<IPython.core.display.Math object>"
      ]
     },
     "metadata": {},
     "output_type": "display_data"
    },
    {
     "data": {
      "text/html": [
       "<html><script type=\"math/tex; mode=display\">\\newcommand{\\Bold}[1]{\\mathbf{#1}}\\left(\\begin{array}{rr}\n",
       "-2 & 0 \\\\\n",
       "0 & 4\n",
       "\\end{array}\\right)</script></html>"
      ],
      "text/latex": [
       "$$\\newcommand{\\Bold}[1]{\\mathbf{#1}}\\left(\\begin{array}{rr}\n",
       "-2 & 0 \\\\\n",
       "0 & 4\n",
       "\\end{array}\\right)$$"
      ],
      "text/plain": [
       "[-2  0]\n",
       "[ 0  4]"
      ]
     },
     "metadata": {},
     "output_type": "display_data"
    }
   ],
   "source": [
    "# Hermitian matrix.\n",
    "A = matrix(SR, [[3, 1 - 2*I], [1 + 2*I, -1]])\n",
    "show(\"A = \", A)\n",
    "\n",
    "P, D = spectral_theorem(A)\n",
    "show(\"P = \", P)\n",
    "show(\"D = \", D)\n",
    "display(Math(r\"P \\cdot D \\cdot P^* =\"))\n",
    "show(P * D * P.conjugate_transpose())\n",
    "display(Math(r\"P^* \\cdot A \\cdot P =\"))\n",
    "show(P.conjugate_transpose() * A * P)"
   ]
  },
  {
   "cell_type": "code",
   "execution_count": 20,
   "id": "73809cb3",
   "metadata": {},
   "outputs": [
    {
     "data": {
      "text/html": [
       "<html><script type=\"math/tex; mode=display\">\\newcommand{\\Bold}[1]{\\mathbf{#1}}\\verb|A|\\verb| |\\verb|=| \\left(\\begin{array}{rr}\n",
       "0.7071067811865475 & 0.7071067811865475 \\\\\n",
       "0.7071067811865475i & -0.7071067811865475i\n",
       "\\end{array}\\right)</script></html>"
      ],
      "text/latex": [
       "$$\\newcommand{\\Bold}[1]{\\mathbf{#1}}\\verb|A|\\verb| |\\verb|=| \\left(\\begin{array}{rr}\n",
       "0.7071067811865475 & 0.7071067811865475 \\\\\n",
       "0.7071067811865475i & -0.7071067811865475i\n",
       "\\end{array}\\right)$$"
      ],
      "text/plain": [
       "'A = ' [   0.7071067811865475    0.7071067811865475]\n",
       "[ 0.7071067811865475*I -0.7071067811865475*I]"
      ]
     },
     "metadata": {},
     "output_type": "display_data"
    },
    {
     "data": {
      "text/html": [
       "<html><script type=\"math/tex; mode=display\">\\newcommand{\\Bold}[1]{\\mathbf{#1}}\\verb|P|\\verb| |\\verb|=| \\left(\\begin{array}{rr}\n",
       "0.8880738339771154 & -0.3250575836718681 + 0.32505758367186816i \\\\\n",
       "0.3250575836718681 + 0.3250575836718682i & 0.8880738339771155\n",
       "\\end{array}\\right)</script></html>"
      ],
      "text/latex": [
       "$$\\newcommand{\\Bold}[1]{\\mathbf{#1}}\\verb|P|\\verb| |\\verb|=| \\left(\\begin{array}{rr}\n",
       "0.8880738339771154 & -0.3250575836718681 + 0.32505758367186816i \\\\\n",
       "0.3250575836718681 + 0.3250575836718682i & 0.8880738339771155\n",
       "\\end{array}\\right)$$"
      ],
      "text/plain": [
       "'P = ' [                         0.8880738339771154 -0.3250575836718681 + 0.32505758367186816*I]\n",
       "[  0.3250575836718681 + 0.3250575836718682*I                          0.8880738339771155]"
      ]
     },
     "metadata": {},
     "output_type": "display_data"
    },
    {
     "data": {
      "text/html": [
       "<html><script type=\"math/tex; mode=display\">\\newcommand{\\Bold}[1]{\\mathbf{#1}}\\verb|D|\\verb| |\\verb|=| \\left(\\begin{array}{rr}\n",
       "0.965925826289068 + 0.25881904510252063i & 0.0 \\\\\n",
       "0.0 & -0.25881904510252074 - 0.9659258262890682i\n",
       "\\end{array}\\right)</script></html>"
      ],
      "text/latex": [
       "$$\\newcommand{\\Bold}[1]{\\mathbf{#1}}\\verb|D|\\verb| |\\verb|=| \\left(\\begin{array}{rr}\n",
       "0.965925826289068 + 0.25881904510252063i & 0.0 \\\\\n",
       "0.0 & -0.25881904510252074 - 0.9659258262890682i\n",
       "\\end{array}\\right)$$"
      ],
      "text/plain": [
       "'D = ' [  0.965925826289068 + 0.25881904510252063*I                                         0.0]\n",
       "[                                        0.0 -0.25881904510252074 - 0.9659258262890682*I]"
      ]
     },
     "metadata": {},
     "output_type": "display_data"
    },
    {
     "data": {
      "text/latex": [
       "$\\displaystyle P \\cdot D \\cdot P^* =$"
      ],
      "text/plain": [
       "<IPython.core.display.Math object>"
      ]
     },
     "metadata": {},
     "output_type": "display_data"
    },
    {
     "data": {
      "text/html": [
       "<html><script type=\"math/tex; mode=display\">\\newcommand{\\Bold}[1]{\\mathbf{#1}}\\left(\\begin{array}{rr}\n",
       "0.7071067811865475 - 1.0157783639972121 \\times 10^{-17}i & 0.7071067811865475 - 6.096868888106627 \\times 10^{-17}i \\\\\n",
       "-1.1679078044036417 \\times 10^{-16} + 0.7071067811865476i & -1.208940397706737 \\times 10^{-16} - 0.7071067811865478i\n",
       "\\end{array}\\right)</script></html>"
      ],
      "text/latex": [
       "$$\\newcommand{\\Bold}[1]{\\mathbf{#1}}\\left(\\begin{array}{rr}\n",
       "0.7071067811865475 - 1.0157783639972121 \\times 10^{-17}i & 0.7071067811865475 - 6.096868888106627 \\times 10^{-17}i \\\\\n",
       "-1.1679078044036417 \\times 10^{-16} + 0.7071067811865476i & -1.208940397706737 \\times 10^{-16} - 0.7071067811865478i\n",
       "\\end{array}\\right)$$"
      ],
      "text/plain": [
       "[ 0.7071067811865475 - 1.0157783639972121e-17*I   0.7071067811865475 - 6.096868888106627e-17*I]\n",
       "[-1.1679078044036417e-16 + 0.7071067811865476*I  -1.208940397706737e-16 - 0.7071067811865478*I]"
      ]
     },
     "metadata": {},
     "output_type": "display_data"
    },
    {
     "data": {
      "text/latex": [
       "$\\displaystyle P^* \\cdot A \\cdot P =$"
      ],
      "text/plain": [
       "<IPython.core.display.Math object>"
      ]
     },
     "metadata": {},
     "output_type": "display_data"
    },
    {
     "data": {
      "text/html": [
       "<html><script type=\"math/tex; mode=display\">\\newcommand{\\Bold}[1]{\\mathbf{#1}}\\left(\\begin{array}{rr}\n",
       "0.9659258262890683 + 0.2588190451025208i & 1.068904066940029 \\times 10^{-16} + 3.321311326543735 \\times 10^{-17}i \\\\\n",
       "1.3900163400470237 \\times 10^{-16} + 1.5511647439008722 \\times 10^{-16}i & -0.25881904510252085 - 0.9659258262890685i\n",
       "\\end{array}\\right)</script></html>"
      ],
      "text/latex": [
       "$$\\newcommand{\\Bold}[1]{\\mathbf{#1}}\\left(\\begin{array}{rr}\n",
       "0.9659258262890683 + 0.2588190451025208i & 1.068904066940029 \\times 10^{-16} + 3.321311326543735 \\times 10^{-17}i \\\\\n",
       "1.3900163400470237 \\times 10^{-16} + 1.5511647439008722 \\times 10^{-16}i & -0.25881904510252085 - 0.9659258262890685i\n",
       "\\end{array}\\right)$$"
      ],
      "text/plain": [
       "[        0.9659258262890683 + 0.2588190451025208*I   1.068904066940029e-16 + 3.321311326543735e-17*I]\n",
       "[1.3900163400470237e-16 + 1.5511647439008722e-16*I       -0.25881904510252085 - 0.9659258262890685*I]"
      ]
     },
     "metadata": {},
     "output_type": "display_data"
    }
   ],
   "source": [
    "# Unitary matrix over the complex field.\n",
    "A = matrix(CDF, [[1/sqrt(2), 1/sqrt(2)], [I/sqrt(2), -I/sqrt(2)]])\n",
    "show(\"A = \", A)\n",
    "\n",
    "P, D = spectral_theorem(A)\n",
    "show(\"P = \", P)\n",
    "show(\"D = \", D)\n",
    "display(Math(r\"P \\cdot D \\cdot P^* =\"))\n",
    "show(P * D * P.conjugate_transpose())\n",
    "display(Math(r\"P^* \\cdot A \\cdot P =\"))\n",
    "show(P.conjugate_transpose() * A * P)"
   ]
  },
  {
   "cell_type": "code",
   "execution_count": 19,
   "id": "002ff27e",
   "metadata": {},
   "outputs": [
    {
     "data": {
      "text/html": [
       "<html><script type=\"math/tex; mode=display\">\\newcommand{\\Bold}[1]{\\mathbf{#1}}\\verb|A|\\verb| |\\verb|=| \\left(\\begin{array}{rrr}\n",
       "1 & 7 & 3 \\\\\n",
       "7 & 4 & 5 \\\\\n",
       "3 & 5 & 2\n",
       "\\end{array}\\right)</script></html>"
      ],
      "text/latex": [
       "$$\\newcommand{\\Bold}[1]{\\mathbf{#1}}\\verb|A|\\verb| |\\verb|=| \\left(\\begin{array}{rrr}\n",
       "1 & 7 & 3 \\\\\n",
       "7 & 4 & 5 \\\\\n",
       "3 & 5 & 2\n",
       "\\end{array}\\right)$$"
      ],
      "text/plain": [
       "'A = ' [1 7 3]\n",
       "[7 4 5]\n",
       "[3 5 2]"
      ]
     },
     "metadata": {},
     "output_type": "display_data"
    },
    {
     "data": {
      "text/html": [
       "<html><script type=\"math/tex; mode=display\">\\newcommand{\\Bold}[1]{\\mathbf{#1}}\\verb|P|\\verb| |\\verb|=| \\left(\\begin{array}{rrr}\n",
       "0.7190661678538667? & 0.4419300493194164? & 0.5363223636550065? \\\\\n",
       "-0.6720730235880483? & 0.2458718069651456? & 0.698473267566421? \\\\\n",
       "0.1768097769162479? & -0.8626962884168637? & 0.4738073624782483?\n",
       "\\end{array}\\right)</script></html>"
      ],
      "text/latex": [
       "$$\\newcommand{\\Bold}[1]{\\mathbf{#1}}\\verb|P|\\verb| |\\verb|=| \\left(\\begin{array}{rrr}\n",
       "0.7190661678538667? & 0.4419300493194164? & 0.5363223636550065? \\\\\n",
       "-0.6720730235880483? & 0.2458718069651456? & 0.698473267566421? \\\\\n",
       "0.1768097769162479? & -0.8626962884168637? & 0.4738073624782483?\n",
       "\\end{array}\\right)$$"
      ],
      "text/plain": [
       "'P = ' [ 0.7190661678538667?  0.4419300493194164?  0.5363223636550065?]\n",
       "[-0.6720730235880483?  0.2458718069651456?   0.698473267566421?]\n",
       "[ 0.1768097769162479? -0.8626962884168637?  0.4738073624782483?]"
      ]
     },
     "metadata": {},
     "output_type": "display_data"
    },
    {
     "data": {
      "text/html": [
       "<html><script type=\"math/tex; mode=display\">\\newcommand{\\Bold}[1]{\\mathbf{#1}}\\verb|D|\\verb| |\\verb|=| \\left(\\begin{array}{rrr}\n",
       "-4.804864727297083? & 0 & 0 \\\\\n",
       "0 & -0.9618177533520375? & 0 \\\\\n",
       "0 & 0 & 12.76668248064912?\n",
       "\\end{array}\\right)</script></html>"
      ],
      "text/latex": [
       "$$\\newcommand{\\Bold}[1]{\\mathbf{#1}}\\verb|D|\\verb| |\\verb|=| \\left(\\begin{array}{rrr}\n",
       "-4.804864727297083? & 0 & 0 \\\\\n",
       "0 & -0.9618177533520375? & 0 \\\\\n",
       "0 & 0 & 12.76668248064912?\n",
       "\\end{array}\\right)$$"
      ],
      "text/plain": [
       "'D = ' [ -4.804864727297083?                    0                    0]\n",
       "[                   0 -0.9618177533520375?                    0]\n",
       "[                   0                    0   12.76668248064912?]"
      ]
     },
     "metadata": {},
     "output_type": "display_data"
    },
    {
     "data": {
      "text/latex": [
       "$\\displaystyle P \\cdot D \\cdot P^t =$"
      ],
      "text/plain": [
       "<IPython.core.display.Math object>"
      ]
     },
     "metadata": {},
     "output_type": "display_data"
    },
    {
     "data": {
      "text/html": [
       "<html><script type=\"math/tex; mode=display\">\\newcommand{\\Bold}[1]{\\mathbf{#1}}\\left(\\begin{array}{rrr}\n",
       "1.000000000000000? & 7.000000000000000? & 3.000000000000000? \\\\\n",
       "7.000000000000000? & 4.000000000000000? & 5.000000000000000? \\\\\n",
       "3.000000000000000? & 5.000000000000000? & 2.000000000000000?\n",
       "\\end{array}\\right)</script></html>"
      ],
      "text/latex": [
       "$$\\newcommand{\\Bold}[1]{\\mathbf{#1}}\\left(\\begin{array}{rrr}\n",
       "1.000000000000000? & 7.000000000000000? & 3.000000000000000? \\\\\n",
       "7.000000000000000? & 4.000000000000000? & 5.000000000000000? \\\\\n",
       "3.000000000000000? & 5.000000000000000? & 2.000000000000000?\n",
       "\\end{array}\\right)$$"
      ],
      "text/plain": [
       "[1.000000000000000? 7.000000000000000? 3.000000000000000?]\n",
       "[7.000000000000000? 4.000000000000000? 5.000000000000000?]\n",
       "[3.000000000000000? 5.000000000000000? 2.000000000000000?]"
      ]
     },
     "metadata": {},
     "output_type": "display_data"
    },
    {
     "data": {
      "text/latex": [
       "$\\displaystyle P^t \\cdot A \\cdot P =$"
      ],
      "text/plain": [
       "<IPython.core.display.Math object>"
      ]
     },
     "metadata": {},
     "output_type": "display_data"
    },
    {
     "data": {
      "text/html": [
       "<html><script type=\"math/tex; mode=display\">\\newcommand{\\Bold}[1]{\\mathbf{#1}}\\left(\\begin{array}{rrr}\n",
       "-4.804864727297083? & 0.?e-16 & 0.?e-16 \\\\\n",
       "0.?e-17 & -0.9618177533520375? & 0.?e-17 \\\\\n",
       "0.?e-16 & 0.?e-16 & 12.76668248064912?\n",
       "\\end{array}\\right)</script></html>"
      ],
      "text/latex": [
       "$$\\newcommand{\\Bold}[1]{\\mathbf{#1}}\\left(\\begin{array}{rrr}\n",
       "-4.804864727297083? & 0.?e-16 & 0.?e-16 \\\\\n",
       "0.?e-17 & -0.9618177533520375? & 0.?e-17 \\\\\n",
       "0.?e-16 & 0.?e-16 & 12.76668248064912?\n",
       "\\end{array}\\right)$$"
      ],
      "text/plain": [
       "[ -4.804864727297083?              0.?e-16              0.?e-16]\n",
       "[             0.?e-17 -0.9618177533520375?              0.?e-17]\n",
       "[             0.?e-16              0.?e-16   12.76668248064912?]"
      ]
     },
     "metadata": {},
     "output_type": "display_data"
    }
   ],
   "source": [
    "# Symmetric matrix.\n",
    "A = matrix(QQ, [[1, 7, 3], [7, 4, 5], [3, 5, 2]])\n",
    "show(\"A = \", A)\n",
    "\n",
    "P, D = spectral_theorem(A)\n",
    "show(\"P = \", P)\n",
    "show(\"D = \", D)\n",
    "display(Math(r\"P \\cdot D \\cdot P^t =\"))\n",
    "show(P * D * P.conjugate_transpose())\n",
    "display(Math(r\"P^t \\cdot A \\cdot P =\"))\n",
    "show(P.conjugate_transpose() * A * P)"
   ]
  },
  {
   "cell_type": "code",
   "execution_count": 18,
   "id": "8e53a312",
   "metadata": {},
   "outputs": [
    {
     "data": {
      "text/html": [
       "<html><script type=\"math/tex; mode=display\">\\newcommand{\\Bold}[1]{\\mathbf{#1}}\\verb|A|\\verb| |\\verb|=| \\left(\\begin{array}{rrrr}\n",
       "2 & 0 & 3 & 1 \\\\\n",
       "0 & 2 & 1 & 3 \\\\\n",
       "-3 & -1 & 2 & 0 \\\\\n",
       "-1 & -3 & 0 & 2\n",
       "\\end{array}\\right)</script></html>"
      ],
      "text/latex": [
       "$$\\newcommand{\\Bold}[1]{\\mathbf{#1}}\\verb|A|\\verb| |\\verb|=| \\left(\\begin{array}{rrrr}\n",
       "2 & 0 & 3 & 1 \\\\\n",
       "0 & 2 & 1 & 3 \\\\\n",
       "-3 & -1 & 2 & 0 \\\\\n",
       "-1 & -3 & 0 & 2\n",
       "\\end{array}\\right)$$"
      ],
      "text/plain": [
       "'A = ' [ 2  0  3  1]\n",
       "[ 0  2  1  3]\n",
       "[-3 -1  2  0]\n",
       "[-1 -3  0  2]"
      ]
     },
     "metadata": {},
     "output_type": "display_data"
    },
    {
     "data": {
      "text/html": [
       "<html><script type=\"math/tex; mode=display\">\\newcommand{\\Bold}[1]{\\mathbf{#1}}\\verb|P|\\verb| |\\verb|=| \\left(\\begin{array}{rrrr}\n",
       "\\frac{1}{2} \\, \\sqrt{2} & 0 & \\frac{1}{2} \\, \\sqrt{2} & 0 \\\\\n",
       "\\frac{1}{2} \\, \\sqrt{2} & 0 & -\\frac{1}{2} \\, \\sqrt{2} & 0 \\\\\n",
       "0 & -\\frac{1}{2} \\, \\sqrt{2} & 0 & -\\frac{1}{2} \\, \\sqrt{2} \\\\\n",
       "0 & -\\frac{1}{2} \\, \\sqrt{2} & 0 & \\frac{1}{2} \\, \\sqrt{2}\n",
       "\\end{array}\\right)</script></html>"
      ],
      "text/latex": [
       "$$\\newcommand{\\Bold}[1]{\\mathbf{#1}}\\verb|P|\\verb| |\\verb|=| \\left(\\begin{array}{rrrr}\n",
       "\\frac{1}{2} \\, \\sqrt{2} & 0 & \\frac{1}{2} \\, \\sqrt{2} & 0 \\\\\n",
       "\\frac{1}{2} \\, \\sqrt{2} & 0 & -\\frac{1}{2} \\, \\sqrt{2} & 0 \\\\\n",
       "0 & -\\frac{1}{2} \\, \\sqrt{2} & 0 & -\\frac{1}{2} \\, \\sqrt{2} \\\\\n",
       "0 & -\\frac{1}{2} \\, \\sqrt{2} & 0 & \\frac{1}{2} \\, \\sqrt{2}\n",
       "\\end{array}\\right)$$"
      ],
      "text/plain": [
       "'P = ' [ 1/2*sqrt(2)            0  1/2*sqrt(2)            0]\n",
       "[ 1/2*sqrt(2)            0 -1/2*sqrt(2)            0]\n",
       "[           0 -1/2*sqrt(2)            0 -1/2*sqrt(2)]\n",
       "[           0 -1/2*sqrt(2)            0  1/2*sqrt(2)]"
      ]
     },
     "metadata": {},
     "output_type": "display_data"
    },
    {
     "data": {
      "text/html": [
       "<html><script type=\"math/tex; mode=display\">\\newcommand{\\Bold}[1]{\\mathbf{#1}}\\verb|D|\\verb| |\\verb|=| \\left(\\begin{array}{rrrr}\n",
       "2 & -4 & 0 & 0 \\\\\n",
       "4 & 2 & 0 & 0 \\\\\n",
       "0 & 0 & 2 & -2 \\\\\n",
       "0 & 0 & 2 & 2\n",
       "\\end{array}\\right)</script></html>"
      ],
      "text/latex": [
       "$$\\newcommand{\\Bold}[1]{\\mathbf{#1}}\\verb|D|\\verb| |\\verb|=| \\left(\\begin{array}{rrrr}\n",
       "2 & -4 & 0 & 0 \\\\\n",
       "4 & 2 & 0 & 0 \\\\\n",
       "0 & 0 & 2 & -2 \\\\\n",
       "0 & 0 & 2 & 2\n",
       "\\end{array}\\right)$$"
      ],
      "text/plain": [
       "'D = ' [ 2 -4  0  0]\n",
       "[ 4  2  0  0]\n",
       "[ 0  0  2 -2]\n",
       "[ 0  0  2  2]"
      ]
     },
     "metadata": {},
     "output_type": "display_data"
    },
    {
     "data": {
      "text/latex": [
       "$\\displaystyle P \\cdot D \\cdot P^t =$"
      ],
      "text/plain": [
       "<IPython.core.display.Math object>"
      ]
     },
     "metadata": {},
     "output_type": "display_data"
    },
    {
     "data": {
      "text/html": [
       "<html><script type=\"math/tex; mode=display\">\\newcommand{\\Bold}[1]{\\mathbf{#1}}\\left(\\begin{array}{rrrr}\n",
       "2 & 0 & 3 & 1 \\\\\n",
       "0 & 2 & 1 & 3 \\\\\n",
       "-3 & -1 & 2 & 0 \\\\\n",
       "-1 & -3 & 0 & 2\n",
       "\\end{array}\\right)</script></html>"
      ],
      "text/latex": [
       "$$\\newcommand{\\Bold}[1]{\\mathbf{#1}}\\left(\\begin{array}{rrrr}\n",
       "2 & 0 & 3 & 1 \\\\\n",
       "0 & 2 & 1 & 3 \\\\\n",
       "-3 & -1 & 2 & 0 \\\\\n",
       "-1 & -3 & 0 & 2\n",
       "\\end{array}\\right)$$"
      ],
      "text/plain": [
       "[ 2  0  3  1]\n",
       "[ 0  2  1  3]\n",
       "[-3 -1  2  0]\n",
       "[-1 -3  0  2]"
      ]
     },
     "metadata": {},
     "output_type": "display_data"
    },
    {
     "data": {
      "text/latex": [
       "$\\displaystyle P^t \\cdot A \\cdot P =$"
      ],
      "text/plain": [
       "<IPython.core.display.Math object>"
      ]
     },
     "metadata": {},
     "output_type": "display_data"
    },
    {
     "data": {
      "text/html": [
       "<html><script type=\"math/tex; mode=display\">\\newcommand{\\Bold}[1]{\\mathbf{#1}}\\left(\\begin{array}{rrrr}\n",
       "2 & -4 & 0 & 0 \\\\\n",
       "4 & 2 & 0 & 0 \\\\\n",
       "0 & 0 & 2 & -2 \\\\\n",
       "0 & 0 & 2 & 2\n",
       "\\end{array}\\right)</script></html>"
      ],
      "text/latex": [
       "$$\\newcommand{\\Bold}[1]{\\mathbf{#1}}\\left(\\begin{array}{rrrr}\n",
       "2 & -4 & 0 & 0 \\\\\n",
       "4 & 2 & 0 & 0 \\\\\n",
       "0 & 0 & 2 & -2 \\\\\n",
       "0 & 0 & 2 & 2\n",
       "\\end{array}\\right)$$"
      ],
      "text/plain": [
       "[ 2 -4  0  0]\n",
       "[ 4  2  0  0]\n",
       "[ 0  0  2 -2]\n",
       "[ 0  0  2  2]"
      ]
     },
     "metadata": {},
     "output_type": "display_data"
    }
   ],
   "source": [
    "# Normal matrix over the real field.\n",
    "A = matrix(SR, [[2, 0, 3, 1], [0, 2, 1, 3], [-3, -1, 2, 0], [-1, -3, 0, 2]])\n",
    "show(\"A = \", A)\n",
    "\n",
    "P, D = spectral_theorem(A, False)\n",
    "show(\"P = \", P)\n",
    "show(\"D = \", D)\n",
    "display(Math(r\"P \\cdot D \\cdot P^t =\"))\n",
    "show(P * D * P.conjugate_transpose())\n",
    "display(Math(r\"P^t \\cdot A \\cdot P =\"))\n",
    "show(P.conjugate_transpose() * A * P)"
   ]
  },
  {
   "cell_type": "code",
   "execution_count": 17,
   "id": "61d1b04c",
   "metadata": {},
   "outputs": [
    {
     "data": {
      "text/html": [
       "<html><script type=\"math/tex; mode=display\">\\newcommand{\\Bold}[1]{\\mathbf{#1}}\\verb|A|\\verb| |\\verb|=| \\left(\\begin{array}{rrrr}\n",
       "0 & 0 & 0 & 1 \\\\\n",
       "0 & 0 & 1 & 0 \\\\\n",
       "1 & 0 & 0 & 0 \\\\\n",
       "0 & 1 & 0 & 0\n",
       "\\end{array}\\right)</script></html>"
      ],
      "text/latex": [
       "$$\\newcommand{\\Bold}[1]{\\mathbf{#1}}\\verb|A|\\verb| |\\verb|=| \\left(\\begin{array}{rrrr}\n",
       "0 & 0 & 0 & 1 \\\\\n",
       "0 & 0 & 1 & 0 \\\\\n",
       "1 & 0 & 0 & 0 \\\\\n",
       "0 & 1 & 0 & 0\n",
       "\\end{array}\\right)$$"
      ],
      "text/plain": [
       "'A = ' [0 0 0 1]\n",
       "[0 0 1 0]\n",
       "[1 0 0 0]\n",
       "[0 1 0 0]"
      ]
     },
     "metadata": {},
     "output_type": "display_data"
    },
    {
     "data": {
      "text/html": [
       "<html><script type=\"math/tex; mode=display\">\\newcommand{\\Bold}[1]{\\mathbf{#1}}\\verb|P|\\verb| |\\verb|=| \\left(\\begin{array}{rrrr}\n",
       "\\frac{1}{2} & \\frac{1}{2} & \\frac{1}{2} \\, \\sqrt{2} & 0 \\\\\n",
       "\\frac{1}{2} & \\frac{1}{2} & -\\frac{1}{2} \\, \\sqrt{2} & 0 \\\\\n",
       "-\\frac{1}{2} & \\frac{1}{2} & 0 & -\\frac{1}{2} \\, \\sqrt{2} \\\\\n",
       "-\\frac{1}{2} & \\frac{1}{2} & 0 & \\frac{1}{2} \\, \\sqrt{2}\n",
       "\\end{array}\\right)</script></html>"
      ],
      "text/latex": [
       "$$\\newcommand{\\Bold}[1]{\\mathbf{#1}}\\verb|P|\\verb| |\\verb|=| \\left(\\begin{array}{rrrr}\n",
       "\\frac{1}{2} & \\frac{1}{2} & \\frac{1}{2} \\, \\sqrt{2} & 0 \\\\\n",
       "\\frac{1}{2} & \\frac{1}{2} & -\\frac{1}{2} \\, \\sqrt{2} & 0 \\\\\n",
       "-\\frac{1}{2} & \\frac{1}{2} & 0 & -\\frac{1}{2} \\, \\sqrt{2} \\\\\n",
       "-\\frac{1}{2} & \\frac{1}{2} & 0 & \\frac{1}{2} \\, \\sqrt{2}\n",
       "\\end{array}\\right)$$"
      ],
      "text/plain": [
       "'P = ' [         1/2          1/2  1/2*sqrt(2)            0]\n",
       "[         1/2          1/2 -1/2*sqrt(2)            0]\n",
       "[        -1/2          1/2            0 -1/2*sqrt(2)]\n",
       "[        -1/2          1/2            0  1/2*sqrt(2)]"
      ]
     },
     "metadata": {},
     "output_type": "display_data"
    },
    {
     "data": {
      "text/html": [
       "<html><script type=\"math/tex; mode=display\">\\newcommand{\\Bold}[1]{\\mathbf{#1}}\\verb|D|\\verb| |\\verb|=| \\left(\\begin{array}{rrrr}\n",
       "-1 & 0 & 0 & 0 \\\\\n",
       "0 & 1 & 0 & 0 \\\\\n",
       "0 & 0 & 0 & 1 \\\\\n",
       "0 & 0 & -1 & 0\n",
       "\\end{array}\\right)</script></html>"
      ],
      "text/latex": [
       "$$\\newcommand{\\Bold}[1]{\\mathbf{#1}}\\verb|D|\\verb| |\\verb|=| \\left(\\begin{array}{rrrr}\n",
       "-1 & 0 & 0 & 0 \\\\\n",
       "0 & 1 & 0 & 0 \\\\\n",
       "0 & 0 & 0 & 1 \\\\\n",
       "0 & 0 & -1 & 0\n",
       "\\end{array}\\right)$$"
      ],
      "text/plain": [
       "'D = ' [-1  0  0  0]\n",
       "[ 0  1  0  0]\n",
       "[ 0  0  0  1]\n",
       "[ 0  0 -1  0]"
      ]
     },
     "metadata": {},
     "output_type": "display_data"
    },
    {
     "data": {
      "text/latex": [
       "$\\displaystyle P \\cdot D \\cdot P^* =$"
      ],
      "text/plain": [
       "<IPython.core.display.Math object>"
      ]
     },
     "metadata": {},
     "output_type": "display_data"
    },
    {
     "data": {
      "text/html": [
       "<html><script type=\"math/tex; mode=display\">\\newcommand{\\Bold}[1]{\\mathbf{#1}}\\left(\\begin{array}{rrrr}\n",
       "0 & 0 & 0 & 1 \\\\\n",
       "0 & 0 & 1 & 0 \\\\\n",
       "1 & 0 & 0 & 0 \\\\\n",
       "0 & 1 & 0 & 0\n",
       "\\end{array}\\right)</script></html>"
      ],
      "text/latex": [
       "$$\\newcommand{\\Bold}[1]{\\mathbf{#1}}\\left(\\begin{array}{rrrr}\n",
       "0 & 0 & 0 & 1 \\\\\n",
       "0 & 0 & 1 & 0 \\\\\n",
       "1 & 0 & 0 & 0 \\\\\n",
       "0 & 1 & 0 & 0\n",
       "\\end{array}\\right)$$"
      ],
      "text/plain": [
       "[0 0 0 1]\n",
       "[0 0 1 0]\n",
       "[1 0 0 0]\n",
       "[0 1 0 0]"
      ]
     },
     "metadata": {},
     "output_type": "display_data"
    },
    {
     "data": {
      "text/latex": [
       "$\\displaystyle P^* \\cdot A \\cdot P =$"
      ],
      "text/plain": [
       "<IPython.core.display.Math object>"
      ]
     },
     "metadata": {},
     "output_type": "display_data"
    },
    {
     "data": {
      "text/html": [
       "<html><script type=\"math/tex; mode=display\">\\newcommand{\\Bold}[1]{\\mathbf{#1}}\\left(\\begin{array}{rrrr}\n",
       "-1 & 0 & 0 & 0 \\\\\n",
       "0 & 1 & 0 & 0 \\\\\n",
       "0 & 0 & 0 & 1 \\\\\n",
       "0 & 0 & -1 & 0\n",
       "\\end{array}\\right)</script></html>"
      ],
      "text/latex": [
       "$$\\newcommand{\\Bold}[1]{\\mathbf{#1}}\\left(\\begin{array}{rrrr}\n",
       "-1 & 0 & 0 & 0 \\\\\n",
       "0 & 1 & 0 & 0 \\\\\n",
       "0 & 0 & 0 & 1 \\\\\n",
       "0 & 0 & -1 & 0\n",
       "\\end{array}\\right)$$"
      ],
      "text/plain": [
       "[-1  0  0  0]\n",
       "[ 0  1  0  0]\n",
       "[ 0  0  0  1]\n",
       "[ 0  0 -1  0]"
      ]
     },
     "metadata": {},
     "output_type": "display_data"
    }
   ],
   "source": [
    "# Orthogonal matrix.\n",
    "A = matrix(SR, [[0, 0, 0, 1], [0, 0, 1, 0], [1, 0, 0, 0], [0, 1, 0, 0]])\n",
    "show(\"A = \", A)\n",
    "\n",
    "P, D = spectral_theorem(A, False)\n",
    "show(\"P = \", P)\n",
    "show(\"D = \", D)\n",
    "display(Math(r\"P \\cdot D \\cdot P^* =\"))\n",
    "show(P * D * P.conjugate_transpose())\n",
    "display(Math(r\"P^* \\cdot A \\cdot P =\"))\n",
    "show(P.conjugate_transpose() * A * P)"
   ]
  },
  {
   "cell_type": "code",
   "execution_count": 16,
   "id": "be837ae8",
   "metadata": {},
   "outputs": [
    {
     "data": {
      "text/html": [
       "<html><script type=\"math/tex; mode=display\">\\newcommand{\\Bold}[1]{\\mathbf{#1}}\\verb|A|\\verb| |\\verb|=| \\left(\\begin{array}{rrr}\n",
       "\\frac{1}{3} & -\\frac{2}{3} & \\frac{2}{3} \\\\\n",
       "\\frac{2}{3} & -\\frac{1}{3} & -\\frac{2}{3} \\\\\n",
       "\\frac{2}{3} & \\frac{2}{3} & \\frac{1}{3}\n",
       "\\end{array}\\right)</script></html>"
      ],
      "text/latex": [
       "$$\\newcommand{\\Bold}[1]{\\mathbf{#1}}\\verb|A|\\verb| |\\verb|=| \\left(\\begin{array}{rrr}\n",
       "\\frac{1}{3} & -\\frac{2}{3} & \\frac{2}{3} \\\\\n",
       "\\frac{2}{3} & -\\frac{1}{3} & -\\frac{2}{3} \\\\\n",
       "\\frac{2}{3} & \\frac{2}{3} & \\frac{1}{3}\n",
       "\\end{array}\\right)$$"
      ],
      "text/plain": [
       "'A = ' [ 1/3 -2/3  2/3]\n",
       "[ 2/3 -1/3 -2/3]\n",
       "[ 2/3  2/3  1/3]"
      ]
     },
     "metadata": {},
     "output_type": "display_data"
    },
    {
     "data": {
      "text/html": [
       "<html><script type=\"math/tex; mode=display\">\\newcommand{\\Bold}[1]{\\mathbf{#1}}\\verb|P|\\verb| |\\verb|=| \\left(\\begin{array}{rrr}\n",
       "\\frac{1}{2} \\, \\sqrt{2} & \\frac{1}{2} \\, \\sqrt{2} & 0 \\\\\n",
       "0 & 0 & 1 \\\\\n",
       "\\frac{1}{2} \\, \\sqrt{2} & -\\frac{1}{2} \\, \\sqrt{2} & 0\n",
       "\\end{array}\\right)</script></html>"
      ],
      "text/latex": [
       "$$\\newcommand{\\Bold}[1]{\\mathbf{#1}}\\verb|P|\\verb| |\\verb|=| \\left(\\begin{array}{rrr}\n",
       "\\frac{1}{2} \\, \\sqrt{2} & \\frac{1}{2} \\, \\sqrt{2} & 0 \\\\\n",
       "0 & 0 & 1 \\\\\n",
       "\\frac{1}{2} \\, \\sqrt{2} & -\\frac{1}{2} \\, \\sqrt{2} & 0\n",
       "\\end{array}\\right)$$"
      ],
      "text/plain": [
       "'P = ' [ 1/2*sqrt(2)  1/2*sqrt(2)            0]\n",
       "[           0            0            1]\n",
       "[ 1/2*sqrt(2) -1/2*sqrt(2)            0]"
      ]
     },
     "metadata": {},
     "output_type": "display_data"
    },
    {
     "data": {
      "text/html": [
       "<html><script type=\"math/tex; mode=display\">\\newcommand{\\Bold}[1]{\\mathbf{#1}}\\verb|D|\\verb| |\\verb|=| \\left(\\begin{array}{rrr}\n",
       "1 & 0 & 0 \\\\\n",
       "0 & \\cos\\left(-\\pi + \\arctan\\left(2 \\, \\sqrt{2}\\right)\\right) & \\sin\\left(-\\pi + \\arctan\\left(2 \\, \\sqrt{2}\\right)\\right) \\\\\n",
       "0 & \\sin\\left(\\pi - \\arctan\\left(2 \\, \\sqrt{2}\\right)\\right) & \\cos\\left(\\pi - \\arctan\\left(2 \\, \\sqrt{2}\\right)\\right)\n",
       "\\end{array}\\right)</script></html>"
      ],
      "text/latex": [
       "$$\\newcommand{\\Bold}[1]{\\mathbf{#1}}\\verb|D|\\verb| |\\verb|=| \\left(\\begin{array}{rrr}\n",
       "1 & 0 & 0 \\\\\n",
       "0 & \\cos\\left(-\\pi + \\arctan\\left(2 \\, \\sqrt{2}\\right)\\right) & \\sin\\left(-\\pi + \\arctan\\left(2 \\, \\sqrt{2}\\right)\\right) \\\\\n",
       "0 & \\sin\\left(\\pi - \\arctan\\left(2 \\, \\sqrt{2}\\right)\\right) & \\cos\\left(\\pi - \\arctan\\left(2 \\, \\sqrt{2}\\right)\\right)\n",
       "\\end{array}\\right)$$"
      ],
      "text/plain": [
       "'D = ' [                           1                            0                            0]\n",
       "[                           0 cos(-pi + arctan(2*sqrt(2))) sin(-pi + arctan(2*sqrt(2)))]\n",
       "[                           0  sin(pi - arctan(2*sqrt(2)))  cos(pi - arctan(2*sqrt(2)))]"
      ]
     },
     "metadata": {},
     "output_type": "display_data"
    },
    {
     "data": {
      "text/latex": [
       "$\\displaystyle P \\cdot D \\cdot P^t =$"
      ],
      "text/plain": [
       "<IPython.core.display.Math object>"
      ]
     },
     "metadata": {},
     "output_type": "display_data"
    },
    {
     "data": {
      "text/html": [
       "<html><script type=\"math/tex; mode=display\">\\newcommand{\\Bold}[1]{\\mathbf{#1}}\\left(\\begin{array}{rrr}\n",
       "\\frac{1}{2} \\, \\cos\\left(-\\pi + \\arctan\\left(2 \\, \\sqrt{2}\\right)\\right) + \\frac{1}{2} & \\frac{1}{2} \\, \\sqrt{2} \\sin\\left(-\\pi + \\arctan\\left(2 \\, \\sqrt{2}\\right)\\right) & -\\frac{1}{2} \\, \\cos\\left(-\\pi + \\arctan\\left(2 \\, \\sqrt{2}\\right)\\right) + \\frac{1}{2} \\\\\n",
       "\\frac{1}{2} \\, \\sqrt{2} \\sin\\left(\\pi - \\arctan\\left(2 \\, \\sqrt{2}\\right)\\right) & \\cos\\left(\\pi - \\arctan\\left(2 \\, \\sqrt{2}\\right)\\right) & -\\frac{1}{2} \\, \\sqrt{2} \\sin\\left(\\pi - \\arctan\\left(2 \\, \\sqrt{2}\\right)\\right) \\\\\n",
       "-\\frac{1}{2} \\, \\cos\\left(-\\pi + \\arctan\\left(2 \\, \\sqrt{2}\\right)\\right) + \\frac{1}{2} & -\\frac{1}{2} \\, \\sqrt{2} \\sin\\left(-\\pi + \\arctan\\left(2 \\, \\sqrt{2}\\right)\\right) & \\frac{1}{2} \\, \\cos\\left(-\\pi + \\arctan\\left(2 \\, \\sqrt{2}\\right)\\right) + \\frac{1}{2}\n",
       "\\end{array}\\right)</script></html>"
      ],
      "text/latex": [
       "$$\\newcommand{\\Bold}[1]{\\mathbf{#1}}\\left(\\begin{array}{rrr}\n",
       "\\frac{1}{2} \\, \\cos\\left(-\\pi + \\arctan\\left(2 \\, \\sqrt{2}\\right)\\right) + \\frac{1}{2} & \\frac{1}{2} \\, \\sqrt{2} \\sin\\left(-\\pi + \\arctan\\left(2 \\, \\sqrt{2}\\right)\\right) & -\\frac{1}{2} \\, \\cos\\left(-\\pi + \\arctan\\left(2 \\, \\sqrt{2}\\right)\\right) + \\frac{1}{2} \\\\\n",
       "\\frac{1}{2} \\, \\sqrt{2} \\sin\\left(\\pi - \\arctan\\left(2 \\, \\sqrt{2}\\right)\\right) & \\cos\\left(\\pi - \\arctan\\left(2 \\, \\sqrt{2}\\right)\\right) & -\\frac{1}{2} \\, \\sqrt{2} \\sin\\left(\\pi - \\arctan\\left(2 \\, \\sqrt{2}\\right)\\right) \\\\\n",
       "-\\frac{1}{2} \\, \\cos\\left(-\\pi + \\arctan\\left(2 \\, \\sqrt{2}\\right)\\right) + \\frac{1}{2} & -\\frac{1}{2} \\, \\sqrt{2} \\sin\\left(-\\pi + \\arctan\\left(2 \\, \\sqrt{2}\\right)\\right) & \\frac{1}{2} \\, \\cos\\left(-\\pi + \\arctan\\left(2 \\, \\sqrt{2}\\right)\\right) + \\frac{1}{2}\n",
       "\\end{array}\\right)$$"
      ],
      "text/plain": [
       "[   1/2*cos(-pi + arctan(2*sqrt(2))) + 1/2  1/2*sqrt(2)*sin(-pi + arctan(2*sqrt(2)))   -1/2*cos(-pi + arctan(2*sqrt(2))) + 1/2]\n",
       "[  1/2*sqrt(2)*sin(pi - arctan(2*sqrt(2)))               cos(pi - arctan(2*sqrt(2)))  -1/2*sqrt(2)*sin(pi - arctan(2*sqrt(2)))]\n",
       "[  -1/2*cos(-pi + arctan(2*sqrt(2))) + 1/2 -1/2*sqrt(2)*sin(-pi + arctan(2*sqrt(2)))    1/2*cos(-pi + arctan(2*sqrt(2))) + 1/2]"
      ]
     },
     "metadata": {},
     "output_type": "display_data"
    },
    {
     "data": {
      "text/latex": [
       "$\\displaystyle P^t \\cdot A \\cdot P =$"
      ],
      "text/plain": [
       "<IPython.core.display.Math object>"
      ]
     },
     "metadata": {},
     "output_type": "display_data"
    },
    {
     "data": {
      "text/html": [
       "<html><script type=\"math/tex; mode=display\">\\newcommand{\\Bold}[1]{\\mathbf{#1}}\\left(\\begin{array}{rrr}\n",
       "1 & 0 & 0 \\\\\n",
       "0 & -\\frac{1}{3} & -\\frac{2}{3} \\, \\sqrt{2} \\\\\n",
       "0 & \\frac{2}{3} \\, \\sqrt{2} & -\\frac{1}{3}\n",
       "\\end{array}\\right)</script></html>"
      ],
      "text/latex": [
       "$$\\newcommand{\\Bold}[1]{\\mathbf{#1}}\\left(\\begin{array}{rrr}\n",
       "1 & 0 & 0 \\\\\n",
       "0 & -\\frac{1}{3} & -\\frac{2}{3} \\, \\sqrt{2} \\\\\n",
       "0 & \\frac{2}{3} \\, \\sqrt{2} & -\\frac{1}{3}\n",
       "\\end{array}\\right)$$"
      ],
      "text/plain": [
       "[           1            0            0]\n",
       "[           0         -1/3 -2/3*sqrt(2)]\n",
       "[           0  2/3*sqrt(2)         -1/3]"
      ]
     },
     "metadata": {},
     "output_type": "display_data"
    }
   ],
   "source": [
    "# Orthogonal matrix over the real field (with polar form).\n",
    "A = matrix(SR, [[1/3, -2/3, 2/3], [2/3, -1/3, -2/3], [2/3, 2/3, 1/3]])\n",
    "show(\"A = \", A)\n",
    "\n",
    "P, D = spectral_theorem(A, False, True)\n",
    "show(\"P = \", P)\n",
    "show(\"D = \", D)\n",
    "display(Math(r\"P \\cdot D \\cdot P^t =\"))\n",
    "show(P * D * P.conjugate_transpose())\n",
    "display(Math(r\"P^t \\cdot A \\cdot P =\"))\n",
    "show(P.conjugate_transpose() * A * P)"
   ]
  },
  {
   "cell_type": "markdown",
   "id": "d46b098d",
   "metadata": {},
   "source": [
    " "
   ]
  }
 ],
 "metadata": {
  "kernelspec": {
   "display_name": "SageMath 9.5",
   "language": "sage",
   "name": "sagemath"
  },
  "language_info": {
   "codemirror_mode": {
    "name": "ipython",
    "version": 3
   },
   "file_extension": ".py",
   "mimetype": "text/x-python",
   "name": "python",
   "nbconvert_exporter": "python",
   "pygments_lexer": "ipython3",
   "version": "3.10.12"
  }
 },
 "nbformat": 4,
 "nbformat_minor": 5
}
