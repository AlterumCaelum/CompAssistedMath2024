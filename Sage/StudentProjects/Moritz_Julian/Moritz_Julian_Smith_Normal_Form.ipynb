{
 "cells": [
  {
   "cell_type": "markdown",
   "metadata": {},
   "source": [
    "# Smith-normal-form\n",
    "**Definition.**\n",
    "The Smith-normal form of a matrix $A$ over a principal ideal domain (PID) is a matrix $D$ \n",
    "$$\n",
    "\\begin{pmatrix}\n",
    "\\alpha_1 & 0      & \\cdots   & \\cdots & \\cdots & 0     \\\\\n",
    "0        & \\ddots & \\ddots   &        &        & \\vdots\\\\\n",
    "\\vdots   & \\ddots & \\alpha_k & \\ddots &        & \\vdots\\\\\n",
    "\\vdots   &        & \\ddots   & 0      & \\ddots & \\vdots\\\\\n",
    "\\vdots   &        &          & \\ddots & \\ddots & \\vdots\\\\\n",
    "0        & \\cdots & \\cdots   & \\cdots & \\cdots & 0\n",
    "\\end{pmatrix}\n",
    "$$\n",
    "such that $D = P * A * Q$ with $P$ & $Q$ invertible matrices and $\\alpha_{i-1} | \\alpha_i$ for $i \\in \\{1,\\dots,k\\}$."
   ]
  },
  {
   "cell_type": "markdown",
   "metadata": {},
   "source": [
    "To get a feeling for the algortihm for computing the Smith-normal-form let us consider the following example matrix\n",
    "\n",
    "$$\n",
    "\\begin{pmatrix}\n",
    "2 & 0 & 1 \\\\\n",
    "4 & 5 & 2 \\\\\n",
    "3 & 7 & 0 \n",
    "\\end{pmatrix}\n",
    "$$\n",
    "\n",
    "Let us define it with entries in the PID $\\mathbb{Z}$"
   ]
  },
  {
   "cell_type": "code",
   "execution_count": 2,
   "metadata": {},
   "outputs": [],
   "source": [
    "A = matrix( ZZ, [[2, 0, 1],[4, 5, 2],[3, 7, 0]])"
   ]
  },
  {
   "cell_type": "markdown",
   "metadata": {},
   "source": [
    "Now let us walk through the algortihm step by step. \n",
    "We have defined our matrix A and now we need two matrices P,Q to keep track of our opperatrions performed on the matrix A\n"
   ]
  },
  {
   "cell_type": "code",
   "execution_count": 3,
   "metadata": {},
   "outputs": [],
   "source": [
    "P = matrix.identity(A.base_ring(), A.nrows())\n",
    "Q = matrix.identity(A.base_ring(), A.ncols())"
   ]
  },
  {
   "cell_type": "markdown",
   "metadata": {},
   "source": [
    "The algorithm is a iterativ process starting with the choice of a Pivot element. This element must not be zero"
   ]
  },
  {
   "cell_type": "code",
   "execution_count": 4,
   "metadata": {},
   "outputs": [],
   "source": [
    "def pivotChoice(P, A, Q, t):\n",
    "    for i in range(t+1, min(A.ncols(),A.nrows())):\n",
    "        if(A[i,i] != 0):\n",
    "            return i, P, A, Q\n",
    "        else:\n",
    "            for j in range(0, A.nrows()):\n",
    "                if(A[j,i] != 0):\n",
    "                    A.swap_rows(i,j)\n",
    "                    P.swap_rows(i,j)\n",
    "                    return i, P, A, Q\n",
    "                \n",
    "    return -1, P, A, Q"
   ]
  },
  {
   "cell_type": "code",
   "execution_count": 5,
   "metadata": {},
   "outputs": [
    {
     "data": {
      "text/html": [
       "<html><script type=\"math/tex; mode=display\">\\newcommand{\\Bold}[1]{\\mathbf{#1}}\\left(\\begin{array}{rrr}\n",
       "1 & 0 & 0 \\\\\n",
       "0 & 1 & 0 \\\\\n",
       "0 & 0 & 1\n",
       "\\end{array}\\right) \\left(\\begin{array}{rrr}\n",
       "2 & 0 & 1 \\\\\n",
       "4 & 5 & 2 \\\\\n",
       "3 & 7 & 0\n",
       "\\end{array}\\right) \\left(\\begin{array}{rrr}\n",
       "1 & 0 & 0 \\\\\n",
       "0 & 1 & 0 \\\\\n",
       "0 & 0 & 1\n",
       "\\end{array}\\right)</script></html>"
      ],
      "text/latex": [
       "$$\\newcommand{\\Bold}[1]{\\mathbf{#1}}\\left(\\begin{array}{rrr}\n",
       "1 & 0 & 0 \\\\\n",
       "0 & 1 & 0 \\\\\n",
       "0 & 0 & 1\n",
       "\\end{array}\\right) \\left(\\begin{array}{rrr}\n",
       "2 & 0 & 1 \\\\\n",
       "4 & 5 & 2 \\\\\n",
       "3 & 7 & 0\n",
       "\\end{array}\\right) \\left(\\begin{array}{rrr}\n",
       "1 & 0 & 0 \\\\\n",
       "0 & 1 & 0 \\\\\n",
       "0 & 0 & 1\n",
       "\\end{array}\\right)$$"
      ],
      "text/plain": [
       "[1 0 0]\n",
       "[0 1 0]\n",
       "[0 0 1] [2 0 1]\n",
       "[4 5 2]\n",
       "[3 7 0] [1 0 0]\n",
       "[0 1 0]\n",
       "[0 0 1]"
      ]
     },
     "metadata": {},
     "output_type": "display_data"
    },
    {
     "data": {
      "text/plain": [
       "0"
      ]
     },
     "execution_count": 5,
     "metadata": {},
     "output_type": "execute_result"
    }
   ],
   "source": [
    "pivot, P, A1, Q = pivotChoice(P, A, Q, -1)\n",
    "show(P, A1, Q)\n",
    "pivot"
   ]
  },
  {
   "cell_type": "markdown",
   "metadata": {},
   "source": [
    "As shown by the example, our pivot position is 0 and nothing changed because the entry $a_{1,1}$ was not zero"
   ]
  },
  {
   "cell_type": "markdown",
   "metadata": {},
   "source": [
    "We now get to the step were we check if our pivot element is devided by all entrys in that column. If this is not the case for an element then we replace our pivot by the greatest common divisor (gcd) of both elements. This is realised through the use of the extended euclidean algorithm (xgcd) and a multiplication by an invretable matrix $E$."
   ]
  },
  {
   "cell_type": "markdown",
   "metadata": {},
   "source": [
    "Later in the algorithm we perform the same step but this time for all elements in the row of the pivot"
   ]
  },
  {
   "cell_type": "code",
   "execution_count": 6,
   "metadata": {},
   "outputs": [],
   "source": [
    "def pivotImproveRow(P, A, Q, i):\n",
    "    for j in range(0, A.nrows()):\n",
    "        if(not(A[i,i].divides(A[j,i]))):\n",
    "            gcd, alpha, beta = xgcd(A[i,i],A[j,i])\n",
    "            E = matrix.identity(A.base_ring(), A.nrows())\n",
    "            E[i,i] = alpha\n",
    "            E[i,j] = beta\n",
    "            E[j,i] = -A[j,i]/gcd\n",
    "            E[j,j] = A[i,i]/gcd\n",
    "            A = E*A\n",
    "            P = E*P\n",
    "            j = 0\n",
    "    return P, A, Q\n",
    "\n",
    "def pivotImproveCol(P, A, Q, i):\n",
    "    for j in range(0, A.ncols()):\n",
    "        if(not(A[i,i].divides(A[i,j]))):\n",
    "            gcd, alpha, beta = xgcd(A[i,i],A[i,j])\n",
    "            E = matrix.identity(A.base_ring(), A.ncols())\n",
    "            E[i,i] = alpha\n",
    "            E[j,i] = beta\n",
    "            E[i,j] = -A[i,j]/gcd\n",
    "            E[j,j] = A[i,i]/gcd\n",
    "            A = A*E\n",
    "            Q = Q*E\n",
    "            j = 0\n",
    "    return P, A, Q"
   ]
  },
  {
   "cell_type": "code",
   "execution_count": 7,
   "metadata": {},
   "outputs": [
    {
     "data": {
      "text/html": [
       "<html><script type=\"math/tex; mode=display\">\\newcommand{\\Bold}[1]{\\mathbf{#1}}\\left(\\begin{array}{rrr}\n",
       "-1 & 0 & 1 \\\\\n",
       "0 & 1 & 0 \\\\\n",
       "-3 & 0 & 2\n",
       "\\end{array}\\right) \\left(\\begin{array}{rrr}\n",
       "1 & 7 & -1 \\\\\n",
       "4 & 5 & 2 \\\\\n",
       "0 & 14 & -3\n",
       "\\end{array}\\right) \\left(\\begin{array}{rrr}\n",
       "1 & 0 & 0 \\\\\n",
       "0 & 1 & 0 \\\\\n",
       "0 & 0 & 1\n",
       "\\end{array}\\right)</script></html>"
      ],
      "text/latex": [
       "$$\\newcommand{\\Bold}[1]{\\mathbf{#1}}\\left(\\begin{array}{rrr}\n",
       "-1 & 0 & 1 \\\\\n",
       "0 & 1 & 0 \\\\\n",
       "-3 & 0 & 2\n",
       "\\end{array}\\right) \\left(\\begin{array}{rrr}\n",
       "1 & 7 & -1 \\\\\n",
       "4 & 5 & 2 \\\\\n",
       "0 & 14 & -3\n",
       "\\end{array}\\right) \\left(\\begin{array}{rrr}\n",
       "1 & 0 & 0 \\\\\n",
       "0 & 1 & 0 \\\\\n",
       "0 & 0 & 1\n",
       "\\end{array}\\right)$$"
      ],
      "text/plain": [
       "[-1  0  1]\n",
       "[ 0  1  0]\n",
       "[-3  0  2] [ 1  7 -1]\n",
       "[ 4  5  2]\n",
       "[ 0 14 -3] [1 0 0]\n",
       "[0 1 0]\n",
       "[0 0 1]"
      ]
     },
     "metadata": {},
     "output_type": "display_data"
    }
   ],
   "source": [
    "P, A1, Q = pivotImproveRow(P, A1, Q, pivot)\n",
    "show(P, A1, Q)"
   ]
  },
  {
   "cell_type": "markdown",
   "metadata": {},
   "source": [
    "As we now can see, there are some changes to our matirx $A$, which are also documented in our matrix $P$. Now the entry $a_{1,1}$ divides all entrys in this column"
   ]
  },
  {
   "cell_type": "markdown",
   "metadata": {},
   "source": [
    "For the next step we eliminate all entrys in the column of the pivot, which are not the pivot."
   ]
  },
  {
   "cell_type": "code",
   "execution_count": 8,
   "metadata": {},
   "outputs": [],
   "source": [
    "def eliminateRow(P, A, Q, i):\n",
    "    for j in range(0, A.nrows()):\n",
    "        if(j != i):\n",
    "            P.add_multiple_of_row(j,i,-A[j,i]/A[i,i])\n",
    "            A.add_multiple_of_row(j,i,-A[j,i]/A[i,i])\n",
    "    return P, A, Q\n",
    "\n",
    "def eliminateCol(P, A, Q, i):\n",
    "    for j in range(0, A.ncols()):\n",
    "        if(j != i):\n",
    "            Q.add_multiple_of_column(j,i,-A[i,j]/A[i,i])\n",
    "            A.add_multiple_of_column(j,i,-A[i,j]/A[i,i])\n",
    "    return P, A, Q"
   ]
  },
  {
   "cell_type": "code",
   "execution_count": 9,
   "metadata": {},
   "outputs": [
    {
     "data": {
      "text/html": [
       "<html><script type=\"math/tex; mode=display\">\\newcommand{\\Bold}[1]{\\mathbf{#1}}\\left(\\begin{array}{rrr}\n",
       "-1 & 0 & 1 \\\\\n",
       "4 & 1 & -4 \\\\\n",
       "-3 & 0 & 2\n",
       "\\end{array}\\right) \\left(\\begin{array}{rrr}\n",
       "1 & 7 & -1 \\\\\n",
       "0 & -23 & 6 \\\\\n",
       "0 & 14 & -3\n",
       "\\end{array}\\right) \\left(\\begin{array}{rrr}\n",
       "1 & 0 & 0 \\\\\n",
       "0 & 1 & 0 \\\\\n",
       "0 & 0 & 1\n",
       "\\end{array}\\right)</script></html>"
      ],
      "text/latex": [
       "$$\\newcommand{\\Bold}[1]{\\mathbf{#1}}\\left(\\begin{array}{rrr}\n",
       "-1 & 0 & 1 \\\\\n",
       "4 & 1 & -4 \\\\\n",
       "-3 & 0 & 2\n",
       "\\end{array}\\right) \\left(\\begin{array}{rrr}\n",
       "1 & 7 & -1 \\\\\n",
       "0 & -23 & 6 \\\\\n",
       "0 & 14 & -3\n",
       "\\end{array}\\right) \\left(\\begin{array}{rrr}\n",
       "1 & 0 & 0 \\\\\n",
       "0 & 1 & 0 \\\\\n",
       "0 & 0 & 1\n",
       "\\end{array}\\right)$$"
      ],
      "text/plain": [
       "[-1  0  1]\n",
       "[ 4  1 -4]\n",
       "[-3  0  2] [  1   7  -1]\n",
       "[  0 -23   6]\n",
       "[  0  14  -3] [1 0 0]\n",
       "[0 1 0]\n",
       "[0 0 1]"
      ]
     },
     "metadata": {},
     "output_type": "display_data"
    }
   ],
   "source": [
    "P, A1, Q = eliminateRow(P, A1, Q, pivot)\n",
    "show(P, A1, Q)"
   ]
  },
  {
   "cell_type": "markdown",
   "metadata": {},
   "source": [
    "Now all entrys in the first column are zero except our pivot."
   ]
  },
  {
   "cell_type": "markdown",
   "metadata": {},
   "source": [
    "The next step is repeating the process for the row of the pivot\n",
    "and if this leads to entrys in the column of the pivot to change to no zero entrys to start over at the column step.\n",
    "this cycle is repeated until all entrys in the column and row of the pivot are zero exept for the pivot."
   ]
  },
  {
   "cell_type": "code",
   "execution_count": 10,
   "metadata": {},
   "outputs": [
    {
     "data": {
      "text/html": [
       "<html><script type=\"math/tex; mode=display\">\\newcommand{\\Bold}[1]{\\mathbf{#1}}\\left(\\begin{array}{rrr}\n",
       "-1 & 0 & 1 \\\\\n",
       "4 & 1 & -4 \\\\\n",
       "-3 & 0 & 2\n",
       "\\end{array}\\right) \\left(\\begin{array}{rrr}\n",
       "1 & 7 & -1 \\\\\n",
       "0 & -23 & 6 \\\\\n",
       "0 & 14 & -3\n",
       "\\end{array}\\right) \\left(\\begin{array}{rrr}\n",
       "1 & 0 & 0 \\\\\n",
       "0 & 1 & 0 \\\\\n",
       "0 & 0 & 1\n",
       "\\end{array}\\right)</script></html>"
      ],
      "text/latex": [
       "$$\\newcommand{\\Bold}[1]{\\mathbf{#1}}\\left(\\begin{array}{rrr}\n",
       "-1 & 0 & 1 \\\\\n",
       "4 & 1 & -4 \\\\\n",
       "-3 & 0 & 2\n",
       "\\end{array}\\right) \\left(\\begin{array}{rrr}\n",
       "1 & 7 & -1 \\\\\n",
       "0 & -23 & 6 \\\\\n",
       "0 & 14 & -3\n",
       "\\end{array}\\right) \\left(\\begin{array}{rrr}\n",
       "1 & 0 & 0 \\\\\n",
       "0 & 1 & 0 \\\\\n",
       "0 & 0 & 1\n",
       "\\end{array}\\right)$$"
      ],
      "text/plain": [
       "[-1  0  1]\n",
       "[ 4  1 -4]\n",
       "[-3  0  2] [  1   7  -1]\n",
       "[  0 -23   6]\n",
       "[  0  14  -3] [1 0 0]\n",
       "[0 1 0]\n",
       "[0 0 1]"
      ]
     },
     "metadata": {},
     "output_type": "display_data"
    },
    {
     "data": {
      "text/html": [
       "<html><script type=\"math/tex; mode=display\">\\newcommand{\\Bold}[1]{\\mathbf{#1}}\\left(\\begin{array}{rrr}\n",
       "-1 & 0 & 1 \\\\\n",
       "4 & 1 & -4 \\\\\n",
       "-3 & 0 & 2\n",
       "\\end{array}\\right) \\left(\\begin{array}{rrr}\n",
       "1 & 0 & 0 \\\\\n",
       "0 & -23 & 6 \\\\\n",
       "0 & 14 & -3\n",
       "\\end{array}\\right) \\left(\\begin{array}{rrr}\n",
       "1 & -7 & 1 \\\\\n",
       "0 & 1 & 0 \\\\\n",
       "0 & 0 & 1\n",
       "\\end{array}\\right)</script></html>"
      ],
      "text/latex": [
       "$$\\newcommand{\\Bold}[1]{\\mathbf{#1}}\\left(\\begin{array}{rrr}\n",
       "-1 & 0 & 1 \\\\\n",
       "4 & 1 & -4 \\\\\n",
       "-3 & 0 & 2\n",
       "\\end{array}\\right) \\left(\\begin{array}{rrr}\n",
       "1 & 0 & 0 \\\\\n",
       "0 & -23 & 6 \\\\\n",
       "0 & 14 & -3\n",
       "\\end{array}\\right) \\left(\\begin{array}{rrr}\n",
       "1 & -7 & 1 \\\\\n",
       "0 & 1 & 0 \\\\\n",
       "0 & 0 & 1\n",
       "\\end{array}\\right)$$"
      ],
      "text/plain": [
       "[-1  0  1]\n",
       "[ 4  1 -4]\n",
       "[-3  0  2] [  1   0   0]\n",
       "[  0 -23   6]\n",
       "[  0  14  -3] [ 1 -7  1]\n",
       "[ 0  1  0]\n",
       "[ 0  0  1]"
      ]
     },
     "metadata": {},
     "output_type": "display_data"
    }
   ],
   "source": [
    "P, A1, Q = pivotImproveCol(P, A1, Q, pivot)\n",
    "show(P, A1, Q)\n",
    "P, A1, Q = eliminateCol(P, A1, Q, pivot)\n",
    "show(P, A1, Q)"
   ]
  },
  {
   "cell_type": "markdown",
   "metadata": {},
   "source": [
    "After this process is finished, a new pivot is chosen form the submatrix starting at $row = pivot+1$ and $column = pivot+1$.\n",
    "This is now repeated until all entrys in the submatrix are zero or the starting row or column of the submatrix are larger than the rows and columns of the original matrix."
   ]
  },
  {
   "cell_type": "code",
   "execution_count": 11,
   "metadata": {},
   "outputs": [
    {
     "data": {
      "text/html": [
       "<html><script type=\"math/tex; mode=display\">\\newcommand{\\Bold}[1]{\\mathbf{#1}}\\left(\\begin{array}{rrr}\n",
       "-1 & 0 & 1 \\\\\n",
       "4 & 1 & -4 \\\\\n",
       "-3 & 0 & 2\n",
       "\\end{array}\\right) \\left(\\begin{array}{rrr}\n",
       "1 & 0 & 0 \\\\\n",
       "0 & -23 & 6 \\\\\n",
       "0 & 14 & -3\n",
       "\\end{array}\\right) \\left(\\begin{array}{rrr}\n",
       "1 & -7 & 1 \\\\\n",
       "0 & 1 & 0 \\\\\n",
       "0 & 0 & 1\n",
       "\\end{array}\\right)</script></html>"
      ],
      "text/latex": [
       "$$\\newcommand{\\Bold}[1]{\\mathbf{#1}}\\left(\\begin{array}{rrr}\n",
       "-1 & 0 & 1 \\\\\n",
       "4 & 1 & -4 \\\\\n",
       "-3 & 0 & 2\n",
       "\\end{array}\\right) \\left(\\begin{array}{rrr}\n",
       "1 & 0 & 0 \\\\\n",
       "0 & -23 & 6 \\\\\n",
       "0 & 14 & -3\n",
       "\\end{array}\\right) \\left(\\begin{array}{rrr}\n",
       "1 & -7 & 1 \\\\\n",
       "0 & 1 & 0 \\\\\n",
       "0 & 0 & 1\n",
       "\\end{array}\\right)$$"
      ],
      "text/plain": [
       "[-1  0  1]\n",
       "[ 4  1 -4]\n",
       "[-3  0  2] [  1   0   0]\n",
       "[  0 -23   6]\n",
       "[  0  14  -3] [ 1 -7  1]\n",
       "[ 0  1  0]\n",
       "[ 0  0  1]"
      ]
     },
     "metadata": {},
     "output_type": "display_data"
    },
    {
     "data": {
      "text/html": [
       "<html><script type=\"math/tex; mode=display\">\\newcommand{\\Bold}[1]{\\mathbf{#1}}1</script></html>"
      ],
      "text/latex": [
       "$$\\newcommand{\\Bold}[1]{\\mathbf{#1}}1$$"
      ],
      "text/plain": [
       "1"
      ]
     },
     "metadata": {},
     "output_type": "display_data"
    },
    {
     "data": {
      "text/html": [
       "<html><script type=\"math/tex; mode=display\">\\newcommand{\\Bold}[1]{\\mathbf{#1}}\\left(\\begin{array}{rrr}\n",
       "-1 & 0 & 1 \\\\\n",
       "-3 & 3 & -2 \\\\\n",
       "13 & -14 & 10\n",
       "\\end{array}\\right) \\left(\\begin{array}{rrr}\n",
       "1 & 0 & 0 \\\\\n",
       "0 & 1 & 3 \\\\\n",
       "0 & 0 & -15\n",
       "\\end{array}\\right) \\left(\\begin{array}{rrr}\n",
       "1 & -7 & 1 \\\\\n",
       "0 & 1 & 0 \\\\\n",
       "0 & 0 & 1\n",
       "\\end{array}\\right)</script></html>"
      ],
      "text/latex": [
       "$$\\newcommand{\\Bold}[1]{\\mathbf{#1}}\\left(\\begin{array}{rrr}\n",
       "-1 & 0 & 1 \\\\\n",
       "-3 & 3 & -2 \\\\\n",
       "13 & -14 & 10\n",
       "\\end{array}\\right) \\left(\\begin{array}{rrr}\n",
       "1 & 0 & 0 \\\\\n",
       "0 & 1 & 3 \\\\\n",
       "0 & 0 & -15\n",
       "\\end{array}\\right) \\left(\\begin{array}{rrr}\n",
       "1 & -7 & 1 \\\\\n",
       "0 & 1 & 0 \\\\\n",
       "0 & 0 & 1\n",
       "\\end{array}\\right)$$"
      ],
      "text/plain": [
       "[ -1   0   1]\n",
       "[ -3   3  -2]\n",
       "[ 13 -14  10] [  1   0   0]\n",
       "[  0   1   3]\n",
       "[  0   0 -15] [ 1 -7  1]\n",
       "[ 0  1  0]\n",
       "[ 0  0  1]"
      ]
     },
     "metadata": {},
     "output_type": "display_data"
    },
    {
     "data": {
      "text/html": [
       "<html><script type=\"math/tex; mode=display\">\\newcommand{\\Bold}[1]{\\mathbf{#1}}\\left(\\begin{array}{rrr}\n",
       "-1 & 0 & 1 \\\\\n",
       "-3 & 3 & -2 \\\\\n",
       "13 & -14 & 10\n",
       "\\end{array}\\right) \\left(\\begin{array}{rrr}\n",
       "1 & 0 & 0 \\\\\n",
       "0 & 1 & 3 \\\\\n",
       "0 & 0 & -15\n",
       "\\end{array}\\right) \\left(\\begin{array}{rrr}\n",
       "1 & -7 & 1 \\\\\n",
       "0 & 1 & 0 \\\\\n",
       "0 & 0 & 1\n",
       "\\end{array}\\right)</script></html>"
      ],
      "text/latex": [
       "$$\\newcommand{\\Bold}[1]{\\mathbf{#1}}\\left(\\begin{array}{rrr}\n",
       "-1 & 0 & 1 \\\\\n",
       "-3 & 3 & -2 \\\\\n",
       "13 & -14 & 10\n",
       "\\end{array}\\right) \\left(\\begin{array}{rrr}\n",
       "1 & 0 & 0 \\\\\n",
       "0 & 1 & 3 \\\\\n",
       "0 & 0 & -15\n",
       "\\end{array}\\right) \\left(\\begin{array}{rrr}\n",
       "1 & -7 & 1 \\\\\n",
       "0 & 1 & 0 \\\\\n",
       "0 & 0 & 1\n",
       "\\end{array}\\right)$$"
      ],
      "text/plain": [
       "[ -1   0   1]\n",
       "[ -3   3  -2]\n",
       "[ 13 -14  10] [  1   0   0]\n",
       "[  0   1   3]\n",
       "[  0   0 -15] [ 1 -7  1]\n",
       "[ 0  1  0]\n",
       "[ 0  0  1]"
      ]
     },
     "metadata": {},
     "output_type": "display_data"
    },
    {
     "data": {
      "text/html": [
       "<html><script type=\"math/tex; mode=display\">\\newcommand{\\Bold}[1]{\\mathbf{#1}}\\left(\\begin{array}{rrr}\n",
       "-1 & 0 & 1 \\\\\n",
       "-3 & 3 & -2 \\\\\n",
       "13 & -14 & 10\n",
       "\\end{array}\\right) \\left(\\begin{array}{rrr}\n",
       "1 & 0 & 0 \\\\\n",
       "0 & 1 & 3 \\\\\n",
       "0 & 0 & -15\n",
       "\\end{array}\\right) \\left(\\begin{array}{rrr}\n",
       "1 & -7 & 1 \\\\\n",
       "0 & 1 & 0 \\\\\n",
       "0 & 0 & 1\n",
       "\\end{array}\\right)</script></html>"
      ],
      "text/latex": [
       "$$\\newcommand{\\Bold}[1]{\\mathbf{#1}}\\left(\\begin{array}{rrr}\n",
       "-1 & 0 & 1 \\\\\n",
       "-3 & 3 & -2 \\\\\n",
       "13 & -14 & 10\n",
       "\\end{array}\\right) \\left(\\begin{array}{rrr}\n",
       "1 & 0 & 0 \\\\\n",
       "0 & 1 & 3 \\\\\n",
       "0 & 0 & -15\n",
       "\\end{array}\\right) \\left(\\begin{array}{rrr}\n",
       "1 & -7 & 1 \\\\\n",
       "0 & 1 & 0 \\\\\n",
       "0 & 0 & 1\n",
       "\\end{array}\\right)$$"
      ],
      "text/plain": [
       "[ -1   0   1]\n",
       "[ -3   3  -2]\n",
       "[ 13 -14  10] [  1   0   0]\n",
       "[  0   1   3]\n",
       "[  0   0 -15] [ 1 -7  1]\n",
       "[ 0  1  0]\n",
       "[ 0  0  1]"
      ]
     },
     "metadata": {},
     "output_type": "display_data"
    },
    {
     "data": {
      "text/html": [
       "<html><script type=\"math/tex; mode=display\">\\newcommand{\\Bold}[1]{\\mathbf{#1}}\\left(\\begin{array}{rrr}\n",
       "-1 & 0 & 1 \\\\\n",
       "-3 & 3 & -2 \\\\\n",
       "13 & -14 & 10\n",
       "\\end{array}\\right) \\left(\\begin{array}{rrr}\n",
       "1 & 0 & 0 \\\\\n",
       "0 & 1 & 0 \\\\\n",
       "0 & 0 & -15\n",
       "\\end{array}\\right) \\left(\\begin{array}{rrr}\n",
       "1 & -7 & 22 \\\\\n",
       "0 & 1 & -3 \\\\\n",
       "0 & 0 & 1\n",
       "\\end{array}\\right)</script></html>"
      ],
      "text/latex": [
       "$$\\newcommand{\\Bold}[1]{\\mathbf{#1}}\\left(\\begin{array}{rrr}\n",
       "-1 & 0 & 1 \\\\\n",
       "-3 & 3 & -2 \\\\\n",
       "13 & -14 & 10\n",
       "\\end{array}\\right) \\left(\\begin{array}{rrr}\n",
       "1 & 0 & 0 \\\\\n",
       "0 & 1 & 0 \\\\\n",
       "0 & 0 & -15\n",
       "\\end{array}\\right) \\left(\\begin{array}{rrr}\n",
       "1 & -7 & 22 \\\\\n",
       "0 & 1 & -3 \\\\\n",
       "0 & 0 & 1\n",
       "\\end{array}\\right)$$"
      ],
      "text/plain": [
       "[ -1   0   1]\n",
       "[ -3   3  -2]\n",
       "[ 13 -14  10] [  1   0   0]\n",
       "[  0   1   0]\n",
       "[  0   0 -15] [ 1 -7 22]\n",
       "[ 0  1 -3]\n",
       "[ 0  0  1]"
      ]
     },
     "metadata": {},
     "output_type": "display_data"
    }
   ],
   "source": [
    "pivot, P, A1, Q = pivotChoice(P, A1, Q, pivot)\n",
    "show(P, A1, Q)\n",
    "show(pivot)\n",
    "P, A1, Q = pivotImproveRow(P, A1, Q, pivot)\n",
    "show(P, A1, Q)\n",
    "P, A1, Q = eliminateRow(P, A1, Q, pivot)\n",
    "show(P, A1, Q)\n",
    "P, A1, Q = pivotImproveCol(P, A1, Q, pivot)\n",
    "show(P, A1, Q)\n",
    "P, A1, Q = eliminateCol(P, A1, Q, pivot)\n",
    "show(P, A1, Q)"
   ]
  },
  {
   "cell_type": "markdown",
   "metadata": {},
   "source": [
    "We now have a matrix in the form of D but we still need to make sure that all $\\alpha_{i-1}$ divide $\\alpha_i$. This is done in the normalization step. In this step we also make sure that there are no gaps between the $\\alpha_i$."
   ]
  },
  {
   "cell_type": "code",
   "execution_count": 12,
   "metadata": {},
   "outputs": [],
   "source": [
    "def normalize(P, A, Q):\n",
    "    d = A.nonzero_positions()\n",
    "    improved = true\n",
    "    while(improved):\n",
    "        improved = false\n",
    "        for i in range (len(d)):\n",
    "            if(d[0][0] != 0 or (d[i-1][0]+1 != d[i][0] and i != 0)):\n",
    "                A.swap_rows(d[i][0],d[i][0]-1)\n",
    "                P.swap_rows(d[i][0],d[i][0]-1)\n",
    "                A.swap_columns(d[i][0],d[i][0]-1)\n",
    "                Q.swap_columns(d[i][0],d[i][0]-1) \n",
    "                d[i] = [d[i][0]-1,d[i][1]-1]\n",
    "                i = 0\n",
    "                improved = true\n",
    "    \n",
    "    d = A.nonzero_positions()\n",
    "    improved = true\n",
    "    while(improved):\n",
    "        improved = false\n",
    "        for i in range(1,len(d)):\n",
    "            if(not(A[d[i-1]].divides(A[d[i]]))):\n",
    "                improved = true\n",
    "                A.add_multiple_of_row(d[i-1][0],d[i][0], 1)\n",
    "                P.add_multiple_of_row(d[i-1][0],d[i][0], 1)\n",
    "                P, A, Q = pivotImproveCol(P, A, Q, d[i-1][0])\n",
    "                P, A ,Q = eliminateRow(P, A, Q, d[i-1][0])\n",
    "                P, A ,Q = eliminateCol(P, A, Q, d[i-1][0])\n",
    "                \n",
    "        if(issubclass(type(A.base_ring()),sage.rings.polynomial.polynomial_ring.PolynomialRing_field)):\n",
    "            for i in range(0, len(d)):\n",
    "                if(A[d[i]].coefficients()[-1].is_unit() and A[d[i]] != 0):\n",
    "                    P.rescale_row(d[i][0], 1/A[d[i]].coefficients()[-1])\n",
    "                    A.rescale_row(d[i][0], 1/A[d[i]].coefficients()[-1])\n",
    "                if(not(issubclass(type(A.base_ring()),sage.rings.polynomial.polynomial_ring.PolynomialRing_dense_finite_field))):\n",
    "                    P.rescale_row(d[i][0], sgn(A[d[i]].coefficients()[-1]))\n",
    "                    A.rescale_row(d[i][0], sgn(A[d[i]].coefficients()[-1]))\n",
    "        else:\n",
    "            for i in range(0, len(d)):\n",
    "                if(A[d[i]].is_unit() and A[d[i]] != 0):\n",
    "                    P.rescale_row(d[i][0], 1/A[d[i]])\n",
    "                    A.rescale_row(d[i][0], 1/A[d[i]])\n",
    "                if(not(issubclass(type(A.base_ring()),sage.rings.finite_rings.finite_field_givaro.FiniteField))):\n",
    "                    P.rescale_row(d[i][0], sgn(A[d[i]]))\n",
    "                    A.rescale_row(d[i][0], sgn(A[d[i]]))\n",
    "    return P, A ,Q"
   ]
  },
  {
   "cell_type": "code",
   "execution_count": 13,
   "metadata": {},
   "outputs": [
    {
     "data": {
      "text/html": [
       "<html><script type=\"math/tex; mode=display\">\\newcommand{\\Bold}[1]{\\mathbf{#1}}\\left(\\begin{array}{rrr}\n",
       "-1 & 0 & 1 \\\\\n",
       "-3 & 3 & -2 \\\\\n",
       "-13 & 14 & -10\n",
       "\\end{array}\\right) \\left(\\begin{array}{rrr}\n",
       "1 & 0 & 0 \\\\\n",
       "0 & 1 & 0 \\\\\n",
       "0 & 0 & 15\n",
       "\\end{array}\\right) \\left(\\begin{array}{rrr}\n",
       "1 & -7 & 22 \\\\\n",
       "0 & 1 & -3 \\\\\n",
       "0 & 0 & 1\n",
       "\\end{array}\\right)</script></html>"
      ],
      "text/latex": [
       "$$\\newcommand{\\Bold}[1]{\\mathbf{#1}}\\left(\\begin{array}{rrr}\n",
       "-1 & 0 & 1 \\\\\n",
       "-3 & 3 & -2 \\\\\n",
       "-13 & 14 & -10\n",
       "\\end{array}\\right) \\left(\\begin{array}{rrr}\n",
       "1 & 0 & 0 \\\\\n",
       "0 & 1 & 0 \\\\\n",
       "0 & 0 & 15\n",
       "\\end{array}\\right) \\left(\\begin{array}{rrr}\n",
       "1 & -7 & 22 \\\\\n",
       "0 & 1 & -3 \\\\\n",
       "0 & 0 & 1\n",
       "\\end{array}\\right)$$"
      ],
      "text/plain": [
       "[ -1   0   1]\n",
       "[ -3   3  -2]\n",
       "[-13  14 -10] [ 1  0  0]\n",
       "[ 0  1  0]\n",
       "[ 0  0 15] [ 1 -7 22]\n",
       "[ 0  1 -3]\n",
       "[ 0  0  1]"
      ]
     },
     "metadata": {},
     "output_type": "display_data"
    }
   ],
   "source": [
    "P, D, Q = normalize(P, A1, Q)\n",
    "show(P, D, Q)"
   ]
  },
  {
   "cell_type": "markdown",
   "metadata": {},
   "source": [
    "As you might have noticed, the entry $a_{3,3}$ changed from -15 to 15. This is something we do for readability and comparability. We also change all unit entrys to 1 for the same reasons. These two steps don't need to be taken because the Smith normal form is only unique up to multiplication by an unit."
   ]
  },
  {
   "cell_type": "markdown",
   "metadata": {},
   "source": [
    "If we now Test with our matrix $A$ the following Equation should be true: $ D = P * A * Q$"
   ]
  },
  {
   "cell_type": "code",
   "execution_count": 14,
   "metadata": {},
   "outputs": [
    {
     "data": {
      "text/html": [
       "<html><script type=\"math/tex; mode=display\">\\newcommand{\\Bold}[1]{\\mathbf{#1}}\\left(\\begin{array}{rrr}\n",
       "1 & 0 & 0 \\\\\n",
       "0 & 1 & 0 \\\\\n",
       "0 & 0 & 15\n",
       "\\end{array}\\right)</script></html>"
      ],
      "text/latex": [
       "$$\\newcommand{\\Bold}[1]{\\mathbf{#1}}\\left(\\begin{array}{rrr}\n",
       "1 & 0 & 0 \\\\\n",
       "0 & 1 & 0 \\\\\n",
       "0 & 0 & 15\n",
       "\\end{array}\\right)$$"
      ],
      "text/plain": [
       "[ 1  0  0]\n",
       "[ 0  1  0]\n",
       "[ 0  0 15]"
      ]
     },
     "metadata": {},
     "output_type": "display_data"
    },
    {
     "data": {
      "text/html": [
       "<html><script type=\"math/tex; mode=display\">\\newcommand{\\Bold}[1]{\\mathbf{#1}}\\left(\\begin{array}{rrr}\n",
       "1 & 0 & 0 \\\\\n",
       "0 & 1 & 0 \\\\\n",
       "0 & 0 & 15\n",
       "\\end{array}\\right)</script></html>"
      ],
      "text/latex": [
       "$$\\newcommand{\\Bold}[1]{\\mathbf{#1}}\\left(\\begin{array}{rrr}\n",
       "1 & 0 & 0 \\\\\n",
       "0 & 1 & 0 \\\\\n",
       "0 & 0 & 15\n",
       "\\end{array}\\right)$$"
      ],
      "text/plain": [
       "[ 1  0  0]\n",
       "[ 0  1  0]\n",
       "[ 0  0 15]"
      ]
     },
     "metadata": {},
     "output_type": "display_data"
    }
   ],
   "source": [
    "show(D)\n",
    "show(P * A * Q)"
   ]
  },
  {
   "cell_type": "markdown",
   "metadata": {},
   "source": [
    "The following code combines all steps we made individually into one function only requiring us to input the matrix $A$ for which we wish to compute the Smith normal form"
   ]
  },
  {
   "cell_type": "code",
   "execution_count": 15,
   "metadata": {},
   "outputs": [],
   "source": [
    "def smithNormalForm(A):\n",
    "    D = copy(A)\n",
    "    Q = matrix.identity(D.base_ring(), D.ncols())\n",
    "    P = matrix.identity(D.base_ring(), D.nrows())\n",
    "    pivot = -1\n",
    "    while(pivot < D.ncols()):\n",
    "        pivot, P, D, Q = pivotChoice(P, D, Q, pivot)\n",
    "        if(pivot == -1):\n",
    "            break\n",
    "        while(len(D.nonzero_positions_in_column(pivot)) > 1 or len(D.nonzero_positions_in_row(pivot)) > 1):\n",
    "            P, D, Q = pivotImproveRow(P, D, Q, pivot)\n",
    "            P, D, Q = eliminateRow(P, D, Q, pivot)\n",
    "            P, D, Q = pivotImproveCol(P, D, Q, pivot)\n",
    "            P, D, Q = eliminateCol(P, D, Q, pivot)  \n",
    "      \n",
    "    P, D, Q = normalize(P, D, Q)\n",
    "    return P, D, Q"
   ]
  },
  {
   "cell_type": "markdown",
   "metadata": {},
   "source": [
    "This algorithm is implemented over any PID with excat evaluation on a Computer, mainly not over $\\mathbb{R}$ and $\\mathbb{R}$[x]."
   ]
  },
  {
   "cell_type": "markdown",
   "metadata": {},
   "source": [
    "The following will give some exampels with randomly generated matrices:"
   ]
  },
  {
   "cell_type": "code",
   "execution_count": 16,
   "metadata": {},
   "outputs": [
    {
     "data": {
      "text/html": [
       "<html><script type=\"math/tex; mode=display\">\\newcommand{\\Bold}[1]{\\mathbf{#1}}\\left(\\begin{array}{rrrrr}\n",
       "-2 & \\frac{1}{2} & -1 & 2 & -1 \\\\\n",
       "-1 & 0 & -2 & 0 & 0 \\\\\n",
       "0 & 0 & -2 & 0 & 2 \\\\\n",
       "2 & 0 & -2 & -1 & -1\n",
       "\\end{array}\\right)</script></html>"
      ],
      "text/latex": [
       "$$\\newcommand{\\Bold}[1]{\\mathbf{#1}}\\left(\\begin{array}{rrrrr}\n",
       "-2 & \\frac{1}{2} & -1 & 2 & -1 \\\\\n",
       "-1 & 0 & -2 & 0 & 0 \\\\\n",
       "0 & 0 & -2 & 0 & 2 \\\\\n",
       "2 & 0 & -2 & -1 & -1\n",
       "\\end{array}\\right)$$"
      ],
      "text/plain": [
       "[ -2 1/2  -1   2  -1]\n",
       "[ -1   0  -2   0   0]\n",
       "[  0   0  -2   0   2]\n",
       "[  2   0  -2  -1  -1]"
      ]
     },
     "metadata": {},
     "output_type": "display_data"
    },
    {
     "data": {
      "text/html": [
       "<html><script type=\"math/tex; mode=display\">\\newcommand{\\Bold}[1]{\\mathbf{#1}}\\left(\\begin{array}{rrrrr}\n",
       "1 & 0 & 0 & 0 & 0 \\\\\n",
       "0 & 1 & 0 & 0 & 0 \\\\\n",
       "0 & 0 & 1 & 0 & 0 \\\\\n",
       "0 & 0 & 0 & 1 & 0\n",
       "\\end{array}\\right)</script></html>"
      ],
      "text/latex": [
       "$$\\newcommand{\\Bold}[1]{\\mathbf{#1}}\\left(\\begin{array}{rrrrr}\n",
       "1 & 0 & 0 & 0 & 0 \\\\\n",
       "0 & 1 & 0 & 0 & 0 \\\\\n",
       "0 & 0 & 1 & 0 & 0 \\\\\n",
       "0 & 0 & 0 & 1 & 0\n",
       "\\end{array}\\right)$$"
      ],
      "text/plain": [
       "[1 0 0 0 0]\n",
       "[0 1 0 0 0]\n",
       "[0 0 1 0 0]\n",
       "[0 0 0 1 0]"
      ]
     },
     "metadata": {},
     "output_type": "display_data"
    },
    {
     "data": {
      "text/html": [
       "<html><script type=\"math/tex; mode=display\">\\newcommand{\\Bold}[1]{\\mathbf{#1}}\\left(\\begin{array}{rrrrr}\n",
       "1 & 0 & 0 & 0 & 0 \\\\\n",
       "0 & 1 & 0 & 0 & 0 \\\\\n",
       "0 & 0 & 1 & 0 & 0 \\\\\n",
       "0 & 0 & 0 & 1 & 0\n",
       "\\end{array}\\right)</script></html>"
      ],
      "text/latex": [
       "$$\\newcommand{\\Bold}[1]{\\mathbf{#1}}\\left(\\begin{array}{rrrrr}\n",
       "1 & 0 & 0 & 0 & 0 \\\\\n",
       "0 & 1 & 0 & 0 & 0 \\\\\n",
       "0 & 0 & 1 & 0 & 0 \\\\\n",
       "0 & 0 & 0 & 1 & 0\n",
       "\\end{array}\\right)$$"
      ],
      "text/plain": [
       "[1 0 0 0 0]\n",
       "[0 1 0 0 0]\n",
       "[0 0 1 0 0]\n",
       "[0 0 0 1 0]"
      ]
     },
     "metadata": {},
     "output_type": "display_data"
    }
   ],
   "source": [
    "A = random_matrix(QQ, 4, 5)\n",
    "P, D, Q = smithNormalForm(A)\n",
    "show(A)\n",
    "show(D)\n",
    "show(P * A * Q)\n"
   ]
  },
  {
   "cell_type": "code",
   "execution_count": 17,
   "metadata": {},
   "outputs": [
    {
     "data": {
      "text/html": [
       "<html><script type=\"math/tex; mode=display\">\\newcommand{\\Bold}[1]{\\mathbf{#1}}\\left(\\begin{array}{rrrrrrr}\n",
       "\\frac{4}{25} x + 1 & 0 & -37 x & 0 & \\frac{1}{4} x^{2} - 383 x - \\frac{1}{4} & -\\frac{1}{2} x + 10 & 2 \\\\\n",
       "-\\frac{4}{3} x + 1 & -x + 1 & 101 x^{2} + \\frac{1}{3} x - \\frac{1}{2} & -1 & 2 & 0 & \\frac{1}{2} x^{2} \\\\\n",
       "-475 x^{2} + \\frac{9}{11} x + \\frac{3}{2} & -\\frac{1}{5} x^{2} + \\frac{1}{2} x & -\\frac{1}{3} x - \\frac{1}{8} & 0 & \\frac{1}{4} x & \\frac{1}{3} x - 1 & \\frac{5}{41} x^{2} + 5 \\\\\n",
       "-2 x^{2} + \\frac{1}{2} & \\frac{3}{46} & 1 & \\frac{11}{5} x - 1 & \\frac{1}{70} x^{2} - 2 & 0 & -2 x^{2} + \\frac{7}{2}\n",
       "\\end{array}\\right)</script></html>"
      ],
      "text/latex": [
       "$$\\newcommand{\\Bold}[1]{\\mathbf{#1}}\\left(\\begin{array}{rrrrrrr}\n",
       "\\frac{4}{25} x + 1 & 0 & -37 x & 0 & \\frac{1}{4} x^{2} - 383 x - \\frac{1}{4} & -\\frac{1}{2} x + 10 & 2 \\\\\n",
       "-\\frac{4}{3} x + 1 & -x + 1 & 101 x^{2} + \\frac{1}{3} x - \\frac{1}{2} & -1 & 2 & 0 & \\frac{1}{2} x^{2} \\\\\n",
       "-475 x^{2} + \\frac{9}{11} x + \\frac{3}{2} & -\\frac{1}{5} x^{2} + \\frac{1}{2} x & -\\frac{1}{3} x - \\frac{1}{8} & 0 & \\frac{1}{4} x & \\frac{1}{3} x - 1 & \\frac{5}{41} x^{2} + 5 \\\\\n",
       "-2 x^{2} + \\frac{1}{2} & \\frac{3}{46} & 1 & \\frac{11}{5} x - 1 & \\frac{1}{70} x^{2} - 2 & 0 & -2 x^{2} + \\frac{7}{2}\n",
       "\\end{array}\\right)$$"
      ],
      "text/plain": [
       "[             4/25*x + 1                       0                   -37*x                       0   1/4*x^2 - 383*x - 1/4             -1/2*x + 10                       2]\n",
       "[             -4/3*x + 1                  -x + 1   101*x^2 + 1/3*x - 1/2                      -1                       2                       0                 1/2*x^2]\n",
       "[-475*x^2 + 9/11*x + 3/2        -1/5*x^2 + 1/2*x            -1/3*x - 1/8                       0                   1/4*x               1/3*x - 1            5/41*x^2 + 5]\n",
       "[           -2*x^2 + 1/2                    3/46                       1              11/5*x - 1            1/70*x^2 - 2                       0            -2*x^2 + 7/2]"
      ]
     },
     "metadata": {},
     "output_type": "display_data"
    },
    {
     "data": {
      "text/html": [
       "<html><script type=\"math/tex; mode=display\">\\newcommand{\\Bold}[1]{\\mathbf{#1}}\\left(\\begin{array}{rrrrrrr}\n",
       "1 & 0 & 0 & 0 & 0 & 0 & 0 \\\\\n",
       "0 & 1 & 0 & 0 & 0 & 0 & 0 \\\\\n",
       "0 & 0 & 1 & 0 & 0 & 0 & 0 \\\\\n",
       "0 & 0 & 0 & 1 & 0 & 0 & 0\n",
       "\\end{array}\\right)</script></html>"
      ],
      "text/latex": [
       "$$\\newcommand{\\Bold}[1]{\\mathbf{#1}}\\left(\\begin{array}{rrrrrrr}\n",
       "1 & 0 & 0 & 0 & 0 & 0 & 0 \\\\\n",
       "0 & 1 & 0 & 0 & 0 & 0 & 0 \\\\\n",
       "0 & 0 & 1 & 0 & 0 & 0 & 0 \\\\\n",
       "0 & 0 & 0 & 1 & 0 & 0 & 0\n",
       "\\end{array}\\right)$$"
      ],
      "text/plain": [
       "[1 0 0 0 0 0 0]\n",
       "[0 1 0 0 0 0 0]\n",
       "[0 0 1 0 0 0 0]\n",
       "[0 0 0 1 0 0 0]"
      ]
     },
     "metadata": {},
     "output_type": "display_data"
    },
    {
     "data": {
      "text/html": [
       "<html><script type=\"math/tex; mode=display\">\\newcommand{\\Bold}[1]{\\mathbf{#1}}\\left(\\begin{array}{rrrrrrr}\n",
       "1 & 0 & 0 & 0 & 0 & 0 & 0 \\\\\n",
       "0 & 1 & 0 & 0 & 0 & 0 & 0 \\\\\n",
       "0 & 0 & 1 & 0 & 0 & 0 & 0 \\\\\n",
       "0 & 0 & 0 & 1 & 0 & 0 & 0\n",
       "\\end{array}\\right)</script></html>"
      ],
      "text/latex": [
       "$$\\newcommand{\\Bold}[1]{\\mathbf{#1}}\\left(\\begin{array}{rrrrrrr}\n",
       "1 & 0 & 0 & 0 & 0 & 0 & 0 \\\\\n",
       "0 & 1 & 0 & 0 & 0 & 0 & 0 \\\\\n",
       "0 & 0 & 1 & 0 & 0 & 0 & 0 \\\\\n",
       "0 & 0 & 0 & 1 & 0 & 0 & 0\n",
       "\\end{array}\\right)$$"
      ],
      "text/plain": [
       "[1 0 0 0 0 0 0]\n",
       "[0 1 0 0 0 0 0]\n",
       "[0 0 1 0 0 0 0]\n",
       "[0 0 0 1 0 0 0]"
      ]
     },
     "metadata": {},
     "output_type": "display_data"
    }
   ],
   "source": [
    "A = random_matrix(QQ['x'], 4, 7)\n",
    "P, D, Q = smithNormalForm(A)\n",
    "show(A)\n",
    "show(D)\n",
    "show(P * A * Q)"
   ]
  },
  {
   "cell_type": "code",
   "execution_count": 18,
   "metadata": {},
   "outputs": [
    {
     "data": {
      "text/html": [
       "<html><script type=\"math/tex; mode=display\">\\newcommand{\\Bold}[1]{\\mathbf{#1}}\\left(\\begin{array}{rr}\n",
       "2 & 0 \\\\\n",
       "2 & 2 \\\\\n",
       "0 & 0 \\\\\n",
       "1 & 2 \\\\\n",
       "0 & 0 \\\\\n",
       "1 & 1\n",
       "\\end{array}\\right)</script></html>"
      ],
      "text/latex": [
       "$$\\newcommand{\\Bold}[1]{\\mathbf{#1}}\\left(\\begin{array}{rr}\n",
       "2 & 0 \\\\\n",
       "2 & 2 \\\\\n",
       "0 & 0 \\\\\n",
       "1 & 2 \\\\\n",
       "0 & 0 \\\\\n",
       "1 & 1\n",
       "\\end{array}\\right)$$"
      ],
      "text/plain": [
       "[2 0]\n",
       "[2 2]\n",
       "[0 0]\n",
       "[1 2]\n",
       "[0 0]\n",
       "[1 1]"
      ]
     },
     "metadata": {},
     "output_type": "display_data"
    },
    {
     "data": {
      "text/html": [
       "<html><script type=\"math/tex; mode=display\">\\newcommand{\\Bold}[1]{\\mathbf{#1}}\\left(\\begin{array}{rr}\n",
       "1 & 0 \\\\\n",
       "0 & 1 \\\\\n",
       "0 & 0 \\\\\n",
       "0 & 0 \\\\\n",
       "0 & 0 \\\\\n",
       "0 & 0\n",
       "\\end{array}\\right)</script></html>"
      ],
      "text/latex": [
       "$$\\newcommand{\\Bold}[1]{\\mathbf{#1}}\\left(\\begin{array}{rr}\n",
       "1 & 0 \\\\\n",
       "0 & 1 \\\\\n",
       "0 & 0 \\\\\n",
       "0 & 0 \\\\\n",
       "0 & 0 \\\\\n",
       "0 & 0\n",
       "\\end{array}\\right)$$"
      ],
      "text/plain": [
       "[1 0]\n",
       "[0 1]\n",
       "[0 0]\n",
       "[0 0]\n",
       "[0 0]\n",
       "[0 0]"
      ]
     },
     "metadata": {},
     "output_type": "display_data"
    },
    {
     "data": {
      "text/html": [
       "<html><script type=\"math/tex; mode=display\">\\newcommand{\\Bold}[1]{\\mathbf{#1}}\\left(\\begin{array}{rr}\n",
       "1 & 0 \\\\\n",
       "0 & 1 \\\\\n",
       "0 & 0 \\\\\n",
       "0 & 0 \\\\\n",
       "0 & 0 \\\\\n",
       "0 & 0\n",
       "\\end{array}\\right)</script></html>"
      ],
      "text/latex": [
       "$$\\newcommand{\\Bold}[1]{\\mathbf{#1}}\\left(\\begin{array}{rr}\n",
       "1 & 0 \\\\\n",
       "0 & 1 \\\\\n",
       "0 & 0 \\\\\n",
       "0 & 0 \\\\\n",
       "0 & 0 \\\\\n",
       "0 & 0\n",
       "\\end{array}\\right)$$"
      ],
      "text/plain": [
       "[1 0]\n",
       "[0 1]\n",
       "[0 0]\n",
       "[0 0]\n",
       "[0 0]\n",
       "[0 0]"
      ]
     },
     "metadata": {},
     "output_type": "display_data"
    }
   ],
   "source": [
    "A = random_matrix(GF(3), 6, 2)\n",
    "P, D, Q = smithNormalForm(A)\n",
    "show(A)\n",
    "show(D)\n",
    "show(P * A * Q)"
   ]
  },
  {
   "cell_type": "code",
   "execution_count": 19,
   "metadata": {},
   "outputs": [
    {
     "data": {
      "text/html": [
       "<html><script type=\"math/tex; mode=display\">\\newcommand{\\Bold}[1]{\\mathbf{#1}}\\left(\\begin{array}{rrrrr}\n",
       "0 & 2 & 6 x^{2} + 5 x + 5 & x^{2} + 2 x + 1 & 5 x + 6 \\\\\n",
       "0 & 4 & 4 x & 0 & 0 \\\\\n",
       "3 x + 1 & 6 x + 5 & 3 x & 0 & 5 x + 1 \\\\\n",
       "2 x^{2} + 6 & 3 & 5 x^{2} + 6 x + 2 & 3 x + 5 & 4 x^{2} + 3 x + 5 \\\\\n",
       "4 x^{2} + 4 x + 3 & 3 & 3 & 6 x^{2} + x + 4 & 2 \\\\\n",
       "3 & 4 x + 2 & 2 x^{2} + 3 x + 3 & 0 & 1 \\\\\n",
       "0 & 6 & 3 x + 6 & 2 & 6 x + 5 \\\\\n",
       "3 & 0 & 0 & 3 x^{2} + 4 x + 1 & 5 x^{2} + 6 \\\\\n",
       "1 & 5 x + 3 & 2 & 3 x + 3 & x + 6 \\\\\n",
       "5 & 2 x + 5 & 5 x + 6 & x + 4 & 0\n",
       "\\end{array}\\right)</script></html>"
      ],
      "text/latex": [
       "$$\\newcommand{\\Bold}[1]{\\mathbf{#1}}\\left(\\begin{array}{rrrrr}\n",
       "0 & 2 & 6 x^{2} + 5 x + 5 & x^{2} + 2 x + 1 & 5 x + 6 \\\\\n",
       "0 & 4 & 4 x & 0 & 0 \\\\\n",
       "3 x + 1 & 6 x + 5 & 3 x & 0 & 5 x + 1 \\\\\n",
       "2 x^{2} + 6 & 3 & 5 x^{2} + 6 x + 2 & 3 x + 5 & 4 x^{2} + 3 x + 5 \\\\\n",
       "4 x^{2} + 4 x + 3 & 3 & 3 & 6 x^{2} + x + 4 & 2 \\\\\n",
       "3 & 4 x + 2 & 2 x^{2} + 3 x + 3 & 0 & 1 \\\\\n",
       "0 & 6 & 3 x + 6 & 2 & 6 x + 5 \\\\\n",
       "3 & 0 & 0 & 3 x^{2} + 4 x + 1 & 5 x^{2} + 6 \\\\\n",
       "1 & 5 x + 3 & 2 & 3 x + 3 & x + 6 \\\\\n",
       "5 & 2 x + 5 & 5 x + 6 & x + 4 & 0\n",
       "\\end{array}\\right)$$"
      ],
      "text/plain": [
       "[              0               2 6*x^2 + 5*x + 5   x^2 + 2*x + 1         5*x + 6]\n",
       "[              0               4             4*x               0               0]\n",
       "[        3*x + 1         6*x + 5             3*x               0         5*x + 1]\n",
       "[      2*x^2 + 6               3 5*x^2 + 6*x + 2         3*x + 5 4*x^2 + 3*x + 5]\n",
       "[4*x^2 + 4*x + 3               3               3   6*x^2 + x + 4               2]\n",
       "[              3         4*x + 2 2*x^2 + 3*x + 3               0               1]\n",
       "[              0               6         3*x + 6               2         6*x + 5]\n",
       "[              3               0               0 3*x^2 + 4*x + 1       5*x^2 + 6]\n",
       "[              1         5*x + 3               2         3*x + 3           x + 6]\n",
       "[              5         2*x + 5         5*x + 6           x + 4               0]"
      ]
     },
     "metadata": {},
     "output_type": "display_data"
    },
    {
     "data": {
      "text/html": [
       "<html><script type=\"math/tex; mode=display\">\\newcommand{\\Bold}[1]{\\mathbf{#1}}\\left(\\begin{array}{rrrrr}\n",
       "1 & 0 & 0 & 0 & 0 \\\\\n",
       "0 & 1 & 0 & 0 & 0 \\\\\n",
       "0 & 0 & 1 & 0 & 0 \\\\\n",
       "0 & 0 & 0 & 1 & 0 \\\\\n",
       "0 & 0 & 0 & 0 & 1 \\\\\n",
       "0 & 0 & 0 & 0 & 0 \\\\\n",
       "0 & 0 & 0 & 0 & 0 \\\\\n",
       "0 & 0 & 0 & 0 & 0 \\\\\n",
       "0 & 0 & 0 & 0 & 0 \\\\\n",
       "0 & 0 & 0 & 0 & 0\n",
       "\\end{array}\\right)</script></html>"
      ],
      "text/latex": [
       "$$\\newcommand{\\Bold}[1]{\\mathbf{#1}}\\left(\\begin{array}{rrrrr}\n",
       "1 & 0 & 0 & 0 & 0 \\\\\n",
       "0 & 1 & 0 & 0 & 0 \\\\\n",
       "0 & 0 & 1 & 0 & 0 \\\\\n",
       "0 & 0 & 0 & 1 & 0 \\\\\n",
       "0 & 0 & 0 & 0 & 1 \\\\\n",
       "0 & 0 & 0 & 0 & 0 \\\\\n",
       "0 & 0 & 0 & 0 & 0 \\\\\n",
       "0 & 0 & 0 & 0 & 0 \\\\\n",
       "0 & 0 & 0 & 0 & 0 \\\\\n",
       "0 & 0 & 0 & 0 & 0\n",
       "\\end{array}\\right)$$"
      ],
      "text/plain": [
       "[1 0 0 0 0]\n",
       "[0 1 0 0 0]\n",
       "[0 0 1 0 0]\n",
       "[0 0 0 1 0]\n",
       "[0 0 0 0 1]\n",
       "[0 0 0 0 0]\n",
       "[0 0 0 0 0]\n",
       "[0 0 0 0 0]\n",
       "[0 0 0 0 0]\n",
       "[0 0 0 0 0]"
      ]
     },
     "metadata": {},
     "output_type": "display_data"
    },
    {
     "data": {
      "text/html": [
       "<html><script type=\"math/tex; mode=display\">\\newcommand{\\Bold}[1]{\\mathbf{#1}}\\left(\\begin{array}{rrrrr}\n",
       "1 & 0 & 0 & 0 & 0 \\\\\n",
       "0 & 1 & 0 & 0 & 0 \\\\\n",
       "0 & 0 & 1 & 0 & 0 \\\\\n",
       "0 & 0 & 0 & 1 & 0 \\\\\n",
       "0 & 0 & 0 & 0 & 1 \\\\\n",
       "0 & 0 & 0 & 0 & 0 \\\\\n",
       "0 & 0 & 0 & 0 & 0 \\\\\n",
       "0 & 0 & 0 & 0 & 0 \\\\\n",
       "0 & 0 & 0 & 0 & 0 \\\\\n",
       "0 & 0 & 0 & 0 & 0\n",
       "\\end{array}\\right)</script></html>"
      ],
      "text/latex": [
       "$$\\newcommand{\\Bold}[1]{\\mathbf{#1}}\\left(\\begin{array}{rrrrr}\n",
       "1 & 0 & 0 & 0 & 0 \\\\\n",
       "0 & 1 & 0 & 0 & 0 \\\\\n",
       "0 & 0 & 1 & 0 & 0 \\\\\n",
       "0 & 0 & 0 & 1 & 0 \\\\\n",
       "0 & 0 & 0 & 0 & 1 \\\\\n",
       "0 & 0 & 0 & 0 & 0 \\\\\n",
       "0 & 0 & 0 & 0 & 0 \\\\\n",
       "0 & 0 & 0 & 0 & 0 \\\\\n",
       "0 & 0 & 0 & 0 & 0 \\\\\n",
       "0 & 0 & 0 & 0 & 0\n",
       "\\end{array}\\right)$$"
      ],
      "text/plain": [
       "[1 0 0 0 0]\n",
       "[0 1 0 0 0]\n",
       "[0 0 1 0 0]\n",
       "[0 0 0 1 0]\n",
       "[0 0 0 0 1]\n",
       "[0 0 0 0 0]\n",
       "[0 0 0 0 0]\n",
       "[0 0 0 0 0]\n",
       "[0 0 0 0 0]\n",
       "[0 0 0 0 0]"
      ]
     },
     "metadata": {},
     "output_type": "display_data"
    }
   ],
   "source": [
    "A = random_matrix(GF(7)['x'], 10, 5)\n",
    "P, D, Q = smithNormalForm(A)\n",
    "show(A)\n",
    "show(D)\n",
    "show(P * A * Q)"
   ]
  },
  {
   "cell_type": "markdown",
   "metadata": {},
   "source": [
    "If you want to verify that the algortihm is correct you can use the function smith_form(), which is available in sage by default. You can use it like this:"
   ]
  },
  {
   "cell_type": "code",
   "execution_count": 20,
   "metadata": {},
   "outputs": [
    {
     "data": {
      "text/html": [
       "<html><script type=\"math/tex; mode=display\">\\newcommand{\\Bold}[1]{\\mathbf{#1}}\\left(\\begin{array}{rrrrr}\n",
       "1 & 0 & 0 & 0 & 0 \\\\\n",
       "0 & 1 & 0 & 0 & 0 \\\\\n",
       "0 & 0 & 1 & 0 & 0 \\\\\n",
       "0 & 0 & 0 & 2 & 0 \\\\\n",
       "0 & 0 & 0 & 0 & 958\n",
       "\\end{array}\\right)</script></html>"
      ],
      "text/latex": [
       "$$\\newcommand{\\Bold}[1]{\\mathbf{#1}}\\left(\\begin{array}{rrrrr}\n",
       "1 & 0 & 0 & 0 & 0 \\\\\n",
       "0 & 1 & 0 & 0 & 0 \\\\\n",
       "0 & 0 & 1 & 0 & 0 \\\\\n",
       "0 & 0 & 0 & 2 & 0 \\\\\n",
       "0 & 0 & 0 & 0 & 958\n",
       "\\end{array}\\right)$$"
      ],
      "text/plain": [
       "[  1   0   0   0   0]\n",
       "[  0   1   0   0   0]\n",
       "[  0   0   1   0   0]\n",
       "[  0   0   0   2   0]\n",
       "[  0   0   0   0 958]"
      ]
     },
     "metadata": {},
     "output_type": "display_data"
    },
    {
     "data": {
      "text/html": [
       "<html><script type=\"math/tex; mode=display\">\\newcommand{\\Bold}[1]{\\mathbf{#1}}\\left(\\begin{array}{rrrrr}\n",
       "1 & 0 & 0 & 0 & 0 \\\\\n",
       "0 & 1 & 0 & 0 & 0 \\\\\n",
       "0 & 0 & 1 & 0 & 0 \\\\\n",
       "0 & 0 & 0 & 2 & 0 \\\\\n",
       "0 & 0 & 0 & 0 & 958\n",
       "\\end{array}\\right)</script></html>"
      ],
      "text/latex": [
       "$$\\newcommand{\\Bold}[1]{\\mathbf{#1}}\\left(\\begin{array}{rrrrr}\n",
       "1 & 0 & 0 & 0 & 0 \\\\\n",
       "0 & 1 & 0 & 0 & 0 \\\\\n",
       "0 & 0 & 1 & 0 & 0 \\\\\n",
       "0 & 0 & 0 & 2 & 0 \\\\\n",
       "0 & 0 & 0 & 0 & 958\n",
       "\\end{array}\\right)$$"
      ],
      "text/plain": [
       "[  1   0   0   0   0]\n",
       "[  0   1   0   0   0]\n",
       "[  0   0   1   0   0]\n",
       "[  0   0   0   2   0]\n",
       "[  0   0   0   0 958]"
      ]
     },
     "metadata": {},
     "output_type": "display_data"
    }
   ],
   "source": [
    "A = random_matrix(ZZ, 5, 5)\n",
    "P, D, Q = smithNormalForm(A)\n",
    "D1, P1, Q1 = A.smith_form(A)\n",
    "P1, D1, Q1 = normalize(P1, D1, Q1)\n",
    "show(D)\n",
    "show(D1)"
   ]
  },
  {
   "cell_type": "markdown",
   "metadata": {},
   "source": [
    "As you can see, we still call normalize() on the Smith normal form provided by the sage function. This is due to the Smith normal form only being unique up to multipication by a unit. If we don't do this the result might look slightly different"
   ]
  },
  {
   "cell_type": "code",
   "execution_count": 21,
   "metadata": {},
   "outputs": [
    {
     "data": {
      "text/html": [
       "<html><script type=\"math/tex; mode=display\">\\newcommand{\\Bold}[1]{\\mathbf{#1}}\\left(\\begin{array}{rrr}\n",
       "1 & 0 & 0 \\\\\n",
       "0 & 1 & 0 \\\\\n",
       "0 & 0 & x^{4} - \\frac{1}{20} x^{3} + \\frac{3}{80} x^{2}\n",
       "\\end{array}\\right)</script></html>"
      ],
      "text/latex": [
       "$$\\newcommand{\\Bold}[1]{\\mathbf{#1}}\\left(\\begin{array}{rrr}\n",
       "1 & 0 & 0 \\\\\n",
       "0 & 1 & 0 \\\\\n",
       "0 & 0 & x^{4} - \\frac{1}{20} x^{3} + \\frac{3}{80} x^{2}\n",
       "\\end{array}\\right)$$"
      ],
      "text/plain": [
       "[                        1                         0                         0]\n",
       "[                        0                         1                         0]\n",
       "[                        0                         0 x^4 - 1/20*x^3 + 3/80*x^2]"
      ]
     },
     "metadata": {},
     "output_type": "display_data"
    },
    {
     "data": {
      "text/html": [
       "<html><script type=\"math/tex; mode=display\">\\newcommand{\\Bold}[1]{\\mathbf{#1}}\\left(\\begin{array}{rrr}\n",
       "1 & 0 & 0 \\\\\n",
       "0 & 1 & 0 \\\\\n",
       "0 & 0 & -\\frac{160}{11} x^{4} + \\frac{8}{11} x^{3} - \\frac{6}{11} x^{2}\n",
       "\\end{array}\\right)</script></html>"
      ],
      "text/latex": [
       "$$\\newcommand{\\Bold}[1]{\\mathbf{#1}}\\left(\\begin{array}{rrr}\n",
       "1 & 0 & 0 \\\\\n",
       "0 & 1 & 0 \\\\\n",
       "0 & 0 & -\\frac{160}{11} x^{4} + \\frac{8}{11} x^{3} - \\frac{6}{11} x^{2}\n",
       "\\end{array}\\right)$$"
      ],
      "text/plain": [
       "[                                1                                 0                                 0]\n",
       "[                                0                                 1                                 0]\n",
       "[                                0                                 0 -160/11*x^4 + 8/11*x^3 - 6/11*x^2]"
      ]
     },
     "metadata": {},
     "output_type": "display_data"
    }
   ],
   "source": [
    "A = random_matrix(QQ['x'], 3, 3)\n",
    "P, D, Q = smithNormalForm(A)\n",
    "D1, P1, Q1 = A.smith_form(A)\n",
    "show(D)\n",
    "show(D1)"
   ]
  }
 ],
 "metadata": {
  "kernelspec": {
   "display_name": "SageMath 9.5",
   "language": "sage",
   "name": "sagemath"
  },
  "language_info": {
   "codemirror_mode": {
    "name": "ipython",
    "version": 3
   },
   "file_extension": ".py",
   "mimetype": "text/x-python",
   "name": "python",
   "nbconvert_exporter": "python",
   "pygments_lexer": "ipython3",
   "version": "3.10.12"
  }
 },
 "nbformat": 4,
 "nbformat_minor": 2
}
